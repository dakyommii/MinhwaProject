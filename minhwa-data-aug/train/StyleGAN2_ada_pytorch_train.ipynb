{
  "cells": [
    {
      "cell_type": "markdown",
      "metadata": {
        "id": "view-in-github",
        "colab_type": "text"
      },
      "source": [
        "<a href=\"https://colab.research.google.com/github/dakyommii/MinhwaProject/blob/main/minhwa-data-aug/train/StyleGAN2_ada_pytorch_train.ipynb\" target=\"_parent\"><img src=\"https://colab.research.google.com/assets/colab-badge.svg\" alt=\"Open In Colab\"/></a>"
      ]
    },
    {
      "cell_type": "markdown",
      "source": [
        "# StyleGAN2-ada 학습"
      ],
      "metadata": {
        "id": "gcZD9jkvdzj5"
      },
      "id": "gcZD9jkvdzj5"
    },
    {
      "cell_type": "markdown",
      "source": [
        "## Library & Framework Settings"
      ],
      "metadata": {
        "id": "wCxmGv_Md37H"
      },
      "id": "wCxmGv_Md37H"
    },
    {
      "cell_type": "code",
      "execution_count": null,
      "id": "d5631010",
      "metadata": {
        "scrolled": false,
        "id": "d5631010"
      },
      "outputs": [],
      "source": [
        "!pip install torch==1.7.1+cu110 torchvision==0.8.2+cu110 torchaudio==0.7.2 -f https://download.pytorch.org/whl/torch_stable.html"
      ]
    },
    {
      "cell_type": "code",
      "execution_count": null,
      "id": "a0aa4cec",
      "metadata": {
        "id": "a0aa4cec"
      },
      "outputs": [],
      "source": [
        "import sys\n",
        "\n",
        "print(\"--sys.version—\")\n",
        "print(sys.version)"
      ]
    },
    {
      "cell_type": "code",
      "execution_count": null,
      "id": "d937a689",
      "metadata": {
        "id": "d937a689"
      },
      "outputs": [],
      "source": [
        "import torch\n",
        "\n",
        "print(\"Torch version:{}\".format(torch.__version__))\n",
        "print(\"cuda version: {}\".format(torch.version.cuda))\n",
        "print(\"cudnn version:{}\".format(torch.backends.cudnn.version()))"
      ]
    },
    {
      "cell_type": "code",
      "execution_count": null,
      "id": "ab1e574e",
      "metadata": {
        "id": "ab1e574e"
      },
      "outputs": [],
      "source": [
        "!pip install scipy\n",
        "!pip install click requests tqdm pyspng ninja imageio-ffmpeg==0.4.3"
      ]
    },
    {
      "cell_type": "code",
      "execution_count": null,
      "id": "e522523e",
      "metadata": {
        "id": "e522523e"
      },
      "outputs": [],
      "source": [
        "torch.cuda.is_available()"
      ]
    },
    {
      "cell_type": "code",
      "execution_count": null,
      "id": "49f0f467",
      "metadata": {
        "id": "49f0f467"
      },
      "outputs": [],
      "source": [
        "%cd C:\\Users\\207desktop\\model\\stylegan2-ada-pytorch"
      ]
    },
    {
      "cell_type": "code",
      "execution_count": null,
      "id": "4ffa4f63",
      "metadata": {
        "id": "4ffa4f63"
      },
      "outputs": [],
      "source": [
        "import os\n",
        "os.environ['KMP_DUPLICATE_LIB_OK']='True'"
      ]
    },
    {
      "cell_type": "code",
      "execution_count": null,
      "id": "7b2bc2fa",
      "metadata": {
        "id": "7b2bc2fa"
      },
      "outputs": [],
      "source": [
        "import gc\n",
        "import torch\n",
        "\n",
        "gc.collect()\n",
        "torch.cuda.empty_cache()"
      ]
    },
    {
      "cell_type": "markdown",
      "source": [
        "## dataset 생성"
      ],
      "metadata": {
        "id": "xsiOQYC2eAHj"
      },
      "id": "xsiOQYC2eAHj"
    },
    {
      "cell_type": "code",
      "execution_count": null,
      "id": "62bcc762",
      "metadata": {
        "id": "62bcc762"
      },
      "outputs": [],
      "source": [
        "!python dataset_tool.py --dest=C:/Users/207desktop/datasets/StyleGAN2-ada/tiger-head-minhwa-2 --source=C:/Users/207desktop/datasets/new"
      ]
    },
    {
      "cell_type": "markdown",
      "source": [
        "## train"
      ],
      "metadata": {
        "id": "i9gUiOrveR3o"
      },
      "id": "i9gUiOrveR3o"
    },
    {
      "cell_type": "code",
      "execution_count": null,
      "id": "b8c7b1c9",
      "metadata": {
        "scrolled": true,
        "id": "b8c7b1c9"
      },
      "outputs": [],
      "source": [
        "# output directory\n",
        "output_dir = 'C:/Users/207desktop/result/styleGAN2-ada/tiger-head-minhwa-2'\n",
        "\n",
        "# config\n",
        "config = \"auto\"\n",
        "\n",
        "# gamma\n",
        "gamma = 1\n",
        "\n",
        "#how often should the model generate samples and a .pkl file\n",
        "snapshot_count = 1\n",
        "\n",
        "batch=4\n",
        "\n",
        "#metrics?\n",
        "# metric_list = None\n",
        "\n",
        "metric_list='fid50k_full'\n",
        "#resume_dir='C:/Users/207desktop/ckpt/afhqwild.pkl'\n",
        "resume_dir='C:/Users/207desktop/result/styleGAN2-ada/tiger-head-minhwa-2/0/last.pkl'\n",
        "#\n",
        "# this is the most important cell to update\n",
        "#\n",
        "# running it for the first time? set it to ffhq(+resolution)\n",
        "# resuming? get the path to your latest .pkl file and use that\n",
        "# resume_from = 'C:/Users/207/ckpt/afhqwild.pkl'\n",
        "\n",
        "# make sure there is no space in the resume path. if there is any, use a backslash character to escape\n",
        "#resume_from ='C:/Users/207/result/styleGAN2-ada/0808/00000-0808-mirror-auto1-gamma1/network-snapshot-000808.pkl'\n",
        "\n",
        "\n",
        "#don't edit this unless you know what you're doing :)\n",
        "!python train.py --outdir={output_dir} --cfg={config} --snap={snapshot_count} --data=C:/Users/207desktop/datasets/StyleGAN2-ada/tiger-head-minhwa-2 --gamma={gamma} --metrics={metric_list} --resume={resume_dir} --batch={batch}"
      ]
    },
    {
      "cell_type": "markdown",
      "source": [
        "## generate image"
      ],
      "metadata": {
        "id": "JeXUBw-7eNFs"
      },
      "id": "JeXUBw-7eNFs"
    },
    {
      "cell_type": "code",
      "execution_count": null,
      "id": "a86a1e97",
      "metadata": {
        "id": "a86a1e97"
      },
      "outputs": [],
      "source": [
        "!python generate.py --outdir=C:/Users/207desktop/generate/tiger-head-minhwa/1 --network=C:/Users/207desktop/result/styleGAN2-ada/tiger-head-minhwa-1/1/fin.pkl --seeds=1-500"
      ]
    }
  ],
  "metadata": {
    "kernelspec": {
      "display_name": "Python 3 (ipykernel)",
      "language": "python",
      "name": "python3"
    },
    "language_info": {
      "codemirror_mode": {
        "name": "ipython",
        "version": 3
      },
      "file_extension": ".py",
      "mimetype": "text/x-python",
      "name": "python",
      "nbconvert_exporter": "python",
      "pygments_lexer": "ipython3",
      "version": "3.7.3"
    },
    "colab": {
      "provenance": [],
      "include_colab_link": true
    }
  },
  "nbformat": 4,
  "nbformat_minor": 5
}