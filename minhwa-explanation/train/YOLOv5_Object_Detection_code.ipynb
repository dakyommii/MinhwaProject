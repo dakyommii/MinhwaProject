{
  "cells": [
    {
      "cell_type": "markdown",
      "metadata": {
        "id": "view-in-github",
        "colab_type": "text"
      },
      "source": [
        "<a href=\"https://colab.research.google.com/github/dakyommii/MinhwaProject/blob/main/minhwa-explanation/train/YOLOv5_Object_Detection_code.ipynb\" target=\"_parent\"><img src=\"https://colab.research.google.com/assets/colab-badge.svg\" alt=\"Open In Colab\"/></a>"
      ]
    },
    {
      "cell_type": "markdown",
      "metadata": {
        "id": "kdPTFTF2jPkU"
      },
      "source": [
        "#YOLOv5 Object Detection 학습"
      ]
    },
    {
      "cell_type": "markdown",
      "metadata": {
        "id": "sF327peWFMNi"
      },
      "source": [
        "## settings"
      ]
    },
    {
      "cell_type": "code",
      "execution_count": null,
      "metadata": {
        "colab": {
          "base_uri": "https://localhost:8080/"
        },
        "id": "slhqRMEFOBj8",
        "outputId": "b996dbc1-012e-444b-b799-200824ca7e9c"
      },
      "outputs": [
        {
          "output_type": "stream",
          "name": "stdout",
          "text": [
            "Drive already mounted at /content/drive; to attempt to forcibly remount, call drive.mount(\"/content/drive\", force_remount=True).\n"
          ]
        }
      ],
      "source": [
        "from google.colab import drive\n",
        "drive.mount('/content/drive')"
      ]
    },
    {
      "cell_type": "code",
      "execution_count": null,
      "metadata": {
        "colab": {
          "base_uri": "https://localhost:8080/"
        },
        "id": "F7v-gsovmdtq",
        "outputId": "d27a2f9f-c7e5-4355-c806-3206952f0d5b"
      },
      "outputs": [
        {
          "output_type": "stream",
          "name": "stdout",
          "text": [
            "/content/drive/MyDrive/seol\n"
          ]
        }
      ],
      "source": [
        "%cd /content/drive/MyDrive/seol\n",
        "# !git clone https://github.com/ultralytics/yolov5.git"
      ]
    },
    {
      "cell_type": "code",
      "execution_count": null,
      "metadata": {
        "colab": {
          "base_uri": "https://localhost:8080/"
        },
        "id": "tiUqEDPhmvYr",
        "outputId": "9af966b9-27bc-4621-d3df-fb153edfbb5c"
      },
      "outputs": [
        {
          "output_type": "stream",
          "name": "stdout",
          "text": [
            "\u001b[?25l     \u001b[90m━━━━━━━━━━━━━━━━━━━━━━━━━━━━━━━━━━━━━━━━\u001b[0m \u001b[32m0.0/190.6 kB\u001b[0m \u001b[31m?\u001b[0m eta \u001b[36m-:--:--\u001b[0m\r\u001b[2K     \u001b[91m━━━━━━━━━━━━━━━━━━━━━━━━━━━━━━━━━━━━━━\u001b[0m\u001b[91m╸\u001b[0m\u001b[90m━\u001b[0m \u001b[32m184.3/190.6 kB\u001b[0m \u001b[31m5.3 MB/s\u001b[0m eta \u001b[36m0:00:01\u001b[0m\r\u001b[2K     \u001b[90m━━━━━━━━━━━━━━━━━━━━━━━━━━━━━━━━━━━━━━━━\u001b[0m \u001b[32m190.6/190.6 kB\u001b[0m \u001b[31m4.3 MB/s\u001b[0m eta \u001b[36m0:00:00\u001b[0m\n",
            "\u001b[?25h\u001b[?25l     \u001b[90m━━━━━━━━━━━━━━━━━━━━━━━━━━━━━━━━━━━━━━━━\u001b[0m \u001b[32m0.0/62.7 kB\u001b[0m \u001b[31m?\u001b[0m eta \u001b[36m-:--:--\u001b[0m\r\u001b[2K     \u001b[90m━━━━━━━━━━━━━━━━━━━━━━━━━━━━━━━━━━━━━━━━\u001b[0m \u001b[32m62.7/62.7 kB\u001b[0m \u001b[31m8.1 MB/s\u001b[0m eta \u001b[36m0:00:00\u001b[0m\n",
            "\u001b[?25h"
          ]
        }
      ],
      "source": [
        "!pip install -qr /content/drive/MyDrive/seol/yolov5/requirements.txt # install dependencies"
      ]
    },
    {
      "cell_type": "code",
      "execution_count": null,
      "metadata": {
        "colab": {
          "base_uri": "https://localhost:8080/"
        },
        "id": "BmzzzuFOiuZU",
        "outputId": "3ad79ba1-0931-40c3-f780-83e70f28d010"
      },
      "outputs": [
        {
          "output_type": "stream",
          "name": "stdout",
          "text": [
            "/content/drive/MyDrive/seol/datasets/YOLOv5\n"
          ]
        }
      ],
      "source": [
        "%cd /content/drive/MyDrive/seol/datasets/YOLOv5"
      ]
    },
    {
      "cell_type": "code",
      "source": [
        "import cv2\n",
        "import numpy as np\n",
        "import imutils\n",
        "import matplotlib.pyplot as plt\n",
        "from tqdm import tqdm\n",
        "import glob, os\n",
        "from sklearn.cluster import KMeans\n",
        "from collections import Counter\n",
        "import colorsys\n",
        "import tensorflow as tf"
      ],
      "metadata": {
        "id": "Du8uR9l_BK9Q"
      },
      "execution_count": null,
      "outputs": []
    },
    {
      "cell_type": "markdown",
      "metadata": {
        "id": "s5_bgK1xqNbx"
      },
      "source": [
        "## dataset"
      ]
    },
    {
      "cell_type": "markdown",
      "metadata": {
        "id": "ZElUOyeNjZlT"
      },
      "source": [
        "### roboflow dataset download"
      ]
    },
    {
      "cell_type": "code",
      "execution_count": 121,
      "metadata": {
        "id": "r_DsNidailpJ"
      },
      "outputs": [],
      "source": [
        "!pip install roboflow\n",
        "\n",
        "from roboflow import Roboflow\n",
        "rf = Roboflow(api_key=\"o8IhKIIZs84VuK9nEwLz\")\n",
        "project = rf.workspace(\"dalkkommi-gmail-com\").project(\"tiger-minhwa\")\n",
        "dataset = project.version(10).download(\"yolov5\")\n"
      ]
    },
    {
      "cell_type": "markdown",
      "metadata": {
        "id": "5Fwho1FrqSPB"
      },
      "source": [
        "### image 경로 설정"
      ]
    },
    {
      "cell_type": "code",
      "execution_count": null,
      "metadata": {
        "id": "s94p7061jOI8"
      },
      "outputs": [],
      "source": [
        "from glob import glob #이미지를 한번에 긁어모으기 위한 glob 모듈\n",
        "\n",
        "img_list = glob('/content/drive/MyDrive/seol/datasets/YOLOv5/tiger-minhwa-10/train/images/*.jpg') # 트레인 이미지 경로\n",
        "test_img_list = glob('/content/drive/MyDrive/seol/datasets/YOLOv5/tiger-minhwa-10/test/images/*.jpg') # 테스트 이미지 경로\n",
        "val_img_list=glob('/content/drive/MyDrive/seol/datasets/YOLOv5/tiger-minhwa-10/valid/images/*.jpg') # validation 이미지 경로"
      ]
    },
    {
      "cell_type": "code",
      "execution_count": null,
      "metadata": {
        "id": "4Hfh3rihj800"
      },
      "outputs": [],
      "source": [
        "with open('/content/drive/MyDrive/seol/datasets/YOLOv5/tiger-minhwa-10/train.txt', 'w') as f:\n",
        "    f.write('\\n'.join(img_list) + '\\n')"
      ]
    },
    {
      "cell_type": "code",
      "execution_count": null,
      "metadata": {
        "id": "fxMp3EBFkPMj"
      },
      "outputs": [],
      "source": [
        "with open('/content/drive/MyDrive/seol/datasets/YOLOv5/tiger-minhwa-10/test.txt', 'w') as f:\n",
        "    f.write('\\n'.join(test_img_list) + '\\n')"
      ]
    },
    {
      "cell_type": "code",
      "execution_count": null,
      "metadata": {
        "id": "HiFh1ahynebj"
      },
      "outputs": [],
      "source": [
        "with open('/content/drive/MyDrive/seol/datasets/YOLOv5/tiger-minhwa-10/valid.txt', 'w') as f:\n",
        "    f.write('\\n'.join(val_img_list) + '\\n')"
      ]
    },
    {
      "cell_type": "markdown",
      "metadata": {
        "id": "Y21RA99XqVAZ"
      },
      "source": [
        "## train"
      ]
    },
    {
      "cell_type": "code",
      "execution_count": 1,
      "metadata": {
        "id": "f5uH-uHekrr7"
      },
      "outputs": [],
      "source": [
        "!python /content/drive/MyDrive/seol/yolov5/train.py --img 640 --batch 16 --epochs 300 --data /content/drive/MyDrive/seol/datasets/YOLOv5/tiger-minhwa-8/data.yaml --name ft --weights yolov5x.pt #--name result_jetbot --cfg ./models/yolov5x.yaml"
      ]
    },
    {
      "cell_type": "markdown",
      "metadata": {
        "id": "8MfFpHuaqXmQ"
      },
      "source": [
        "## detection"
      ]
    },
    {
      "cell_type": "code",
      "execution_count": null,
      "metadata": {
        "id": "O-nx182msgY5"
      },
      "outputs": [],
      "source": [
        "# permission denied error 발생시 권한설정\n",
        "!chmod +x /content/drive/MyDrive/seol/yolov5/detect.py"
      ]
    },
    {
      "cell_type": "code",
      "execution_count": null,
      "metadata": {
        "colab": {
          "base_uri": "https://localhost:8080/"
        },
        "id": "l7f2swcXs9dQ",
        "outputId": "52ce9257-b942-4d0c-afe0-9458186ddb78"
      },
      "outputs": [
        {
          "output_type": "stream",
          "name": "stdout",
          "text": [
            "/content/drive/MyDrive/seol/yolov5\n"
          ]
        }
      ],
      "source": [
        "%cd /content/drive/MyDrive/seol/yolov5"
      ]
    },
    {
      "cell_type": "code",
      "execution_count": null,
      "metadata": {
        "colab": {
          "base_uri": "https://localhost:8080/"
        },
        "id": "vnRSeoxxuB-I",
        "outputId": "b3ce6210-70f3-4efd-b356-eacd79b785ee"
      },
      "outputs": [
        {
          "name": "stdout",
          "output_type": "stream",
          "text": [
            "/content/drive/MyDrive/seol/yolov5\n"
          ]
        }
      ],
      "source": [
        "!pwd"
      ]
    },
    {
      "cell_type": "code",
      "execution_count": 2,
      "metadata": {
        "id": "-2Y2G-YbqZXB"
      },
      "outputs": [],
      "source": [
        "!python ./detect.py --weights /content/drive/MyDrive/seol/yolov5/runs/train/minhwa-fin/weights/best.pt --img 640 --source /content/drive/MyDrive/seol/test/yolov5/minhwa-v2"
      ]
    },
    {
      "cell_type": "markdown",
      "metadata": {
        "id": "9uRnWTGTBxUI"
      },
      "source": [
        "## 민화 객체 및 위치 정보 추출"
      ]
    },
    {
      "cell_type": "code",
      "execution_count": null,
      "metadata": {
        "id": "yL0HT9R7Ein1"
      },
      "outputs": [],
      "source": [
        "# bird set\n",
        "# bird=['bird','chicken','duck','kingfisher','magpie','mandarin-duck','pheasant']\n",
        "\n",
        "# # flower set\n",
        "# flower=['flower','magnolia']"
      ]
    },
    {
      "cell_type": "code",
      "execution_count": 85,
      "metadata": {
        "id": "qQh-W62rwae2"
      },
      "outputs": [],
      "source": [
        "key_lst=[['bird',0], ['branch',0], ['butterfly',0], ['chicken',0], ['duck',0], ['egret',0], ['flower',0], ['grass',0], ['kingfisher',0], ['lotus',0], ['lotus-seed',0], ['magnolia',0], ['magpie',0], ['flying-magpie',0],['mandarin-duck',0], ['moran',0] ,['pheasant',0], ['pheonix',0] ,['rock',0], ['tiger',0],['beige-flower',0],['black-flower',0],['blue-flower',0],['brown-flower',0],['gray-flower',0],['green-flower',0],['mint-flower',0],['pink-flower',0],['plum-flower',0],['purple-flower',0],['white-flower',0],['red-flower',0],['yellow-flower',0],['beige-moran',0],['black-moran',0],['blue-moran',0],['brown-moran',0],['gray-moran',0],['green-moran',0],['mint-moran',0],['pink-moran',0],['plum-moran',0],['purple-moran',0],['white-moran',0],['red-moran',0],['yellow-moran',0],['beige-butterfly',0],['black-butterfly',0],['blue-butterfly',0],['brown-butterfly',0],['gray-butterfly',0],['green-butterfly',0],['mint-butterfly',0],['pink-butterfly',0],['plum-butterfly',0],['purple-butterfly',0],['white-butterfly',0],['red-butterfly',0],['yellow-butterfly',0]]\n",
        "key_dic=dict(key_lst)"
      ]
    },
    {
      "cell_type": "code",
      "source": [
        "# 객체명, 객체 위치 좌표 저장\n",
        "loc = []\n",
        "key_name= []\n",
        "with open('/content/drive/MyDrive/seol/test/yolov5/algo-test.txt', 'r') as file:\n",
        "    lines = file.readlines()\n",
        "for line in lines:\n",
        "    ts=[]\n",
        "    t=line.strip()\n",
        "    ts.append(int(t.split()[0][1:-1]))\n",
        "    ts.append(int(t.split()[1][:-1]))\n",
        "    ts.append(int(t.split()[2][1:-1]))\n",
        "    ts.append(int(t.split()[3][:-1]))\n",
        "    loc.append(tuple(map(int, ts)))\n",
        "\n",
        "    k=t.split()[4]\n",
        "    print(k)\n",
        "    key_name.append(k)\n",
        "    key_dic[k]+=1\n"
      ],
      "metadata": {
        "colab": {
          "base_uri": "https://localhost:8080/"
        },
        "id": "pFTpKHh4ikhc",
        "outputId": "634b5b1d-cc2d-4c31-e0d0-b029a72dddd6"
      },
      "execution_count": 86,
      "outputs": [
        {
          "output_type": "stream",
          "name": "stdout",
          "text": [
            "lotus\n",
            "flower\n",
            "flower\n",
            "butterfly\n",
            "moran\n",
            "butterfly\n",
            "moran\n",
            "moran\n",
            "moran\n"
          ]
        }
      ]
    },
    {
      "cell_type": "markdown",
      "metadata": {
        "id": "Pm_bmbQQGcFT"
      },
      "source": [
        "### 객체별 중앙 좌표 계산 & 색상 객체 저장"
      ]
    },
    {
      "cell_type": "code",
      "source": [
        "from PIL import Image\n",
        "\n",
        "# 이미지를 엽니다.\n",
        "image = Image.open(\"/content/drive/MyDrive/seol/test/yolov5/minhwa-v2/minhwa5.jpeg\")\n",
        "\n",
        "# (x1, y1, x2, y2) 형태의 튜플로 크롭 영역을 지정합니다.\n",
        "# 여기서 (x1, y1)은 크롭 영역의 왼쪽 상단 좌표이고, (x2, y2)는 오른쪽 하단 좌표입니다.\n",
        "\n",
        "for i in range(0,len(loc)):\n",
        "\n",
        "  # 꽃, 나비, 모란 객체만 색상 판별을 위해 이미지 별도 저장\n",
        "  if(key_name[i]!= 'flower' and key_name[i]!= 'butterfly' and key_name[i]!= 'moran'): continue\n",
        "\n",
        "  crop_area = loc[i]\n",
        "\n",
        "  # 이미지를 크롭합니다.\n",
        "  cropped_image = image.crop(crop_area)\n",
        "\n",
        "  width, height = cropped_image.size\n",
        "\n",
        "  # 중앙 영역의 크기를 정합니다. (여기서는 이미지의 1/2로 설정)\n",
        "  crop_width = width // 2\n",
        "  crop_height = height // 2\n",
        "\n",
        "  # 중앙 영역의 좌표를 계산합니다.\n",
        "  x1 = (width - crop_width) // 2\n",
        "  y1 = (height - crop_height) // 2\n",
        "  x2 = x1 + crop_width\n",
        "  y2 = y1 + crop_height\n",
        "\n",
        "  # (x1, y1, x2, y2) 형태의 튜플로 크롭 영역을 지정합니다.\n",
        "  cropped_area = (x1, y1, x2, y2)\n",
        "\n",
        "  # 이미지를 크롭합니다.\n",
        "  fin_img = cropped_image.crop(cropped_area)\n",
        "\n",
        "  # 크롭한 이미지를 저장합니다.\n",
        "  fin_img.save(\"/content/drive/MyDrive/seol/test/color-test/minhwa-v2/\"+key_name[i]+\"-%d.jpg\"%i)"
      ],
      "metadata": {
        "id": "nk8nGA6ek5-b"
      },
      "execution_count": 63,
      "outputs": []
    },
    {
      "cell_type": "markdown",
      "source": [
        "## K-Means Clustering 색상 정보 추출"
      ],
      "metadata": {
        "id": "pmhhKTECA74m"
      }
    },
    {
      "cell_type": "code",
      "execution_count": 29,
      "metadata": {
        "id": "wcan0ZL9A8eL"
      },
      "outputs": [],
      "source": [
        "def palette(clusters):\n",
        "    width=300\n",
        "    palette = np.zeros((50, width, 3), np.uint8)\n",
        "    steps = width/clusters.cluster_centers_.shape[0]\n",
        "    for idx, centers in enumerate(clusters.cluster_centers_):\n",
        "        palette[:, int(idx*steps):(int((idx+1)*steps)), :] = centers\n",
        "    return palette"
      ]
    },
    {
      "cell_type": "code",
      "execution_count": 30,
      "metadata": {
        "id": "Se10fmxNBXxQ"
      },
      "outputs": [],
      "source": [
        "def show_img_compar(img_1, img_2 ):\n",
        "    f, ax = plt.subplots(1, 2, figsize=(10,10))\n",
        "    ax[0].imshow(img_1)\n",
        "    ax[1].imshow(img_2)\n",
        "    ax[0].axis('off') #hide the axis\n",
        "    ax[1].axis('off')\n",
        "    f.tight_layout()\n",
        "    plt.show()\n"
      ]
    },
    {
      "cell_type": "code",
      "execution_count": 31,
      "metadata": {
        "id": "rjm5VbFfCuDd"
      },
      "outputs": [],
      "source": [
        "def palette_perc(k_cluster):\n",
        "    width = 300\n",
        "    palette = np.zeros((50, width, 3), np.uint8)\n",
        "\n",
        "    n_pixels = len(k_cluster.labels_)\n",
        "    counter = Counter(k_cluster.labels_) # count how many pixels per cluster\n",
        "    perc = {}\n",
        "    for i in counter:\n",
        "        perc[i] = np.round(counter[i]/n_pixels, 2)\n",
        "    perc = dict(sorted(perc.items()))\n",
        "\n",
        "    #for logging purposes\n",
        "    print(perc)\n",
        "    print(k_cluster.cluster_centers_)\n",
        "    # print(k_cluster.cluster_centers_[0][0])\n",
        "    # color=np.unit8([[k_cluster.cluster_centers_[0]]])\n",
        "    # main_color=k_cluster.cluster_centers_[0]\n",
        "\n",
        "    step = 0\n",
        "\n",
        "    for idx, centers in enumerate(k_cluster.cluster_centers_):\n",
        "        palette[:, step:int(step + perc[idx]*width+1), :] = centers\n",
        "        step += int(perc[idx]*width+1)\n",
        "\n",
        "    return palette\n"
      ]
    },
    {
      "cell_type": "code",
      "execution_count": 32,
      "metadata": {
        "id": "ZgfucSd1EvfB"
      },
      "outputs": [],
      "source": [
        "import colorsys\n",
        "import numpy as np\n",
        "import tensorflow as tf\n",
        "\n",
        "def rgb_to_hsv(r, g, b):\n",
        "    r /= 255.0\n",
        "    g /= 255.0\n",
        "    b /= 255.0\n",
        "    h, s, v = colorsys.rgb_to_hsv(r, g, b)\n",
        "    h *= 360.0  # HSV의 색상 값은 0~360 사이의 값으로 표현됩니다.\n",
        "    return h, s, v"
      ]
    },
    {
      "cell_type": "code",
      "execution_count": 68,
      "metadata": {
        "id": "2hRCqnADiO3B"
      },
      "outputs": [],
      "source": [
        "def color_detect(obj_minhwa):\n",
        "  clt=KMeans(n_clusters=5)\n",
        "  clt_1 = clt.fit(obj_minhwa.reshape(-1, 3))\n",
        "\n",
        "  width = 300\n",
        "  palette = np.zeros((50, width, 3), np.uint8)\n",
        "\n",
        "  n_pixels = len(clt_1.labels_)\n",
        "  counter = Counter(clt_1.labels_) # count how many pixels per cluster\n",
        "  perc = {}\n",
        "  for i in counter:\n",
        "      perc[i] = np.round(counter[i]/n_pixels, 2)\n",
        "  perc = dict(sorted(perc.items(),reverse=True))\n",
        "\n",
        "  #for logging purposes\n",
        "  # print(perc)\n",
        "  # print(clt_1.cluster_centers_)\n",
        "\n",
        "  step = 0\n",
        "\n",
        "  for idx, centers in enumerate(clt_1.cluster_centers_):\n",
        "      palette[:, step:int(step + perc[idx]*width+1), :] = centers\n",
        "      step += int(perc[idx]*width+1)\n",
        "\n",
        "  # 높은 빈도 색상 찾기\n",
        "  perc = dict(sorted(perc.items(),key = lambda item: item[1],reverse=True))\n",
        "  idx = list(perc.keys())[0]\n",
        "\n",
        "  # perc = dict(sorted(perc.items()))\n",
        "  # perc\n",
        "  r=clt_1.cluster_centers_[int(idx)][0]\n",
        "  g=clt_1.cluster_centers_[int(idx)][1]\n",
        "  b=clt_1.cluster_centers_[int(idx)][2]\n",
        "\n",
        "  # print('%d,%d,%d\\n'%(r,g,b))\n",
        "  # rgb='%d,%d,%d\\n'%(r,g,b)\n",
        "\n",
        "  # rgb_lst=[r,g,b]\n",
        "\n",
        "  # hsv_lst.append(rgb_lst)\n",
        "\n",
        "  h, s, v = rgb_to_hsv(r, g, b)\n",
        "\n",
        "  # orange -> brown 으로 인식. brown 수정\n",
        "  sample_hue = round(h,2) # 예시로 Hue 값을 180으로 설정\n",
        "  sample_saturation = round(s,2)\n",
        "  sample_value = round(v,2)\n",
        "\n",
        "  loaded_model = tf.keras.models.load_model('/content/drive/MyDrive/seol/ckpt/color_regression_v2.h5')\n",
        "  sample_hsv = np.array([[sample_hue, sample_saturation, sample_value]], dtype=np.float32)\n",
        "  predicted_color_probs = loaded_model.predict(sample_hsv)\n",
        "  predicted_color_label = np.argmax(predicted_color_probs)\n",
        "\n",
        "  print(f\"Predicted color for HSV ({sample_hue}, {sample_saturation}, {sample_value}): {predicted_color_label}\")\n",
        "  return predicted_color_label\n",
        "  # rgb_color = hsv_to_rgb(sample_hue, sample_saturation, sample_value)\n",
        "\n",
        "  # plt.imshow([[(rgb_color[0]/255, rgb_color[1]/255, rgb_color[2]/255)]])\n",
        "  # plt.title(f\"Hue={sample_hue}, Saturation={sample_saturation}, Value={sample_value}\")\n",
        "  # plt.axis('off')\n"
      ]
    },
    {
      "cell_type": "code",
      "execution_count": 54,
      "metadata": {
        "id": "4VijWeWrFrWd"
      },
      "outputs": [],
      "source": [
        "color_dic = {0:'beige', 1:'black', 2:'blue', 3:'brown', 4:'gray', 5:'green', 6:'mint', 7:'pink', 8:'plum', 9:'purple', 10:'red', 11:'white', 12:'yellow'}"
      ]
    },
    {
      "cell_type": "markdown",
      "source": [
        "### 객체 색상 분류"
      ],
      "metadata": {
        "id": "rLmlnV6TBatZ"
      }
    },
    {
      "cell_type": "code",
      "source": [
        "for i in range(0,len(key_name)):\n",
        "  obj=key_name[i]\n",
        "  if(obj=='flower' or obj=='moran' or obj=='butterfly'):\n",
        "    print(obj)\n",
        "    print(i)\n",
        "    path='/content/drive/MyDrive/seol/test/color-test/minhwa-v2/'+obj+'-%d.jpg'%i\n",
        "    obj_minhwa=cv2.imread(path)\n",
        "    # print(obj[i])\n",
        "    obj_minhwa=cv2.cvtColor(obj_minhwa,cv2.COLOR_BGR2RGB)\n",
        "\n",
        "    res=color_detect(obj_minhwa)\n",
        "    # print(color_dic[res])\n",
        "    c=color_dic[res]\n",
        "\n",
        "    if(obj=='flower'):\n",
        "      key_dic['flower']-=1\n",
        "      k=c+'-flower'\n",
        "      key_name[i]=k\n",
        "      key_dic[k]+=1\n",
        "    elif(obj=='moran'):\n",
        "      key_dic['moran']-=1\n",
        "      k=c+'-moran'\n",
        "      key_name[i]=k\n",
        "      key_dic[k]+=1\n",
        "    else:\n",
        "      key_dic['butterfly']-=1\n",
        "      k=c+'-butterfly'\n",
        "      key_name[i]=k\n",
        "      key_dic[k]+=1\n"
      ],
      "metadata": {
        "id": "h91AJBygpGNO"
      },
      "execution_count": 122,
      "outputs": []
    },
    {
      "cell_type": "markdown",
      "source": [
        "### 색상 스펙트럼 테스트"
      ],
      "metadata": {
        "id": "iDZ4ibMuBe45"
      }
    },
    {
      "cell_type": "code",
      "execution_count": 67,
      "metadata": {
        "colab": {
          "base_uri": "https://localhost:8080/",
          "height": 763
        },
        "id": "f2SRrL22C86G",
        "outputId": "7ffb5bc0-9c2b-4a1f-a2dc-01ac52051c33"
      },
      "outputs": [
        {
          "output_type": "stream",
          "name": "stdout",
          "text": [
            "{4: 0.2, 3: 0.31, 2: 0.03, 1: 0.17, 0: 0.29}\n",
            "[[240.47356322 105.61724138  23.93793103]\n",
            " [198.86372745  64.3507014    1.73947896]\n",
            " [230.21518987 202.40506329 176.43037975]\n",
            " [226.27540984  78.8852459    7.75956284]\n",
            " [250.03577513 130.21465077  47.49403748]]\n"
          ]
        },
        {
          "output_type": "stream",
          "name": "stderr",
          "text": [
            "/usr/local/lib/python3.10/dist-packages/sklearn/cluster/_kmeans.py:870: FutureWarning: The default value of `n_init` will change from 10 to 'auto' in 1.4. Set the value of `n_init` explicitly to suppress the warning\n",
            "  warnings.warn(\n"
          ]
        },
        {
          "output_type": "display_data",
          "data": {
            "text/plain": [
              "<Figure size 1000x1000 with 2 Axes>"
            ],
            "image/png": "[encoded data removed]"
          },
          "metadata": {}
        }
      ],
      "source": [
        "# 색상 스펙트럼 테스트\n",
        "obj_minhwa=cv2.imread('/content/drive/MyDrive/seol/test/color-test/minhwa-v2/moran-6.jpg')\n",
        "obj_minhwa=cv2.cvtColor(obj_minhwa,cv2.COLOR_BGR2RGB)\n",
        "\n",
        "from sklearn.cluster import KMeans\n",
        "from collections import Counter\n",
        "\n",
        "clt=KMeans(n_clusters=5)\n",
        "clt_1 = clt.fit(obj_minhwa.reshape(-1, 3))\n",
        "\n",
        "width = 300\n",
        "palette = np.zeros((50, width, 3), np.uint8)\n",
        "\n",
        "n_pixels = len(clt_1.labels_)\n",
        "counter = Counter(clt_1.labels_) # count how many pixels per cluster\n",
        "perc = {}\n",
        "for i in counter:\n",
        "    perc[i] = np.round(counter[i]/n_pixels, 2)\n",
        "perc = dict(sorted(perc.items(),reverse=True))\n",
        "\n",
        "#for logging purposes\n",
        "print(perc)\n",
        "print(clt_1.cluster_centers_)\n",
        "\n",
        "step = 0\n",
        "\n",
        "for idx, centers in enumerate(clt_1.cluster_centers_):\n",
        "    palette[:, step:int(step + perc[idx]*width+1), :] = centers\n",
        "    step += int(perc[idx]*width+1)\n",
        "\n",
        "show_img_compar(obj_minhwa, palette)\n"
      ]
    },
    {
      "cell_type": "markdown",
      "metadata": {
        "id": "Fac0bpeQGq58"
      },
      "source": [
        "## 민화 장르 분류 & 객체 문장 생성"
      ]
    },
    {
      "cell_type": "code",
      "source": [
        "# 민화 장르 분류\n",
        "en2ko=[['bird','새가'], ['branch','나뭇가지가'], ['butterfly','나비가'], ['chicken','닭이'], ['duck','오리가'], ['egret','학이'], ['flower','꽃이'], ['grass','풀이'], ['kingfisher','물총새가'], ['lotus','연꽃이'], ['lotus-seed','연밥이'], ['magnolia','목련이'], ['magpie','까치가'],['mandarin-duck','청둥오리가'], ['moran','모란이'] ,['pheasant','꿩이'], ['pheonix','봉황이'] ,['rock','암석이'], ['tiger','호랑이가'],['beige-flower','베이지색 꽃이'],['black-flower','검은 꽃이'],['blue-flower','파란 꽃이'],['brown-flower','갈색 꽃이'],['gray-flower','회색 꽃이'],['green-flower','초록색 꽃이'],['mint-flower','민트색 꽃이'],['pink-flower','분홍색 꽃이'],['plum-flower','자주색 꽃이'],['purple-flower','보라색 꽃이'],['white-flower','흰 꽃이'],['red-flower','붉은 꽃이'],['yellow-flower','노란 꽃이'],['beige-moran','베이지색 모란이'],['black-moran','검은 모란이'],['blue-moran','파란 모란이'],['brown-moran','갈색 모란이'],['gray-moran','회색 모란이'],['green-moran','초록색 모란이'],['mint-moran','민트색 모란이'],['pink-moran','분홍색 모란이'],['plum-moran','자주색 모란이'],['purple-moran','보라색 모란이'],['white-moran','흰 모란이'],['red-moran','빨간 모란이'],['yellow-moran','노란 모란이'],['beige-butterfly','베이지색 나비가'],['black-butterfly','검은 나비가'],['blue-butterfly','파란 나비가'],['brown-butterfly','갈색 나비가'],['gray-butterfly','회색 나비가'],['green-butterfly','초록색 나비가'],['mint-butterfly','민트색 나비가'],['pink-butterfly','분홍색 나비가'],['plum-butterfly','자주색 나비가'],['purple-butterfly','보라색 나비가'],['white-butterfly','흰색 나비가'],['red-butterfly','빨간 나비가'],['yellow-butterfly','노란 나비가']]\n",
        "en2ko_dic=dict(en2ko)"
      ],
      "metadata": {
        "id": "yDxSQNxd0Y4E"
      },
      "execution_count": 91,
      "outputs": []
    },
    {
      "cell_type": "code",
      "source": [
        "# bird set\n",
        "# bird=['bird','chicken','duck','kingfisher','magpie','mandarin-duck','pheasant']\n",
        "\n",
        "# flower set\n",
        "flower_set=['flower','magnolia','lotus','moran','lotus-seed']\n",
        "\n",
        "#anim set\n",
        "obj_set=['branch','grass','lotus','moran','rock']"
      ],
      "metadata": {
        "id": "k2pWX8yJ3HUO"
      },
      "execution_count": 103,
      "outputs": []
    },
    {
      "cell_type": "code",
      "execution_count": 104,
      "metadata": {
        "colab": {
          "base_uri": "https://localhost:8080/"
        },
        "id": "YqnJwD3XdRMJ",
        "outputId": "3614b277-436f-4da8-d8ef-22f6e62a64e5"
      },
      "outputs": [
        {
          "output_type": "stream",
          "name": "stdout",
          "text": [
            "연꽃이 있는 민화입니다.\n",
            "흰 꽃이 있는 민화입니다.\n",
            "노란 꽃이 있는 민화입니다.\n",
            "2 송이의 흰 모란이 있는 민화입니다.\n",
            "2 송이의 노란 모란이 있는 민화입니다.\n",
            "베이지색 나비가 있는 민화입니다.\n",
            "회색 나비가 있는 민화입니다.\n"
          ]
        }
      ],
      "source": [
        "stc=[]\n",
        "for key, value in key_dic.items():\n",
        "  if(value==1): print(en2ko_dic[key]+ \" 있는 민화입니다.\")\n",
        "  elif(value>1):\n",
        "    flower_sub = any(s in key for s in flower_set)\n",
        "    obj_sub=any(s in key for s in obj_set)\n",
        "    if(flower_sub): print(\"%d 송이의 \"%value+en2ko_dic[key]+ \" 있는 민화입니다.\")\n",
        "    elif(obj_sub): print(\"%d 개의 \"%value+en2ko_dic[key]+ \" 있는 민화입니다.\")\n",
        "    else: print(\"%d 마리의 \"%value+en2ko_dic[key]+ \" 있는 민화입니다.\")"
      ]
    },
    {
      "cell_type": "code",
      "source": [
        "# 민화 장르 분류\n",
        "gen=''\n",
        "\n",
        "# 모란 개수\n",
        "cnt = sum(s.count('moran') for s in key_name)\n",
        "# print(cnt)\n",
        "\n",
        "if(key_dic['tiger']>0):\n",
        "  print('이 민화는 호작도입니다.')\n",
        "  gen='호작도'\n",
        "elif(key_dic['egret']>0):\n",
        "  print('이 민화는 송학도입니다.')\n",
        "  gen='송학도'\n",
        "elif(key_dic['pheonix']>0):\n",
        "  print('이 민화는 봉황도입니다.')\n",
        "  gen='봉황도'\n",
        "elif(key_dic['lotus']>0):\n",
        "  # 모란 없음\n",
        "  if(cnt==0 or cnt<key_dic['lotus']):\n",
        "    print('이 민화는 연화도입니다.')\n",
        "    gen='연화도'\n",
        "  # 모란 있음 -> 개수 비교\n",
        "  else:\n",
        "    print('이 민화는 모란도입니다.')\n",
        "    gen='모란도'\n",
        "elif(cnt>0):\n",
        "    print('이 민화는 모란도입니다.')\n",
        "    gen='모란도'\n",
        "else:\n",
        "  print('이 민화는 화조도입니다.')\n",
        "  gen='화조도'"
      ],
      "metadata": {
        "colab": {
          "base_uri": "https://localhost:8080/"
        },
        "id": "wCg9sWyh78Kr",
        "outputId": "7ccf4c0b-8bcb-4a86-8316-ae9793ebaa02"
      },
      "execution_count": 120,
      "outputs": [
        {
          "output_type": "stream",
          "name": "stdout",
          "text": [
            "이 민화는 모란도입니다.\n"
          ]
        }
      ]
    },
    {
      "cell_type": "markdown",
      "source": [
        "## koGPT2 설명문 생성을 위한 프롬포트 구성"
      ],
      "metadata": {
        "id": "gIARfn7BBwzZ"
      }
    },
    {
      "cell_type": "code",
      "source": [
        "# 키워드 추출\n",
        "key_prompt=''\n",
        "for i in range(0,len(key_name)):\n",
        "  key_prompt+=en2ko_dic[key_name[i]][:-1]+', '\n",
        "key_str=key_prompt[:-2]\n",
        "key_str"
      ],
      "metadata": {
        "colab": {
          "base_uri": "https://localhost:8080/",
          "height": 36
        },
        "id": "_ylfkoas7_bY",
        "outputId": "a2f5dc45-cf76-401e-9604-08eed53ae46c"
      },
      "execution_count": 112,
      "outputs": [
        {
          "output_type": "execute_result",
          "data": {
            "text/plain": [
              "'연꽃, 흰 꽃, 노란 꽃, 베이지색 나비, 흰 모란, 회색 나비, 노란 모란, 노란 모란, 흰 모란'"
            ],
            "application/vnd.google.colaboratory.intrinsic+json": {
              "type": "string"
            }
          },
          "metadata": {},
          "execution_count": 112
        }
      ]
    },
    {
      "cell_type": "markdown",
      "metadata": {
        "id": "I6myz3XEGxUd"
      },
      "source": [
        "### 객체 간 위치관계 포함한 문장 출력"
      ]
    },
    {
      "cell_type": "code",
      "execution_count": null,
      "metadata": {
        "id": "z2DmmYFWMl_3"
      },
      "outputs": [],
      "source": [
        "# exp=[]  # 전체 설명 문자열 list\n",
        "# combo_lst=[]\n",
        "# genre_list=[]"
      ]
    },
    {
      "cell_type": "code",
      "execution_count": null,
      "metadata": {
        "id": "-5XhzQCXWII-"
      },
      "outputs": [],
      "source": [
        "stc=[]\n",
        "for i in range(0,len(mid)):\n",
        "  cur=obj[i].split('-')[0]\n",
        "  if(len(obj[i].split('-'))==3): cur+=' '+ obj[i].split('-')[1]\n",
        "\n",
        "  for j in range(0,len(mid)):\n",
        "    if(i==j): continue\n",
        "\n",
        "    cp=obj[j].split('-')[0]\n",
        "    if(len(obj[j].split('-'))==3): cp+=' '+obj[j].split('-')[1]\n",
        "    # cp=obj[j].split('-')[0]#상대 객체\n",
        "\n",
        "    # 같은 객체간 비교 안함\n",
        "    if(cur==cp): continue\n",
        "\n",
        "    # 현재 객체가 위에 있음\n",
        "    s=''\n",
        "    if(mid[i][1]<mid[j][1]): s=\"There is a \"+cur+\" on the \"+cp+\".\"\n",
        "    # 현재 객체가 아래에 있음\n",
        "    if(mid[i][1]>mid[j][1]): s=\"There is a \"+cur+\" under the \"+cp+\".\"\n",
        "    stc.append(s)\n",
        "\n",
        "texts=list(set(stc))"
      ]
    },
    {
      "cell_type": "code",
      "execution_count": null,
      "metadata": {
        "colab": {
          "base_uri": "https://localhost:8080/"
        },
        "id": "NEwVrBqYJv3o",
        "outputId": "2062a4b7-133b-418b-f46f-695f754f5cee"
      },
      "outputs": [
        {
          "data": {
            "text/plain": [
              "['magpie', 'pheonix', 'pheasant', 'butterfly', 'kingfisher', 'lotus']"
            ]
          },
          "execution_count": 285,
          "metadata": {},
          "output_type": "execute_result"
        }
      ],
      "source": [
        "key_lst=[]\n",
        "for i in range(0,len(obj)):\n",
        "  kwd = obj[i].split('-')\n",
        "  if(len(kwd)==3):key_lst.append(kwd[0]+' '+kwd[1])\n",
        "  else: key_lst.append(kwd[0])\n",
        "\n",
        "keywords=list(set(key_lst))\n",
        "keywords"
      ]
    },
    {
      "cell_type": "code",
      "execution_count": null,
      "metadata": {
        "id": "wxXdtySBJTV4"
      },
      "outputs": [],
      "source": [
        "from itertools import combinations\n",
        "\n",
        "# keywords = ['white flower', 'red flower', 'yellow flower', 'lotus', 'rock', 'bird', 'brown moran', 'white moran']\n",
        "# genre='Morando'\n",
        "\n",
        "# 가능한 모든 조합 생성\n",
        "all_combinations = []\n",
        "for r in range(1, len(keywords) + 1):  # 1개부터 모든 키워드를 사용한 조합까지 생성\n",
        "    combinations_r = combinations(keywords, r)\n",
        "    all_combinations.extend(combinations_r)\n",
        "\n",
        "# 생성된 조합 출력\n",
        "combos=[]\n",
        "for combo in all_combinations:\n",
        "  s=\"\"\n",
        "  for i in range(0,len(combo)):\n",
        "    if(s!=\"\"): s+=','\n",
        "    s+=combo[i]\n",
        "\n",
        "  combos.append(s)\n",
        "\n",
        "unique_combo = list(set(combos))\n",
        "\n",
        "for i in range(0,len(unique_combo)):\n",
        "  combo_lst.append(unique_combo[i])\n",
        "\n",
        "genre_list += [genre] * len(unique_combo)\n"
      ]
    },
    {
      "cell_type": "code",
      "execution_count": null,
      "metadata": {
        "id": "5q-ESHNCKkhg"
      },
      "outputs": [],
      "source": [
        "# exp=[]  # 전체 설명 문자열 list\n",
        "for i in range(0,len(unique_combo)):\n",
        "  key = unique_combo[i].split(',')\n",
        "  s=\"This Minhwa is \"+genre_list[i]+'.'\n",
        "  for j in range(0,len(key)):\n",
        "    word_to_check = key[j]  # 확인하고자 하는 단어\n",
        "    for k in range(0,len(texts)):\n",
        "      if word_to_check in texts[k]:\n",
        "        s+=','\n",
        "        s+=texts[k]\n",
        "\n",
        "  exp.append(s)"
      ]
    },
    {
      "cell_type": "code",
      "execution_count": null,
      "metadata": {
        "id": "-EPBoDHULhBp"
      },
      "outputs": [],
      "source": [
        "import pandas as pd\n",
        "# 데이터를 담을 딕셔너리 생성\n",
        "data = {\n",
        "    'keyword': combo_lst,\n",
        "    'Genre': genre_list,\n",
        "    'explanation': exp\n",
        "}\n",
        "\n",
        "# 딕셔너리를 데이터프레임으로 변환\n",
        "df = pd.DataFrame(data)\n",
        "\n",
        "# 데이터프레임을 CSV 파일로 저장\n",
        "csv_file_path = \"/content/drive/MyDrive/seol/datasets/sample_data.csv\"  # 저장할 CSV 파일의 경로 및 파일명 지정\n",
        "df.to_csv(csv_file_path, index=False)  # index=False로 설정하면 인덱스를 CSV에 저장하지 않습니다.\n"
      ]
    }
  ],
  "metadata": {
    "accelerator": "GPU",
    "colab": {
      "collapsed_sections": [
        "s5_bgK1xqNbx",
        "ZElUOyeNjZlT",
        "5Fwho1FrqSPB",
        "Y21RA99XqVAZ"
      ],
      "provenance": [],
      "mount_file_id": "1e6RAfBsor5FX1rp3eymR_MqXWdDAVXe5",
      "authorship_tag": "ABX9TyOLov48i6zHv33+2vAN+38D",
      "include_colab_link": true
    },
    "kernelspec": {
      "display_name": "Python 3",
      "name": "python3"
    },
    "language_info": {
      "name": "python"
    }
  },
  "nbformat": 4,
  "nbformat_minor": 0
}