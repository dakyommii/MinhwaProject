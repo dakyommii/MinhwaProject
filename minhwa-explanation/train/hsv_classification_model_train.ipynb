{
  "nbformat": 4,
  "nbformat_minor": 0,
  "metadata": {
    "colab": {
      "provenance": [],
      "mount_file_id": "1x8T7GOcJI4bJ-Kl4mXYsDD7NsQizMGwm",
      "authorship_tag": "ABX9TyOaDsopOP9DpFYA1ZPlWiP7",
      "include_colab_link": true
    },
    "kernelspec": {
      "name": "python3",
      "display_name": "Python 3"
    },
    "language_info": {
      "name": "python"
    }
  },
  "cells": [
    {
      "cell_type": "markdown",
      "metadata": {
        "id": "view-in-github",
        "colab_type": "text"
      },
      "source": [
        "<a href=\"https://colab.research.google.com/github/dakyommii/MinhwaProject/blob/main/minhwa-explanation/train/hsv_classification_model_train.ipynb\" target=\"_parent\"><img src=\"https://colab.research.google.com/assets/colab-badge.svg\" alt=\"Open In Colab\"/></a>"
      ]
    },
    {
      "cell_type": "markdown",
      "source": [
        "## HSV 생성"
      ],
      "metadata": {
        "id": "C9AWoBM65e0C"
      }
    },
    {
      "cell_type": "code",
      "source": [
        "import random\n",
        "\n",
        "def random_hsv():\n",
        "    hue = random.uniform(0, 360)  # Hue 범위: 0 ~ 360\n",
        "    saturation = random.uniform(0, 1)  # Saturation 범위: 0 ~ 1\n",
        "    value = random.uniform(0, 1)  # Value 범위: 0 ~ 1\n",
        "    return hue, saturation, value\n",
        "\n",
        "num_samples = 50\n",
        "random_hsv_list = []\n",
        "\n",
        "for _ in range(num_samples):\n",
        "    hue, saturation, value = random_hsv()\n",
        "    random_hsv_list.append((hue, saturation, value))\n",
        "\n",
        "print(\"Random HSV values for 1000 samples:\")\n",
        "\n",
        "f=open(\"/content/drive/MyDrive/seol/test/hsv-val.txt\",'w')\n",
        "for idx, (hue, saturation, value) in enumerate(random_hsv_list, start=1):\n",
        "    # print(f\"Sample {idx}: Hue={hue:.2f}, Saturation={saturation:.2f}, Value={value:.2f}\")\n",
        "    f.write(f\"Sample {idx}: {hue:.2f} {saturation:.2f} {value:.2f}\\n\")\n",
        "\n",
        "f.close()"
      ],
      "metadata": {
        "colab": {
          "base_uri": "https://localhost:8080/"
        },
        "id": "s1C5Lp2F5hD0",
        "outputId": "0951a078-1094-4065-f8c0-d137ec2b68de"
      },
      "execution_count": null,
      "outputs": [
        {
          "output_type": "stream",
          "name": "stdout",
          "text": [
            "Random HSV values for 1000 samples:\n"
          ]
        }
      ]
    },
    {
      "cell_type": "code",
      "source": [
        "import numpy as np\n",
        "import colorsys\n",
        "\n",
        "num_samples = 1000\n",
        "\n",
        "# H, S, V 값 범위 정의\n",
        "hue_range = [0, 360]\n",
        "saturation_range = [0, 1]\n",
        "value_range = [0, 1]\n",
        "\n",
        "# H, S, V 값을 균등하게 나눈 후의 단계 수 계산\n",
        "num_hue_steps = int(np.ceil(num_samples ** (1/3)))\n",
        "num_saturation_steps = int(np.ceil(num_samples ** (1/3)))\n",
        "num_value_steps = int(np.ceil(num_samples ** (1/3)))\n",
        "\n",
        "# 균등하게 나눈 값 생성\n",
        "hue_values = np.linspace(hue_range[0], hue_range[1], num_hue_steps)\n",
        "saturation_values = np.linspace(saturation_range[0], saturation_range[1], num_saturation_steps)\n",
        "value_values = np.linspace(value_range[0], value_range[1], num_value_steps)\n",
        "\n",
        "# 가능한 모든 조합 생성\n",
        "hsv_values = []\n",
        "for hue in hue_values:\n",
        "    for saturation in saturation_values:\n",
        "        for value in value_values:\n",
        "            hsv_values.append([hue, saturation, value])\n",
        "\n",
        "# 필요한 조합만 추출하여 중복 제거\n",
        "hsv_values = np.unique(np.around(hsv_values, decimals=2), axis=0)\n",
        "\n",
        "# 만약 조합 개수가 1000개를 초과한다면, 처음 1000개만 선택\n",
        "if len(hsv_values) > num_samples:\n",
        "    hsv_values = hsv_values[:num_samples]\n",
        "\n",
        "# 생성된 HSV 값을 출력\n",
        "f=open(\"/content/drive/MyDrive/seol/test/hsv-v2.txt\",'w')\n",
        "for index, hsv in enumerate(hsv_values):\n",
        "    # print(f\"HSV: {index}, Hue: {hsv[0]}, Saturation: {hsv[1]}, Value: {hsv[2]}\")\n",
        "    f.write(f\"HSV {index} {hsv[0]} {hsv[1]} {hsv[2]}\\n\")\n",
        "\n",
        "f.close()\n"
      ],
      "metadata": {
        "id": "8xEfojNWGaH7"
      },
      "execution_count": null,
      "outputs": []
    },
    {
      "cell_type": "code",
      "source": [
        "import numpy as np\n",
        "\n",
        "def generate_random_purple_hsv():\n",
        "    hue_range = (270, 300)  # Purple 색상의 hue 범위를 270에서 300으로 설정\n",
        "    random_hue = np.random.uniform(hue_range[0], hue_range[1])\n",
        "    random_saturation = np.random.uniform(0, 1)\n",
        "    random_value = np.random.uniform(0, 1)\n",
        "    return random_hue, random_saturation, random_value\n",
        "\n",
        "num_samples = 100\n",
        "\n",
        "purple_hsv_values = [generate_random_purple_hsv() for _ in range(num_samples)]\n",
        "\n",
        "f=open(\"/content/drive/MyDrive/seol/test/hsv-purple.txt\",'w')\n",
        "for idx, (hue, saturation, value) in enumerate(purple_hsv_values, start=1):\n",
        "    f.write(f\"Sample {idx}: {hue:.2f} {saturation:.2f} {value:.2f}\\n\")\n",
        "    # print(f\"Sample {idx}: {hue:.2f} {saturation:.2f} {value:.2f}\\n\")\n",
        "\n",
        "f.close()\n"
      ],
      "metadata": {
        "id": "mz4zkacoxhgW"
      },
      "execution_count": null,
      "outputs": []
    },
    {
      "cell_type": "code",
      "source": [
        "import numpy as np\n",
        "\n",
        "def generate_random_red_hsv():\n",
        "    hue_range = (0, 10)  # Red 색상의 hue 범위를 0에서 10으로 수정\n",
        "    random_hue = np.random.uniform(hue_range[0], hue_range[1])\n",
        "    random_saturation = np.random.uniform(0, 1)\n",
        "    random_value = np.random.uniform(0, 1)\n",
        "    return random_hue, random_saturation, random_value\n",
        "\n",
        "num_samples = 100\n",
        "\n",
        "red_hsv_values = [generate_random_red_hsv() for _ in range(num_samples)]\n",
        "\n",
        "f=open(\"/content/drive/MyDrive/seol/test/hsv-red.txt\",'w')\n",
        "for idx, (hue, saturation, value) in enumerate(red_hsv_values, start=1):\n",
        "    f.write(f\"Sample {idx}: {hue:.2f} {saturation:.2f} {value:.2f}\\n\")\n",
        "\n",
        "f.close()"
      ],
      "metadata": {
        "id": "ygx0edXRJROM"
      },
      "execution_count": null,
      "outputs": []
    },
    {
      "cell_type": "code",
      "source": [
        "def generate_random_white_hsv():\n",
        "    random_hue = np.random.uniform(0, 360)  # 0부터 360 범위 내에서 랜덤으로 hue 값 생성\n",
        "    random_saturation = np.random.uniform(0, 0.1)  # 낮은 saturation 값으로 \"white\" 효과 생성\n",
        "    random_value = np.random.uniform(0.9, 1)  # 높은 value 값으로 밝은 색상 생성\n",
        "    return random_hue, random_saturation, random_value\n",
        "\n",
        "num_samples = 100\n",
        "\n",
        "white_hsv_values = [generate_random_white_hsv() for _ in range(num_samples)]\n",
        "\n",
        "f=open(\"/content/drive/MyDrive/seol/test/hsv-white.txt\",'w')\n",
        "for idx, (hue, saturation, value) in enumerate(white_hsv_values, start=1):\n",
        "    f.write(f\"Sample {idx}: {hue:.2f} {saturation:.2f} {value:.2f}\\n\")\n",
        "\n",
        "f.close()\n"
      ],
      "metadata": {
        "id": "hiNABPjrRqAR"
      },
      "execution_count": null,
      "outputs": []
    },
    {
      "cell_type": "code",
      "source": [
        "def generate_random_dark_red_hsv():\n",
        "    hue_range = (0, 20)  # \"dark red\"와 \"red\" 사이의 hue 범위를 설정\n",
        "    random_hue = np.random.uniform(hue_range[0], hue_range[1])\n",
        "    random_saturation = np.random.uniform(0.6, 0.8)  # 중간 정도의 saturation 값\n",
        "    random_value = np.random.uniform(0.5, 0.7)  # 작은 value 값으로 \"dark red\" 효과 생성\n",
        "    return random_hue, random_saturation, random_value\n",
        "\n",
        "num_samples = 100\n",
        "\n",
        "dark_red_hsv_values = [generate_random_dark_red_hsv() for _ in range(num_samples)]\n",
        "\n",
        "f=open(\"/content/drive/MyDrive/seol/test/hsv-dark-red.txt\",'w')\n",
        "for idx, (hue, saturation, value) in enumerate(dark_red_hsv_values, start=1):\n",
        "    f.write(f\"Sample {idx}: {hue:.2f} {saturation:.2f} {value:.2f}\\n\")\n",
        "\n",
        "f.close()\n"
      ],
      "metadata": {
        "id": "ikD8EXyfeqix"
      },
      "execution_count": null,
      "outputs": []
    },
    {
      "cell_type": "code",
      "source": [
        "def generate_random_purpink_hsv():\n",
        "    hue_range = (310, 340)  # \"dark red\"와 \"red\" 사이의 hue 범위를 설정\n",
        "    random_hue = np.random.uniform(hue_range[0], hue_range[1])\n",
        "    random_saturation = np.random.uniform(0, 0.2)  # 중간 정도의 saturation 값\n",
        "    random_value = np.random.uniform(0.7, 0.8)  # 작은 value 값으로 \"dark red\" 효과 생성\n",
        "    return random_hue, random_saturation, random_value\n",
        "\n",
        "num_samples = 100\n",
        "\n",
        "purpink_hsv_values = [generate_random_purpink_hsv() for _ in range(num_samples)]\n",
        "\n",
        "f=open(\"/content/drive/MyDrive/seol/test/hsv-purpink.txt\",'w')\n",
        "for idx, (hue, saturation, value) in enumerate(purpink_hsv_values, start=1):\n",
        "    f.write(f\"Sample {idx}: {hue:.2f} {saturation:.2f} {value:.2f}\\n\")\n",
        "\n",
        "f.close()\n"
      ],
      "metadata": {
        "id": "TCPwe1grpvhN"
      },
      "execution_count": null,
      "outputs": []
    },
    {
      "cell_type": "markdown",
      "source": [
        "## color image 저장"
      ],
      "metadata": {
        "id": "SMIdwPbWWYfd"
      }
    },
    {
      "cell_type": "code",
      "source": [
        "import colorsys\n",
        "import matplotlib.pyplot as plt"
      ],
      "metadata": {
        "id": "PWDZUev8hjDD"
      },
      "execution_count": null,
      "outputs": []
    },
    {
      "cell_type": "code",
      "source": [
        "def hsv_to_rgb(h, s, v):\n",
        "    rgb = colorsys.hsv_to_rgb(h / 360, s, v)\n",
        "    return tuple(int(val * 255) for val in rgb)"
      ],
      "metadata": {
        "id": "IHrEuED2hgN6"
      },
      "execution_count": null,
      "outputs": []
    },
    {
      "cell_type": "code",
      "source": [
        "# (9.97, 0.11, 0.89)\n",
        "hue = 9.97 # 예시로 Hue 값을 180으로 설정\n",
        "saturation = 0.11\n",
        "value = 0.89\n",
        "\n",
        "rgb_color = hsv_to_rgb(hue, saturation, value)\n",
        "\n",
        "plt.imshow([[(rgb_color[0]/255, rgb_color[1]/255, rgb_color[2]/255)]])\n",
        "plt.title(f\"Hue={hue}, Saturation={saturation}, Value={value}\")\n",
        "plt.axis('off')\n",
        "plt.show()\n",
        "# plt.savefig('/content/drive/MyDrive/seol/test/hsv/hsv.png')\n"
      ],
      "metadata": {
        "colab": {
          "base_uri": "https://localhost:8080/",
          "height": 428
        },
        "id": "mhra9q-s6RYM",
        "outputId": "898b90c0-373c-4765-d6fe-1d37d1967f1f"
      },
      "execution_count": null,
      "outputs": [
        {
          "output_type": "display_data",
          "data": {
            "text/plain": [
              "<Figure size 640x480 with 1 Axes>"
            ],
            "image/png": "[encoded data removed]"
          },
          "metadata": {}
        }
      ]
    },
    {
      "cell_type": "code",
      "source": [
        "with open('/content/drive/MyDrive/seol/test/hsv-v2.txt', 'r') as f:\n",
        "    hsv_lst = f.readlines()\n",
        "\n",
        "for i in range(901,len(hsv_lst)):\n",
        "  num=int(hsv_lst[i].split(' ')[1])\n",
        "  h=float(hsv_lst[i].split(' ')[2])\n",
        "  s=float(hsv_lst[i].split(' ')[3])\n",
        "  v=float(hsv_lst[i].split(' ')[4])\n",
        "\n",
        "  # print(num)\n",
        "  # print(h,s,v)\n",
        "\n",
        "  rgb_color = hsv_to_rgb(h, s, v)\n",
        "\n",
        "  plt.imshow([[(rgb_color[0]/255, rgb_color[1]/255, rgb_color[2]/255)]])\n",
        "  plt.title(f\"Hue={h}, Saturation={s}, Value={v}\")\n",
        "  plt.axis('off')\n",
        "\n",
        "  plt.savefig('/content/drive/MyDrive/seol/test/hsv/v2/%d.png'%(num))\n"
      ],
      "metadata": {
        "colab": {
          "base_uri": "https://localhost:8080/",
          "height": 428
        },
        "id": "1ojOhLuvn3z9",
        "outputId": "bfe90d28-2398-4430-d981-6e801d1c2e5f"
      },
      "execution_count": null,
      "outputs": [
        {
          "output_type": "display_data",
          "data": {
            "text/plain": [
              "<Figure size 640x480 with 1 Axes>"
            ],
            "image/png": "[encoded data removed]"
          },
          "metadata": {}
        }
      ]
    },
    {
      "cell_type": "markdown",
      "source": [
        "## HSV dataset 생성"
      ],
      "metadata": {
        "id": "hi-VEUZ3WnY1"
      }
    },
    {
      "cell_type": "code",
      "source": [
        "d = {'beige': 0, 'black': 1, 'blue': 2, 'brown': 3, 'gray': 4, 'green': 5, 'mint': 6, 'pink': 7, 'plum': 8, 'purple': 9, 'red': 10, 'white': 11, 'yellow': 12}"
      ],
      "metadata": {
        "id": "TEg2dhXRYGGx"
      },
      "execution_count": null,
      "outputs": []
    },
    {
      "cell_type": "code",
      "source": [
        "with open('/content/drive/MyDrive/seol/test/hsv-v2.txt', 'r') as f:\n",
        "    hsv_lst = f.readlines()\n",
        "\n",
        "dataset = []\n",
        "color_lst=[]\n",
        "for i in range(0,len(hsv_lst)):\n",
        "  num=int(hsv_lst[i].split(' ')[1])\n",
        "  h=float(hsv_lst[i].split(' ')[2])\n",
        "  s=float(hsv_lst[i].split(' ')[3])\n",
        "  v=float(hsv_lst[i].split(' ')[4])\n",
        "  color_label=hsv_lst[i].split(' ')[5][:-1]\n",
        "\n",
        "  # color_lst.append(color_label)\n",
        "\n",
        "  if(color_label=='blac'): color_label='black'\n",
        "  elif(color_label=='blu'): color_label='blue'\n",
        "  elif(color_label=='gree'): color_label='green'\n",
        "  elif(color_label=='purpl'): color_label='purple'\n",
        "\n",
        "  color_lst.append(color_label)\n",
        "  # elif(color_label=='purpl'): print(num)\n",
        "  # elif(color_label=='pin'): color_label='pink'\n",
        "\n",
        "  # if(color_label=='gray'):\n",
        "  #   rgb_color = hsv_to_rgb(h, s, v)\n",
        "\n",
        "  #   plt.imshow([[(rgb_color[0]/255, rgb_color[1]/255, rgb_color[2]/255)]])\n",
        "  #   plt.title(f\"Hue={h}, Saturation={s}, Value={v}\")\n",
        "  #   plt.axis('off')\n",
        "\n",
        "  #   plt.savefig('/content/drive/MyDrive/seol/test/hsv/gray/%d.png'%(num))\n",
        "    # print(num)\n",
        "\n",
        "  rgb=d[color_label]\n",
        "\n",
        "  dataset.append(([h, s, v], rgb))\n"
      ],
      "metadata": {
        "id": "8CxfK63nWs9W"
      },
      "execution_count": null,
      "outputs": []
    },
    {
      "cell_type": "code",
      "source": [
        "with open('/content/drive/MyDrive/seol/test/hsv-val.txt', 'r') as f:\n",
        "    hsv_lst = f.readlines()\n",
        "\n",
        "val_dataset = []\n",
        "color_lst=[]\n",
        "for i in range(0,len(hsv_lst)):\n",
        "  num=int(hsv_lst[i].split(' ')[1][:-1])\n",
        "  h=float(hsv_lst[i].split(' ')[2])\n",
        "  s=float(hsv_lst[i].split(' ')[3])\n",
        "  v=float(hsv_lst[i].split(' ')[4])\n",
        "  color_label=hsv_lst[i].split(' ')[5][:-1]\n",
        "\n",
        "  if(color_label=='blac'): color_label='black'\n",
        "  elif(color_label=='blu'): color_label='blue'\n",
        "  elif(color_label=='gree'): color_label='green'\n",
        "  elif(color_label=='purpl'): color_label='purple'\n",
        "\n",
        "  color_lst.append(color_label)\n",
        "  rgb=d[color_label]\n",
        "\n",
        "  val_dataset.append(([h, s, v], rgb))\n"
      ],
      "metadata": {
        "id": "_T-ASZNjQd_3"
      },
      "execution_count": null,
      "outputs": []
    },
    {
      "cell_type": "code",
      "source": [
        "color_set=set(color_lst)\n",
        "len(color_set)"
      ],
      "metadata": {
        "colab": {
          "base_uri": "https://localhost:8080/"
        },
        "id": "XEsMOe8shSK2",
        "outputId": "14a72ec0-b137-4630-bf6b-d98021ed6948"
      },
      "execution_count": null,
      "outputs": [
        {
          "output_type": "execute_result",
          "data": {
            "text/plain": [
              "13"
            ]
          },
          "metadata": {},
          "execution_count": 13
        }
      ]
    },
    {
      "cell_type": "code",
      "source": [
        "with open('/content/drive/MyDrive/seol/test/hsv-red.txt', 'r') as f:\n",
        "    hsv_lst = f.readlines()\n",
        "\n",
        "# dataset = []\n",
        "# color_lst=[]\n",
        "for i in range(0,len(hsv_lst)):\n",
        "  num=int(hsv_lst[i].split(' ')[1][:-1])\n",
        "  h=float(hsv_lst[i].split(' ')[2])\n",
        "  s=float(hsv_lst[i].split(' ')[3])\n",
        "  v=float(hsv_lst[i].split(' ')[4])\n",
        "  color_label=hsv_lst[i].split(' ')[5][:-1]\n",
        "\n",
        "  # if(color_label=='gree'): color_label='green'\n",
        "  if(color_label=='re'): color_label='red'\n",
        "  elif(color_label=='pin'): color_label='pink'\n",
        "  elif(color_label=='whit'): color_label='white'\n",
        "\n",
        "  # if(color_label=='gray'):\n",
        "  #   rgb_color = hsv_to_rgb(h, s, v)\n",
        "\n",
        "  #   plt.imshow([[(rgb_color[0]/255, rgb_color[1]/255, rgb_color[2]/255)]])\n",
        "  #   plt.title(f\"Hue={h}, Saturation={s}, Value={v}\")\n",
        "  #   plt.axis('off')\n",
        "\n",
        "  #   plt.savefig('/content/drive/MyDrive/seol/test/hsv/gray/r-%d.png'%(num))\n",
        "    # print(num)\n",
        "\n",
        "  rgb=d[color_label]\n",
        "\n",
        "  dataset.append(([h, s, v], rgb))\n"
      ],
      "metadata": {
        "id": "WW_HfuC-3EYl"
      },
      "execution_count": null,
      "outputs": []
    },
    {
      "cell_type": "markdown",
      "source": [
        "## HSV regression model train"
      ],
      "metadata": {
        "id": "e4wk2mYeWG4H"
      }
    },
    {
      "cell_type": "markdown",
      "source": [
        "### train"
      ],
      "metadata": {
        "id": "S7i_x4gocYur"
      }
    },
    {
      "cell_type": "code",
      "source": [
        "import tensorflow as tf\n",
        "from tensorflow.keras.callbacks import ModelCheckpoint\n",
        "import numpy as np\n",
        "import matplotlib.pyplot as plt\n",
        "\n",
        "# 데이터 전처리\n",
        "X = np.array([data[0] for data in dataset], dtype=np.float32)\n",
        "y = np.array([data[1] for data in dataset], dtype=np.int32)\n",
        "\n",
        "# 모델 정의\n",
        "model = tf.keras.Sequential([\n",
        "    tf.keras.layers.Dense(64, activation='relu', input_shape=(3,)),\n",
        "    tf.keras.layers.Dense(128, activation='relu'),\n",
        "    tf.keras.layers.Dense(64, activation='relu'),\n",
        "    tf.keras.layers.Dense(32, activation='relu'),\n",
        "    tf.keras.layers.Dense(16, activation='relu'),  # 새로운 레이어 추가\n",
        "    tf.keras.layers.Dense(13, activation='softmax')\n",
        "])\n",
        "\n",
        "# 모델 컴파일\n",
        "model.compile(optimizer='adam', loss='sparse_categorical_crossentropy', metrics=['accuracy'])\n",
        "\n",
        "# ModelCheckpoint 콜백 설정\n",
        "checkpoint_filepath = '/content/drive/MyDrive/seol/ckpt/color_regression_fin-t.h5'\n",
        "model_checkpoint_callback = ModelCheckpoint(\n",
        "    filepath=checkpoint_filepath,\n",
        "    save_best_only=True,\n",
        "    monitor='accuracy',\n",
        "    mode='max',\n",
        "    verbose=1\n",
        ")\n",
        "\n",
        "# 모델 훈련\n",
        "history = model.fit(X, y, epochs=500, batch_size=32, callbacks=[model_checkpoint_callback])\n",
        "\n",
        "# 학습 곡선 그리기\n",
        "plt.figure(figsize=(12, 4))\n",
        "\n",
        "# 정확도 그래프\n",
        "plt.subplot(1, 2, 1)\n",
        "plt.plot(history.history['accuracy'], label='accuracy')\n",
        "plt.title('Model Accuracy')\n",
        "plt.xlabel('Epoch')\n",
        "plt.ylabel('Accuracy')\n",
        "plt.legend(loc='lower right')\n",
        "\n",
        "# 손실 그래프\n",
        "plt.subplot(1, 2, 2)\n",
        "plt.plot(history.history['loss'], label='loss')\n",
        "plt.title('Model Loss')\n",
        "plt.xlabel('Epoch')\n",
        "plt.ylabel('Loss')\n",
        "plt.legend(loc='upper right')\n",
        "\n",
        "plt.tight_layout()\n",
        "plt.show()\n"
      ],
      "metadata": {
        "id": "vJJkw6wFYHR2"
      },
      "execution_count": null,
      "outputs": []
    },
    {
      "cell_type": "code",
      "source": [
        "loaded_model = tf.keras.models.load_model('/content/drive/MyDrive/seol/ckpt/color_regression_fin.h5')\n",
        "\n",
        "sample_hue = 200\n",
        "sample_saturation = 0.6\n",
        "sample_value = 0.8\n",
        "sample_hsv = np.array([[sample_hue, sample_saturation, sample_value]], dtype=np.float32)\n",
        "predicted_color_probs = loaded_model.predict(sample_hsv)\n",
        "predicted_color_label = np.argmax(predicted_color_probs)\n",
        "\n",
        "print(f\"Predicted color for HSV ({sample_hue}, {sample_saturation}, {sample_value}): {predicted_color_label}\")"
      ],
      "metadata": {
        "colab": {
          "base_uri": "https://localhost:8080/"
        },
        "id": "NfEvD1FRm9Xt",
        "outputId": "6196cc7f-b4e5-4738-b0f3-b317bc8dc4aa"
      },
      "execution_count": null,
      "outputs": [
        {
          "output_type": "stream",
          "name": "stdout",
          "text": [
            "1/1 [==============================] - 0s 91ms/step\n",
            "Predicted color for HSV (200, 0.6, 0.8): 2\n"
          ]
        }
      ]
    },
    {
      "cell_type": "markdown",
      "source": [
        "### model 저장"
      ],
      "metadata": {
        "id": "2LkVGp_ocbD8"
      }
    },
    {
      "cell_type": "code",
      "source": [
        "# 모델 저장하기\n",
        "model.save('/content/drive/MyDrive/seol/ckpt/color_regression-t.h5')"
      ],
      "metadata": {
        "id": "UWfWEKIyZFiv"
      },
      "execution_count": null,
      "outputs": []
    },
    {
      "cell_type": "markdown",
      "source": [
        "## HSV predict"
      ],
      "metadata": {
        "id": "IR_nd7JTcJW6"
      }
    },
    {
      "cell_type": "markdown",
      "source": [
        "### predict"
      ],
      "metadata": {
        "id": "pbOZFjfOcRjx"
      }
    },
    {
      "cell_type": "code",
      "source": [
        "import colorsys\n",
        "import numpy as np\n",
        "import tensorflow as tf\n",
        "\n",
        "def rgb_to_hsv(r, g, b):\n",
        "    r /= 255.0\n",
        "    g /= 255.0\n",
        "    b /= 255.0\n",
        "    h, s, v = colorsys.rgb_to_hsv(r, g, b)\n",
        "    h *= 360.0  # HSV의 색상 값은 0~360 사이의 값으로 표현됩니다.\n",
        "    return h, s, v\n",
        "\n",
        "for i in range(0,len(rgb_lst)):\n",
        "  r=rgb_lst[i][0]\n",
        "  g=rgb_lst[i][1]\n",
        "  b=rgb_lst[i][2]\n",
        "\n",
        "  # RGB를 HSV로 변환\n",
        "  h, s, v = rgb_to_hsv(r, g, b)\n",
        "\n",
        "  # orange -> brown 으로 인식. brown 수정\n",
        "  sample_hue = round(h,2) # 예시로 Hue 값을 180으로 설정\n",
        "  sample_saturation = round(s,2)\n",
        "  sample_value = round(v,2)\n",
        "\n",
        "  loaded_model = tf.keras.models.load_model('/content/drive/MyDrive/seol/ckpt/color_regression_fin.h5')\n",
        "  sample_hsv = np.array([[sample_hue, sample_saturation, sample_value]], dtype=np.float32)\n",
        "  predicted_color_probs = loaded_model.predict(sample_hsv)\n",
        "  predicted_color_label = np.argmax(predicted_color_probs)\n",
        "\n",
        "  print(f\"Predicted color for HSV ({sample_hue}, {sample_saturation}, {sample_value}): {predicted_color_label}\")\n",
        "\n",
        "  rgb_color = hsv_to_rgb(sample_hue, sample_saturation, sample_value)\n",
        "\n",
        "  plt.imshow([[(rgb_color[0]/255, rgb_color[1]/255, rgb_color[2]/255)]])\n",
        "  plt.title(f\"Hue={sample_hue}, Saturation={sample_saturation}, Value={sample_value}\")\n",
        "  plt.axis('off')\n",
        "\n",
        "  plt.savefig('/content/drive/MyDrive/seol/test/hsv/img/%d.png'%(i))\n",
        "\n",
        "\n",
        "# 6: d = {'apricot': 0, 'black': 1, 'blue': 2, 'brown': 3, 'gray': 4, 'green': 5, 'mint': 6, 'orange': 7, 'pink': 8, 'plum': 9, 'purple': 10, 'red': 11, 'white': 12, 'yellow': 13}\n",
        "\n",
        "\n"
      ],
      "metadata": {
        "id": "B3027zX0Vds1"
      },
      "execution_count": null,
      "outputs": []
    },
    {
      "cell_type": "markdown",
      "source": [
        "#### confusin matrix"
      ],
      "metadata": {
        "id": "iDOYu-tudD-h"
      }
    },
    {
      "cell_type": "code",
      "source": [
        "from sklearn.metrics import confusion_matrix\n",
        "import seaborn as sns\n",
        "import numpy as np\n",
        "import tensorflow as tf\n",
        "import colorsys\n",
        "import matplotlib.pyplot as plt\n",
        "\n",
        "loaded_model = tf.keras.models.load_model('/content/drive/MyDrive/seol/ckpt/color_regression_fin.h5')\n",
        "\n",
        "# 검증 데이터 가져오기\n",
        "X_val = np.array([data[0] for data in val_dataset], dtype=np.float32)\n",
        "y_val = np.array([data[1] for data in val_dataset], dtype=np.int32)\n",
        "\n",
        "# 모델에 검증 데이터 입력하여 예측값 얻기\n",
        "y_pred = loaded_model.predict(X_val)\n",
        "y_pred_classes = np.argmax(y_pred, axis=1)  # 각 데이터 포인트에 대한 클래스 예측값\n",
        "\n",
        "# Confusion Matrix 계산\n",
        "confusion_mtx = confusion_matrix(y_val, y_pred_classes)\n",
        "\n",
        "# Confusion Matrix 시각화\n",
        "plt.figure(figsize=(10, 8))\n",
        "sns.heatmap(confusion_mtx, annot=True, fmt='d', cmap='Blues', cbar=False)\n",
        "plt.xlabel('Predicted')\n",
        "plt.ylabel('True')\n",
        "plt.title('Confusion Matrix')\n",
        "plt.show()\n"
      ],
      "metadata": {
        "colab": {
          "base_uri": "https://localhost:8080/",
          "height": 736
        },
        "id": "pe-4Y56sQPYi",
        "outputId": "d46b0def-6c0d-4f94-fd06-908fe60bdff8"
      },
      "execution_count": null,
      "outputs": [
        {
          "output_type": "stream",
          "name": "stdout",
          "text": [
            "4/4 [==============================] - 0s 2ms/step\n"
          ]
        },
        {
          "output_type": "display_data",
          "data": {
            "text/plain": [
              "<Figure size 1000x800 with 1 Axes>"
            ],
            "image/png": "[encoded data removed]"
          },
          "metadata": {}
        }
      ]
    }
  ]
}