{
  "nbformat": 4,
  "nbformat_minor": 0,
  "metadata": {
    "colab": {
      "provenance": [],
      "mount_file_id": "1IuAKdmuZ6x0CS-mGwAkRvSHgk-MOODi9",
      "authorship_tag": "ABX9TyO8A+s5sKKpFgdLz7MzvbUG",
      "include_colab_link": true
    },
    "kernelspec": {
      "name": "python3",
      "display_name": "Python 3"
    },
    "language_info": {
      "name": "python"
    }
  },
  "cells": [
    {
      "cell_type": "markdown",
      "metadata": {
        "id": "view-in-github",
        "colab_type": "text"
      },
      "source": [
        "<a href=\"https://colab.research.google.com/github/dakyommii/MinhwaProject/blob/main/minhwa-explanation/train/hsv_classification_model_train.ipynb\" target=\"_parent\"><img src=\"https://colab.research.google.com/assets/colab-badge.svg\" alt=\"Open In Colab\"/></a>"
      ]
    },
    {
      "cell_type": "markdown",
      "source": [
        "## HSV 생성"
      ],
      "metadata": {
        "id": "C9AWoBM65e0C"
      }
    },
    {
      "cell_type": "code",
      "source": [
        "import numpy as np\n",
        "import colorsys\n",
        "import matplotlib.pyplot as plt\n",
        "import tensorflow as tf\n",
        "from sklearn.metrics import confusion_matrix\n",
        "import seaborn as sns"
      ],
      "metadata": {
        "id": "JyTsqudlygcF"
      },
      "execution_count": 40,
      "outputs": []
    },
    {
      "cell_type": "code",
      "source": [
        "# import random\n",
        "\n",
        "# def random_hsv():\n",
        "#     hue = random.uniform(0, 360)  # Hue 범위: 0 ~ 360\n",
        "#     saturation = random.uniform(0, 1)  # Saturation 범위: 0 ~ 1\n",
        "#     value = random.uniform(0, 1)  # Value 범위: 0 ~ 1\n",
        "#     return hue, saturation, value\n",
        "\n",
        "# num_samples = 1000\n",
        "# random_hsv_list = []\n",
        "\n",
        "# for _ in range(num_samples):\n",
        "#     hue, saturation, value = random_hsv()\n",
        "#     random_hsv_list.append((hue, saturation, value))\n",
        "\n",
        "# print(\"Random HSV values for 1000 samples:\")\n",
        "\n",
        "# f=open(\"/content/drive/MyDrive/seol/test/hsv-val-test.txt\",'w')\n",
        "# for idx, (hue, saturation, value) in enumerate(random_hsv_list, start=1):\n",
        "#     # print(f\"Sample {idx}: Hue={hue:.2f}, Saturation={saturation:.2f}, Value={value:.2f}\")\n",
        "#     f.write(f\"Sample {idx}: {hue:.2f} {saturation:.2f} {value:.2f}\\n\")\n",
        "\n",
        "# f.close()"
      ],
      "metadata": {
        "colab": {
          "base_uri": "https://localhost:8080/"
        },
        "id": "s1C5Lp2F5hD0",
        "outputId": "9b45b20c-09d0-4151-c03c-ae0f51a648dd"
      },
      "execution_count": null,
      "outputs": [
        {
          "output_type": "stream",
          "name": "stdout",
          "text": [
            "Random HSV values for 1000 samples:\n"
          ]
        }
      ]
    },
    {
      "cell_type": "markdown",
      "source": [
        "### train dataset 생성"
      ],
      "metadata": {
        "id": "8XSQCsAgeIs0"
      }
    },
    {
      "cell_type": "code",
      "source": [
        "num_samples = 1000\n",
        "\n",
        "# H, S, V 값 범위 정의\n",
        "hue_range = [0, 360]\n",
        "saturation_range = [0, 1]\n",
        "value_range = [0, 1]\n",
        "\n",
        "# H, S, V 값을 균등하게 나눈 후의 단계 수 계산\n",
        "num_hue_steps = int(np.ceil(num_samples ** (1/3)))\n",
        "num_saturation_steps = int(np.ceil(num_samples ** (1/3)))\n",
        "num_value_steps = int(np.ceil(num_samples ** (1/3)))\n",
        "\n",
        "# 균등하게 나눈 값 생성\n",
        "hue_values = np.linspace(hue_range[0], hue_range[1], num_hue_steps)\n",
        "saturation_values = np.linspace(saturation_range[0], saturation_range[1], num_saturation_steps)\n",
        "value_values = np.linspace(value_range[0], value_range[1], num_value_steps)\n",
        "\n",
        "# 가능한 모든 조합 생성\n",
        "hsv_values = []\n",
        "for hue in hue_values:\n",
        "    for saturation in saturation_values:\n",
        "        for value in value_values:\n",
        "            hsv_values.append([hue, saturation, value])\n",
        "\n",
        "# 필요한 조합만 추출하여 중복 제거\n",
        "hsv_values = np.unique(np.around(hsv_values, decimals=2), axis=0)\n",
        "\n",
        "# 만약 조합 개수가 1000개를 초과한다면, 처음 1000개만 선택\n",
        "if len(hsv_values) > num_samples:\n",
        "    hsv_values = hsv_values[:num_samples]\n",
        "\n",
        "# 생성된 HSV 값을 출력\n",
        "f=open(\"/content/drive/MyDrive/seol/test/hsv-test-ds.txt\",'w')\n",
        "for index, hsv in enumerate(hsv_values):\n",
        "    f.write(f\"HSV {index} {hsv[0]} {hsv[1]} {hsv[2]}\\n\")\n",
        "\n",
        "f.close()\n"
      ],
      "metadata": {
        "id": "8xEfojNWGaH7"
      },
      "execution_count": null,
      "outputs": []
    },
    {
      "cell_type": "markdown",
      "source": [
        "### val dataset 생성"
      ],
      "metadata": {
        "id": "gBthzYwMeRok"
      }
    },
    {
      "cell_type": "code",
      "source": [
        "# import numpy as np\n",
        "\n",
        "# def generate_random_purple_hsv():\n",
        "#     hue_range = (270, 300)  # Purple 색상의 hue 범위를 270에서 300으로 설정\n",
        "#     random_hue = np.random.uniform(hue_range[0], hue_range[1])\n",
        "#     random_saturation = np.random.uniform(0, 1)\n",
        "#     random_value = np.random.uniform(0, 1)\n",
        "#     return random_hue, random_saturation, random_value\n",
        "\n",
        "# num_samples = 10\n",
        "\n",
        "# purple_hsv_values = [generate_random_purple_hsv() for _ in range(num_samples)]\n",
        "\n",
        "# f=open(\"/content/drive/MyDrive/seol/test/hsv-purple.txt\",'w')\n",
        "# for idx, (hue, saturation, value) in enumerate(purple_hsv_values, start=1):\n",
        "#     f.write(f\"9 {230+idx}: {hue:.2f} {saturation:.2f} {value:.2f}\\n\")\n",
        "#     # print(f\"Sample {idx}: {hue:.2f} {saturation:.2f} {value:.2f}\\n\")\n",
        "\n",
        "# f.close()\n"
      ],
      "metadata": {
        "id": "mz4zkacoxhgW"
      },
      "execution_count": null,
      "outputs": []
    },
    {
      "cell_type": "code",
      "source": [
        "# import numpy as np\n",
        "\n",
        "# def generate_random_red_hsv():\n",
        "#     hue_range = (0, 10)  # 빨간색의 색상 범위\n",
        "#     random_hue = np.random.uniform(hue_range[0], hue_range[1])\n",
        "#     random_saturation = np.random.uniform(0.7, 1)  # 포화도를 높게 설정\n",
        "#     random_value = np.random.uniform(0.5, 1)      # 명도를 높게 설정\n",
        "#     return random_hue, random_saturation, random_value\n",
        "\n",
        "\n",
        "# num_samples = 200\n",
        "\n",
        "# red_hsv_values = [generate_random_red_hsv() for _ in range(num_samples)]\n",
        "\n",
        "# f=open(\"/content/drive/MyDrive/seol/test/hsv-red.txt\",'w')\n",
        "# for idx, (hue, saturation, value) in enumerate(red_hsv_values, start=1):\n",
        "#     f.write(f\"10 {idx}: {hue:.2f} {saturation:.2f} {value:.2f}\\n\")\n",
        "\n",
        "# f.close()"
      ],
      "metadata": {
        "id": "ygx0edXRJROM"
      },
      "execution_count": null,
      "outputs": []
    },
    {
      "cell_type": "code",
      "source": [
        "# def generate_random_white_hsv():\n",
        "#     random_hue = np.random.uniform(0, 360)  # 0부터 360 범위 내에서 랜덤으로 hue 값 생성\n",
        "#     random_saturation = np.random.uniform(0, 0.1)  # 낮은 saturation 값으로 \"white\" 효과 생성\n",
        "#     random_value = np.random.uniform(0.9, 1)  # 높은 value 값으로 밝은 색상 생성\n",
        "#     return random_hue, random_saturation, random_value\n",
        "\n",
        "# num_samples = 200\n",
        "\n",
        "# white_hsv_values = [generate_random_white_hsv() for _ in range(num_samples)]\n",
        "\n",
        "# f=open(\"/content/drive/MyDrive/seol/test/hsv-white.txt\",'w')\n",
        "# for idx, (hue, saturation, value) in enumerate(white_hsv_values, start=1):\n",
        "#     f.write(f\"11 {idx}: {hue:.2f} {saturation:.2f} {value:.2f}\\n\")\n",
        "\n",
        "# f.close()\n"
      ],
      "metadata": {
        "id": "hiNABPjrRqAR"
      },
      "execution_count": null,
      "outputs": []
    },
    {
      "cell_type": "code",
      "source": [
        "# def generate_random_beige():\n",
        "#     hue_range = (20, 40)  # \"dark red\"와 \"red\" 사이의 hue 범위를 설정\n",
        "#     random_hue = np.random.uniform(hue_range[0], hue_range[1])\n",
        "#     random_saturation = np.random.uniform(0.1, 0.3)  # 중간 정도의 saturation 값\n",
        "#     random_value = np.random.uniform(0.88, 1)  # 작은 value 값으로 \"dark red\" 효과 생성\n",
        "#     return random_hue, random_saturation, random_value\n",
        "\n",
        "# num_samples = 200\n",
        "\n",
        "# beige_hsv_values = [generate_random_beige() for _ in range(num_samples)]\n",
        "\n",
        "# f=open(\"/content/drive/MyDrive/seol/test/hsv-beige.txt\",'w')\n",
        "# for idx, (hue, saturation, value) in enumerate(beige_hsv_values, start=1):\n",
        "#     f.write(f\"0 {idx}: {hue:.2f} {saturation:.2f} {value:.2f}\\n\")\n",
        "\n",
        "# f.close()\n"
      ],
      "metadata": {
        "id": "ikD8EXyfeqix"
      },
      "execution_count": null,
      "outputs": []
    },
    {
      "cell_type": "code",
      "source": [
        "# def generate_random_black():\n",
        "#     hue_range = (0, 360)  # \"dark red\"와 \"red\" 사이의 hue 범위를 설정\n",
        "#     random_hue = np.random.uniform(hue_range[0], hue_range[1])\n",
        "#     random_saturation = np.random.uniform(0, 0.2)  # 중간 정도의 saturation 값\n",
        "#     random_value = np.random.uniform(0, 0.2)  # 작은 value 값으로 \"dark red\" 효과 생성\n",
        "#     return random_hue, random_saturation, random_value\n",
        "\n",
        "# num_samples = 200\n",
        "\n",
        "# black_hsv_values = [generate_random_black() for _ in range(num_samples)]\n",
        "\n",
        "# f=open(\"/content/drive/MyDrive/seol/test/hsv-black.txt\",'w')\n",
        "# for idx, (hue, saturation, value) in enumerate(black_hsv_values, start=1):\n",
        "#     f.write(f\"1 {idx}: {hue:.2f} {saturation:.2f} {value:.2f}\\n\")\n",
        "\n",
        "# f.close()\n"
      ],
      "metadata": {
        "id": "jmTCSQy9xewS"
      },
      "execution_count": null,
      "outputs": []
    },
    {
      "cell_type": "code",
      "source": [
        "# def generate_random_blue():\n",
        "#     hue_range = (210, 270)  # \"dark red\"와 \"red\" 사이의 hue 범위를 설정\n",
        "#     random_hue = np.random.uniform(hue_range[0], hue_range[1])\n",
        "#     random_saturation = np.random.uniform(0.7, 1)  # 중간 정도의 saturation 값\n",
        "#     random_value = np.random.uniform(0.3, 1)  # 작은 value 값으로 \"dark red\" 효과 생성\n",
        "#     return random_hue, random_saturation, random_value\n",
        "\n",
        "# num_samples = 200\n",
        "\n",
        "# blue_hsv_values = [generate_random_blue() for _ in range(num_samples)]\n",
        "\n",
        "# f=open(\"/content/drive/MyDrive/seol/test/hsv-blue.txt\",'w')\n",
        "# for idx, (hue, saturation, value) in enumerate(blue_hsv_values, start=1):\n",
        "#     f.write(f\"2 {idx}: {hue:.2f} {saturation:.2f} {value:.2f}\\n\")\n",
        "\n",
        "# f.close()\n"
      ],
      "metadata": {
        "id": "63n_JJKcyBnv"
      },
      "execution_count": null,
      "outputs": []
    },
    {
      "cell_type": "code",
      "source": [
        "# def generate_random_brown():\n",
        "#     hue_range = (15, 45)  # \"dark red\"와 \"red\" 사이의 hue 범위를 설정\n",
        "#     random_hue = np.random.uniform(hue_range[0], hue_range[1])\n",
        "#     random_saturation = np.random.uniform(0.4, 0.7)  # 중간 정도의 saturation 값\n",
        "#     random_value = np.random.uniform(0.3, 0.5)  # 작은 value 값으로 \"dark red\" 효과 생성\n",
        "#     return random_hue, random_saturation, random_value\n",
        "\n",
        "# num_samples = 200\n",
        "\n",
        "# brown_hsv_values = [generate_random_brown() for _ in range(num_samples)]\n",
        "\n",
        "# f=open(\"/content/drive/MyDrive/seol/test/hsv-brown.txt\",'w')\n",
        "# for idx, (hue, saturation, value) in enumerate(brown_hsv_values, start=1):\n",
        "#     f.write(f\"2 {idx}: {hue:.2f} {saturation:.2f} {value:.2f}\\n\")\n",
        "\n",
        "# f.close()\n"
      ],
      "metadata": {
        "id": "5jAee9wF4PUZ"
      },
      "execution_count": null,
      "outputs": []
    },
    {
      "cell_type": "code",
      "source": [
        "# def generate_random_gray():\n",
        "#     hue_range = (0, 360)  # \"dark red\"와 \"red\" 사이의 hue 범위를 설정\n",
        "#     random_hue = np.random.uniform(hue_range[0], hue_range[1])\n",
        "#     random_saturation = np.random.uniform(0, 0.1)  # 중간 정도의 saturation 값\n",
        "#     random_value = np.random.uniform(0.25, 0.6)  # 작은 value 값으로 \"dark red\" 효과 생성\n",
        "#     return random_hue, random_saturation, random_value\n",
        "\n",
        "# num_samples = 200\n",
        "\n",
        "# gray_hsv_values = [generate_random_gray() for _ in range(num_samples)]\n",
        "\n",
        "# f=open(\"/content/drive/MyDrive/seol/test/hsv-gray.txt\",'w')\n",
        "# for idx, (hue, saturation, value) in enumerate(gray_hsv_values, start=1):\n",
        "#     f.write(f\"4 {idx}: {hue:.2f} {saturation:.2f} {value:.2f}\\n\")\n",
        "\n",
        "# f.close()\n"
      ],
      "metadata": {
        "id": "-whiJ6XK_YHG"
      },
      "execution_count": null,
      "outputs": []
    },
    {
      "cell_type": "code",
      "source": [
        "# def generate_random_green():\n",
        "#     hue_range = (90, 150)  # \"dark red\"와 \"red\" 사이의 hue 범위를 설정\n",
        "#     random_hue = np.random.uniform(hue_range[0], hue_range[1])\n",
        "#     random_saturation = np.random.uniform(0.4, 0.7)  # 중간 정도의 saturation 값\n",
        "#     random_value = np.random.uniform(0.4, 0.7)  # 작은 value 값으로 \"dark red\" 효과 생성\n",
        "#     return random_hue, random_saturation, random_value\n",
        "\n",
        "# num_samples = 200\n",
        "\n",
        "# green_hsv_values = [generate_random_green() for _ in range(num_samples)]\n",
        "\n",
        "# f=open(\"/content/drive/MyDrive/seol/test/hsv-green.txt\",'w')\n",
        "# for idx, (hue, saturation, value) in enumerate(green_hsv_values, start=1):\n",
        "#     f.write(f\"5 {idx}: {hue:.2f} {saturation:.2f} {value:.2f}\\n\")\n",
        "\n",
        "# f.close()\n"
      ],
      "metadata": {
        "id": "vbSkgYjrKdHl"
      },
      "execution_count": null,
      "outputs": []
    },
    {
      "cell_type": "code",
      "source": [
        "# def generate_random_mint():\n",
        "#     hue_range = (140, 160)  # \"dark red\"와 \"red\" 사이의 hue 범위를 설정\n",
        "#     random_hue = np.random.uniform(hue_range[0], hue_range[1])\n",
        "#     random_saturation = np.random.uniform(0.2, 0.5)  # 중간 정도의 saturation 값\n",
        "#     random_value = np.random.uniform(0.8, 1)  # 작은 value 값으로 \"dark red\" 효과 생성\n",
        "#     return random_hue, random_saturation, random_value\n",
        "\n",
        "# num_samples = 200\n",
        "\n",
        "# mint_hsv_values = [generate_random_mint() for _ in range(num_samples)]\n",
        "\n",
        "# f=open(\"/content/drive/MyDrive/seol/test/hsv-mint.txt\",'w')\n",
        "# for idx, (hue, saturation, value) in enumerate(mint_hsv_values, start=1):\n",
        "#     f.write(f\"6 {idx}: {hue:.2f} {saturation:.2f} {value:.2f}\\n\")\n",
        "\n",
        "# f.close()\n"
      ],
      "metadata": {
        "id": "FQ105NFJtFeq"
      },
      "execution_count": null,
      "outputs": []
    },
    {
      "cell_type": "code",
      "source": [
        "# def generate_random_pink_hsv():\n",
        "#     hue_range = (310, 345)  # \"dark red\"와 \"red\" 사이의 hue 범위를 설정\n",
        "#     random_hue = np.random.uniform(hue_range[0], hue_range[1])\n",
        "#     random_saturation = np.random.uniform(0.4, 0.6)  # 중간 정도의 saturation 값\n",
        "#     random_value = np.random.uniform(0.8, 1)  # 작은 value 값으로 \"dark red\" 효과 생성\n",
        "#     return random_hue, random_saturation, random_value\n",
        "\n",
        "# num_samples = 200\n",
        "\n",
        "# pink_hsv_values = [generate_random_pink_hsv() for _ in range(num_samples)]\n",
        "\n",
        "# f=open(\"/content/drive/MyDrive/seol/test/hsv-pink.txt\",'w')\n",
        "# for idx, (hue, saturation, value) in enumerate(pink_hsv_values, start=1):\n",
        "#     f.write(f\"7 {idx}: {hue:.2f} {saturation:.2f} {value:.2f}\\n\")\n",
        "\n",
        "# f.close()\n"
      ],
      "metadata": {
        "id": "TCPwe1grpvhN"
      },
      "execution_count": 2,
      "outputs": []
    },
    {
      "cell_type": "code",
      "source": [
        "# def generate_random_plum_hsv():\n",
        "#     hue_range = (300, 345)\n",
        "#     random_hue = np.random.uniform(hue_range[0], hue_range[1])\n",
        "#     random_saturation = np.random.uniform(0.5, 0.7)  # 중간 정도의 saturation 값\n",
        "#     random_value = np.random.uniform(0.4, 0.6)  # 작은 value 값으로 \"dark red\" 효과 생성\n",
        "#     return random_hue, random_saturation, random_value\n",
        "\n",
        "# num_samples = 200\n",
        "\n",
        "# plum_hsv_values = [generate_random_plum_hsv() for _ in range(num_samples)]\n",
        "\n",
        "# f=open(\"/content/drive/MyDrive/seol/test/hsv-plum.txt\",'w')\n",
        "# for idx, (hue, saturation, value) in enumerate(plum_hsv_values, start=1):\n",
        "#     f.write(f\"8 {idx}: {hue:.2f} {saturation:.2f} {value:.2f}\\n\")\n",
        "\n",
        "# f.close()\n"
      ],
      "metadata": {
        "id": "V2YKVwLujvSZ"
      },
      "execution_count": 8,
      "outputs": []
    },
    {
      "cell_type": "code",
      "source": [
        "# def generate_random_yellow_hsv():\n",
        "#     hue_range = (55, 60)\n",
        "#     random_hue = np.random.uniform(hue_range[0], hue_range[1])\n",
        "#     random_saturation = np.random.uniform(0.8, 1)  # 중간 정도의 saturation 값\n",
        "#     random_value = np.random.uniform(0.8, 1)  # 작은 value 값으로 \"dark red\" 효과 생성\n",
        "#     return random_hue, random_saturation, random_value\n",
        "\n",
        "# num_samples = 200\n",
        "\n",
        "# yellow_hsv_values = [generate_random_yellow_hsv() for _ in range(num_samples)]\n",
        "\n",
        "# f=open(\"/content/drive/MyDrive/seol/test/hsv-yellow.txt\",'w')\n",
        "# for idx, (hue, saturation, value) in enumerate(yellow_hsv_values, start=1):\n",
        "#     f.write(f\"8 {idx}: {hue:.2f} {saturation:.2f} {value:.2f}\\n\")\n",
        "\n",
        "# f.close()\n"
      ],
      "metadata": {
        "id": "ncL9-Nc1LLjT"
      },
      "execution_count": 14,
      "outputs": []
    },
    {
      "cell_type": "markdown",
      "source": [
        "## color image 저장"
      ],
      "metadata": {
        "id": "SMIdwPbWWYfd"
      }
    },
    {
      "cell_type": "code",
      "source": [
        "def hsv_to_rgb(h, s, v):\n",
        "    rgb = colorsys.hsv_to_rgb(h / 360, s, v)\n",
        "    return tuple(int(val * 255) for val in rgb)"
      ],
      "metadata": {
        "id": "IHrEuED2hgN6"
      },
      "execution_count": 4,
      "outputs": []
    },
    {
      "cell_type": "code",
      "source": [
        "# with open('/content/drive/MyDrive/seol/test/hsv-yellow.txt', 'r') as f:\n",
        "#     hsv_lst = f.readlines()\n",
        "\n",
        "# for i in range(0,len(hsv_lst)):\n",
        "#   num=int(hsv_lst[i].split(' ')[1][:-1])\n",
        "#   h=float(hsv_lst[i].split(' ')[2])\n",
        "#   s=float(hsv_lst[i].split(' ')[3])\n",
        "#   v=float(hsv_lst[i].split(' ')[4])\n",
        "\n",
        "#   rgb_color = hsv_to_rgb(h, s, v)\n",
        "\n",
        "#   plt.imshow([[(rgb_color[0]/255, rgb_color[1]/255, rgb_color[2]/255)]])\n",
        "#   plt.title(f\"Hue={h}, Saturation={s}, Value={v}\")\n",
        "#   plt.axis('off')\n",
        "\n",
        "#   plt.savefig('/content/drive/MyDrive/seol/test/hsv/add/%d.png'%(num))\n"
      ],
      "metadata": {
        "id": "1ojOhLuvn3z9"
      },
      "execution_count": 32,
      "outputs": []
    },
    {
      "cell_type": "markdown",
      "source": [
        "## HSV dataset 생성"
      ],
      "metadata": {
        "id": "hi-VEUZ3WnY1"
      }
    },
    {
      "cell_type": "code",
      "source": [
        "color_dic = {'beige': 0, 'black': 1, 'blue': 2, 'brown': 3, 'gray': 4, 'green': 5, 'mint': 6, 'pink': 7, 'plum': 8, 'purple': 9, 'red': 10, 'white': 11, 'yellow': 12}"
      ],
      "metadata": {
        "id": "TEg2dhXRYGGx"
      },
      "execution_count": 35,
      "outputs": []
    },
    {
      "cell_type": "markdown",
      "source": [
        "### train-dataset"
      ],
      "metadata": {
        "id": "S1VrRg_HfUzW"
      }
    },
    {
      "cell_type": "code",
      "source": [
        "with open('/content/drive/MyDrive/seol/test/hsv.txt', 'r') as f:\n",
        "    hsv_lst = f.readlines()\n",
        "\n",
        "dataset = []\n",
        "for i in range(0,len(hsv_lst)):\n",
        "  h=float(hsv_lst[i].split(' ')[2])\n",
        "  s=float(hsv_lst[i].split(' ')[3])\n",
        "  v=float(hsv_lst[i].split(' ')[4])\n",
        "\n",
        "  if(color_label=='blac'): color_label='black'\n",
        "  elif(color_label=='blu'): color_label='blue'\n",
        "  elif(color_label=='gree'): color_label='green'\n",
        "  elif(color_label=='purpl'): color_label='purple'\n",
        "\n",
        "  rgb=color_dic[color_label]\n",
        "\n",
        "  dataset.append(([h, s, v], rgb))\n"
      ],
      "metadata": {
        "id": "8CxfK63nWs9W"
      },
      "execution_count": 37,
      "outputs": []
    },
    {
      "cell_type": "markdown",
      "source": [
        "### validation dataset"
      ],
      "metadata": {
        "id": "SaGz3gCSfW21"
      }
    },
    {
      "cell_type": "code",
      "source": [
        "with open('/content/drive/MyDrive/seol/test/hsv-val.txt', 'r') as f:\n",
        "    hsv_lst = f.readlines()\n",
        "\n",
        "val_dataset = []\n",
        "for i in range(0,len(hsv_lst)):\n",
        "  rgb=int(hsv_lst[i].split(' ')[0])\n",
        "  h=float(hsv_lst[i].split(' ')[2])\n",
        "  s=float(hsv_lst[i].split(' ')[3])\n",
        "  v=float(hsv_lst[i].split(' ')[4])\n",
        "\n",
        "  val_dataset.append(([h, s, v], rgb))"
      ],
      "metadata": {
        "id": "fbB1AQI5cvjh"
      },
      "execution_count": 28,
      "outputs": []
    },
    {
      "cell_type": "markdown",
      "source": [
        "## HSV regression model train"
      ],
      "metadata": {
        "id": "e4wk2mYeWG4H"
      }
    },
    {
      "cell_type": "markdown",
      "source": [
        "### train"
      ],
      "metadata": {
        "id": "S7i_x4gocYur"
      }
    },
    {
      "cell_type": "code",
      "source": [
        "import tensorflow as tf\n",
        "from tensorflow.keras.callbacks import ModelCheckpoint\n",
        "import numpy as np\n",
        "import matplotlib.pyplot as plt\n",
        "\n",
        "# 데이터 전처리\n",
        "X = np.array([data[0] for data in dataset], dtype=np.float32)\n",
        "y = np.array([data[1] for data in dataset], dtype=np.int32)\n",
        "\n",
        "# 모델 정의\n",
        "model = tf.keras.Sequential([\n",
        "    tf.keras.layers.Dense(64, activation='relu', input_shape=(3,)),\n",
        "    tf.keras.layers.Dense(128, activation='relu'),\n",
        "    tf.keras.layers.Dense(64, activation='relu'),\n",
        "    tf.keras.layers.Dense(32, activation='relu'),\n",
        "    tf.keras.layers.Dense(16, activation='relu'),  # 새로운 레이어 추가\n",
        "    tf.keras.layers.Dense(13, activation='softmax')\n",
        "])\n",
        "\n",
        "# 모델 컴파일\n",
        "model.compile(optimizer='adam', loss='sparse_categorical_crossentropy', metrics=['accuracy'])\n",
        "\n",
        "# ModelCheckpoint 콜백 설정\n",
        "checkpoint_filepath = '/content/drive/MyDrive/seol/ckpt/color_regression_fin-t.h5'\n",
        "model_checkpoint_callback = ModelCheckpoint(\n",
        "    filepath=checkpoint_filepath,\n",
        "    save_best_only=True,\n",
        "    monitor='accuracy',\n",
        "    mode='max',\n",
        "    verbose=1\n",
        ")\n",
        "\n",
        "# 모델 훈련\n",
        "history = model.fit(X, y, epochs=500, batch_size=32, callbacks=[model_checkpoint_callback])\n",
        "\n",
        "# 학습 곡선 그리기\n",
        "plt.figure(figsize=(12, 4))\n",
        "\n",
        "# 정확도 그래프\n",
        "plt.subplot(1, 2, 1)\n",
        "plt.plot(history.history['accuracy'], label='accuracy')\n",
        "plt.title('Model Accuracy')\n",
        "plt.xlabel('Epoch')\n",
        "plt.ylabel('Accuracy')\n",
        "plt.legend(loc='lower right')\n",
        "\n",
        "# 손실 그래프\n",
        "plt.subplot(1, 2, 2)\n",
        "plt.plot(history.history['loss'], label='loss')\n",
        "plt.title('Model Loss')\n",
        "plt.xlabel('Epoch')\n",
        "plt.ylabel('Loss')\n",
        "plt.legend(loc='upper right')\n",
        "\n",
        "plt.tight_layout()\n",
        "plt.show()\n"
      ],
      "metadata": {
        "id": "vJJkw6wFYHR2"
      },
      "execution_count": 39,
      "outputs": []
    },
    {
      "cell_type": "code",
      "source": [
        "# loaded_model = tf.keras.models.load_model('/content/drive/MyDrive/seol/ckpt/color_regression_fin.h5')\n",
        "\n",
        "# sample_hue = 200\n",
        "# sample_saturation = 0.6\n",
        "# sample_value = 0.8\n",
        "# sample_hsv = np.array([[sample_hue, sample_saturation, sample_value]], dtype=np.float32)\n",
        "# predicted_color_probs = loaded_model.predict(sample_hsv)\n",
        "# predicted_color_label = np.argmax(predicted_color_probs)\n",
        "\n",
        "# print(f\"Predicted color for HSV ({sample_hue}, {sample_saturation}, {sample_value}): {predicted_color_label}\")"
      ],
      "metadata": {
        "id": "NfEvD1FRm9Xt"
      },
      "execution_count": null,
      "outputs": []
    },
    {
      "cell_type": "markdown",
      "source": [
        "## HSV predict"
      ],
      "metadata": {
        "id": "IR_nd7JTcJW6"
      }
    },
    {
      "cell_type": "markdown",
      "source": [
        "### predict"
      ],
      "metadata": {
        "id": "pbOZFjfOcRjx"
      }
    },
    {
      "cell_type": "code",
      "source": [
        "def rgb_to_hsv(r, g, b):\n",
        "    r /= 255.0\n",
        "    g /= 255.0\n",
        "    b /= 255.0\n",
        "    h, s, v = colorsys.rgb_to_hsv(r, g, b)\n",
        "    h *= 360.0  # HSV의 색상 값은 0~360 사이의 값으로 표현됩니다.\n",
        "    return h, s, v\n",
        "\n",
        "for i in range(0,len(val_dataset)):\n",
        "  r=val_dataset[i][0][0]\n",
        "  g=val_dataset[i][0][1]\n",
        "  b=val_dataset[i][0][2]\n",
        "\n",
        "  # RGB를 HSV로 변환\n",
        "  h, s, v = rgb_to_hsv(r, g, b)\n",
        "\n",
        "  # orange -> brown 으로 인식. brown 수정\n",
        "  sample_hue = round(h,2) # 예시로 Hue 값을 180으로 설정\n",
        "  sample_saturation = round(s,2)\n",
        "  sample_value = round(v,2)\n",
        "\n",
        "  loaded_model = tf.keras.models.load_model('/content/drive/MyDrive/seol/ckpt/color_regression_fin.h5')\n",
        "  sample_hsv = np.array([[sample_hue, sample_saturation, sample_value]], dtype=np.float32)\n",
        "  predicted_color_probs = loaded_model.predict(sample_hsv)\n",
        "  predicted_color_label = np.argmax(predicted_color_probs)\n",
        "\n",
        "  print(f\"Predicted color for HSV ({sample_hue}, {sample_saturation}, {sample_value}): {predicted_color_label}\")\n",
        "\n",
        "  rgb_color = hsv_to_rgb(sample_hue, sample_saturation, sample_value)\n",
        "\n",
        "  plt.imshow([[(rgb_color[0]/255, rgb_color[1]/255, rgb_color[2]/255)]])\n",
        "  plt.title(f\"Hue={sample_hue}, Saturation={sample_saturation}, Value={sample_value}\")\n",
        "  plt.axis('off')"
      ],
      "metadata": {
        "id": "B3027zX0Vds1",
        "outputId": "02f77510-160c-4bd9-fdf9-e12213ef17fd",
        "colab": {
          "base_uri": "https://localhost:8080/",
          "height": 1000
        }
      },
      "execution_count": null,
      "outputs": [
        {
          "output_type": "stream",
          "name": "stdout",
          "text": [
            "1/1 [==============================] - 0s 135ms/step\n",
            "Predicted color for HSV (0.0, 0.0, 0.0): 1\n",
            "1/1 [==============================] - 0s 74ms/step\n",
            "Predicted color for HSV (240.0, 1.0, 0.0): 1\n",
            "1/1 [==============================] - 0s 74ms/step\n",
            "Predicted color for HSV (240.0, 1.0, 0.0): 1\n",
            "1/1 [==============================] - 0s 76ms/step\n",
            "Predicted color for HSV (240.0, 1.0, 0.0): 1\n"
          ]
        },
        {
          "output_type": "stream",
          "name": "stderr",
          "text": [
            "WARNING:tensorflow:5 out of the last 5 calls to <function Model.make_predict_function.<locals>.predict_function at 0x7c0ea40efbe0> triggered tf.function retracing. Tracing is expensive and the excessive number of tracings could be due to (1) creating @tf.function repeatedly in a loop, (2) passing tensors with different shapes, (3) passing Python objects instead of tensors. For (1), please define your @tf.function outside of the loop. For (2), @tf.function has reduce_retracing=True option that can avoid unnecessary retracing. For (3), please refer to https://www.tensorflow.org/guide/function#controlling_retracing and https://www.tensorflow.org/api_docs/python/tf/function for  more details.\n"
          ]
        },
        {
          "output_type": "stream",
          "name": "stdout",
          "text": [
            "1/1 [==============================] - 0s 73ms/step\n",
            "Predicted color for HSV (240.0, 1.0, 0.0): 1\n"
          ]
        },
        {
          "output_type": "stream",
          "name": "stderr",
          "text": [
            "WARNING:tensorflow:6 out of the last 6 calls to <function Model.make_predict_function.<locals>.predict_function at 0x7c0ea41665f0> triggered tf.function retracing. Tracing is expensive and the excessive number of tracings could be due to (1) creating @tf.function repeatedly in a loop, (2) passing tensors with different shapes, (3) passing Python objects instead of tensors. For (1), please define your @tf.function outside of the loop. For (2), @tf.function has reduce_retracing=True option that can avoid unnecessary retracing. For (3), please refer to https://www.tensorflow.org/guide/function#controlling_retracing and https://www.tensorflow.org/api_docs/python/tf/function for  more details.\n"
          ]
        },
        {
          "output_type": "stream",
          "name": "stdout",
          "text": [
            "1/1 [==============================] - 0s 83ms/step\n",
            "Predicted color for HSV (240.0, 1.0, 0.0): 1\n",
            "1/1 [==============================] - 0s 72ms/step\n",
            "Predicted color for HSV (240.0, 1.0, 0.0): 1\n",
            "1/1 [==============================] - 0s 72ms/step\n",
            "Predicted color for HSV (240.0, 1.0, 0.0): 1\n",
            "1/1 [==============================] - 0s 73ms/step\n",
            "Predicted color for HSV (240.0, 1.0, 0.0): 1\n",
            "1/1 [==============================] - 0s 73ms/step\n",
            "Predicted color for HSV (240.0, 1.0, 0.0): 1\n",
            "1/1 [==============================] - 0s 76ms/step\n",
            "Predicted color for HSV (120.0, 1.0, 0.0): 1\n",
            "1/1 [==============================] - 0s 70ms/step\n",
            "Predicted color for HSV (180.0, 1.0, 0.0): 1\n",
            "1/1 [==============================] - 0s 74ms/step\n",
            "Predicted color for HSV (210.0, 1.0, 0.0): 1\n",
            "1/1 [==============================] - 0s 71ms/step\n",
            "Predicted color for HSV (220.0, 1.0, 0.0): 1\n",
            "1/1 [==============================] - 0s 94ms/step\n",
            "Predicted color for HSV (225.0, 1.0, 0.0): 1\n",
            "1/1 [==============================] - 0s 106ms/step\n",
            "Predicted color for HSV (228.21, 1.0, 0.0): 1\n",
            "1/1 [==============================] - 0s 121ms/step\n",
            "Predicted color for HSV (230.15, 1.0, 0.0): 1\n",
            "1/1 [==============================] - 0s 102ms/step\n",
            "Predicted color for HSV (231.54, 1.0, 0.0): 1\n",
            "1/1 [==============================] - 0s 101ms/step\n",
            "Predicted color for HSV (232.58, 1.0, 0.0): 1\n",
            "1/1 [==============================] - 0s 98ms/step\n",
            "Predicted color for HSV (233.4, 1.0, 0.0): 1\n",
            "1/1 [==============================] - 0s 104ms/step\n",
            "Predicted color for HSV (120.0, 1.0, 0.0): 1\n",
            "1/1 [==============================] - 0s 109ms/step\n",
            "Predicted color for HSV (150.0, 1.0, 0.0): 1\n",
            "1/1 [==============================] - 0s 111ms/step\n",
            "Predicted color for HSV (180.0, 1.0, 0.0): 1\n",
            "1/1 [==============================] - 0s 98ms/step\n",
            "Predicted color for HSV (200.0, 1.0, 0.0): 1\n",
            "1/1 [==============================] - 0s 115ms/step\n",
            "Predicted color for HSV (210.0, 1.0, 0.0): 1\n",
            "1/1 [==============================] - 0s 100ms/step\n",
            "Predicted color for HSV (216.43, 1.0, 0.0): 1\n",
            "1/1 [==============================] - 0s 95ms/step\n",
            "Predicted color for HSV (220.3, 1.0, 0.0): 1\n",
            "1/1 [==============================] - 0s 96ms/step\n",
            "Predicted color for HSV (223.08, 1.0, 0.0): 1\n",
            "1/1 [==============================] - 0s 99ms/step\n",
            "Predicted color for HSV (225.17, 1.0, 0.0): 1\n",
            "1/1 [==============================] - 0s 99ms/step\n",
            "Predicted color for HSV (226.8, 1.0, 0.0): 1\n",
            "1/1 [==============================] - 0s 101ms/step\n",
            "Predicted color for HSV (120.0, 1.0, 0.0): 1\n",
            "1/1 [==============================] - 0s 97ms/step\n",
            "Predicted color for HSV (140.0, 1.0, 0.0): 1\n",
            "1/1 [==============================] - 0s 100ms/step\n",
            "Predicted color for HSV (160.0, 1.0, 0.0): 1\n",
            "1/1 [==============================] - 0s 102ms/step\n",
            "Predicted color for HSV (180.0, 1.0, 0.0): 1\n",
            "1/1 [==============================] - 0s 108ms/step\n",
            "Predicted color for HSV (195.0, 1.0, 0.0): 1\n",
            "1/1 [==============================] - 0s 75ms/step\n",
            "Predicted color for HSV (204.64, 1.0, 0.0): 1\n",
            "1/1 [==============================] - 0s 75ms/step\n",
            "Predicted color for HSV (210.45, 1.0, 0.0): 1\n",
            "1/1 [==============================] - 0s 75ms/step\n",
            "Predicted color for HSV (214.62, 1.0, 0.0): 1\n",
            "1/1 [==============================] - 0s 73ms/step\n",
            "Predicted color for HSV (217.75, 1.0, 0.0): 1\n",
            "1/1 [==============================] - 0s 72ms/step\n",
            "Predicted color for HSV (220.2, 1.0, 0.0): 1\n",
            "1/1 [==============================] - 0s 72ms/step\n",
            "Predicted color for HSV (120.0, 1.0, 0.0): 1\n",
            "1/1 [==============================] - 0s 71ms/step\n",
            "Predicted color for HSV (135.0, 1.0, 0.0): 1\n",
            "1/1 [==============================] - 0s 68ms/step\n",
            "Predicted color for HSV (150.0, 1.0, 0.0): 1\n",
            "1/1 [==============================] - 0s 78ms/step\n",
            "Predicted color for HSV (165.0, 1.0, 0.0): 1\n",
            "1/1 [==============================] - 0s 73ms/step\n",
            "Predicted color for HSV (180.0, 1.0, 0.0): 1\n",
            "1/1 [==============================] - 0s 76ms/step\n",
            "Predicted color for HSV (192.86, 1.0, 0.0): 1\n",
            "1/1 [==============================] - 0s 69ms/step\n",
            "Predicted color for HSV (200.6, 1.0, 0.0): 1\n",
            "1/1 [==============================] - 0s 68ms/step\n",
            "Predicted color for HSV (206.15, 1.0, 0.0): 1\n",
            "1/1 [==============================] - 0s 74ms/step\n",
            "Predicted color for HSV (210.34, 1.0, 0.0): 1\n",
            "1/1 [==============================] - 0s 69ms/step\n",
            "Predicted color for HSV (213.6, 1.0, 0.0): 1\n",
            "1/1 [==============================] - 0s 70ms/step\n",
            "Predicted color for HSV (120.0, 1.0, 0.0): 1\n",
            "1/1 [==============================] - 0s 74ms/step\n",
            "Predicted color for HSV (131.79, 1.0, 0.0): 1\n",
            "1/1 [==============================] - 0s 78ms/step\n",
            "Predicted color for HSV (143.57, 1.0, 0.0): 1\n",
            "1/1 [==============================] - 0s 78ms/step\n",
            "Predicted color for HSV (155.36, 1.0, 0.0): 1\n",
            "1/1 [==============================] - 0s 74ms/step\n",
            "Predicted color for HSV (167.14, 1.0, 0.0): 1\n",
            "1/1 [==============================] - 0s 69ms/step\n",
            "Predicted color for HSV (180.0, 1.0, 0.0): 1\n",
            "1/1 [==============================] - 0s 69ms/step\n",
            "Predicted color for HSV (189.85, 1.0, 0.0): 1\n",
            "1/1 [==============================] - 0s 80ms/step\n",
            "Predicted color for HSV (196.92, 1.0, 0.0): 1\n",
            "1/1 [==============================] - 0s 475ms/step\n",
            "Predicted color for HSV (202.25, 1.0, 0.0): 1\n",
            "1/1 [==============================] - 0s 73ms/step\n",
            "Predicted color for HSV (206.4, 1.0, 0.0): 1\n",
            "1/1 [==============================] - 0s 83ms/step\n",
            "Predicted color for HSV (120.0, 1.0, 0.0): 1\n",
            "1/1 [==============================] - 0s 82ms/step\n",
            "Predicted color for HSV (129.85, 1.0, 0.0): 1\n",
            "1/1 [==============================] - 0s 78ms/step\n",
            "Predicted color for HSV (139.7, 1.0, 0.0): 1\n",
            "1/1 [==============================] - 0s 76ms/step\n",
            "Predicted color for HSV (149.55, 1.0, 0.0): 1\n",
            "1/1 [==============================] - 0s 87ms/step\n",
            "Predicted color for HSV (159.4, 1.0, 0.0): 1\n",
            "1/1 [==============================] - 0s 71ms/step\n",
            "Predicted color for HSV (170.15, 1.0, 0.0): 1\n",
            "1/1 [==============================] - 0s 73ms/step\n",
            "Predicted color for HSV (180.0, 1.0, 0.0): 1\n",
            "1/1 [==============================] - 0s 70ms/step\n",
            "Predicted color for HSV (188.46, 1.0, 0.0): 1\n",
            "1/1 [==============================] - 0s 76ms/step\n",
            "Predicted color for HSV (194.83, 1.0, 0.0): 1\n",
            "1/1 [==============================] - 0s 76ms/step\n",
            "Predicted color for HSV (199.8, 1.0, 0.0): 1\n",
            "1/1 [==============================] - 0s 87ms/step\n",
            "Predicted color for HSV (120.0, 1.0, 0.0): 1\n",
            "1/1 [==============================] - 0s 71ms/step\n",
            "Predicted color for HSV (128.46, 1.0, 0.0): 1\n",
            "1/1 [==============================] - 0s 72ms/step\n",
            "Predicted color for HSV (136.92, 1.0, 0.0): 1\n",
            "1/1 [==============================] - 0s 81ms/step\n",
            "Predicted color for HSV (145.38, 1.0, 0.0): 1\n",
            "1/1 [==============================] - 0s 71ms/step\n",
            "Predicted color for HSV (153.85, 1.0, 0.0): 1\n",
            "1/1 [==============================] - 0s 288ms/step\n",
            "Predicted color for HSV (163.08, 1.0, 0.0): 1\n",
            "1/1 [==============================] - 0s 102ms/step\n",
            "Predicted color for HSV (171.54, 1.0, 0.0): 1\n",
            "1/1 [==============================] - 0s 99ms/step\n",
            "Predicted color for HSV (180.0, 1.0, 0.0): 1\n",
            "1/1 [==============================] - 0s 110ms/step\n",
            "Predicted color for HSV (187.42, 1.0, 0.0): 1\n",
            "1/1 [==============================] - 0s 104ms/step\n",
            "Predicted color for HSV (193.2, 1.0, 0.0): 1\n",
            "1/1 [==============================] - 0s 96ms/step\n",
            "Predicted color for HSV (120.0, 1.0, 0.0): 1\n",
            "1/1 [==============================] - 0s 101ms/step\n",
            "Predicted color for HSV (127.42, 1.0, 0.0): 1\n",
            "1/1 [==============================] - 0s 103ms/step\n",
            "Predicted color for HSV (134.83, 1.0, 0.0): 1\n",
            "1/1 [==============================] - 0s 96ms/step\n",
            "Predicted color for HSV (142.25, 1.0, 0.0): 1\n",
            "1/1 [==============================] - 0s 103ms/step\n",
            "Predicted color for HSV (149.66, 1.0, 0.0): 1\n",
            "1/1 [==============================] - 0s 104ms/step\n",
            "Predicted color for HSV (157.75, 1.0, 0.0): 1\n",
            "1/1 [==============================] - 0s 101ms/step\n",
            "Predicted color for HSV (165.17, 1.0, 0.0): 1\n",
            "1/1 [==============================] - 0s 115ms/step\n",
            "Predicted color for HSV (172.58, 1.0, 0.0): 1\n",
            "1/1 [==============================] - 0s 109ms/step\n",
            "Predicted color for HSV (180.0, 1.0, 0.0): 1\n",
            "1/1 [==============================] - 0s 106ms/step\n",
            "Predicted color for HSV (186.6, 1.0, 0.0): 1\n",
            "1/1 [==============================] - 0s 102ms/step\n",
            "Predicted color for HSV (120.0, 1.0, 0.0): 1\n",
            "1/1 [==============================] - 0s 106ms/step\n",
            "Predicted color for HSV (126.6, 1.0, 0.0): 1\n",
            "1/1 [==============================] - 0s 118ms/step\n",
            "Predicted color for HSV (133.2, 1.0, 0.0): 1\n",
            "1/1 [==============================] - 0s 108ms/step\n",
            "Predicted color for HSV (139.8, 1.0, 0.0): 1\n",
            "1/1 [==============================] - 0s 109ms/step\n",
            "Predicted color for HSV (146.4, 1.0, 0.0): 1\n",
            "1/1 [==============================] - 0s 94ms/step\n",
            "Predicted color for HSV (153.6, 1.0, 0.0): 1\n",
            "1/1 [==============================] - 0s 72ms/step\n",
            "Predicted color for HSV (160.2, 1.0, 0.0): 1\n",
            "1/1 [==============================] - 0s 73ms/step\n",
            "Predicted color for HSV (166.8, 1.0, 0.0): 1\n",
            "1/1 [==============================] - 0s 72ms/step\n",
            "Predicted color for HSV (173.4, 1.0, 0.0): 1\n",
            "1/1 [==============================] - 0s 68ms/step\n",
            "Predicted color for HSV (180.0, 1.0, 0.0): 1\n",
            "1/1 [==============================] - 0s 72ms/step\n",
            "Predicted color for HSV (0.0, 1.0, 0.16): 1\n",
            "1/1 [==============================] - 0s 67ms/step\n",
            "Predicted color for HSV (359.83, 1.0, 0.16): 1\n",
            "1/1 [==============================] - 0s 69ms/step\n",
            "Predicted color for HSV (359.67, 1.0, 0.16): 1\n",
            "1/1 [==============================] - 0s 84ms/step\n",
            "Predicted color for HSV (359.5, 1.0, 0.16): 1\n",
            "1/1 [==============================] - 0s 71ms/step\n",
            "Predicted color for HSV (359.34, 1.0, 0.16): 1\n",
            "1/1 [==============================] - 0s 67ms/step\n",
            "Predicted color for HSV (359.16, 1.0, 0.16): 1\n",
            "1/1 [==============================] - 0s 70ms/step\n",
            "Predicted color for HSV (359.0, 1.0, 0.16): 1\n",
            "1/1 [==============================] - 0s 68ms/step\n",
            "Predicted color for HSV (358.83, 1.0, 0.16): 1\n",
            "1/1 [==============================] - 0s 70ms/step\n",
            "Predicted color for HSV (358.67, 1.0, 0.16): 1\n",
            "1/1 [==============================] - 0s 73ms/step\n",
            "Predicted color for HSV (358.5, 1.0, 0.16): 1\n",
            "1/1 [==============================] - 0s 74ms/step\n",
            "Predicted color for HSV (0.17, 1.0, 0.16): 1\n",
            "1/1 [==============================] - 0s 86ms/step\n",
            "Predicted color for HSV (0.0, 1.0, 0.16): 1\n",
            "1/1 [==============================] - 0s 80ms/step\n",
            "Predicted color for HSV (359.83, 1.0, 0.16): 1\n",
            "1/1 [==============================] - 0s 73ms/step\n",
            "Predicted color for HSV (359.67, 1.0, 0.16): 1\n",
            "1/1 [==============================] - 0s 68ms/step\n",
            "Predicted color for HSV (359.5, 1.0, 0.16): 1\n",
            "1/1 [==============================] - 0s 71ms/step\n",
            "Predicted color for HSV (359.32, 1.0, 0.16): 1\n",
            "1/1 [==============================] - 0s 79ms/step\n",
            "Predicted color for HSV (359.16, 1.0, 0.16): 1\n",
            "1/1 [==============================] - 0s 69ms/step\n",
            "Predicted color for HSV (358.99, 1.0, 0.16): 1\n",
            "1/1 [==============================] - 0s 70ms/step\n",
            "Predicted color for HSV (358.83, 1.0, 0.16): 1\n",
            "1/1 [==============================] - 0s 77ms/step\n",
            "Predicted color for HSV (358.66, 1.0, 0.16): 1\n",
            "1/1 [==============================] - 0s 75ms/step\n",
            "Predicted color for HSV (0.33, 1.0, 0.16): 1\n",
            "1/1 [==============================] - 0s 82ms/step\n",
            "Predicted color for HSV (0.17, 1.0, 0.16): 1\n",
            "1/1 [==============================] - 0s 77ms/step\n",
            "Predicted color for HSV (0.0, 0.99, 0.16): 1\n",
            "1/1 [==============================] - 0s 78ms/step\n",
            "Predicted color for HSV (359.83, 0.99, 0.16): 1\n",
            "1/1 [==============================] - 0s 86ms/step\n",
            "Predicted color for HSV (359.67, 0.99, 0.16): 1\n",
            "1/1 [==============================] - 0s 89ms/step\n",
            "Predicted color for HSV (359.49, 0.99, 0.16): 1\n",
            "1/1 [==============================] - 0s 75ms/step\n",
            "Predicted color for HSV (359.32, 0.99, 0.16): 1\n",
            "1/1 [==============================] - 0s 76ms/step\n",
            "Predicted color for HSV (359.16, 0.99, 0.16): 1\n",
            "1/1 [==============================] - 0s 72ms/step\n",
            "Predicted color for HSV (358.99, 0.99, 0.16): 1\n",
            "1/1 [==============================] - 0s 77ms/step\n",
            "Predicted color for HSV (358.82, 0.99, 0.16): 1\n",
            "1/1 [==============================] - 0s 73ms/step\n",
            "Predicted color for HSV (0.5, 1.0, 0.16): 1\n",
            "1/1 [==============================] - 0s 74ms/step\n",
            "Predicted color for HSV (0.33, 1.0, 0.16): 1\n",
            "1/1 [==============================] - 0s 78ms/step\n",
            "Predicted color for HSV (0.17, 0.99, 0.16): 1\n",
            "1/1 [==============================] - 0s 72ms/step\n",
            "Predicted color for HSV (0.0, 0.99, 0.16): 1\n",
            "1/1 [==============================] - 0s 74ms/step\n",
            "Predicted color for HSV (359.83, 0.99, 0.16): 1\n",
            "1/1 [==============================] - 0s 76ms/step\n",
            "Predicted color for HSV (359.65, 0.99, 0.16): 1\n",
            "1/1 [==============================] - 0s 76ms/step\n",
            "Predicted color for HSV (359.49, 0.99, 0.16): 1\n",
            "1/1 [==============================] - 0s 104ms/step\n",
            "Predicted color for HSV (359.32, 0.99, 0.16): 1\n",
            "1/1 [==============================] - 0s 102ms/step\n",
            "Predicted color for HSV (359.15, 0.99, 0.16): 1\n",
            "1/1 [==============================] - 0s 108ms/step\n",
            "Predicted color for HSV (358.99, 0.99, 0.16): 1\n",
            "1/1 [==============================] - 0s 123ms/step\n",
            "Predicted color for HSV (0.66, 1.0, 0.16): 1\n",
            "1/1 [==============================] - 0s 109ms/step\n",
            "Predicted color for HSV (0.5, 1.0, 0.16): 1\n",
            "1/1 [==============================] - 0s 98ms/step\n",
            "Predicted color for HSV (0.33, 0.99, 0.16): 1\n",
            "1/1 [==============================] - 0s 107ms/step\n",
            "Predicted color for HSV (0.17, 0.99, 0.16): 1\n",
            "1/1 [==============================] - 0s 109ms/step\n",
            "Predicted color for HSV (0.0, 0.99, 0.16): 1\n",
            "1/1 [==============================] - 0s 97ms/step\n",
            "Predicted color for HSV (359.82, 0.99, 0.16): 1\n",
            "1/1 [==============================] - 0s 101ms/step\n",
            "Predicted color for HSV (359.65, 0.99, 0.16): 1\n",
            "1/1 [==============================] - 0s 108ms/step\n",
            "Predicted color for HSV (359.48, 0.99, 0.16): 1\n",
            "1/1 [==============================] - 0s 103ms/step\n",
            "Predicted color for HSV (359.32, 0.99, 0.16): 1\n",
            "1/1 [==============================] - 0s 97ms/step\n",
            "Predicted color for HSV (359.15, 0.99, 0.16): 1\n",
            "1/1 [==============================] - 0s 101ms/step\n",
            "Predicted color for HSV (0.84, 1.0, 0.16): 1\n",
            "1/1 [==============================] - 0s 107ms/step\n",
            "Predicted color for HSV (0.68, 1.0, 0.16): 1\n",
            "1/1 [==============================] - 0s 101ms/step\n",
            "Predicted color for HSV (0.51, 0.99, 0.16): 1\n",
            "1/1 [==============================] - 0s 117ms/step\n",
            "Predicted color for HSV (0.35, 0.99, 0.16): 1\n",
            "1/1 [==============================] - 0s 106ms/step\n",
            "Predicted color for HSV (0.18, 0.99, 0.16): 1\n",
            "1/1 [==============================] - 0s 107ms/step\n",
            "Predicted color for HSV (0.0, 0.99, 0.16): 1\n",
            "1/1 [==============================] - 0s 106ms/step\n",
            "Predicted color for HSV (359.83, 0.99, 0.16): 1\n",
            "1/1 [==============================] - 0s 90ms/step\n",
            "Predicted color for HSV (359.67, 0.99, 0.16): 1\n",
            "1/1 [==============================] - 0s 71ms/step\n",
            "Predicted color for HSV (359.5, 0.99, 0.16): 1\n",
            "1/1 [==============================] - 0s 73ms/step\n",
            "Predicted color for HSV (359.33, 0.99, 0.16): 1\n",
            "1/1 [==============================] - 0s 77ms/step\n",
            "Predicted color for HSV (1.01, 1.0, 0.16): 1\n",
            "1/1 [==============================] - 0s 72ms/step\n",
            "Predicted color for HSV (0.84, 1.0, 0.16): 1\n",
            "1/1 [==============================] - 0s 70ms/step\n",
            "Predicted color for HSV (0.68, 0.99, 0.16): 1\n",
            "1/1 [==============================] - 0s 69ms/step\n",
            "Predicted color for HSV (0.51, 0.99, 0.16): 1\n",
            "1/1 [==============================] - 0s 71ms/step\n",
            "Predicted color for HSV (0.35, 0.99, 0.16): 1\n",
            "1/1 [==============================] - 0s 79ms/step\n",
            "Predicted color for HSV (0.17, 0.99, 0.16): 1\n",
            "1/1 [==============================] - 0s 79ms/step\n",
            "Predicted color for HSV (0.0, 0.98, 0.16): 1\n",
            "1/1 [==============================] - 0s 77ms/step\n",
            "Predicted color for HSV (359.83, 0.98, 0.16): 1\n",
            "1/1 [==============================] - 0s 71ms/step\n",
            "Predicted color for HSV (359.66, 0.98, 0.16): 1\n",
            "1/1 [==============================] - 0s 69ms/step\n",
            "Predicted color for HSV (359.5, 0.98, 0.16): 1\n",
            "1/1 [==============================] - 0s 74ms/step\n",
            "Predicted color for HSV (1.17, 1.0, 0.16): 1\n",
            "1/1 [==============================] - 0s 77ms/step\n",
            "Predicted color for HSV (1.01, 1.0, 0.16): 1\n",
            "1/1 [==============================] - 0s 71ms/step\n",
            "Predicted color for HSV (0.84, 0.99, 0.16): 1\n",
            "1/1 [==============================] - 0s 72ms/step\n",
            "Predicted color for HSV (0.68, 0.99, 0.16): 1\n",
            "1/1 [==============================] - 0s 78ms/step\n",
            "Predicted color for HSV (0.52, 0.99, 0.16): 1\n",
            "1/1 [==============================] - 0s 73ms/step\n",
            "Predicted color for HSV (0.33, 0.99, 0.16): 1\n",
            "1/1 [==============================] - 0s 71ms/step\n",
            "Predicted color for HSV (0.17, 0.98, 0.16): 1\n",
            "1/1 [==============================] - 0s 69ms/step\n",
            "Predicted color for HSV (0.0, 0.98, 0.16): 1\n",
            "1/1 [==============================] - 0s 69ms/step\n",
            "Predicted color for HSV (359.83, 0.98, 0.16): 1\n",
            "1/1 [==============================] - 0s 77ms/step\n",
            "Predicted color for HSV (359.66, 0.98, 0.16): 1\n",
            "1/1 [==============================] - 0s 73ms/step\n",
            "Predicted color for HSV (1.33, 1.0, 0.16): 1\n",
            "1/1 [==============================] - 0s 72ms/step\n",
            "Predicted color for HSV (1.17, 1.0, 0.16): 1\n",
            "1/1 [==============================] - 0s 72ms/step\n",
            "Predicted color for HSV (1.01, 0.99, 0.16): 1\n",
            "1/1 [==============================] - 1s 591ms/step\n",
            "Predicted color for HSV (0.85, 0.99, 0.16): 1\n",
            "1/1 [==============================] - 0s 82ms/step\n",
            "Predicted color for HSV (0.68, 0.99, 0.16): 1\n",
            "1/1 [==============================] - 0s 93ms/step\n",
            "Predicted color for HSV (0.5, 0.99, 0.16): 1\n",
            "1/1 [==============================] - 0s 77ms/step\n",
            "Predicted color for HSV (0.34, 0.98, 0.16): 1\n",
            "1/1 [==============================] - 0s 79ms/step\n",
            "Predicted color for HSV (0.17, 0.98, 0.16): 1\n",
            "1/1 [==============================] - 0s 76ms/step\n",
            "Predicted color for HSV (0.0, 0.98, 0.16): 1\n",
            "1/1 [==============================] - 0s 95ms/step\n",
            "Predicted color for HSV (359.83, 0.98, 0.16): 1\n",
            "1/1 [==============================] - 0s 74ms/step\n",
            "Predicted color for HSV (1.5, 1.0, 0.16): 1\n",
            "1/1 [==============================] - 0s 82ms/step\n",
            "Predicted color for HSV (1.34, 1.0, 0.16): 1\n",
            "1/1 [==============================] - 0s 75ms/step\n",
            "Predicted color for HSV (1.18, 0.99, 0.16): 1\n",
            "1/1 [==============================] - 0s 77ms/step\n",
            "Predicted color for HSV (1.01, 0.99, 0.16): 1\n",
            "1/1 [==============================] - 0s 86ms/step\n",
            "Predicted color for HSV (0.85, 0.99, 0.16): 1\n",
            "1/1 [==============================] - 0s 85ms/step\n",
            "Predicted color for HSV (0.67, 0.99, 0.16): 1\n",
            "1/1 [==============================] - 0s 72ms/step\n",
            "Predicted color for HSV (0.5, 0.98, 0.16): 1\n",
            "1/1 [==============================] - 0s 69ms/step\n",
            "Predicted color for HSV (0.34, 0.98, 0.16): 1\n",
            "1/1 [==============================] - 0s 73ms/step\n",
            "Predicted color for HSV (0.17, 0.98, 0.16): 1\n",
            "1/1 [==============================] - 0s 108ms/step\n",
            "Predicted color for HSV (0.0, 0.98, 0.16): 1\n",
            "1/1 [==============================] - 0s 99ms/step\n",
            "Predicted color for HSV (0.0, 1.0, 0.31): 10\n",
            "1/1 [==============================] - 0s 107ms/step\n",
            "Predicted color for HSV (359.92, 1.0, 0.31): 1\n",
            "1/1 [==============================] - 0s 104ms/step\n",
            "Predicted color for HSV (359.83, 1.0, 0.31): 1\n",
            "1/1 [==============================] - 0s 95ms/step\n",
            "Predicted color for HSV (359.75, 1.0, 0.31): 1\n",
            "1/1 [==============================] - 0s 104ms/step\n",
            "Predicted color for HSV (359.67, 1.0, 0.31): 1\n",
            "1/1 [==============================] - 0s 117ms/step\n",
            "Predicted color for HSV (359.58, 1.0, 0.31): 1\n",
            "1/1 [==============================] - 0s 103ms/step\n",
            "Predicted color for HSV (359.5, 1.0, 0.31): 1\n",
            "1/1 [==============================] - 0s 98ms/step\n",
            "Predicted color for HSV (359.42, 1.0, 0.31): 1\n",
            "1/1 [==============================] - 0s 103ms/step\n",
            "Predicted color for HSV (359.33, 1.0, 0.31): 1\n",
            "1/1 [==============================] - 0s 98ms/step\n",
            "Predicted color for HSV (359.25, 1.0, 0.31): 1\n",
            "1/1 [==============================] - 0s 99ms/step\n",
            "Predicted color for HSV (0.08, 1.0, 0.31): 10\n",
            "1/1 [==============================] - 0s 109ms/step\n",
            "Predicted color for HSV (0.0, 1.0, 0.31): 10\n",
            "1/1 [==============================] - 0s 108ms/step\n",
            "Predicted color for HSV (359.92, 1.0, 0.31): 1\n",
            "1/1 [==============================] - 0s 104ms/step\n",
            "Predicted color for HSV (359.83, 1.0, 0.31): 1\n",
            "1/1 [==============================] - 0s 104ms/step\n",
            "Predicted color for HSV (359.75, 1.0, 0.31): 1\n",
            "1/1 [==============================] - 0s 100ms/step\n",
            "Predicted color for HSV (359.66, 1.0, 0.31): 1\n",
            "1/1 [==============================] - 0s 108ms/step\n",
            "Predicted color for HSV (359.58, 1.0, 0.31): 1\n",
            "1/1 [==============================] - 0s 108ms/step\n",
            "Predicted color for HSV (359.5, 1.0, 0.31): 1\n",
            "1/1 [==============================] - 0s 98ms/step\n",
            "Predicted color for HSV (359.41, 1.0, 0.31): 1\n",
            "1/1 [==============================] - 0s 73ms/step\n",
            "Predicted color for HSV (359.33, 1.0, 0.31): 1\n",
            "1/1 [==============================] - 0s 76ms/step\n",
            "Predicted color for HSV (0.17, 1.0, 0.31): 10\n",
            "1/1 [==============================] - 0s 85ms/step\n",
            "Predicted color for HSV (0.08, 1.0, 0.31): 10\n",
            "1/1 [==============================] - 0s 71ms/step\n",
            "Predicted color for HSV (0.0, 1.0, 0.31): 10\n",
            "1/1 [==============================] - 0s 72ms/step\n",
            "Predicted color for HSV (359.92, 1.0, 0.31): 1\n",
            "1/1 [==============================] - 0s 70ms/step\n",
            "Predicted color for HSV (359.83, 1.0, 0.31): 1\n",
            "1/1 [==============================] - 0s 80ms/step\n",
            "Predicted color for HSV (359.74, 1.0, 0.31): 1\n",
            "1/1 [==============================] - 0s 90ms/step\n",
            "Predicted color for HSV (359.66, 1.0, 0.31): 1\n",
            "1/1 [==============================] - 0s 71ms/step\n",
            "Predicted color for HSV (359.58, 1.0, 0.31): 1\n",
            "1/1 [==============================] - 0s 70ms/step\n",
            "Predicted color for HSV (359.5, 1.0, 0.31): 1\n",
            "1/1 [==============================] - 0s 81ms/step\n",
            "Predicted color for HSV (359.41, 1.0, 0.31): 1\n",
            "1/1 [==============================] - 0s 70ms/step\n",
            "Predicted color for HSV (0.25, 1.0, 0.31): 10\n",
            "1/1 [==============================] - 0s 72ms/step\n",
            "Predicted color for HSV (0.17, 1.0, 0.31): 10\n",
            "1/1 [==============================] - 0s 70ms/step\n",
            "Predicted color for HSV (0.08, 1.0, 0.31): 10\n",
            "1/1 [==============================] - 0s 83ms/step\n",
            "Predicted color for HSV (0.0, 1.0, 0.31): 10\n",
            "1/1 [==============================] - 0s 71ms/step\n",
            "Predicted color for HSV (359.92, 1.0, 0.31): 1\n",
            "1/1 [==============================] - 0s 80ms/step\n",
            "Predicted color for HSV (359.83, 1.0, 0.31): 1\n",
            "1/1 [==============================] - 0s 75ms/step\n",
            "Predicted color for HSV (359.74, 1.0, 0.31): 1\n",
            "1/1 [==============================] - 0s 82ms/step\n",
            "Predicted color for HSV (359.66, 1.0, 0.31): 1\n",
            "1/1 [==============================] - 0s 77ms/step\n",
            "Predicted color for HSV (359.58, 1.0, 0.31): 1\n",
            "1/1 [==============================] - 0s 75ms/step\n",
            "Predicted color for HSV (359.5, 1.0, 0.31): 1\n",
            "1/1 [==============================] - 0s 72ms/step\n",
            "Predicted color for HSV (0.33, 1.0, 0.31): 10\n",
            "1/1 [==============================] - 0s 78ms/step\n",
            "Predicted color for HSV (0.25, 1.0, 0.31): 10\n",
            "1/1 [==============================] - 0s 68ms/step\n",
            "Predicted color for HSV (0.17, 1.0, 0.31): 10\n",
            "1/1 [==============================] - 0s 72ms/step\n",
            "Predicted color for HSV (0.08, 1.0, 0.31): 10\n",
            "1/1 [==============================] - 0s 84ms/step\n",
            "Predicted color for HSV (0.0, 0.99, 0.31): 10\n",
            "1/1 [==============================] - 0s 71ms/step\n",
            "Predicted color for HSV (359.91, 0.99, 0.31): 1\n",
            "1/1 [==============================] - 0s 80ms/step\n",
            "Predicted color for HSV (359.83, 0.99, 0.31): 1\n",
            "1/1 [==============================] - 0s 93ms/step\n",
            "Predicted color for HSV (359.74, 0.99, 0.31): 1\n",
            "1/1 [==============================] - 0s 83ms/step\n",
            "Predicted color for HSV (359.66, 0.99, 0.31): 1\n",
            "1/1 [==============================] - 0s 81ms/step\n",
            "Predicted color for HSV (359.58, 0.99, 0.31): 1\n",
            "1/1 [==============================] - 0s 83ms/step\n",
            "Predicted color for HSV (0.42, 1.0, 0.31): 10\n",
            "1/1 [==============================] - 0s 74ms/step\n",
            "Predicted color for HSV (0.34, 1.0, 0.31): 10\n",
            "1/1 [==============================] - 0s 76ms/step\n",
            "Predicted color for HSV (0.26, 1.0, 0.31): 10\n",
            "1/1 [==============================] - 0s 80ms/step\n",
            "Predicted color for HSV (0.17, 1.0, 0.31): 10\n",
            "1/1 [==============================] - 0s 79ms/step\n",
            "Predicted color for HSV (0.09, 0.99, 0.31): 10\n",
            "1/1 [==============================] - 0s 86ms/step\n",
            "Predicted color for HSV (0.0, 0.99, 0.31): 10\n",
            "1/1 [==============================] - 0s 75ms/step\n",
            "Predicted color for HSV (359.92, 0.99, 0.31): 1\n",
            "1/1 [==============================] - 0s 80ms/step\n",
            "Predicted color for HSV (359.83, 0.99, 0.31): 1\n",
            "1/1 [==============================] - 0s 77ms/step\n",
            "Predicted color for HSV (359.75, 0.99, 0.31): 1\n",
            "1/1 [==============================] - 0s 81ms/step\n",
            "Predicted color for HSV (359.67, 0.99, 0.31): 1\n",
            "1/1 [==============================] - 0s 104ms/step\n",
            "Predicted color for HSV (0.5, 1.0, 0.31): 10\n",
            "1/1 [==============================] - 0s 108ms/step\n",
            "Predicted color for HSV (0.42, 1.0, 0.31): 10\n",
            "1/1 [==============================] - 0s 107ms/step\n",
            "Predicted color for HSV (0.34, 1.0, 0.31): 10\n",
            "1/1 [==============================] - 0s 102ms/step\n",
            "Predicted color for HSV (0.26, 1.0, 0.31): 10\n",
            "1/1 [==============================] - 0s 100ms/step\n",
            "Predicted color for HSV (0.17, 0.99, 0.31): 10\n",
            "1/1 [==============================] - 0s 97ms/step\n",
            "Predicted color for HSV (0.08, 0.99, 0.31): 10\n",
            "1/1 [==============================] - 0s 102ms/step\n",
            "Predicted color for HSV (0.0, 0.99, 0.31): 10\n",
            "1/1 [==============================] - 0s 105ms/step\n",
            "Predicted color for HSV (359.92, 0.99, 0.31): 1\n",
            "1/1 [==============================] - 0s 97ms/step\n",
            "Predicted color for HSV (359.83, 0.99, 0.31): 1\n",
            "1/1 [==============================] - 0s 120ms/step\n",
            "Predicted color for HSV (359.75, 0.99, 0.31): 1\n",
            "1/1 [==============================] - 0s 107ms/step\n",
            "Predicted color for HSV (0.59, 1.0, 0.31): 10\n",
            "1/1 [==============================] - 0s 109ms/step\n",
            "Predicted color for HSV (0.5, 1.0, 0.31): 10\n",
            "1/1 [==============================] - 0s 103ms/step\n",
            "Predicted color for HSV (0.42, 1.0, 0.31): 10\n",
            "1/1 [==============================] - 0s 109ms/step\n",
            "Predicted color for HSV (0.34, 1.0, 0.31): 10\n",
            "1/1 [==============================] - 0s 112ms/step\n",
            "Predicted color for HSV (0.26, 0.99, 0.31): 10\n",
            "1/1 [==============================] - 0s 100ms/step\n",
            "Predicted color for HSV (0.17, 0.99, 0.31): 10\n",
            "1/1 [==============================] - 0s 107ms/step\n",
            "Predicted color for HSV (0.08, 0.99, 0.31): 10\n",
            "1/1 [==============================] - 0s 109ms/step\n",
            "Predicted color for HSV (0.0, 0.99, 0.31): 10\n",
            "1/1 [==============================] - 0s 106ms/step\n",
            "Predicted color for HSV (359.92, 0.99, 0.31): 1\n",
            "1/1 [==============================] - 0s 105ms/step\n",
            "Predicted color for HSV (359.83, 0.99, 0.31): 1\n",
            "1/1 [==============================] - 0s 104ms/step\n",
            "Predicted color for HSV (0.67, 1.0, 0.31): 10\n",
            "1/1 [==============================] - 0s 76ms/step\n",
            "Predicted color for HSV (0.59, 1.0, 0.31): 10\n",
            "1/1 [==============================] - 0s 73ms/step\n",
            "Predicted color for HSV (0.5, 1.0, 0.31): 10\n",
            "1/1 [==============================] - 0s 79ms/step\n",
            "Predicted color for HSV (0.42, 1.0, 0.31): 10\n",
            "1/1 [==============================] - 0s 74ms/step\n",
            "Predicted color for HSV (0.34, 0.99, 0.31): 10\n",
            "1/1 [==============================] - 0s 74ms/step\n",
            "Predicted color for HSV (0.25, 0.99, 0.31): 10\n",
            "1/1 [==============================] - 0s 72ms/step\n",
            "Predicted color for HSV (0.17, 0.99, 0.31): 10\n",
            "1/1 [==============================] - 0s 91ms/step\n",
            "Predicted color for HSV (0.08, 0.99, 0.31): 10\n",
            "1/1 [==============================] - 0s 71ms/step\n",
            "Predicted color for HSV (0.0, 0.99, 0.31): 10\n",
            "1/1 [==============================] - 0s 71ms/step\n",
            "Predicted color for HSV (359.92, 0.99, 0.31): 1\n",
            "1/1 [==============================] - 0s 69ms/step\n",
            "Predicted color for HSV (0.75, 1.0, 0.31): 10\n",
            "1/1 [==============================] - 0s 72ms/step\n",
            "Predicted color for HSV (0.67, 1.0, 0.31): 10\n",
            "1/1 [==============================] - 0s 71ms/step\n",
            "Predicted color for HSV (0.59, 1.0, 0.31): 10\n",
            "1/1 [==============================] - 0s 78ms/step\n",
            "Predicted color for HSV (0.5, 1.0, 0.31): 10\n",
            "1/1 [==============================] - 0s 68ms/step\n",
            "Predicted color for HSV (0.42, 0.99, 0.31): 10\n",
            "1/1 [==============================] - 0s 74ms/step\n",
            "Predicted color for HSV (0.33, 0.99, 0.31): 10\n",
            "1/1 [==============================] - 0s 81ms/step\n",
            "Predicted color for HSV (0.25, 0.99, 0.31): 10\n",
            "1/1 [==============================] - 0s 76ms/step\n",
            "Predicted color for HSV (0.17, 0.99, 0.31): 10\n",
            "1/1 [==============================] - 0s 73ms/step\n",
            "Predicted color for HSV (0.08, 0.99, 0.31): 10\n",
            "1/1 [==============================] - 0s 72ms/step\n",
            "Predicted color for HSV (0.0, 0.99, 0.31): 10\n",
            "1/1 [==============================] - 0s 72ms/step\n",
            "Predicted color for HSV (0.0, 1.0, 0.47): 10\n",
            "1/1 [==============================] - 0s 71ms/step\n",
            "Predicted color for HSV (359.94, 1.0, 0.47): 10\n",
            "1/1 [==============================] - 0s 76ms/step\n",
            "Predicted color for HSV (359.89, 1.0, 0.47): 10\n",
            "1/1 [==============================] - 0s 73ms/step\n",
            "Predicted color for HSV (359.83, 1.0, 0.47): 10\n",
            "1/1 [==============================] - 0s 69ms/step\n",
            "Predicted color for HSV (359.78, 1.0, 0.47): 10\n",
            "1/1 [==============================] - 0s 91ms/step\n",
            "Predicted color for HSV (359.72, 1.0, 0.47): 10\n",
            "1/1 [==============================] - 0s 72ms/step\n",
            "Predicted color for HSV (359.67, 1.0, 0.47): 10\n",
            "1/1 [==============================] - 0s 78ms/step\n",
            "Predicted color for HSV (359.61, 1.0, 0.47): 10\n",
            "1/1 [==============================] - 0s 70ms/step\n",
            "Predicted color for HSV (359.56, 1.0, 0.47): 10\n",
            "1/1 [==============================] - 0s 75ms/step\n",
            "Predicted color for HSV (359.5, 1.0, 0.47): 10\n",
            "1/1 [==============================] - 0s 84ms/step\n",
            "Predicted color for HSV (0.06, 1.0, 0.47): 10\n",
            "1/1 [==============================] - 0s 99ms/step\n",
            "Predicted color for HSV (0.0, 1.0, 0.47): 10\n",
            "1/1 [==============================] - 0s 91ms/step\n",
            "Predicted color for HSV (359.94, 1.0, 0.47): 10\n",
            "1/1 [==============================] - 0s 80ms/step\n",
            "Predicted color for HSV (359.89, 1.0, 0.47): 10\n",
            "1/1 [==============================] - 0s 82ms/step\n",
            "Predicted color for HSV (359.83, 1.0, 0.47): 10\n",
            "1/1 [==============================] - 0s 77ms/step\n",
            "Predicted color for HSV (359.77, 1.0, 0.47): 10\n",
            "1/1 [==============================] - 0s 89ms/step\n",
            "Predicted color for HSV (359.72, 1.0, 0.47): 10\n",
            "1/1 [==============================] - 0s 81ms/step\n",
            "Predicted color for HSV (359.66, 1.0, 0.47): 10\n",
            "1/1 [==============================] - 0s 74ms/step\n",
            "Predicted color for HSV (359.61, 1.0, 0.47): 10\n",
            "1/1 [==============================] - 0s 84ms/step\n",
            "Predicted color for HSV (359.55, 1.0, 0.47): 10\n",
            "1/1 [==============================] - 0s 81ms/step\n",
            "Predicted color for HSV (0.11, 1.0, 0.47): 10\n",
            "1/1 [==============================] - 0s 104ms/step\n",
            "Predicted color for HSV (0.06, 1.0, 0.47): 10\n",
            "1/1 [==============================] - 0s 104ms/step\n",
            "Predicted color for HSV (0.0, 1.0, 0.47): 10\n",
            "1/1 [==============================] - 0s 120ms/step\n",
            "Predicted color for HSV (359.94, 1.0, 0.47): 10\n",
            "1/1 [==============================] - 0s 105ms/step\n",
            "Predicted color for HSV (359.89, 1.0, 0.47): 10\n",
            "1/1 [==============================] - 0s 107ms/step\n",
            "Predicted color for HSV (359.83, 1.0, 0.47): 10\n",
            "1/1 [==============================] - 0s 110ms/step\n",
            "Predicted color for HSV (359.77, 1.0, 0.47): 10\n",
            "1/1 [==============================] - 0s 111ms/step\n",
            "Predicted color for HSV (359.72, 1.0, 0.47): 10\n",
            "1/1 [==============================] - 0s 112ms/step\n",
            "Predicted color for HSV (359.66, 1.0, 0.47): 10\n",
            "1/1 [==============================] - 0s 116ms/step\n",
            "Predicted color for HSV (359.61, 1.0, 0.47): 10\n",
            "1/1 [==============================] - 0s 106ms/step\n",
            "Predicted color for HSV (0.17, 1.0, 0.47): 10\n",
            "1/1 [==============================] - 0s 111ms/step\n",
            "Predicted color for HSV (0.11, 1.0, 0.47): 10\n",
            "1/1 [==============================] - 0s 110ms/step\n",
            "Predicted color for HSV (0.06, 1.0, 0.47): 10\n",
            "1/1 [==============================] - 0s 102ms/step\n",
            "Predicted color for HSV (0.0, 1.0, 0.47): 10\n",
            "1/1 [==============================] - 0s 107ms/step\n",
            "Predicted color for HSV (359.94, 1.0, 0.47): 10\n",
            "1/1 [==============================] - 0s 108ms/step\n",
            "Predicted color for HSV (359.88, 1.0, 0.47): 10\n",
            "1/1 [==============================] - 0s 107ms/step\n",
            "Predicted color for HSV (359.83, 1.0, 0.47): 10\n",
            "1/1 [==============================] - 0s 100ms/step\n",
            "Predicted color for HSV (359.77, 1.0, 0.47): 10\n",
            "1/1 [==============================] - 0s 105ms/step\n",
            "Predicted color for HSV (359.72, 1.0, 0.47): 10\n",
            "1/1 [==============================] - 0s 103ms/step\n",
            "Predicted color for HSV (359.66, 1.0, 0.47): 10\n",
            "1/1 [==============================] - 0s 101ms/step\n",
            "Predicted color for HSV (0.22, 1.0, 0.47): 10\n",
            "1/1 [==============================] - 0s 71ms/step\n",
            "Predicted color for HSV (0.17, 1.0, 0.47): 10\n",
            "1/1 [==============================] - 0s 76ms/step\n",
            "Predicted color for HSV (0.11, 1.0, 0.47): 10\n",
            "1/1 [==============================] - 0s 76ms/step\n",
            "Predicted color for HSV (0.06, 1.0, 0.47): 10\n",
            "1/1 [==============================] - 0s 76ms/step\n",
            "Predicted color for HSV (0.0, 1.0, 0.47): 10\n",
            "1/1 [==============================] - 0s 75ms/step\n",
            "Predicted color for HSV (359.94, 1.0, 0.47): 10\n",
            "1/1 [==============================] - 0s 75ms/step\n",
            "Predicted color for HSV (359.88, 1.0, 0.47): 10\n",
            "1/1 [==============================] - 0s 79ms/step\n",
            "Predicted color for HSV (359.83, 1.0, 0.47): 10\n",
            "1/1 [==============================] - 0s 72ms/step\n",
            "Predicted color for HSV (359.77, 1.0, 0.47): 10\n",
            "1/1 [==============================] - 0s 79ms/step\n",
            "Predicted color for HSV (359.72, 1.0, 0.47): 10\n",
            "1/1 [==============================] - 0s 74ms/step\n",
            "Predicted color for HSV (0.28, 1.0, 0.47): 10\n",
            "1/1 [==============================] - 0s 79ms/step\n",
            "Predicted color for HSV (0.23, 1.0, 0.47): 10\n",
            "1/1 [==============================] - 0s 74ms/step\n",
            "Predicted color for HSV (0.17, 1.0, 0.47): 10\n",
            "1/1 [==============================] - 0s 71ms/step\n",
            "Predicted color for HSV (0.12, 1.0, 0.47): 10\n",
            "1/1 [==============================] - 0s 71ms/step\n",
            "Predicted color for HSV (0.06, 1.0, 0.47): 10\n",
            "1/1 [==============================] - 0s 82ms/step\n",
            "Predicted color for HSV (0.0, 1.0, 0.47): 10\n",
            "1/1 [==============================] - 0s 69ms/step\n",
            "Predicted color for HSV (359.94, 1.0, 0.47): 10\n",
            "1/1 [==============================] - 0s 77ms/step\n",
            "Predicted color for HSV (359.89, 1.0, 0.47): 10\n",
            "1/1 [==============================] - 0s 71ms/step\n",
            "Predicted color for HSV (359.83, 1.0, 0.47): 10\n",
            "1/1 [==============================] - 0s 71ms/step\n",
            "Predicted color for HSV (359.78, 1.0, 0.47): 10\n",
            "1/1 [==============================] - 0s 88ms/step\n",
            "Predicted color for HSV (0.33, 1.0, 0.47): 10\n",
            "1/1 [==============================] - 0s 76ms/step\n",
            "Predicted color for HSV (0.28, 1.0, 0.47): 10\n",
            "1/1 [==============================] - 0s 69ms/step\n",
            "Predicted color for HSV (0.23, 1.0, 0.47): 10\n",
            "1/1 [==============================] - 0s 78ms/step\n",
            "Predicted color for HSV (0.17, 1.0, 0.47): 10\n",
            "1/1 [==============================] - 0s 71ms/step\n",
            "Predicted color for HSV (0.12, 1.0, 0.47): 10\n",
            "1/1 [==============================] - 0s 68ms/step\n",
            "Predicted color for HSV (0.06, 1.0, 0.47): 10\n",
            "1/1 [==============================] - 0s 70ms/step\n",
            "Predicted color for HSV (0.0, 0.99, 0.47): 10\n",
            "1/1 [==============================] - 0s 74ms/step\n",
            "Predicted color for HSV (359.94, 0.99, 0.47): 10\n",
            "1/1 [==============================] - 0s 75ms/step\n",
            "Predicted color for HSV (359.89, 0.99, 0.47): 10\n",
            "1/1 [==============================] - 0s 86ms/step\n",
            "Predicted color for HSV (359.83, 0.99, 0.47): 10\n",
            "1/1 [==============================] - 0s 72ms/step\n",
            "Predicted color for HSV (0.39, 1.0, 0.47): 10\n",
            "1/1 [==============================] - 0s 75ms/step\n",
            "Predicted color for HSV (0.34, 1.0, 0.47): 10\n",
            "1/1 [==============================] - 0s 74ms/step\n",
            "Predicted color for HSV (0.28, 1.0, 0.47): 10\n",
            "1/1 [==============================] - 0s 76ms/step\n",
            "Predicted color for HSV (0.23, 1.0, 0.47): 10\n",
            "1/1 [==============================] - 0s 69ms/step\n",
            "Predicted color for HSV (0.17, 1.0, 0.47): 10\n",
            "1/1 [==============================] - 0s 71ms/step\n",
            "Predicted color for HSV (0.11, 1.0, 0.47): 10\n",
            "1/1 [==============================] - 0s 83ms/step\n",
            "Predicted color for HSV (0.06, 0.99, 0.47): 10\n",
            "1/1 [==============================] - 0s 88ms/step\n",
            "Predicted color for HSV (0.0, 0.99, 0.47): 10\n",
            "1/1 [==============================] - 0s 87ms/step\n",
            "Predicted color for HSV (359.94, 0.99, 0.47): 10\n",
            "1/1 [==============================] - 0s 81ms/step\n",
            "Predicted color for HSV (359.89, 0.99, 0.47): 10\n",
            "1/1 [==============================] - 0s 85ms/step\n",
            "Predicted color for HSV (0.44, 1.0, 0.47): 10\n",
            "1/1 [==============================] - 0s 109ms/step\n",
            "Predicted color for HSV (0.39, 1.0, 0.47): 10\n",
            "1/1 [==============================] - 0s 107ms/step\n",
            "Predicted color for HSV (0.34, 1.0, 0.47): 10\n",
            "1/1 [==============================] - 0s 103ms/step\n",
            "Predicted color for HSV (0.28, 1.0, 0.47): 10\n",
            "1/1 [==============================] - 0s 106ms/step\n",
            "Predicted color for HSV (0.23, 1.0, 0.47): 10\n",
            "1/1 [==============================] - 0s 109ms/step\n",
            "Predicted color for HSV (0.17, 1.0, 0.47): 10\n",
            "1/1 [==============================] - 0s 103ms/step\n",
            "Predicted color for HSV (0.11, 0.99, 0.47): 10\n",
            "1/1 [==============================] - 0s 105ms/step\n",
            "Predicted color for HSV (0.06, 0.99, 0.47): 10\n",
            "1/1 [==============================] - 0s 101ms/step\n",
            "Predicted color for HSV (0.0, 0.99, 0.47): 10\n",
            "1/1 [==============================] - 0s 101ms/step\n",
            "Predicted color for HSV (359.94, 0.99, 0.47): 10\n",
            "1/1 [==============================] - 0s 114ms/step\n",
            "Predicted color for HSV (0.5, 1.0, 0.47): 10\n",
            "1/1 [==============================] - 0s 104ms/step\n",
            "Predicted color for HSV (0.45, 1.0, 0.47): 10\n",
            "1/1 [==============================] - 0s 105ms/step\n",
            "Predicted color for HSV (0.39, 1.0, 0.47): 10\n",
            "1/1 [==============================] - 0s 108ms/step\n",
            "Predicted color for HSV (0.34, 1.0, 0.47): 10\n",
            "1/1 [==============================] - 0s 115ms/step\n",
            "Predicted color for HSV (0.28, 1.0, 0.47): 10\n",
            "1/1 [==============================] - 0s 109ms/step\n",
            "Predicted color for HSV (0.22, 1.0, 0.47): 10\n",
            "1/1 [==============================] - 0s 104ms/step\n",
            "Predicted color for HSV (0.17, 0.99, 0.47): 10\n",
            "1/1 [==============================] - 0s 108ms/step\n",
            "Predicted color for HSV (0.11, 0.99, 0.47): 10\n",
            "1/1 [==============================] - 0s 106ms/step\n",
            "Predicted color for HSV (0.06, 0.99, 0.47): 10\n",
            "1/1 [==============================] - 0s 132ms/step\n",
            "Predicted color for HSV (0.0, 0.99, 0.47): 10\n",
            "1/1 [==============================] - 0s 113ms/step\n",
            "Predicted color for HSV (0.0, 1.0, 0.63): 10\n",
            "1/1 [==============================] - 0s 68ms/step\n",
            "Predicted color for HSV (359.96, 1.0, 0.63): 10\n",
            "1/1 [==============================] - 0s 75ms/step\n",
            "Predicted color for HSV (359.92, 1.0, 0.63): 10\n",
            "1/1 [==============================] - 0s 77ms/step\n",
            "Predicted color for HSV (359.88, 1.0, 0.63): 10\n",
            "1/1 [==============================] - 0s 73ms/step\n",
            "Predicted color for HSV (359.83, 1.0, 0.63): 10\n",
            "1/1 [==============================] - 0s 77ms/step\n",
            "Predicted color for HSV (359.79, 1.0, 0.63): 10\n",
            "1/1 [==============================] - 0s 73ms/step\n",
            "Predicted color for HSV (359.75, 1.0, 0.63): 10\n",
            "1/1 [==============================] - 0s 80ms/step\n",
            "Predicted color for HSV (359.71, 1.0, 0.63): 10\n",
            "1/1 [==============================] - 0s 77ms/step\n",
            "Predicted color for HSV (359.67, 1.0, 0.63): 10\n",
            "1/1 [==============================] - 0s 74ms/step\n",
            "Predicted color for HSV (359.62, 1.0, 0.63): 10\n",
            "1/1 [==============================] - 0s 73ms/step\n",
            "Predicted color for HSV (0.04, 1.0, 0.63): 10\n",
            "1/1 [==============================] - 0s 72ms/step\n",
            "Predicted color for HSV (0.0, 1.0, 0.63): 10\n",
            "1/1 [==============================] - 0s 82ms/step\n",
            "Predicted color for HSV (359.96, 1.0, 0.63): 10\n",
            "1/1 [==============================] - 0s 73ms/step\n",
            "Predicted color for HSV (359.92, 1.0, 0.63): 10\n",
            "1/1 [==============================] - 0s 75ms/step\n",
            "Predicted color for HSV (359.88, 1.0, 0.63): 10\n",
            "1/1 [==============================] - 0s 83ms/step\n",
            "Predicted color for HSV (359.83, 1.0, 0.63): 10\n",
            "1/1 [==============================] - 0s 72ms/step\n",
            "Predicted color for HSV (359.79, 1.0, 0.63): 10\n",
            "1/1 [==============================] - 0s 77ms/step\n",
            "Predicted color for HSV (359.75, 1.0, 0.63): 10\n",
            "1/1 [==============================] - 0s 71ms/step\n",
            "Predicted color for HSV (359.71, 1.0, 0.63): 10\n",
            "1/1 [==============================] - 0s 80ms/step\n",
            "Predicted color for HSV (359.67, 1.0, 0.63): 10\n",
            "1/1 [==============================] - 0s 72ms/step\n",
            "Predicted color for HSV (0.08, 1.0, 0.63): 10\n",
            "1/1 [==============================] - 0s 70ms/step\n",
            "Predicted color for HSV (0.04, 1.0, 0.63): 10\n",
            "1/1 [==============================] - 0s 77ms/step\n",
            "Predicted color for HSV (0.0, 1.0, 0.63): 10\n",
            "1/1 [==============================] - 0s 72ms/step\n",
            "Predicted color for HSV (359.96, 1.0, 0.63): 10\n",
            "1/1 [==============================] - 0s 69ms/step\n",
            "Predicted color for HSV (359.92, 1.0, 0.63): 10\n",
            "1/1 [==============================] - 0s 71ms/step\n",
            "Predicted color for HSV (359.87, 1.0, 0.63): 10\n",
            "1/1 [==============================] - 0s 74ms/step\n",
            "Predicted color for HSV (359.83, 1.0, 0.63): 10\n",
            "1/1 [==============================] - 0s 71ms/step\n",
            "Predicted color for HSV (359.79, 1.0, 0.63): 10\n",
            "1/1 [==============================] - 0s 73ms/step\n",
            "Predicted color for HSV (359.75, 1.0, 0.63): 10\n",
            "1/1 [==============================] - 0s 83ms/step\n",
            "Predicted color for HSV (359.71, 1.0, 0.63): 10\n",
            "1/1 [==============================] - 0s 77ms/step\n",
            "Predicted color for HSV (0.12, 1.0, 0.63): 10\n",
            "1/1 [==============================] - 0s 70ms/step\n",
            "Predicted color for HSV (0.08, 1.0, 0.63): 10\n",
            "1/1 [==============================] - 0s 73ms/step\n",
            "Predicted color for HSV (0.04, 1.0, 0.63): 10\n",
            "1/1 [==============================] - 0s 68ms/step\n",
            "Predicted color for HSV (0.0, 1.0, 0.63): 10\n",
            "1/1 [==============================] - 0s 70ms/step\n",
            "Predicted color for HSV (359.96, 1.0, 0.63): 10\n",
            "1/1 [==============================] - 0s 73ms/step\n",
            "Predicted color for HSV (359.91, 1.0, 0.63): 10\n",
            "1/1 [==============================] - 0s 72ms/step\n",
            "Predicted color for HSV (359.87, 1.0, 0.63): 10\n",
            "1/1 [==============================] - 0s 69ms/step\n",
            "Predicted color for HSV (359.83, 1.0, 0.63): 10\n",
            "1/1 [==============================] - 0s 87ms/step\n",
            "Predicted color for HSV (359.79, 1.0, 0.63): 10\n",
            "1/1 [==============================] - 0s 76ms/step\n",
            "Predicted color for HSV (359.75, 1.0, 0.63): 10\n",
            "1/1 [==============================] - 0s 73ms/step\n",
            "Predicted color for HSV (0.17, 1.0, 0.63): 10\n",
            "1/1 [==============================] - 0s 72ms/step\n",
            "Predicted color for HSV (0.12, 1.0, 0.63): 10\n",
            "1/1 [==============================] - 0s 72ms/step\n",
            "Predicted color for HSV (0.08, 1.0, 0.63): 10\n",
            "1/1 [==============================] - 0s 75ms/step\n",
            "Predicted color for HSV (0.04, 1.0, 0.63): 10\n",
            "1/1 [==============================] - 0s 102ms/step\n",
            "Predicted color for HSV (0.0, 1.0, 0.63): 10\n",
            "1/1 [==============================] - 0s 123ms/step\n",
            "Predicted color for HSV (359.95, 1.0, 0.63): 10\n",
            "1/1 [==============================] - 0s 116ms/step\n",
            "Predicted color for HSV (359.91, 1.0, 0.63): 10\n",
            "1/1 [==============================] - 0s 116ms/step\n",
            "Predicted color for HSV (359.87, 1.0, 0.63): 10\n",
            "1/1 [==============================] - 0s 110ms/step\n",
            "Predicted color for HSV (359.83, 1.0, 0.63): 10\n",
            "1/1 [==============================] - 0s 114ms/step\n",
            "Predicted color for HSV (359.79, 1.0, 0.63): 10\n",
            "1/1 [==============================] - 0s 106ms/step\n",
            "Predicted color for HSV (0.21, 1.0, 0.63): 10\n",
            "1/1 [==============================] - 0s 108ms/step\n",
            "Predicted color for HSV (0.17, 1.0, 0.63): 10\n",
            "1/1 [==============================] - 0s 105ms/step\n",
            "Predicted color for HSV (0.13, 1.0, 0.63): 10\n",
            "1/1 [==============================] - 0s 102ms/step\n",
            "Predicted color for HSV (0.09, 1.0, 0.63): 10\n",
            "1/1 [==============================] - 0s 105ms/step\n",
            "Predicted color for HSV (0.05, 1.0, 0.63): 10\n",
            "1/1 [==============================] - 0s 104ms/step\n",
            "Predicted color for HSV (0.0, 1.0, 0.63): 10\n",
            "1/1 [==============================] - 0s 108ms/step\n",
            "Predicted color for HSV (359.96, 1.0, 0.63): 10\n",
            "1/1 [==============================] - 0s 104ms/step\n",
            "Predicted color for HSV (359.92, 1.0, 0.63): 10\n",
            "1/1 [==============================] - 0s 114ms/step\n",
            "Predicted color for HSV (359.88, 1.0, 0.63): 10\n",
            "1/1 [==============================] - 0s 104ms/step\n",
            "Predicted color for HSV (359.83, 1.0, 0.63): 10\n",
            "1/1 [==============================] - 0s 109ms/step\n",
            "Predicted color for HSV (0.25, 1.0, 0.63): 10\n",
            "1/1 [==============================] - 0s 253ms/step\n",
            "Predicted color for HSV (0.21, 1.0, 0.63): 10\n",
            "1/1 [==============================] - 0s 76ms/step\n",
            "Predicted color for HSV (0.17, 1.0, 0.63): 10\n",
            "1/1 [==============================] - 0s 86ms/step\n",
            "Predicted color for HSV (0.13, 1.0, 0.63): 10\n",
            "1/1 [==============================] - 0s 135ms/step\n",
            "Predicted color for HSV (0.09, 1.0, 0.63): 10\n",
            "1/1 [==============================] - 0s 77ms/step\n",
            "Predicted color for HSV (0.04, 1.0, 0.63): 10\n",
            "1/1 [==============================] - 0s 75ms/step\n",
            "Predicted color for HSV (0.0, 1.0, 0.63): 10\n",
            "1/1 [==============================] - 0s 75ms/step\n",
            "Predicted color for HSV (359.96, 1.0, 0.63): 10\n",
            "1/1 [==============================] - 0s 72ms/step\n",
            "Predicted color for HSV (359.92, 1.0, 0.63): 10\n",
            "1/1 [==============================] - 0s 74ms/step\n",
            "Predicted color for HSV (359.88, 1.0, 0.63): 10\n",
            "1/1 [==============================] - 0s 74ms/step\n",
            "Predicted color for HSV (0.29, 1.0, 0.63): 10\n",
            "1/1 [==============================] - 0s 70ms/step\n",
            "Predicted color for HSV (0.25, 1.0, 0.63): 10\n",
            "1/1 [==============================] - 0s 79ms/step\n",
            "Predicted color for HSV (0.21, 1.0, 0.63): 10\n",
            "1/1 [==============================] - 0s 75ms/step\n",
            "Predicted color for HSV (0.17, 1.0, 0.63): 10\n",
            "1/1 [==============================] - 0s 77ms/step\n",
            "Predicted color for HSV (0.13, 1.0, 0.63): 10\n",
            "1/1 [==============================] - 0s 79ms/step\n",
            "Predicted color for HSV (0.08, 1.0, 0.63): 10\n",
            "1/1 [==============================] - 0s 74ms/step\n",
            "Predicted color for HSV (0.04, 1.0, 0.63): 10\n",
            "1/1 [==============================] - 0s 71ms/step\n",
            "Predicted color for HSV (0.0, 1.0, 0.63): 10\n",
            "1/1 [==============================] - 0s 74ms/step\n",
            "Predicted color for HSV (359.96, 1.0, 0.63): 10\n",
            "1/1 [==============================] - 0s 74ms/step\n",
            "Predicted color for HSV (359.92, 1.0, 0.63): 10\n",
            "1/1 [==============================] - 0s 73ms/step\n",
            "Predicted color for HSV (0.33, 1.0, 0.63): 10\n",
            "1/1 [==============================] - 0s 71ms/step\n",
            "Predicted color for HSV (0.29, 1.0, 0.63): 10\n",
            "1/1 [==============================] - 0s 72ms/step\n",
            "Predicted color for HSV (0.25, 1.0, 0.63): 10\n",
            "1/1 [==============================] - 0s 73ms/step\n",
            "Predicted color for HSV (0.21, 1.0, 0.63): 10\n",
            "1/1 [==============================] - 0s 82ms/step\n",
            "Predicted color for HSV (0.17, 1.0, 0.63): 10\n",
            "1/1 [==============================] - 0s 70ms/step\n",
            "Predicted color for HSV (0.12, 1.0, 0.63): 10\n",
            "1/1 [==============================] - 0s 72ms/step\n",
            "Predicted color for HSV (0.08, 1.0, 0.63): 10\n",
            "1/1 [==============================] - 0s 77ms/step\n",
            "Predicted color for HSV (0.04, 1.0, 0.63): 10\n",
            "1/1 [==============================] - 0s 73ms/step\n",
            "Predicted color for HSV (0.0, 0.99, 0.63): 10\n",
            "1/1 [==============================] - 0s 75ms/step\n",
            "Predicted color for HSV (359.96, 0.99, 0.63): 10\n",
            "1/1 [==============================] - 0s 75ms/step\n",
            "Predicted color for HSV (0.37, 1.0, 0.63): 10\n",
            "1/1 [==============================] - 0s 77ms/step\n",
            "Predicted color for HSV (0.33, 1.0, 0.63): 10\n",
            "1/1 [==============================] - 0s 85ms/step\n",
            "Predicted color for HSV (0.29, 1.0, 0.63): 10\n",
            "1/1 [==============================] - 0s 70ms/step\n",
            "Predicted color for HSV (0.25, 1.0, 0.63): 10\n",
            "1/1 [==============================] - 0s 83ms/step\n",
            "Predicted color for HSV (0.21, 1.0, 0.63): 10\n",
            "1/1 [==============================] - 0s 73ms/step\n",
            "Predicted color for HSV (0.17, 1.0, 0.63): 10\n",
            "1/1 [==============================] - 0s 77ms/step\n",
            "Predicted color for HSV (0.12, 1.0, 0.63): 10\n",
            "1/1 [==============================] - 0s 71ms/step\n",
            "Predicted color for HSV (0.08, 1.0, 0.63): 10\n",
            "1/1 [==============================] - 0s 69ms/step\n",
            "Predicted color for HSV (0.04, 0.99, 0.63): 10\n",
            "1/1 [==============================] - 0s 82ms/step\n",
            "Predicted color for HSV (0.0, 0.99, 0.63): 10\n",
            "1/1 [==============================] - 0s 119ms/step\n",
            "Predicted color for HSV (0.0, 1.0, 0.78): 10\n",
            "1/1 [==============================] - 0s 100ms/step\n",
            "Predicted color for HSV (359.97, 1.0, 0.78): 10\n",
            "1/1 [==============================] - 0s 109ms/step\n",
            "Predicted color for HSV (359.93, 1.0, 0.78): 10\n",
            "1/1 [==============================] - 0s 108ms/step\n",
            "Predicted color for HSV (359.9, 1.0, 0.78): 10\n",
            "1/1 [==============================] - 0s 103ms/step\n",
            "Predicted color for HSV (359.87, 1.0, 0.78): 10\n",
            "1/1 [==============================] - 0s 112ms/step\n",
            "Predicted color for HSV (359.83, 1.0, 0.78): 10\n",
            "1/1 [==============================] - 0s 106ms/step\n",
            "Predicted color for HSV (359.8, 1.0, 0.78): 10\n",
            "1/1 [==============================] - 0s 102ms/step\n",
            "Predicted color for HSV (359.77, 1.0, 0.78): 10\n",
            "1/1 [==============================] - 0s 97ms/step\n",
            "Predicted color for HSV (359.73, 1.0, 0.78): 10\n",
            "1/1 [==============================] - 1s 741ms/step\n",
            "Predicted color for HSV (359.7, 1.0, 0.78): 10\n",
            "1/1 [==============================] - 0s 126ms/step\n",
            "Predicted color for HSV (0.03, 1.0, 0.78): 10\n",
            "1/1 [==============================] - 0s 133ms/step\n",
            "Predicted color for HSV (0.0, 1.0, 0.78): 10\n",
            "1/1 [==============================] - 0s 115ms/step\n",
            "Predicted color for HSV (359.97, 1.0, 0.78): 10\n",
            "1/1 [==============================] - 0s 121ms/step\n",
            "Predicted color for HSV (359.93, 1.0, 0.78): 10\n",
            "1/1 [==============================] - 0s 107ms/step\n",
            "Predicted color for HSV (359.9, 1.0, 0.78): 10\n",
            "1/1 [==============================] - 0s 116ms/step\n",
            "Predicted color for HSV (359.86, 1.0, 0.78): 10\n",
            "1/1 [==============================] - 0s 115ms/step\n",
            "Predicted color for HSV (359.83, 1.0, 0.78): 10\n",
            "1/1 [==============================] - 0s 114ms/step\n",
            "Predicted color for HSV (359.8, 1.0, 0.78): 10\n",
            "1/1 [==============================] - 0s 77ms/step\n",
            "Predicted color for HSV (359.77, 1.0, 0.78): 10\n",
            "1/1 [==============================] - 0s 80ms/step\n",
            "Predicted color for HSV (359.73, 1.0, 0.78): 10\n",
            "1/1 [==============================] - 0s 80ms/step\n",
            "Predicted color for HSV (0.07, 1.0, 0.78): 10\n",
            "1/1 [==============================] - 0s 77ms/step\n",
            "Predicted color for HSV (0.03, 1.0, 0.78): 10\n",
            "1/1 [==============================] - 0s 78ms/step\n",
            "Predicted color for HSV (0.0, 1.0, 0.78): 10\n",
            "1/1 [==============================] - 0s 80ms/step\n",
            "Predicted color for HSV (359.97, 1.0, 0.78): 10\n",
            "1/1 [==============================] - 0s 77ms/step\n",
            "Predicted color for HSV (359.93, 1.0, 0.78): 10\n",
            "1/1 [==============================] - 0s 80ms/step\n",
            "Predicted color for HSV (359.9, 1.0, 0.78): 10\n",
            "1/1 [==============================] - 0s 75ms/step\n",
            "Predicted color for HSV (359.86, 1.0, 0.78): 10\n",
            "1/1 [==============================] - 0s 77ms/step\n",
            "Predicted color for HSV (359.83, 1.0, 0.78): 10\n",
            "1/1 [==============================] - 0s 91ms/step\n",
            "Predicted color for HSV (359.8, 1.0, 0.78): 10\n",
            "1/1 [==============================] - 0s 75ms/step\n",
            "Predicted color for HSV (359.77, 1.0, 0.78): 10\n",
            "1/1 [==============================] - 0s 105ms/step\n",
            "Predicted color for HSV (0.1, 1.0, 0.78): 10\n",
            "1/1 [==============================] - 0s 75ms/step\n",
            "Predicted color for HSV (0.07, 1.0, 0.78): 10\n",
            "1/1 [==============================] - 0s 95ms/step\n",
            "Predicted color for HSV (0.03, 1.0, 0.78): 10\n",
            "1/1 [==============================] - 0s 77ms/step\n",
            "Predicted color for HSV (0.0, 1.0, 0.78): 10\n",
            "1/1 [==============================] - 0s 74ms/step\n",
            "Predicted color for HSV (359.97, 1.0, 0.78): 10\n",
            "1/1 [==============================] - 0s 76ms/step\n",
            "Predicted color for HSV (359.93, 1.0, 0.78): 10\n",
            "1/1 [==============================] - 0s 74ms/step\n",
            "Predicted color for HSV (359.9, 1.0, 0.78): 10\n",
            "1/1 [==============================] - 0s 76ms/step\n",
            "Predicted color for HSV (359.86, 1.0, 0.78): 10\n",
            "1/1 [==============================] - 0s 74ms/step\n",
            "Predicted color for HSV (359.83, 1.0, 0.78): 10\n",
            "1/1 [==============================] - 0s 76ms/step\n",
            "Predicted color for HSV (359.8, 1.0, 0.78): 10\n",
            "1/1 [==============================] - 0s 82ms/step\n",
            "Predicted color for HSV (0.13, 1.0, 0.78): 10\n",
            "1/1 [==============================] - 0s 77ms/step\n",
            "Predicted color for HSV (0.1, 1.0, 0.78): 10\n",
            "1/1 [==============================] - 0s 74ms/step\n",
            "Predicted color for HSV (0.07, 1.0, 0.78): 10\n",
            "1/1 [==============================] - 0s 71ms/step\n",
            "Predicted color for HSV (0.03, 1.0, 0.78): 10\n",
            "1/1 [==============================] - 0s 74ms/step\n",
            "Predicted color for HSV (0.0, 1.0, 0.78): 10\n",
            "1/1 [==============================] - 0s 75ms/step\n",
            "Predicted color for HSV (359.96, 1.0, 0.78): 10\n",
            "1/1 [==============================] - 0s 73ms/step\n",
            "Predicted color for HSV (359.93, 1.0, 0.78): 10\n",
            "1/1 [==============================] - 0s 71ms/step\n",
            "Predicted color for HSV (359.9, 1.0, 0.78): 10\n",
            "1/1 [==============================] - 0s 80ms/step\n",
            "Predicted color for HSV (359.86, 1.0, 0.78): 10\n",
            "1/1 [==============================] - 0s 84ms/step\n",
            "Predicted color for HSV (359.83, 1.0, 0.78): 10\n",
            "1/1 [==============================] - 0s 80ms/step\n",
            "Predicted color for HSV (0.17, 1.0, 0.78): 10\n",
            "1/1 [==============================] - 0s 74ms/step\n",
            "Predicted color for HSV (0.14, 1.0, 0.78): 10\n",
            "1/1 [==============================] - 0s 70ms/step\n",
            "Predicted color for HSV (0.1, 1.0, 0.78): 10\n",
            "1/1 [==============================] - 0s 78ms/step\n",
            "Predicted color for HSV (0.07, 1.0, 0.78): 10\n",
            "1/1 [==============================] - 0s 72ms/step\n",
            "Predicted color for HSV (0.04, 1.0, 0.78): 10\n",
            "1/1 [==============================] - 0s 74ms/step\n",
            "Predicted color for HSV (0.0, 1.0, 0.78): 10\n",
            "1/1 [==============================] - 0s 76ms/step\n",
            "Predicted color for HSV (359.97, 1.0, 0.78): 10\n",
            "1/1 [==============================] - 0s 73ms/step\n",
            "Predicted color for HSV (359.93, 1.0, 0.78): 10\n",
            "1/1 [==============================] - 0s 72ms/step\n",
            "Predicted color for HSV (359.9, 1.0, 0.78): 10\n",
            "1/1 [==============================] - 0s 75ms/step\n",
            "Predicted color for HSV (359.87, 1.0, 0.78): 10\n",
            "1/1 [==============================] - 0s 116ms/step\n",
            "Predicted color for HSV (0.2, 1.0, 0.78): 10\n",
            "1/1 [==============================] - 0s 107ms/step\n",
            "Predicted color for HSV (0.17, 1.0, 0.78): 10\n",
            "1/1 [==============================] - 0s 106ms/step\n",
            "Predicted color for HSV (0.14, 1.0, 0.78): 10\n",
            "1/1 [==============================] - 0s 107ms/step\n",
            "Predicted color for HSV (0.1, 1.0, 0.78): 10\n",
            "1/1 [==============================] - 0s 111ms/step\n",
            "Predicted color for HSV (0.07, 1.0, 0.78): 10\n",
            "1/1 [==============================] - 0s 100ms/step\n",
            "Predicted color for HSV (0.03, 1.0, 0.78): 10\n",
            "1/1 [==============================] - 0s 101ms/step\n",
            "Predicted color for HSV (0.0, 1.0, 0.78): 10\n",
            "1/1 [==============================] - 0s 104ms/step\n",
            "Predicted color for HSV (359.97, 1.0, 0.78): 10\n",
            "1/1 [==============================] - 0s 96ms/step\n",
            "Predicted color for HSV (359.93, 1.0, 0.78): 10\n",
            "1/1 [==============================] - 0s 103ms/step\n",
            "Predicted color for HSV (359.9, 1.0, 0.78): 10\n",
            "1/1 [==============================] - 0s 105ms/step\n",
            "Predicted color for HSV (0.23, 1.0, 0.78): 10\n",
            "1/1 [==============================] - 0s 94ms/step\n",
            "Predicted color for HSV (0.2, 1.0, 0.78): 10\n",
            "1/1 [==============================] - 0s 101ms/step\n",
            "Predicted color for HSV (0.17, 1.0, 0.78): 10\n",
            "1/1 [==============================] - 0s 97ms/step\n",
            "Predicted color for HSV (0.14, 1.0, 0.78): 10\n",
            "1/1 [==============================] - 0s 120ms/step\n",
            "Predicted color for HSV (0.1, 1.0, 0.78): 10\n",
            "1/1 [==============================] - 0s 112ms/step\n",
            "Predicted color for HSV (0.07, 1.0, 0.78): 10\n",
            "1/1 [==============================] - 0s 122ms/step\n",
            "Predicted color for HSV (0.03, 1.0, 0.78): 10\n",
            "1/1 [==============================] - 0s 132ms/step\n",
            "Predicted color for HSV (0.0, 1.0, 0.78): 10\n",
            "1/1 [==============================] - 0s 92ms/step\n",
            "Predicted color for HSV (359.97, 1.0, 0.78): 10\n",
            "1/1 [==============================] - 0s 89ms/step\n",
            "Predicted color for HSV (359.93, 1.0, 0.78): 10\n",
            "1/1 [==============================] - 0s 82ms/step\n",
            "Predicted color for HSV (0.27, 1.0, 0.78): 10\n",
            "1/1 [==============================] - 0s 85ms/step\n",
            "Predicted color for HSV (0.23, 1.0, 0.78): 10\n",
            "1/1 [==============================] - 0s 79ms/step\n",
            "Predicted color for HSV (0.2, 1.0, 0.78): 10\n",
            "1/1 [==============================] - 0s 82ms/step\n",
            "Predicted color for HSV (0.17, 1.0, 0.78): 10\n",
            "1/1 [==============================] - 0s 286ms/step\n",
            "Predicted color for HSV (0.14, 1.0, 0.78): 10\n",
            "1/1 [==============================] - 0s 190ms/step\n",
            "Predicted color for HSV (0.1, 1.0, 0.78): 10\n",
            "1/1 [==============================] - 0s 117ms/step\n",
            "Predicted color for HSV (0.07, 1.0, 0.78): 10\n",
            "1/1 [==============================] - 0s 226ms/step\n",
            "Predicted color for HSV (0.03, 1.0, 0.78): 10\n",
            "1/1 [==============================] - 0s 75ms/step\n",
            "Predicted color for HSV (0.0, 1.0, 0.78): 10\n",
            "1/1 [==============================] - 0s 74ms/step\n",
            "Predicted color for HSV (359.97, 1.0, 0.78): 10\n",
            "1/1 [==============================] - 0s 85ms/step\n",
            "Predicted color for HSV (0.3, 1.0, 0.78): 10\n",
            "1/1 [==============================] - 0s 74ms/step\n",
            "Predicted color for HSV (0.27, 1.0, 0.78): 10\n",
            "1/1 [==============================] - 0s 74ms/step\n",
            "Predicted color for HSV (0.23, 1.0, 0.78): 10\n",
            "1/1 [==============================] - 0s 74ms/step\n",
            "Predicted color for HSV (0.2, 1.0, 0.78): 10\n",
            "1/1 [==============================] - 0s 85ms/step\n",
            "Predicted color for HSV (0.17, 1.0, 0.78): 10\n",
            "1/1 [==============================] - 0s 81ms/step\n",
            "Predicted color for HSV (0.13, 1.0, 0.78): 10\n",
            "1/1 [==============================] - 0s 82ms/step\n",
            "Predicted color for HSV (0.1, 1.0, 0.78): 10\n",
            "1/1 [==============================] - 0s 72ms/step\n",
            "Predicted color for HSV (0.07, 1.0, 0.78): 10\n",
            "1/1 [==============================] - 0s 77ms/step\n",
            "Predicted color for HSV (0.03, 1.0, 0.78): 10\n",
            "1/1 [==============================] - 0s 76ms/step\n",
            "Predicted color for HSV (0.0, 0.99, 0.78): 10\n",
            "1/1 [==============================] - 0s 75ms/step\n",
            "Predicted color for HSV (0.0, 1.0, 0.94): 10\n",
            "1/1 [==============================] - 0s 81ms/step\n",
            "Predicted color for HSV (359.97, 1.0, 0.94): 10\n",
            "1/1 [==============================] - 0s 73ms/step\n",
            "Predicted color for HSV (359.94, 1.0, 0.94): 10\n",
            "1/1 [==============================] - 0s 84ms/step\n",
            "Predicted color for HSV (359.92, 1.0, 0.94): 10\n",
            "1/1 [==============================] - 0s 82ms/step\n",
            "Predicted color for HSV (359.89, 1.0, 0.94): 10\n",
            "1/1 [==============================] - 0s 70ms/step\n",
            "Predicted color for HSV (359.86, 1.0, 0.94): 10\n",
            "1/1 [==============================] - 0s 72ms/step\n",
            "Predicted color for HSV (359.83, 1.0, 0.94): 10\n",
            "1/1 [==============================] - 0s 96ms/step\n",
            "Predicted color for HSV (359.81, 1.0, 0.94): 10\n",
            "1/1 [==============================] - 0s 73ms/step\n",
            "Predicted color for HSV (359.78, 1.0, 0.94): 10\n",
            "1/1 [==============================] - 0s 73ms/step\n",
            "Predicted color for HSV (359.75, 1.0, 0.94): 10\n",
            "1/1 [==============================] - 0s 71ms/step\n",
            "Predicted color for HSV (0.03, 1.0, 0.94): 10\n",
            "1/1 [==============================] - 0s 74ms/step\n",
            "Predicted color for HSV (0.0, 1.0, 0.94): 10\n",
            "1/1 [==============================] - 0s 88ms/step\n",
            "Predicted color for HSV (359.97, 1.0, 0.94): 10\n",
            "1/1 [==============================] - 0s 78ms/step\n",
            "Predicted color for HSV (359.94, 1.0, 0.94): 10\n",
            "1/1 [==============================] - 0s 99ms/step\n",
            "Predicted color for HSV (359.92, 1.0, 0.94): 10\n",
            "1/1 [==============================] - 0s 136ms/step\n",
            "Predicted color for HSV (359.89, 1.0, 0.94): 10\n",
            "1/1 [==============================] - 0s 102ms/step\n",
            "Predicted color for HSV (359.86, 1.0, 0.94): 10\n",
            "1/1 [==============================] - 0s 102ms/step\n",
            "Predicted color for HSV (359.83, 1.0, 0.94): 10\n",
            "1/1 [==============================] - 0s 105ms/step\n",
            "Predicted color for HSV (359.8, 1.0, 0.94): 10\n",
            "1/1 [==============================] - 0s 101ms/step\n",
            "Predicted color for HSV (359.78, 1.0, 0.94): 10\n",
            "1/1 [==============================] - 0s 102ms/step\n",
            "Predicted color for HSV (0.06, 1.0, 0.94): 10\n",
            "1/1 [==============================] - 0s 102ms/step\n",
            "Predicted color for HSV (0.03, 1.0, 0.94): 10\n",
            "1/1 [==============================] - 0s 98ms/step\n",
            "Predicted color for HSV (0.0, 1.0, 0.94): 10\n",
            "1/1 [==============================] - 0s 110ms/step\n",
            "Predicted color for HSV (359.97, 1.0, 0.94): 10\n",
            "1/1 [==============================] - 0s 96ms/step\n",
            "Predicted color for HSV (359.94, 1.0, 0.94): 10\n",
            "1/1 [==============================] - 0s 98ms/step\n",
            "Predicted color for HSV (359.91, 1.0, 0.94): 10\n",
            "1/1 [==============================] - 0s 101ms/step\n",
            "Predicted color for HSV (359.89, 1.0, 0.94): 10\n",
            "1/1 [==============================] - 0s 114ms/step\n",
            "Predicted color for HSV (359.86, 1.0, 0.94): 10\n",
            "1/1 [==============================] - 0s 101ms/step\n",
            "Predicted color for HSV (359.83, 1.0, 0.94): 10\n",
            "1/1 [==============================] - 0s 99ms/step\n",
            "Predicted color for HSV (359.8, 1.0, 0.94): 10\n",
            "1/1 [==============================] - 0s 99ms/step\n",
            "Predicted color for HSV (0.08, 1.0, 0.94): 10\n",
            "1/1 [==============================] - 0s 113ms/step\n",
            "Predicted color for HSV (0.06, 1.0, 0.94): 10\n",
            "1/1 [==============================] - 0s 101ms/step\n",
            "Predicted color for HSV (0.03, 1.0, 0.94): 10\n",
            "1/1 [==============================] - 0s 103ms/step\n",
            "Predicted color for HSV (0.0, 1.0, 0.94): 10\n",
            "1/1 [==============================] - 0s 76ms/step\n",
            "Predicted color for HSV (359.97, 1.0, 0.94): 10\n",
            "1/1 [==============================] - 0s 70ms/step\n",
            "Predicted color for HSV (359.94, 1.0, 0.94): 10\n",
            "1/1 [==============================] - 0s 70ms/step\n",
            "Predicted color for HSV (359.91, 1.0, 0.94): 10\n",
            "1/1 [==============================] - 0s 72ms/step\n",
            "Predicted color for HSV (359.89, 1.0, 0.94): 10\n",
            "1/1 [==============================] - 0s 74ms/step\n",
            "Predicted color for HSV (359.86, 1.0, 0.94): 10\n",
            "1/1 [==============================] - 0s 70ms/step\n",
            "Predicted color for HSV (359.83, 1.0, 0.94): 10\n",
            "1/1 [==============================] - 0s 73ms/step\n",
            "Predicted color for HSV (0.11, 1.0, 0.94): 10\n",
            "1/1 [==============================] - 0s 72ms/step\n",
            "Predicted color for HSV (0.08, 1.0, 0.94): 10\n",
            "1/1 [==============================] - 0s 75ms/step\n",
            "Predicted color for HSV (0.06, 1.0, 0.94): 10\n",
            "1/1 [==============================] - 0s 85ms/step\n",
            "Predicted color for HSV (0.03, 1.0, 0.94): 10\n",
            "1/1 [==============================] - 1s 643ms/step\n",
            "Predicted color for HSV (0.0, 1.0, 0.94): 10\n",
            "1/1 [==============================] - 0s 91ms/step\n",
            "Predicted color for HSV (359.97, 1.0, 0.94): 10\n",
            "1/1 [==============================] - 0s 92ms/step\n",
            "Predicted color for HSV (359.94, 1.0, 0.94): 10\n",
            "1/1 [==============================] - 0s 92ms/step\n",
            "Predicted color for HSV (359.91, 1.0, 0.94): 10\n",
            "1/1 [==============================] - 0s 97ms/step\n",
            "Predicted color for HSV (359.89, 1.0, 0.94): 10\n",
            "1/1 [==============================] - 0s 99ms/step\n",
            "Predicted color for HSV (359.86, 1.0, 0.94): 10\n",
            "1/1 [==============================] - 0s 85ms/step\n",
            "Predicted color for HSV (0.14, 1.0, 0.94): 10\n",
            "1/1 [==============================] - 0s 82ms/step\n",
            "Predicted color for HSV (0.11, 1.0, 0.94): 10\n",
            "1/1 [==============================] - 0s 89ms/step\n",
            "Predicted color for HSV (0.09, 1.0, 0.94): 10\n",
            "1/1 [==============================] - 0s 91ms/step\n",
            "Predicted color for HSV (0.06, 1.0, 0.94): 10\n",
            "1/1 [==============================] - 0s 76ms/step\n",
            "Predicted color for HSV (0.03, 1.0, 0.94): 10\n",
            "1/1 [==============================] - 0s 84ms/step\n",
            "Predicted color for HSV (0.0, 1.0, 0.94): 10\n",
            "1/1 [==============================] - 0s 78ms/step\n",
            "Predicted color for HSV (359.97, 1.0, 0.94): 10\n",
            "1/1 [==============================] - 0s 88ms/step\n",
            "Predicted color for HSV (359.94, 1.0, 0.94): 10\n",
            "1/1 [==============================] - 0s 76ms/step\n",
            "Predicted color for HSV (359.92, 1.0, 0.94): 10\n",
            "1/1 [==============================] - 0s 82ms/step\n",
            "Predicted color for HSV (359.89, 1.0, 0.94): 10\n",
            "1/1 [==============================] - 0s 78ms/step\n",
            "Predicted color for HSV (0.17, 1.0, 0.94): 10\n",
            "1/1 [==============================] - 0s 82ms/step\n",
            "Predicted color for HSV (0.14, 1.0, 0.94): 10\n",
            "1/1 [==============================] - 0s 83ms/step\n",
            "Predicted color for HSV (0.11, 1.0, 0.94): 10\n",
            "1/1 [==============================] - 0s 78ms/step\n",
            "Predicted color for HSV (0.09, 1.0, 0.94): 10\n",
            "1/1 [==============================] - 0s 79ms/step\n",
            "Predicted color for HSV (0.06, 1.0, 0.94): 10\n",
            "1/1 [==============================] - 0s 77ms/step\n",
            "Predicted color for HSV (0.03, 1.0, 0.94): 10\n",
            "1/1 [==============================] - 0s 77ms/step\n",
            "Predicted color for HSV (0.0, 1.0, 0.94): 10\n",
            "1/1 [==============================] - 0s 79ms/step\n",
            "Predicted color for HSV (359.97, 1.0, 0.94): 10\n",
            "1/1 [==============================] - 0s 78ms/step\n",
            "Predicted color for HSV (359.94, 1.0, 0.94): 10\n",
            "1/1 [==============================] - 0s 77ms/step\n",
            "Predicted color for HSV (359.92, 1.0, 0.94): 10\n",
            "1/1 [==============================] - 0s 82ms/step\n",
            "Predicted color for HSV (0.19, 1.0, 0.94): 10\n",
            "1/1 [==============================] - 0s 78ms/step\n",
            "Predicted color for HSV (0.17, 1.0, 0.94): 10\n",
            "1/1 [==============================] - 0s 76ms/step\n",
            "Predicted color for HSV (0.14, 1.0, 0.94): 10\n",
            "1/1 [==============================] - 0s 117ms/step\n",
            "Predicted color for HSV (0.11, 1.0, 0.94): 10\n",
            "1/1 [==============================] - 0s 104ms/step\n",
            "Predicted color for HSV (0.09, 1.0, 0.94): 10\n",
            "1/1 [==============================] - 0s 112ms/step\n",
            "Predicted color for HSV (0.06, 1.0, 0.94): 10\n",
            "1/1 [==============================] - 0s 110ms/step\n",
            "Predicted color for HSV (0.03, 1.0, 0.94): 10\n",
            "1/1 [==============================] - 0s 109ms/step\n",
            "Predicted color for HSV (0.0, 1.0, 0.94): 10\n",
            "1/1 [==============================] - 0s 101ms/step\n",
            "Predicted color for HSV (359.97, 1.0, 0.94): 10\n",
            "1/1 [==============================] - 0s 108ms/step\n",
            "Predicted color for HSV (359.94, 1.0, 0.94): 10\n",
            "1/1 [==============================] - 0s 115ms/step\n",
            "Predicted color for HSV (0.22, 1.0, 0.94): 10\n",
            "1/1 [==============================] - 0s 106ms/step\n",
            "Predicted color for HSV (0.2, 1.0, 0.94): 10\n",
            "1/1 [==============================] - 0s 109ms/step\n",
            "Predicted color for HSV (0.17, 1.0, 0.94): 10\n",
            "1/1 [==============================] - 0s 127ms/step\n",
            "Predicted color for HSV (0.14, 1.0, 0.94): 10\n",
            "1/1 [==============================] - 0s 112ms/step\n",
            "Predicted color for HSV (0.11, 1.0, 0.94): 10\n",
            "1/1 [==============================] - 0s 102ms/step\n",
            "Predicted color for HSV (0.08, 1.0, 0.94): 10\n",
            "1/1 [==============================] - 0s 100ms/step\n",
            "Predicted color for HSV (0.06, 1.0, 0.94): 10\n",
            "1/1 [==============================] - 0s 101ms/step\n",
            "Predicted color for HSV (0.03, 1.0, 0.94): 10\n",
            "1/1 [==============================] - 0s 109ms/step\n",
            "Predicted color for HSV (0.0, 1.0, 0.94): 10\n",
            "1/1 [==============================] - 0s 104ms/step\n",
            "Predicted color for HSV (359.97, 1.0, 0.94): 10\n",
            "1/1 [==============================] - 0s 102ms/step\n",
            "Predicted color for HSV (0.25, 1.0, 0.94): 10\n",
            "1/1 [==============================] - 0s 100ms/step\n",
            "Predicted color for HSV (0.22, 1.0, 0.94): 10\n",
            "1/1 [==============================] - 0s 98ms/step\n",
            "Predicted color for HSV (0.2, 1.0, 0.94): 10\n",
            "1/1 [==============================] - 0s 109ms/step\n",
            "Predicted color for HSV (0.17, 1.0, 0.94): 10\n",
            "1/1 [==============================] - 0s 71ms/step\n",
            "Predicted color for HSV (0.14, 1.0, 0.94): 10\n",
            "1/1 [==============================] - 0s 73ms/step\n",
            "Predicted color for HSV (0.11, 1.0, 0.94): 10\n",
            "1/1 [==============================] - 0s 80ms/step\n",
            "Predicted color for HSV (0.08, 1.0, 0.94): 10\n",
            "1/1 [==============================] - 0s 75ms/step\n",
            "Predicted color for HSV (0.06, 1.0, 0.94): 10\n",
            "1/1 [==============================] - 0s 77ms/step\n",
            "Predicted color for HSV (0.03, 1.0, 0.94): 10\n",
            "1/1 [==============================] - 0s 72ms/step\n",
            "Predicted color for HSV (0.0, 1.0, 0.94): 10\n",
            "1/1 [==============================] - 0s 72ms/step\n"
          ]
        },
        {
          "output_type": "stream",
          "name": "stderr",
          "text": [
            "WARNING:matplotlib.image:Clipping input data to the valid range for imshow with RGB data ([0..1] for floats or [0..255] for integers).\n"
          ]
        },
        {
          "output_type": "stream",
          "name": "stdout",
          "text": [
            "Predicted color for HSV (0.0, 1.0, 1.1): 10\n",
            "1/1 [==============================] - 0s 80ms/step\n"
          ]
        },
        {
          "output_type": "stream",
          "name": "stderr",
          "text": [
            "WARNING:matplotlib.image:Clipping input data to the valid range for imshow with RGB data ([0..1] for floats or [0..255] for integers).\n"
          ]
        },
        {
          "output_type": "stream",
          "name": "stdout",
          "text": [
            "Predicted color for HSV (359.98, 1.0, 1.1): 10\n",
            "1/1 [==============================] - 0s 73ms/step\n"
          ]
        },
        {
          "output_type": "stream",
          "name": "stderr",
          "text": [
            "WARNING:matplotlib.image:Clipping input data to the valid range for imshow with RGB data ([0..1] for floats or [0..255] for integers).\n"
          ]
        },
        {
          "output_type": "stream",
          "name": "stdout",
          "text": [
            "Predicted color for HSV (359.95, 1.0, 1.1): 10\n",
            "1/1 [==============================] - 0s 77ms/step\n"
          ]
        },
        {
          "output_type": "stream",
          "name": "stderr",
          "text": [
            "WARNING:matplotlib.image:Clipping input data to the valid range for imshow with RGB data ([0..1] for floats or [0..255] for integers).\n"
          ]
        },
        {
          "output_type": "stream",
          "name": "stdout",
          "text": [
            "Predicted color for HSV (359.93, 1.0, 1.1): 10\n",
            "1/1 [==============================] - 0s 74ms/step\n"
          ]
        },
        {
          "output_type": "stream",
          "name": "stderr",
          "text": [
            "WARNING:matplotlib.image:Clipping input data to the valid range for imshow with RGB data ([0..1] for floats or [0..255] for integers).\n"
          ]
        },
        {
          "output_type": "stream",
          "name": "stdout",
          "text": [
            "Predicted color for HSV (359.91, 1.0, 1.1): 10\n",
            "1/1 [==============================] - 0s 74ms/step\n"
          ]
        },
        {
          "output_type": "stream",
          "name": "stderr",
          "text": [
            "WARNING:matplotlib.image:Clipping input data to the valid range for imshow with RGB data ([0..1] for floats or [0..255] for integers).\n"
          ]
        },
        {
          "output_type": "stream",
          "name": "stdout",
          "text": [
            "Predicted color for HSV (359.88, 1.0, 1.1): 10\n",
            "1/1 [==============================] - 0s 78ms/step\n"
          ]
        },
        {
          "output_type": "stream",
          "name": "stderr",
          "text": [
            "WARNING:matplotlib.image:Clipping input data to the valid range for imshow with RGB data ([0..1] for floats or [0..255] for integers).\n"
          ]
        },
        {
          "output_type": "stream",
          "name": "stdout",
          "text": [
            "Predicted color for HSV (359.86, 1.0, 1.1): 10\n",
            "1/1 [==============================] - 0s 73ms/step\n"
          ]
        },
        {
          "output_type": "stream",
          "name": "stderr",
          "text": [
            "WARNING:matplotlib.image:Clipping input data to the valid range for imshow with RGB data ([0..1] for floats or [0..255] for integers).\n"
          ]
        },
        {
          "output_type": "stream",
          "name": "stdout",
          "text": [
            "Predicted color for HSV (359.83, 1.0, 1.1): 10\n",
            "1/1 [==============================] - 0s 76ms/step\n"
          ]
        },
        {
          "output_type": "stream",
          "name": "stderr",
          "text": [
            "WARNING:matplotlib.image:Clipping input data to the valid range for imshow with RGB data ([0..1] for floats or [0..255] for integers).\n"
          ]
        },
        {
          "output_type": "stream",
          "name": "stdout",
          "text": [
            "Predicted color for HSV (359.81, 1.0, 1.1): 10\n",
            "1/1 [==============================] - 0s 85ms/step\n"
          ]
        },
        {
          "output_type": "stream",
          "name": "stderr",
          "text": [
            "WARNING:matplotlib.image:Clipping input data to the valid range for imshow with RGB data ([0..1] for floats or [0..255] for integers).\n"
          ]
        },
        {
          "output_type": "stream",
          "name": "stdout",
          "text": [
            "Predicted color for HSV (359.79, 1.0, 1.1): 10\n",
            "1/1 [==============================] - 0s 78ms/step\n"
          ]
        },
        {
          "output_type": "stream",
          "name": "stderr",
          "text": [
            "WARNING:matplotlib.image:Clipping input data to the valid range for imshow with RGB data ([0..1] for floats or [0..255] for integers).\n"
          ]
        },
        {
          "output_type": "stream",
          "name": "stdout",
          "text": [
            "Predicted color for HSV (0.02, 1.0, 1.1): 10\n",
            "1/1 [==============================] - 0s 76ms/step\n"
          ]
        },
        {
          "output_type": "stream",
          "name": "stderr",
          "text": [
            "WARNING:matplotlib.image:Clipping input data to the valid range for imshow with RGB data ([0..1] for floats or [0..255] for integers).\n"
          ]
        },
        {
          "output_type": "stream",
          "name": "stdout",
          "text": [
            "Predicted color for HSV (0.0, 1.0, 1.1): 10\n",
            "1/1 [==============================] - 0s 71ms/step\n"
          ]
        },
        {
          "output_type": "stream",
          "name": "stderr",
          "text": [
            "WARNING:matplotlib.image:Clipping input data to the valid range for imshow with RGB data ([0..1] for floats or [0..255] for integers).\n"
          ]
        },
        {
          "output_type": "stream",
          "name": "stdout",
          "text": [
            "Predicted color for HSV (359.98, 1.0, 1.1): 10\n",
            "1/1 [==============================] - 1s 666ms/step\n"
          ]
        },
        {
          "output_type": "stream",
          "name": "stderr",
          "text": [
            "WARNING:matplotlib.image:Clipping input data to the valid range for imshow with RGB data ([0..1] for floats or [0..255] for integers).\n"
          ]
        },
        {
          "output_type": "stream",
          "name": "stdout",
          "text": [
            "Predicted color for HSV (359.95, 1.0, 1.1): 10\n",
            "1/1 [==============================] - 0s 98ms/step\n"
          ]
        },
        {
          "output_type": "stream",
          "name": "stderr",
          "text": [
            "WARNING:matplotlib.image:Clipping input data to the valid range for imshow with RGB data ([0..1] for floats or [0..255] for integers).\n"
          ]
        },
        {
          "output_type": "stream",
          "name": "stdout",
          "text": [
            "Predicted color for HSV (359.93, 1.0, 1.1): 10\n",
            "1/1 [==============================] - 0s 99ms/step\n"
          ]
        },
        {
          "output_type": "stream",
          "name": "stderr",
          "text": [
            "WARNING:matplotlib.image:Clipping input data to the valid range for imshow with RGB data ([0..1] for floats or [0..255] for integers).\n"
          ]
        },
        {
          "output_type": "stream",
          "name": "stdout",
          "text": [
            "Predicted color for HSV (359.9, 1.0, 1.1): 10\n",
            "1/1 [==============================] - 0s 102ms/step\n"
          ]
        },
        {
          "output_type": "stream",
          "name": "stderr",
          "text": [
            "WARNING:matplotlib.image:Clipping input data to the valid range for imshow with RGB data ([0..1] for floats or [0..255] for integers).\n"
          ]
        },
        {
          "output_type": "stream",
          "name": "stdout",
          "text": [
            "Predicted color for HSV (359.88, 1.0, 1.1): 10\n",
            "1/1 [==============================] - 0s 88ms/step\n"
          ]
        },
        {
          "output_type": "stream",
          "name": "stderr",
          "text": [
            "WARNING:matplotlib.image:Clipping input data to the valid range for imshow with RGB data ([0..1] for floats or [0..255] for integers).\n"
          ]
        },
        {
          "output_type": "stream",
          "name": "stdout",
          "text": [
            "Predicted color for HSV (359.86, 1.0, 1.1): 10\n",
            "1/1 [==============================] - 0s 84ms/step\n"
          ]
        },
        {
          "output_type": "stream",
          "name": "stderr",
          "text": [
            "WARNING:matplotlib.image:Clipping input data to the valid range for imshow with RGB data ([0..1] for floats or [0..255] for integers).\n"
          ]
        },
        {
          "output_type": "stream",
          "name": "stdout",
          "text": [
            "Predicted color for HSV (359.83, 1.0, 1.1): 10\n",
            "1/1 [==============================] - 0s 83ms/step\n"
          ]
        },
        {
          "output_type": "stream",
          "name": "stderr",
          "text": [
            "WARNING:matplotlib.image:Clipping input data to the valid range for imshow with RGB data ([0..1] for floats or [0..255] for integers).\n"
          ]
        },
        {
          "output_type": "stream",
          "name": "stdout",
          "text": [
            "Predicted color for HSV (359.81, 1.0, 1.1): 10\n",
            "1/1 [==============================] - 0s 77ms/step\n"
          ]
        },
        {
          "output_type": "stream",
          "name": "stderr",
          "text": [
            "WARNING:matplotlib.image:Clipping input data to the valid range for imshow with RGB data ([0..1] for floats or [0..255] for integers).\n"
          ]
        },
        {
          "output_type": "stream",
          "name": "stdout",
          "text": [
            "Predicted color for HSV (0.05, 1.0, 1.1): 10\n",
            "1/1 [==============================] - 0s 88ms/step\n"
          ]
        },
        {
          "output_type": "stream",
          "name": "stderr",
          "text": [
            "WARNING:matplotlib.image:Clipping input data to the valid range for imshow with RGB data ([0..1] for floats or [0..255] for integers).\n"
          ]
        },
        {
          "output_type": "stream",
          "name": "stdout",
          "text": [
            "Predicted color for HSV (0.02, 1.0, 1.1): 10\n",
            "1/1 [==============================] - 0s 80ms/step\n"
          ]
        },
        {
          "output_type": "stream",
          "name": "stderr",
          "text": [
            "WARNING:matplotlib.image:Clipping input data to the valid range for imshow with RGB data ([0..1] for floats or [0..255] for integers).\n"
          ]
        },
        {
          "output_type": "stream",
          "name": "stdout",
          "text": [
            "Predicted color for HSV (0.0, 1.0, 1.1): 10\n",
            "1/1 [==============================] - 0s 87ms/step\n"
          ]
        },
        {
          "output_type": "stream",
          "name": "stderr",
          "text": [
            "WARNING:matplotlib.image:Clipping input data to the valid range for imshow with RGB data ([0..1] for floats or [0..255] for integers).\n"
          ]
        },
        {
          "output_type": "stream",
          "name": "stdout",
          "text": [
            "Predicted color for HSV (359.98, 1.0, 1.1): 10\n",
            "1/1 [==============================] - 0s 90ms/step\n"
          ]
        },
        {
          "output_type": "stream",
          "name": "stderr",
          "text": [
            "WARNING:matplotlib.image:Clipping input data to the valid range for imshow with RGB data ([0..1] for floats or [0..255] for integers).\n"
          ]
        },
        {
          "output_type": "stream",
          "name": "stdout",
          "text": [
            "Predicted color for HSV (359.95, 1.0, 1.1): 10\n",
            "1/1 [==============================] - 0s 81ms/step\n"
          ]
        },
        {
          "output_type": "stream",
          "name": "stderr",
          "text": [
            "WARNING:matplotlib.image:Clipping input data to the valid range for imshow with RGB data ([0..1] for floats or [0..255] for integers).\n"
          ]
        },
        {
          "output_type": "stream",
          "name": "stdout",
          "text": [
            "Predicted color for HSV (359.93, 1.0, 1.1): 10\n",
            "1/1 [==============================] - 0s 80ms/step\n"
          ]
        },
        {
          "output_type": "stream",
          "name": "stderr",
          "text": [
            "WARNING:matplotlib.image:Clipping input data to the valid range for imshow with RGB data ([0..1] for floats or [0..255] for integers).\n"
          ]
        },
        {
          "output_type": "stream",
          "name": "stdout",
          "text": [
            "Predicted color for HSV (359.9, 1.0, 1.1): 10\n",
            "1/1 [==============================] - 0s 79ms/step\n"
          ]
        },
        {
          "output_type": "stream",
          "name": "stderr",
          "text": [
            "WARNING:matplotlib.image:Clipping input data to the valid range for imshow with RGB data ([0..1] for floats or [0..255] for integers).\n"
          ]
        },
        {
          "output_type": "stream",
          "name": "stdout",
          "text": [
            "Predicted color for HSV (359.88, 1.0, 1.1): 10\n",
            "1/1 [==============================] - 0s 76ms/step\n"
          ]
        },
        {
          "output_type": "stream",
          "name": "stderr",
          "text": [
            "WARNING:matplotlib.image:Clipping input data to the valid range for imshow with RGB data ([0..1] for floats or [0..255] for integers).\n"
          ]
        },
        {
          "output_type": "stream",
          "name": "stdout",
          "text": [
            "Predicted color for HSV (359.86, 1.0, 1.1): 10\n",
            "1/1 [==============================] - 0s 80ms/step\n"
          ]
        },
        {
          "output_type": "stream",
          "name": "stderr",
          "text": [
            "WARNING:matplotlib.image:Clipping input data to the valid range for imshow with RGB data ([0..1] for floats or [0..255] for integers).\n"
          ]
        },
        {
          "output_type": "stream",
          "name": "stdout",
          "text": [
            "Predicted color for HSV (359.83, 1.0, 1.1): 10\n",
            "1/1 [==============================] - 0s 80ms/step\n"
          ]
        },
        {
          "output_type": "stream",
          "name": "stderr",
          "text": [
            "WARNING:matplotlib.image:Clipping input data to the valid range for imshow with RGB data ([0..1] for floats or [0..255] for integers).\n"
          ]
        },
        {
          "output_type": "stream",
          "name": "stdout",
          "text": [
            "Predicted color for HSV (0.07, 1.0, 1.1): 10\n",
            "1/1 [==============================] - 0s 72ms/step\n"
          ]
        },
        {
          "output_type": "stream",
          "name": "stderr",
          "text": [
            "WARNING:matplotlib.image:Clipping input data to the valid range for imshow with RGB data ([0..1] for floats or [0..255] for integers).\n"
          ]
        },
        {
          "output_type": "stream",
          "name": "stdout",
          "text": [
            "Predicted color for HSV (0.05, 1.0, 1.1): 10\n",
            "1/1 [==============================] - 0s 73ms/step\n"
          ]
        },
        {
          "output_type": "stream",
          "name": "stderr",
          "text": [
            "WARNING:matplotlib.image:Clipping input data to the valid range for imshow with RGB data ([0..1] for floats or [0..255] for integers).\n"
          ]
        },
        {
          "output_type": "stream",
          "name": "stdout",
          "text": [
            "Predicted color for HSV (0.02, 1.0, 1.1): 10\n",
            "1/1 [==============================] - 0s 118ms/step\n"
          ]
        },
        {
          "output_type": "stream",
          "name": "stderr",
          "text": [
            "WARNING:matplotlib.image:Clipping input data to the valid range for imshow with RGB data ([0..1] for floats or [0..255] for integers).\n"
          ]
        },
        {
          "output_type": "stream",
          "name": "stdout",
          "text": [
            "Predicted color for HSV (0.0, 1.0, 1.1): 10\n",
            "1/1 [==============================] - 0s 101ms/step\n"
          ]
        },
        {
          "output_type": "stream",
          "name": "stderr",
          "text": [
            "WARNING:matplotlib.image:Clipping input data to the valid range for imshow with RGB data ([0..1] for floats or [0..255] for integers).\n"
          ]
        },
        {
          "output_type": "stream",
          "name": "stdout",
          "text": [
            "Predicted color for HSV (359.98, 1.0, 1.1): 10\n",
            "1/1 [==============================] - 0s 102ms/step\n"
          ]
        },
        {
          "output_type": "stream",
          "name": "stderr",
          "text": [
            "WARNING:matplotlib.image:Clipping input data to the valid range for imshow with RGB data ([0..1] for floats or [0..255] for integers).\n"
          ]
        },
        {
          "output_type": "stream",
          "name": "stdout",
          "text": [
            "Predicted color for HSV (359.95, 1.0, 1.1): 10\n",
            "1/1 [==============================] - 0s 105ms/step\n"
          ]
        },
        {
          "output_type": "stream",
          "name": "stderr",
          "text": [
            "WARNING:matplotlib.image:Clipping input data to the valid range for imshow with RGB data ([0..1] for floats or [0..255] for integers).\n"
          ]
        },
        {
          "output_type": "stream",
          "name": "stdout",
          "text": [
            "Predicted color for HSV (359.93, 1.0, 1.1): 10\n",
            "1/1 [==============================] - 0s 111ms/step\n"
          ]
        },
        {
          "output_type": "stream",
          "name": "stderr",
          "text": [
            "WARNING:matplotlib.image:Clipping input data to the valid range for imshow with RGB data ([0..1] for floats or [0..255] for integers).\n"
          ]
        },
        {
          "output_type": "stream",
          "name": "stdout",
          "text": [
            "Predicted color for HSV (359.9, 1.0, 1.1): 10\n",
            "1/1 [==============================] - 0s 113ms/step\n"
          ]
        },
        {
          "output_type": "stream",
          "name": "stderr",
          "text": [
            "WARNING:matplotlib.image:Clipping input data to the valid range for imshow with RGB data ([0..1] for floats or [0..255] for integers).\n"
          ]
        },
        {
          "output_type": "stream",
          "name": "stdout",
          "text": [
            "Predicted color for HSV (359.88, 1.0, 1.1): 10\n",
            "1/1 [==============================] - 0s 126ms/step\n"
          ]
        },
        {
          "output_type": "stream",
          "name": "stderr",
          "text": [
            "WARNING:matplotlib.image:Clipping input data to the valid range for imshow with RGB data ([0..1] for floats or [0..255] for integers).\n"
          ]
        },
        {
          "output_type": "stream",
          "name": "stdout",
          "text": [
            "Predicted color for HSV (359.86, 1.0, 1.1): 10\n",
            "1/1 [==============================] - 0s 119ms/step\n"
          ]
        },
        {
          "output_type": "stream",
          "name": "stderr",
          "text": [
            "WARNING:matplotlib.image:Clipping input data to the valid range for imshow with RGB data ([0..1] for floats or [0..255] for integers).\n"
          ]
        },
        {
          "output_type": "stream",
          "name": "stdout",
          "text": [
            "Predicted color for HSV (0.09, 1.0, 1.1): 10\n",
            "1/1 [==============================] - 0s 97ms/step\n"
          ]
        },
        {
          "output_type": "stream",
          "name": "stderr",
          "text": [
            "WARNING:matplotlib.image:Clipping input data to the valid range for imshow with RGB data ([0..1] for floats or [0..255] for integers).\n"
          ]
        },
        {
          "output_type": "stream",
          "name": "stdout",
          "text": [
            "Predicted color for HSV (0.07, 1.0, 1.1): 10\n",
            "1/1 [==============================] - 0s 106ms/step\n"
          ]
        },
        {
          "output_type": "stream",
          "name": "stderr",
          "text": [
            "WARNING:matplotlib.image:Clipping input data to the valid range for imshow with RGB data ([0..1] for floats or [0..255] for integers).\n"
          ]
        },
        {
          "output_type": "stream",
          "name": "stdout",
          "text": [
            "Predicted color for HSV (0.05, 1.0, 1.1): 10\n",
            "1/1 [==============================] - 0s 101ms/step\n"
          ]
        },
        {
          "output_type": "stream",
          "name": "stderr",
          "text": [
            "WARNING:matplotlib.image:Clipping input data to the valid range for imshow with RGB data ([0..1] for floats or [0..255] for integers).\n"
          ]
        },
        {
          "output_type": "stream",
          "name": "stdout",
          "text": [
            "Predicted color for HSV (0.02, 1.0, 1.1): 10\n",
            "1/1 [==============================] - 0s 99ms/step\n"
          ]
        },
        {
          "output_type": "stream",
          "name": "stderr",
          "text": [
            "WARNING:matplotlib.image:Clipping input data to the valid range for imshow with RGB data ([0..1] for floats or [0..255] for integers).\n"
          ]
        },
        {
          "output_type": "stream",
          "name": "stdout",
          "text": [
            "Predicted color for HSV (0.0, 1.0, 1.1): 10\n",
            "1/1 [==============================] - 0s 125ms/step\n"
          ]
        },
        {
          "output_type": "stream",
          "name": "stderr",
          "text": [
            "WARNING:matplotlib.image:Clipping input data to the valid range for imshow with RGB data ([0..1] for floats or [0..255] for integers).\n"
          ]
        },
        {
          "output_type": "stream",
          "name": "stdout",
          "text": [
            "Predicted color for HSV (359.97, 1.0, 1.1): 10\n",
            "1/1 [==============================] - 0s 105ms/step\n"
          ]
        },
        {
          "output_type": "stream",
          "name": "stderr",
          "text": [
            "WARNING:matplotlib.image:Clipping input data to the valid range for imshow with RGB data ([0..1] for floats or [0..255] for integers).\n"
          ]
        },
        {
          "output_type": "stream",
          "name": "stdout",
          "text": [
            "Predicted color for HSV (359.95, 1.0, 1.1): 10\n",
            "1/1 [==============================] - 0s 111ms/step\n"
          ]
        },
        {
          "output_type": "stream",
          "name": "stderr",
          "text": [
            "WARNING:matplotlib.image:Clipping input data to the valid range for imshow with RGB data ([0..1] for floats or [0..255] for integers).\n"
          ]
        },
        {
          "output_type": "stream",
          "name": "stdout",
          "text": [
            "Predicted color for HSV (359.93, 1.0, 1.1): 10\n",
            "1/1 [==============================] - 0s 110ms/step\n"
          ]
        },
        {
          "output_type": "stream",
          "name": "stderr",
          "text": [
            "WARNING:matplotlib.image:Clipping input data to the valid range for imshow with RGB data ([0..1] for floats or [0..255] for integers).\n"
          ]
        },
        {
          "output_type": "stream",
          "name": "stdout",
          "text": [
            "Predicted color for HSV (359.9, 1.0, 1.1): 10\n",
            "1/1 [==============================] - 0s 97ms/step\n"
          ]
        },
        {
          "output_type": "stream",
          "name": "stderr",
          "text": [
            "WARNING:matplotlib.image:Clipping input data to the valid range for imshow with RGB data ([0..1] for floats or [0..255] for integers).\n"
          ]
        },
        {
          "output_type": "stream",
          "name": "stdout",
          "text": [
            "Predicted color for HSV (359.88, 1.0, 1.1): 10\n",
            "1/1 [==============================] - 0s 106ms/step\n"
          ]
        },
        {
          "output_type": "stream",
          "name": "stderr",
          "text": [
            "WARNING:matplotlib.image:Clipping input data to the valid range for imshow with RGB data ([0..1] for floats or [0..255] for integers).\n"
          ]
        },
        {
          "output_type": "stream",
          "name": "stdout",
          "text": [
            "Predicted color for HSV (0.12, 1.0, 1.1): 10\n",
            "1/1 [==============================] - 0s 105ms/step\n"
          ]
        },
        {
          "output_type": "stream",
          "name": "stderr",
          "text": [
            "WARNING:matplotlib.image:Clipping input data to the valid range for imshow with RGB data ([0..1] for floats or [0..255] for integers).\n"
          ]
        },
        {
          "output_type": "stream",
          "name": "stdout",
          "text": [
            "Predicted color for HSV (0.1, 1.0, 1.1): 10\n",
            "1/1 [==============================] - 0s 115ms/step\n"
          ]
        },
        {
          "output_type": "stream",
          "name": "stderr",
          "text": [
            "WARNING:matplotlib.image:Clipping input data to the valid range for imshow with RGB data ([0..1] for floats or [0..255] for integers).\n"
          ]
        },
        {
          "output_type": "stream",
          "name": "stdout",
          "text": [
            "Predicted color for HSV (0.07, 1.0, 1.1): 10\n",
            "1/1 [==============================] - 0s 68ms/step\n"
          ]
        },
        {
          "output_type": "stream",
          "name": "stderr",
          "text": [
            "WARNING:matplotlib.image:Clipping input data to the valid range for imshow with RGB data ([0..1] for floats or [0..255] for integers).\n"
          ]
        },
        {
          "output_type": "stream",
          "name": "stdout",
          "text": [
            "Predicted color for HSV (0.05, 1.0, 1.1): 10\n",
            "1/1 [==============================] - 0s 81ms/step\n"
          ]
        },
        {
          "output_type": "stream",
          "name": "stderr",
          "text": [
            "WARNING:matplotlib.image:Clipping input data to the valid range for imshow with RGB data ([0..1] for floats or [0..255] for integers).\n"
          ]
        },
        {
          "output_type": "stream",
          "name": "stdout",
          "text": [
            "Predicted color for HSV (0.03, 1.0, 1.1): 10\n",
            "1/1 [==============================] - 0s 89ms/step\n"
          ]
        },
        {
          "output_type": "stream",
          "name": "stderr",
          "text": [
            "WARNING:matplotlib.image:Clipping input data to the valid range for imshow with RGB data ([0..1] for floats or [0..255] for integers).\n"
          ]
        },
        {
          "output_type": "stream",
          "name": "stdout",
          "text": [
            "Predicted color for HSV (0.0, 1.0, 1.1): 10\n",
            "1/1 [==============================] - 0s 75ms/step\n"
          ]
        },
        {
          "output_type": "stream",
          "name": "stderr",
          "text": [
            "WARNING:matplotlib.image:Clipping input data to the valid range for imshow with RGB data ([0..1] for floats or [0..255] for integers).\n"
          ]
        },
        {
          "output_type": "stream",
          "name": "stdout",
          "text": [
            "Predicted color for HSV (359.98, 1.0, 1.1): 10\n",
            "1/1 [==============================] - 0s 73ms/step\n"
          ]
        },
        {
          "output_type": "stream",
          "name": "stderr",
          "text": [
            "WARNING:matplotlib.image:Clipping input data to the valid range for imshow with RGB data ([0..1] for floats or [0..255] for integers).\n"
          ]
        },
        {
          "output_type": "stream",
          "name": "stdout",
          "text": [
            "Predicted color for HSV (359.95, 1.0, 1.1): 10\n",
            "1/1 [==============================] - 0s 71ms/step\n"
          ]
        },
        {
          "output_type": "stream",
          "name": "stderr",
          "text": [
            "WARNING:matplotlib.image:Clipping input data to the valid range for imshow with RGB data ([0..1] for floats or [0..255] for integers).\n"
          ]
        },
        {
          "output_type": "stream",
          "name": "stdout",
          "text": [
            "Predicted color for HSV (359.93, 1.0, 1.1): 10\n",
            "1/1 [==============================] - 0s 81ms/step\n"
          ]
        },
        {
          "output_type": "stream",
          "name": "stderr",
          "text": [
            "WARNING:matplotlib.image:Clipping input data to the valid range for imshow with RGB data ([0..1] for floats or [0..255] for integers).\n"
          ]
        },
        {
          "output_type": "stream",
          "name": "stdout",
          "text": [
            "Predicted color for HSV (359.91, 1.0, 1.1): 10\n",
            "1/1 [==============================] - 0s 74ms/step\n"
          ]
        },
        {
          "output_type": "stream",
          "name": "stderr",
          "text": [
            "WARNING:matplotlib.image:Clipping input data to the valid range for imshow with RGB data ([0..1] for floats or [0..255] for integers).\n"
          ]
        },
        {
          "output_type": "stream",
          "name": "stdout",
          "text": [
            "Predicted color for HSV (0.14, 1.0, 1.1): 10\n",
            "1/1 [==============================] - 0s 79ms/step\n"
          ]
        },
        {
          "output_type": "stream",
          "name": "stderr",
          "text": [
            "WARNING:matplotlib.image:Clipping input data to the valid range for imshow with RGB data ([0..1] for floats or [0..255] for integers).\n"
          ]
        },
        {
          "output_type": "stream",
          "name": "stdout",
          "text": [
            "Predicted color for HSV (0.12, 1.0, 1.1): 10\n",
            "1/1 [==============================] - 0s 73ms/step\n"
          ]
        },
        {
          "output_type": "stream",
          "name": "stderr",
          "text": [
            "WARNING:matplotlib.image:Clipping input data to the valid range for imshow with RGB data ([0..1] for floats or [0..255] for integers).\n"
          ]
        },
        {
          "output_type": "stream",
          "name": "stdout",
          "text": [
            "Predicted color for HSV (0.1, 1.0, 1.1): 10\n",
            "1/1 [==============================] - 0s 77ms/step\n"
          ]
        },
        {
          "output_type": "stream",
          "name": "stderr",
          "text": [
            "WARNING:matplotlib.image:Clipping input data to the valid range for imshow with RGB data ([0..1] for floats or [0..255] for integers).\n"
          ]
        },
        {
          "output_type": "stream",
          "name": "stdout",
          "text": [
            "Predicted color for HSV (0.07, 1.0, 1.1): 10\n",
            "1/1 [==============================] - 0s 71ms/step\n"
          ]
        },
        {
          "output_type": "stream",
          "name": "stderr",
          "text": [
            "WARNING:matplotlib.image:Clipping input data to the valid range for imshow with RGB data ([0..1] for floats or [0..255] for integers).\n"
          ]
        },
        {
          "output_type": "stream",
          "name": "stdout",
          "text": [
            "Predicted color for HSV (0.05, 1.0, 1.1): 10\n",
            "1/1 [==============================] - 0s 76ms/step\n"
          ]
        },
        {
          "output_type": "stream",
          "name": "stderr",
          "text": [
            "WARNING:matplotlib.image:Clipping input data to the valid range for imshow with RGB data ([0..1] for floats or [0..255] for integers).\n"
          ]
        },
        {
          "output_type": "stream",
          "name": "stdout",
          "text": [
            "Predicted color for HSV (0.02, 1.0, 1.1): 10\n",
            "1/1 [==============================] - 0s 71ms/step\n"
          ]
        },
        {
          "output_type": "stream",
          "name": "stderr",
          "text": [
            "WARNING:matplotlib.image:Clipping input data to the valid range for imshow with RGB data ([0..1] for floats or [0..255] for integers).\n"
          ]
        },
        {
          "output_type": "stream",
          "name": "stdout",
          "text": [
            "Predicted color for HSV (0.0, 1.0, 1.1): 10\n",
            "1/1 [==============================] - 0s 72ms/step\n"
          ]
        },
        {
          "output_type": "stream",
          "name": "stderr",
          "text": [
            "WARNING:matplotlib.image:Clipping input data to the valid range for imshow with RGB data ([0..1] for floats or [0..255] for integers).\n"
          ]
        },
        {
          "output_type": "stream",
          "name": "stdout",
          "text": [
            "Predicted color for HSV (359.98, 1.0, 1.1): 10\n",
            "1/1 [==============================] - 0s 81ms/step\n"
          ]
        },
        {
          "output_type": "stream",
          "name": "stderr",
          "text": [
            "WARNING:matplotlib.image:Clipping input data to the valid range for imshow with RGB data ([0..1] for floats or [0..255] for integers).\n"
          ]
        },
        {
          "output_type": "stream",
          "name": "stdout",
          "text": [
            "Predicted color for HSV (359.95, 1.0, 1.1): 10\n",
            "1/1 [==============================] - 0s 83ms/step\n"
          ]
        },
        {
          "output_type": "stream",
          "name": "stderr",
          "text": [
            "WARNING:matplotlib.image:Clipping input data to the valid range for imshow with RGB data ([0..1] for floats or [0..255] for integers).\n"
          ]
        },
        {
          "output_type": "stream",
          "name": "stdout",
          "text": [
            "Predicted color for HSV (359.93, 1.0, 1.1): 10\n",
            "1/1 [==============================] - 0s 73ms/step\n"
          ]
        },
        {
          "output_type": "stream",
          "name": "stderr",
          "text": [
            "WARNING:matplotlib.image:Clipping input data to the valid range for imshow with RGB data ([0..1] for floats or [0..255] for integers).\n"
          ]
        },
        {
          "output_type": "stream",
          "name": "stdout",
          "text": [
            "Predicted color for HSV (0.17, 1.0, 1.1): 10\n",
            "1/1 [==============================] - 0s 85ms/step\n"
          ]
        },
        {
          "output_type": "stream",
          "name": "stderr",
          "text": [
            "WARNING:matplotlib.image:Clipping input data to the valid range for imshow with RGB data ([0..1] for floats or [0..255] for integers).\n"
          ]
        },
        {
          "output_type": "stream",
          "name": "stdout",
          "text": [
            "Predicted color for HSV (0.14, 1.0, 1.1): 10\n",
            "1/1 [==============================] - 0s 75ms/step\n"
          ]
        },
        {
          "output_type": "stream",
          "name": "stderr",
          "text": [
            "WARNING:matplotlib.image:Clipping input data to the valid range for imshow with RGB data ([0..1] for floats or [0..255] for integers).\n"
          ]
        },
        {
          "output_type": "stream",
          "name": "stdout",
          "text": [
            "Predicted color for HSV (0.12, 1.0, 1.1): 10\n",
            "1/1 [==============================] - 0s 71ms/step\n"
          ]
        },
        {
          "output_type": "stream",
          "name": "stderr",
          "text": [
            "WARNING:matplotlib.image:Clipping input data to the valid range for imshow with RGB data ([0..1] for floats or [0..255] for integers).\n"
          ]
        },
        {
          "output_type": "stream",
          "name": "stdout",
          "text": [
            "Predicted color for HSV (0.1, 1.0, 1.1): 10\n",
            "1/1 [==============================] - 0s 72ms/step\n"
          ]
        },
        {
          "output_type": "stream",
          "name": "stderr",
          "text": [
            "WARNING:matplotlib.image:Clipping input data to the valid range for imshow with RGB data ([0..1] for floats or [0..255] for integers).\n"
          ]
        },
        {
          "output_type": "stream",
          "name": "stdout",
          "text": [
            "Predicted color for HSV (0.07, 1.0, 1.1): 10\n",
            "1/1 [==============================] - 0s 74ms/step\n"
          ]
        },
        {
          "output_type": "stream",
          "name": "stderr",
          "text": [
            "WARNING:matplotlib.image:Clipping input data to the valid range for imshow with RGB data ([0..1] for floats or [0..255] for integers).\n"
          ]
        },
        {
          "output_type": "stream",
          "name": "stdout",
          "text": [
            "Predicted color for HSV (0.05, 1.0, 1.1): 10\n",
            "1/1 [==============================] - 0s 72ms/step\n"
          ]
        },
        {
          "output_type": "stream",
          "name": "stderr",
          "text": [
            "WARNING:matplotlib.image:Clipping input data to the valid range for imshow with RGB data ([0..1] for floats or [0..255] for integers).\n"
          ]
        },
        {
          "output_type": "stream",
          "name": "stdout",
          "text": [
            "Predicted color for HSV (0.02, 1.0, 1.1): 10\n",
            "1/1 [==============================] - 0s 77ms/step\n"
          ]
        },
        {
          "output_type": "stream",
          "name": "stderr",
          "text": [
            "WARNING:matplotlib.image:Clipping input data to the valid range for imshow with RGB data ([0..1] for floats or [0..255] for integers).\n"
          ]
        },
        {
          "output_type": "stream",
          "name": "stdout",
          "text": [
            "Predicted color for HSV (0.0, 1.0, 1.1): 10\n",
            "1/1 [==============================] - 0s 71ms/step\n"
          ]
        },
        {
          "output_type": "stream",
          "name": "stderr",
          "text": [
            "WARNING:matplotlib.image:Clipping input data to the valid range for imshow with RGB data ([0..1] for floats or [0..255] for integers).\n"
          ]
        },
        {
          "output_type": "stream",
          "name": "stdout",
          "text": [
            "Predicted color for HSV (359.98, 1.0, 1.1): 10\n",
            "1/1 [==============================] - 0s 71ms/step\n"
          ]
        },
        {
          "output_type": "stream",
          "name": "stderr",
          "text": [
            "WARNING:matplotlib.image:Clipping input data to the valid range for imshow with RGB data ([0..1] for floats or [0..255] for integers).\n"
          ]
        },
        {
          "output_type": "stream",
          "name": "stdout",
          "text": [
            "Predicted color for HSV (359.95, 1.0, 1.1): 10\n",
            "1/1 [==============================] - 0s 73ms/step\n"
          ]
        },
        {
          "output_type": "stream",
          "name": "stderr",
          "text": [
            "WARNING:matplotlib.image:Clipping input data to the valid range for imshow with RGB data ([0..1] for floats or [0..255] for integers).\n"
          ]
        },
        {
          "output_type": "stream",
          "name": "stdout",
          "text": [
            "Predicted color for HSV (0.19, 1.0, 1.1): 10\n",
            "1/1 [==============================] - 0s 80ms/step\n"
          ]
        },
        {
          "output_type": "stream",
          "name": "stderr",
          "text": [
            "WARNING:matplotlib.image:Clipping input data to the valid range for imshow with RGB data ([0..1] for floats or [0..255] for integers).\n"
          ]
        },
        {
          "output_type": "stream",
          "name": "stdout",
          "text": [
            "Predicted color for HSV (0.17, 1.0, 1.1): 10\n",
            "1/1 [==============================] - 0s 97ms/step\n"
          ]
        },
        {
          "output_type": "stream",
          "name": "stderr",
          "text": [
            "WARNING:matplotlib.image:Clipping input data to the valid range for imshow with RGB data ([0..1] for floats or [0..255] for integers).\n"
          ]
        },
        {
          "output_type": "stream",
          "name": "stdout",
          "text": [
            "Predicted color for HSV (0.14, 1.0, 1.1): 10\n",
            "1/1 [==============================] - 0s 103ms/step\n"
          ]
        },
        {
          "output_type": "stream",
          "name": "stderr",
          "text": [
            "WARNING:matplotlib.image:Clipping input data to the valid range for imshow with RGB data ([0..1] for floats or [0..255] for integers).\n"
          ]
        },
        {
          "output_type": "stream",
          "name": "stdout",
          "text": [
            "Predicted color for HSV (0.12, 1.0, 1.1): 10\n",
            "1/1 [==============================] - 0s 87ms/step\n"
          ]
        },
        {
          "output_type": "stream",
          "name": "stderr",
          "text": [
            "WARNING:matplotlib.image:Clipping input data to the valid range for imshow with RGB data ([0..1] for floats or [0..255] for integers).\n"
          ]
        },
        {
          "output_type": "stream",
          "name": "stdout",
          "text": [
            "Predicted color for HSV (0.1, 1.0, 1.1): 10\n",
            "1/1 [==============================] - 0s 93ms/step\n"
          ]
        },
        {
          "output_type": "stream",
          "name": "stderr",
          "text": [
            "WARNING:matplotlib.image:Clipping input data to the valid range for imshow with RGB data ([0..1] for floats or [0..255] for integers).\n"
          ]
        },
        {
          "output_type": "stream",
          "name": "stdout",
          "text": [
            "Predicted color for HSV (0.07, 1.0, 1.1): 10\n",
            "1/1 [==============================] - 0s 91ms/step\n"
          ]
        },
        {
          "output_type": "stream",
          "name": "stderr",
          "text": [
            "WARNING:matplotlib.image:Clipping input data to the valid range for imshow with RGB data ([0..1] for floats or [0..255] for integers).\n"
          ]
        },
        {
          "output_type": "stream",
          "name": "stdout",
          "text": [
            "Predicted color for HSV (0.05, 1.0, 1.1): 10\n",
            "1/1 [==============================] - 0s 92ms/step\n"
          ]
        },
        {
          "output_type": "stream",
          "name": "stderr",
          "text": [
            "WARNING:matplotlib.image:Clipping input data to the valid range for imshow with RGB data ([0..1] for floats or [0..255] for integers).\n"
          ]
        },
        {
          "output_type": "stream",
          "name": "stdout",
          "text": [
            "Predicted color for HSV (0.02, 1.0, 1.1): 10\n",
            "1/1 [==============================] - 0s 80ms/step\n"
          ]
        },
        {
          "output_type": "stream",
          "name": "stderr",
          "text": [
            "WARNING:matplotlib.image:Clipping input data to the valid range for imshow with RGB data ([0..1] for floats or [0..255] for integers).\n"
          ]
        },
        {
          "output_type": "stream",
          "name": "stdout",
          "text": [
            "Predicted color for HSV (0.0, 1.0, 1.1): 10\n",
            "1/1 [==============================] - 0s 86ms/step\n"
          ]
        },
        {
          "output_type": "stream",
          "name": "stderr",
          "text": [
            "WARNING:matplotlib.image:Clipping input data to the valid range for imshow with RGB data ([0..1] for floats or [0..255] for integers).\n"
          ]
        },
        {
          "output_type": "stream",
          "name": "stdout",
          "text": [
            "Predicted color for HSV (359.98, 1.0, 1.1): 10\n",
            "1/1 [==============================] - 0s 88ms/step\n"
          ]
        },
        {
          "output_type": "stream",
          "name": "stderr",
          "text": [
            "WARNING:matplotlib.image:Clipping input data to the valid range for imshow with RGB data ([0..1] for floats or [0..255] for integers).\n"
          ]
        },
        {
          "output_type": "stream",
          "name": "stdout",
          "text": [
            "Predicted color for HSV (0.21, 1.0, 1.1): 10\n",
            "1/1 [==============================] - 0s 86ms/step\n"
          ]
        },
        {
          "output_type": "stream",
          "name": "stderr",
          "text": [
            "WARNING:matplotlib.image:Clipping input data to the valid range for imshow with RGB data ([0..1] for floats or [0..255] for integers).\n"
          ]
        },
        {
          "output_type": "stream",
          "name": "stdout",
          "text": [
            "Predicted color for HSV (0.19, 1.0, 1.1): 10\n",
            "1/1 [==============================] - 0s 121ms/step\n"
          ]
        },
        {
          "output_type": "stream",
          "name": "stderr",
          "text": [
            "WARNING:matplotlib.image:Clipping input data to the valid range for imshow with RGB data ([0..1] for floats or [0..255] for integers).\n"
          ]
        },
        {
          "output_type": "stream",
          "name": "stdout",
          "text": [
            "Predicted color for HSV (0.17, 1.0, 1.1): 10\n",
            "1/1 [==============================] - 0s 105ms/step\n"
          ]
        },
        {
          "output_type": "stream",
          "name": "stderr",
          "text": [
            "WARNING:matplotlib.image:Clipping input data to the valid range for imshow with RGB data ([0..1] for floats or [0..255] for integers).\n"
          ]
        },
        {
          "output_type": "stream",
          "name": "stdout",
          "text": [
            "Predicted color for HSV (0.14, 1.0, 1.1): 10\n",
            "1/1 [==============================] - 0s 113ms/step\n"
          ]
        },
        {
          "output_type": "stream",
          "name": "stderr",
          "text": [
            "WARNING:matplotlib.image:Clipping input data to the valid range for imshow with RGB data ([0..1] for floats or [0..255] for integers).\n"
          ]
        },
        {
          "output_type": "stream",
          "name": "stdout",
          "text": [
            "Predicted color for HSV (0.12, 1.0, 1.1): 10\n",
            "1/1 [==============================] - 0s 105ms/step\n"
          ]
        },
        {
          "output_type": "stream",
          "name": "stderr",
          "text": [
            "WARNING:matplotlib.image:Clipping input data to the valid range for imshow with RGB data ([0..1] for floats or [0..255] for integers).\n"
          ]
        },
        {
          "output_type": "stream",
          "name": "stdout",
          "text": [
            "Predicted color for HSV (0.09, 1.0, 1.1): 10\n",
            "1/1 [==============================] - 0s 114ms/step\n"
          ]
        },
        {
          "output_type": "stream",
          "name": "stderr",
          "text": [
            "WARNING:matplotlib.image:Clipping input data to the valid range for imshow with RGB data ([0..1] for floats or [0..255] for integers).\n"
          ]
        },
        {
          "output_type": "stream",
          "name": "stdout",
          "text": [
            "Predicted color for HSV (0.07, 1.0, 1.1): 10\n",
            "1/1 [==============================] - 0s 105ms/step\n"
          ]
        },
        {
          "output_type": "stream",
          "name": "stderr",
          "text": [
            "WARNING:matplotlib.image:Clipping input data to the valid range for imshow with RGB data ([0..1] for floats or [0..255] for integers).\n"
          ]
        },
        {
          "output_type": "stream",
          "name": "stdout",
          "text": [
            "Predicted color for HSV (0.05, 1.0, 1.1): 10\n",
            "1/1 [==============================] - 0s 105ms/step\n"
          ]
        },
        {
          "output_type": "stream",
          "name": "stderr",
          "text": [
            "WARNING:matplotlib.image:Clipping input data to the valid range for imshow with RGB data ([0..1] for floats or [0..255] for integers).\n"
          ]
        },
        {
          "output_type": "stream",
          "name": "stdout",
          "text": [
            "Predicted color for HSV (0.02, 1.0, 1.1): 10\n",
            "1/1 [==============================] - 0s 109ms/step\n"
          ]
        },
        {
          "output_type": "stream",
          "name": "stderr",
          "text": [
            "WARNING:matplotlib.image:Clipping input data to the valid range for imshow with RGB data ([0..1] for floats or [0..255] for integers).\n"
          ]
        },
        {
          "output_type": "stream",
          "name": "stdout",
          "text": [
            "Predicted color for HSV (0.0, 1.0, 1.1): 10\n",
            "1/1 [==============================] - 0s 101ms/step\n"
          ]
        },
        {
          "output_type": "stream",
          "name": "stderr",
          "text": [
            "WARNING:matplotlib.image:Clipping input data to the valid range for imshow with RGB data ([0..1] for floats or [0..255] for integers).\n"
          ]
        },
        {
          "output_type": "stream",
          "name": "stdout",
          "text": [
            "Predicted color for HSV (0.0, 1.0, 1.25): 10\n",
            "1/1 [==============================] - 0s 100ms/step\n"
          ]
        },
        {
          "output_type": "stream",
          "name": "stderr",
          "text": [
            "WARNING:matplotlib.image:Clipping input data to the valid range for imshow with RGB data ([0..1] for floats or [0..255] for integers).\n"
          ]
        },
        {
          "output_type": "stream",
          "name": "stdout",
          "text": [
            "Predicted color for HSV (359.98, 1.0, 1.25): 10\n",
            "1/1 [==============================] - 0s 108ms/step\n"
          ]
        },
        {
          "output_type": "stream",
          "name": "stderr",
          "text": [
            "WARNING:matplotlib.image:Clipping input data to the valid range for imshow with RGB data ([0..1] for floats or [0..255] for integers).\n"
          ]
        },
        {
          "output_type": "stream",
          "name": "stdout",
          "text": [
            "Predicted color for HSV (359.96, 1.0, 1.25): 10\n",
            "1/1 [==============================] - 0s 109ms/step\n"
          ]
        },
        {
          "output_type": "stream",
          "name": "stderr",
          "text": [
            "WARNING:matplotlib.image:Clipping input data to the valid range for imshow with RGB data ([0..1] for floats or [0..255] for integers).\n"
          ]
        },
        {
          "output_type": "stream",
          "name": "stdout",
          "text": [
            "Predicted color for HSV (359.94, 1.0, 1.25): 10\n",
            "1/1 [==============================] - 0s 107ms/step\n"
          ]
        },
        {
          "output_type": "stream",
          "name": "stderr",
          "text": [
            "WARNING:matplotlib.image:Clipping input data to the valid range for imshow with RGB data ([0..1] for floats or [0..255] for integers).\n"
          ]
        },
        {
          "output_type": "stream",
          "name": "stdout",
          "text": [
            "Predicted color for HSV (359.92, 1.0, 1.25): 10\n",
            "1/1 [==============================] - 0s 101ms/step\n"
          ]
        },
        {
          "output_type": "stream",
          "name": "stderr",
          "text": [
            "WARNING:matplotlib.image:Clipping input data to the valid range for imshow with RGB data ([0..1] for floats or [0..255] for integers).\n"
          ]
        },
        {
          "output_type": "stream",
          "name": "stdout",
          "text": [
            "Predicted color for HSV (359.89, 1.0, 1.25): 10\n",
            "1/1 [==============================] - 0s 100ms/step\n"
          ]
        },
        {
          "output_type": "stream",
          "name": "stderr",
          "text": [
            "WARNING:matplotlib.image:Clipping input data to the valid range for imshow with RGB data ([0..1] for floats or [0..255] for integers).\n"
          ]
        },
        {
          "output_type": "stream",
          "name": "stdout",
          "text": [
            "Predicted color for HSV (359.87, 1.0, 1.25): 10\n",
            "1/1 [==============================] - 0s 128ms/step\n"
          ]
        },
        {
          "output_type": "stream",
          "name": "stderr",
          "text": [
            "WARNING:matplotlib.image:Clipping input data to the valid range for imshow with RGB data ([0..1] for floats or [0..255] for integers).\n"
          ]
        },
        {
          "output_type": "stream",
          "name": "stdout",
          "text": [
            "Predicted color for HSV (359.85, 1.0, 1.25): 10\n",
            "1/1 [==============================] - 0s 111ms/step\n"
          ]
        },
        {
          "output_type": "stream",
          "name": "stderr",
          "text": [
            "WARNING:matplotlib.image:Clipping input data to the valid range for imshow with RGB data ([0..1] for floats or [0..255] for integers).\n"
          ]
        },
        {
          "output_type": "stream",
          "name": "stdout",
          "text": [
            "Predicted color for HSV (359.83, 1.0, 1.25): 10\n",
            "1/1 [==============================] - 0s 99ms/step\n"
          ]
        },
        {
          "output_type": "stream",
          "name": "stderr",
          "text": [
            "WARNING:matplotlib.image:Clipping input data to the valid range for imshow with RGB data ([0..1] for floats or [0..255] for integers).\n"
          ]
        },
        {
          "output_type": "stream",
          "name": "stdout",
          "text": [
            "Predicted color for HSV (359.81, 1.0, 1.25): 10\n",
            "1/1 [==============================] - 0s 117ms/step\n"
          ]
        },
        {
          "output_type": "stream",
          "name": "stderr",
          "text": [
            "WARNING:matplotlib.image:Clipping input data to the valid range for imshow with RGB data ([0..1] for floats or [0..255] for integers).\n"
          ]
        },
        {
          "output_type": "stream",
          "name": "stdout",
          "text": [
            "Predicted color for HSV (0.02, 1.0, 1.25): 10\n",
            "1/1 [==============================] - 0s 105ms/step\n"
          ]
        },
        {
          "output_type": "stream",
          "name": "stderr",
          "text": [
            "WARNING:matplotlib.image:Clipping input data to the valid range for imshow with RGB data ([0..1] for floats or [0..255] for integers).\n"
          ]
        },
        {
          "output_type": "stream",
          "name": "stdout",
          "text": [
            "Predicted color for HSV (0.0, 1.0, 1.25): 10\n",
            "1/1 [==============================] - 0s 74ms/step\n"
          ]
        },
        {
          "output_type": "stream",
          "name": "stderr",
          "text": [
            "WARNING:matplotlib.image:Clipping input data to the valid range for imshow with RGB data ([0..1] for floats or [0..255] for integers).\n"
          ]
        },
        {
          "output_type": "stream",
          "name": "stdout",
          "text": [
            "Predicted color for HSV (359.98, 1.0, 1.25): 10\n",
            "1/1 [==============================] - 0s 80ms/step\n"
          ]
        },
        {
          "output_type": "stream",
          "name": "stderr",
          "text": [
            "WARNING:matplotlib.image:Clipping input data to the valid range for imshow with RGB data ([0..1] for floats or [0..255] for integers).\n"
          ]
        },
        {
          "output_type": "stream",
          "name": "stdout",
          "text": [
            "Predicted color for HSV (359.96, 1.0, 1.25): 10\n",
            "1/1 [==============================] - 0s 77ms/step\n"
          ]
        },
        {
          "output_type": "stream",
          "name": "stderr",
          "text": [
            "WARNING:matplotlib.image:Clipping input data to the valid range for imshow with RGB data ([0..1] for floats or [0..255] for integers).\n"
          ]
        },
        {
          "output_type": "stream",
          "name": "stdout",
          "text": [
            "Predicted color for HSV (359.94, 1.0, 1.25): 10\n",
            "1/1 [==============================] - 0s 72ms/step\n"
          ]
        },
        {
          "output_type": "stream",
          "name": "stderr",
          "text": [
            "WARNING:matplotlib.image:Clipping input data to the valid range for imshow with RGB data ([0..1] for floats or [0..255] for integers).\n"
          ]
        },
        {
          "output_type": "stream",
          "name": "stdout",
          "text": [
            "Predicted color for HSV (359.92, 1.0, 1.25): 10\n",
            "1/1 [==============================] - 0s 75ms/step\n"
          ]
        },
        {
          "output_type": "stream",
          "name": "stderr",
          "text": [
            "WARNING:matplotlib.image:Clipping input data to the valid range for imshow with RGB data ([0..1] for floats or [0..255] for integers).\n"
          ]
        },
        {
          "output_type": "stream",
          "name": "stdout",
          "text": [
            "Predicted color for HSV (359.89, 1.0, 1.25): 10\n",
            "1/1 [==============================] - 0s 75ms/step\n"
          ]
        },
        {
          "output_type": "stream",
          "name": "stderr",
          "text": [
            "WARNING:matplotlib.image:Clipping input data to the valid range for imshow with RGB data ([0..1] for floats or [0..255] for integers).\n"
          ]
        },
        {
          "output_type": "stream",
          "name": "stdout",
          "text": [
            "Predicted color for HSV (359.87, 1.0, 1.25): 10\n",
            "1/1 [==============================] - 0s 79ms/step\n"
          ]
        },
        {
          "output_type": "stream",
          "name": "stderr",
          "text": [
            "WARNING:matplotlib.image:Clipping input data to the valid range for imshow with RGB data ([0..1] for floats or [0..255] for integers).\n"
          ]
        },
        {
          "output_type": "stream",
          "name": "stdout",
          "text": [
            "Predicted color for HSV (359.85, 1.0, 1.25): 10\n",
            "1/1 [==============================] - 0s 74ms/step\n"
          ]
        },
        {
          "output_type": "stream",
          "name": "stderr",
          "text": [
            "WARNING:matplotlib.image:Clipping input data to the valid range for imshow with RGB data ([0..1] for floats or [0..255] for integers).\n"
          ]
        },
        {
          "output_type": "stream",
          "name": "stdout",
          "text": [
            "Predicted color for HSV (359.83, 1.0, 1.25): 10\n",
            "1/1 [==============================] - 0s 84ms/step\n"
          ]
        },
        {
          "output_type": "stream",
          "name": "stderr",
          "text": [
            "WARNING:matplotlib.image:Clipping input data to the valid range for imshow with RGB data ([0..1] for floats or [0..255] for integers).\n"
          ]
        },
        {
          "output_type": "stream",
          "name": "stdout",
          "text": [
            "Predicted color for HSV (0.04, 1.0, 1.25): 10\n",
            "1/1 [==============================] - 0s 74ms/step\n"
          ]
        },
        {
          "output_type": "stream",
          "name": "stderr",
          "text": [
            "WARNING:matplotlib.image:Clipping input data to the valid range for imshow with RGB data ([0..1] for floats or [0..255] for integers).\n"
          ]
        },
        {
          "output_type": "stream",
          "name": "stdout",
          "text": [
            "Predicted color for HSV (0.02, 1.0, 1.25): 10\n",
            "1/1 [==============================] - 0s 80ms/step\n"
          ]
        },
        {
          "output_type": "stream",
          "name": "stderr",
          "text": [
            "WARNING:matplotlib.image:Clipping input data to the valid range for imshow with RGB data ([0..1] for floats or [0..255] for integers).\n"
          ]
        },
        {
          "output_type": "stream",
          "name": "stdout",
          "text": [
            "Predicted color for HSV (0.0, 1.0, 1.25): 10\n",
            "1/1 [==============================] - 0s 74ms/step\n"
          ]
        },
        {
          "output_type": "stream",
          "name": "stderr",
          "text": [
            "WARNING:matplotlib.image:Clipping input data to the valid range for imshow with RGB data ([0..1] for floats or [0..255] for integers).\n"
          ]
        },
        {
          "output_type": "stream",
          "name": "stdout",
          "text": [
            "Predicted color for HSV (359.98, 1.0, 1.25): 10\n",
            "1/1 [==============================] - 0s 74ms/step\n"
          ]
        },
        {
          "output_type": "stream",
          "name": "stderr",
          "text": [
            "WARNING:matplotlib.image:Clipping input data to the valid range for imshow with RGB data ([0..1] for floats or [0..255] for integers).\n"
          ]
        },
        {
          "output_type": "stream",
          "name": "stdout",
          "text": [
            "Predicted color for HSV (359.96, 1.0, 1.25): 10\n",
            "1/1 [==============================] - 0s 70ms/step\n"
          ]
        },
        {
          "output_type": "stream",
          "name": "stderr",
          "text": [
            "WARNING:matplotlib.image:Clipping input data to the valid range for imshow with RGB data ([0..1] for floats or [0..255] for integers).\n"
          ]
        },
        {
          "output_type": "stream",
          "name": "stdout",
          "text": [
            "Predicted color for HSV (359.94, 1.0, 1.25): 10\n",
            "1/1 [==============================] - 0s 72ms/step\n"
          ]
        },
        {
          "output_type": "stream",
          "name": "stderr",
          "text": [
            "WARNING:matplotlib.image:Clipping input data to the valid range for imshow with RGB data ([0..1] for floats or [0..255] for integers).\n"
          ]
        },
        {
          "output_type": "stream",
          "name": "stdout",
          "text": [
            "Predicted color for HSV (359.92, 1.0, 1.25): 10\n",
            "1/1 [==============================] - 0s 72ms/step\n"
          ]
        },
        {
          "output_type": "stream",
          "name": "stderr",
          "text": [
            "WARNING:matplotlib.image:Clipping input data to the valid range for imshow with RGB data ([0..1] for floats or [0..255] for integers).\n"
          ]
        },
        {
          "output_type": "stream",
          "name": "stdout",
          "text": [
            "Predicted color for HSV (359.89, 1.0, 1.25): 10\n",
            "1/1 [==============================] - 0s 74ms/step\n"
          ]
        },
        {
          "output_type": "stream",
          "name": "stderr",
          "text": [
            "WARNING:matplotlib.image:Clipping input data to the valid range for imshow with RGB data ([0..1] for floats or [0..255] for integers).\n"
          ]
        },
        {
          "output_type": "stream",
          "name": "stdout",
          "text": [
            "Predicted color for HSV (359.87, 1.0, 1.25): 10\n",
            "1/1 [==============================] - 0s 74ms/step\n"
          ]
        },
        {
          "output_type": "stream",
          "name": "stderr",
          "text": [
            "WARNING:matplotlib.image:Clipping input data to the valid range for imshow with RGB data ([0..1] for floats or [0..255] for integers).\n"
          ]
        },
        {
          "output_type": "stream",
          "name": "stdout",
          "text": [
            "Predicted color for HSV (359.85, 1.0, 1.25): 10\n",
            "1/1 [==============================] - 0s 72ms/step\n"
          ]
        },
        {
          "output_type": "stream",
          "name": "stderr",
          "text": [
            "WARNING:matplotlib.image:Clipping input data to the valid range for imshow with RGB data ([0..1] for floats or [0..255] for integers).\n"
          ]
        },
        {
          "output_type": "stream",
          "name": "stdout",
          "text": [
            "Predicted color for HSV (0.06, 1.0, 1.25): 10\n",
            "1/1 [==============================] - 0s 77ms/step\n"
          ]
        },
        {
          "output_type": "stream",
          "name": "stderr",
          "text": [
            "WARNING:matplotlib.image:Clipping input data to the valid range for imshow with RGB data ([0..1] for floats or [0..255] for integers).\n"
          ]
        },
        {
          "output_type": "stream",
          "name": "stdout",
          "text": [
            "Predicted color for HSV (0.04, 1.0, 1.25): 10\n",
            "1/1 [==============================] - 0s 77ms/step\n"
          ]
        },
        {
          "output_type": "stream",
          "name": "stderr",
          "text": [
            "WARNING:matplotlib.image:Clipping input data to the valid range for imshow with RGB data ([0..1] for floats or [0..255] for integers).\n"
          ]
        },
        {
          "output_type": "stream",
          "name": "stdout",
          "text": [
            "Predicted color for HSV (0.02, 1.0, 1.25): 10\n",
            "1/1 [==============================] - 0s 72ms/step\n"
          ]
        },
        {
          "output_type": "stream",
          "name": "stderr",
          "text": [
            "WARNING:matplotlib.image:Clipping input data to the valid range for imshow with RGB data ([0..1] for floats or [0..255] for integers).\n"
          ]
        },
        {
          "output_type": "stream",
          "name": "stdout",
          "text": [
            "Predicted color for HSV (0.0, 1.0, 1.25): 10\n",
            "1/1 [==============================] - 0s 73ms/step\n"
          ]
        },
        {
          "output_type": "stream",
          "name": "stderr",
          "text": [
            "WARNING:matplotlib.image:Clipping input data to the valid range for imshow with RGB data ([0..1] for floats or [0..255] for integers).\n"
          ]
        },
        {
          "output_type": "stream",
          "name": "stdout",
          "text": [
            "Predicted color for HSV (359.98, 1.0, 1.25): 10\n",
            "1/1 [==============================] - 0s 79ms/step\n"
          ]
        },
        {
          "output_type": "stream",
          "name": "stderr",
          "text": [
            "WARNING:matplotlib.image:Clipping input data to the valid range for imshow with RGB data ([0..1] for floats or [0..255] for integers).\n"
          ]
        },
        {
          "output_type": "stream",
          "name": "stdout",
          "text": [
            "Predicted color for HSV (359.96, 1.0, 1.25): 10\n",
            "1/1 [==============================] - 0s 71ms/step\n"
          ]
        },
        {
          "output_type": "stream",
          "name": "stderr",
          "text": [
            "WARNING:matplotlib.image:Clipping input data to the valid range for imshow with RGB data ([0..1] for floats or [0..255] for integers).\n"
          ]
        },
        {
          "output_type": "stream",
          "name": "stdout",
          "text": [
            "Predicted color for HSV (359.94, 1.0, 1.25): 10\n",
            "1/1 [==============================] - 0s 70ms/step\n"
          ]
        },
        {
          "output_type": "stream",
          "name": "stderr",
          "text": [
            "WARNING:matplotlib.image:Clipping input data to the valid range for imshow with RGB data ([0..1] for floats or [0..255] for integers).\n"
          ]
        },
        {
          "output_type": "stream",
          "name": "stdout",
          "text": [
            "Predicted color for HSV (359.92, 1.0, 1.25): 10\n",
            "1/1 [==============================] - 0s 79ms/step\n"
          ]
        },
        {
          "output_type": "stream",
          "name": "stderr",
          "text": [
            "WARNING:matplotlib.image:Clipping input data to the valid range for imshow with RGB data ([0..1] for floats or [0..255] for integers).\n"
          ]
        },
        {
          "output_type": "stream",
          "name": "stdout",
          "text": [
            "Predicted color for HSV (359.89, 1.0, 1.25): 10\n",
            "1/1 [==============================] - 0s 69ms/step\n"
          ]
        },
        {
          "output_type": "stream",
          "name": "stderr",
          "text": [
            "WARNING:matplotlib.image:Clipping input data to the valid range for imshow with RGB data ([0..1] for floats or [0..255] for integers).\n"
          ]
        },
        {
          "output_type": "stream",
          "name": "stdout",
          "text": [
            "Predicted color for HSV (359.87, 1.0, 1.25): 10\n",
            "1/1 [==============================] - 0s 74ms/step\n"
          ]
        },
        {
          "output_type": "stream",
          "name": "stderr",
          "text": [
            "WARNING:matplotlib.image:Clipping input data to the valid range for imshow with RGB data ([0..1] for floats or [0..255] for integers).\n"
          ]
        },
        {
          "output_type": "stream",
          "name": "stdout",
          "text": [
            "Predicted color for HSV (0.08, 1.0, 1.25): 10\n",
            "1/1 [==============================] - 0s 73ms/step\n"
          ]
        },
        {
          "output_type": "stream",
          "name": "stderr",
          "text": [
            "WARNING:matplotlib.image:Clipping input data to the valid range for imshow with RGB data ([0..1] for floats or [0..255] for integers).\n"
          ]
        },
        {
          "output_type": "stream",
          "name": "stdout",
          "text": [
            "Predicted color for HSV (0.06, 1.0, 1.25): 10\n",
            "1/1 [==============================] - 0s 71ms/step\n"
          ]
        },
        {
          "output_type": "stream",
          "name": "stderr",
          "text": [
            "WARNING:matplotlib.image:Clipping input data to the valid range for imshow with RGB data ([0..1] for floats or [0..255] for integers).\n"
          ]
        },
        {
          "output_type": "stream",
          "name": "stdout",
          "text": [
            "Predicted color for HSV (0.04, 1.0, 1.25): 10\n",
            "1/1 [==============================] - 0s 69ms/step\n"
          ]
        },
        {
          "output_type": "stream",
          "name": "stderr",
          "text": [
            "WARNING:matplotlib.image:Clipping input data to the valid range for imshow with RGB data ([0..1] for floats or [0..255] for integers).\n"
          ]
        },
        {
          "output_type": "stream",
          "name": "stdout",
          "text": [
            "Predicted color for HSV (0.02, 1.0, 1.25): 10\n",
            "1/1 [==============================] - 0s 81ms/step\n"
          ]
        },
        {
          "output_type": "stream",
          "name": "stderr",
          "text": [
            "WARNING:matplotlib.image:Clipping input data to the valid range for imshow with RGB data ([0..1] for floats or [0..255] for integers).\n"
          ]
        },
        {
          "output_type": "stream",
          "name": "stdout",
          "text": [
            "Predicted color for HSV (0.0, 1.0, 1.25): 10\n",
            "1/1 [==============================] - 0s 75ms/step\n"
          ]
        },
        {
          "output_type": "stream",
          "name": "stderr",
          "text": [
            "WARNING:matplotlib.image:Clipping input data to the valid range for imshow with RGB data ([0..1] for floats or [0..255] for integers).\n"
          ]
        },
        {
          "output_type": "stream",
          "name": "stdout",
          "text": [
            "Predicted color for HSV (359.98, 1.0, 1.25): 10\n",
            "1/1 [==============================] - 0s 70ms/step\n"
          ]
        },
        {
          "output_type": "stream",
          "name": "stderr",
          "text": [
            "WARNING:matplotlib.image:Clipping input data to the valid range for imshow with RGB data ([0..1] for floats or [0..255] for integers).\n"
          ]
        },
        {
          "output_type": "stream",
          "name": "stdout",
          "text": [
            "Predicted color for HSV (359.96, 1.0, 1.25): 10\n",
            "1/1 [==============================] - 0s 73ms/step\n"
          ]
        },
        {
          "output_type": "stream",
          "name": "stderr",
          "text": [
            "WARNING:matplotlib.image:Clipping input data to the valid range for imshow with RGB data ([0..1] for floats or [0..255] for integers).\n"
          ]
        },
        {
          "output_type": "stream",
          "name": "stdout",
          "text": [
            "Predicted color for HSV (359.94, 1.0, 1.25): 10\n",
            "1/1 [==============================] - 0s 70ms/step\n"
          ]
        },
        {
          "output_type": "stream",
          "name": "stderr",
          "text": [
            "WARNING:matplotlib.image:Clipping input data to the valid range for imshow with RGB data ([0..1] for floats or [0..255] for integers).\n"
          ]
        },
        {
          "output_type": "stream",
          "name": "stdout",
          "text": [
            "Predicted color for HSV (359.92, 1.0, 1.25): 10\n",
            "1/1 [==============================] - 0s 71ms/step\n"
          ]
        },
        {
          "output_type": "stream",
          "name": "stderr",
          "text": [
            "WARNING:matplotlib.image:Clipping input data to the valid range for imshow with RGB data ([0..1] for floats or [0..255] for integers).\n"
          ]
        },
        {
          "output_type": "stream",
          "name": "stdout",
          "text": [
            "Predicted color for HSV (359.89, 1.0, 1.25): 10\n",
            "1/1 [==============================] - 0s 72ms/step\n"
          ]
        },
        {
          "output_type": "stream",
          "name": "stderr",
          "text": [
            "WARNING:matplotlib.image:Clipping input data to the valid range for imshow with RGB data ([0..1] for floats or [0..255] for integers).\n"
          ]
        },
        {
          "output_type": "stream",
          "name": "stdout",
          "text": [
            "Predicted color for HSV (0.11, 1.0, 1.25): 10\n",
            "1/1 [==============================] - 0s 72ms/step\n"
          ]
        },
        {
          "output_type": "stream",
          "name": "stderr",
          "text": [
            "WARNING:matplotlib.image:Clipping input data to the valid range for imshow with RGB data ([0..1] for floats or [0..255] for integers).\n"
          ]
        },
        {
          "output_type": "stream",
          "name": "stdout",
          "text": [
            "Predicted color for HSV (0.08, 1.0, 1.25): 10\n",
            "1/1 [==============================] - 0s 75ms/step\n"
          ]
        },
        {
          "output_type": "stream",
          "name": "stderr",
          "text": [
            "WARNING:matplotlib.image:Clipping input data to the valid range for imshow with RGB data ([0..1] for floats or [0..255] for integers).\n"
          ]
        },
        {
          "output_type": "stream",
          "name": "stdout",
          "text": [
            "Predicted color for HSV (0.06, 1.0, 1.25): 10\n",
            "1/1 [==============================] - 0s 122ms/step\n"
          ]
        },
        {
          "output_type": "stream",
          "name": "stderr",
          "text": [
            "WARNING:matplotlib.image:Clipping input data to the valid range for imshow with RGB data ([0..1] for floats or [0..255] for integers).\n"
          ]
        },
        {
          "output_type": "stream",
          "name": "stdout",
          "text": [
            "Predicted color for HSV (0.04, 1.0, 1.25): 10\n",
            "1/1 [==============================] - 0s 121ms/step\n"
          ]
        },
        {
          "output_type": "stream",
          "name": "stderr",
          "text": [
            "WARNING:matplotlib.image:Clipping input data to the valid range for imshow with RGB data ([0..1] for floats or [0..255] for integers).\n"
          ]
        },
        {
          "output_type": "stream",
          "name": "stdout",
          "text": [
            "Predicted color for HSV (0.02, 1.0, 1.25): 10\n",
            "1/1 [==============================] - 0s 126ms/step\n"
          ]
        },
        {
          "output_type": "stream",
          "name": "stderr",
          "text": [
            "WARNING:matplotlib.image:Clipping input data to the valid range for imshow with RGB data ([0..1] for floats or [0..255] for integers).\n"
          ]
        },
        {
          "output_type": "stream",
          "name": "stdout",
          "text": [
            "Predicted color for HSV (0.0, 1.0, 1.25): 10\n",
            "1/1 [==============================] - 0s 129ms/step\n"
          ]
        },
        {
          "output_type": "stream",
          "name": "stderr",
          "text": [
            "WARNING:matplotlib.image:Clipping input data to the valid range for imshow with RGB data ([0..1] for floats or [0..255] for integers).\n"
          ]
        },
        {
          "output_type": "stream",
          "name": "stdout",
          "text": [
            "Predicted color for HSV (359.98, 1.0, 1.25): 10\n",
            "1/1 [==============================] - 0s 120ms/step\n"
          ]
        },
        {
          "output_type": "stream",
          "name": "stderr",
          "text": [
            "WARNING:matplotlib.image:Clipping input data to the valid range for imshow with RGB data ([0..1] for floats or [0..255] for integers).\n"
          ]
        },
        {
          "output_type": "stream",
          "name": "stdout",
          "text": [
            "Predicted color for HSV (359.96, 1.0, 1.25): 10\n",
            "1/1 [==============================] - 0s 108ms/step\n"
          ]
        },
        {
          "output_type": "stream",
          "name": "stderr",
          "text": [
            "WARNING:matplotlib.image:Clipping input data to the valid range for imshow with RGB data ([0..1] for floats or [0..255] for integers).\n"
          ]
        },
        {
          "output_type": "stream",
          "name": "stdout",
          "text": [
            "Predicted color for HSV (359.94, 1.0, 1.25): 10\n",
            "1/1 [==============================] - 0s 105ms/step\n"
          ]
        },
        {
          "output_type": "stream",
          "name": "stderr",
          "text": [
            "WARNING:matplotlib.image:Clipping input data to the valid range for imshow with RGB data ([0..1] for floats or [0..255] for integers).\n"
          ]
        },
        {
          "output_type": "stream",
          "name": "stdout",
          "text": [
            "Predicted color for HSV (359.92, 1.0, 1.25): 10\n",
            "1/1 [==============================] - 0s 115ms/step\n"
          ]
        },
        {
          "output_type": "stream",
          "name": "stderr",
          "text": [
            "WARNING:matplotlib.image:Clipping input data to the valid range for imshow with RGB data ([0..1] for floats or [0..255] for integers).\n"
          ]
        },
        {
          "output_type": "stream",
          "name": "stdout",
          "text": [
            "Predicted color for HSV (0.13, 1.0, 1.25): 10\n",
            "1/1 [==============================] - 0s 109ms/step\n"
          ]
        },
        {
          "output_type": "stream",
          "name": "stderr",
          "text": [
            "WARNING:matplotlib.image:Clipping input data to the valid range for imshow with RGB data ([0..1] for floats or [0..255] for integers).\n"
          ]
        },
        {
          "output_type": "stream",
          "name": "stdout",
          "text": [
            "Predicted color for HSV (0.11, 1.0, 1.25): 10\n",
            "1/1 [==============================] - 0s 102ms/step\n"
          ]
        },
        {
          "output_type": "stream",
          "name": "stderr",
          "text": [
            "WARNING:matplotlib.image:Clipping input data to the valid range for imshow with RGB data ([0..1] for floats or [0..255] for integers).\n"
          ]
        },
        {
          "output_type": "stream",
          "name": "stdout",
          "text": [
            "Predicted color for HSV (0.08, 1.0, 1.25): 10\n",
            "1/1 [==============================] - 0s 109ms/step\n"
          ]
        },
        {
          "output_type": "stream",
          "name": "stderr",
          "text": [
            "WARNING:matplotlib.image:Clipping input data to the valid range for imshow with RGB data ([0..1] for floats or [0..255] for integers).\n"
          ]
        },
        {
          "output_type": "stream",
          "name": "stdout",
          "text": [
            "Predicted color for HSV (0.06, 1.0, 1.25): 10\n",
            "1/1 [==============================] - 0s 105ms/step\n"
          ]
        },
        {
          "output_type": "stream",
          "name": "stderr",
          "text": [
            "WARNING:matplotlib.image:Clipping input data to the valid range for imshow with RGB data ([0..1] for floats or [0..255] for integers).\n"
          ]
        },
        {
          "output_type": "stream",
          "name": "stdout",
          "text": [
            "Predicted color for HSV (0.04, 1.0, 1.25): 10\n",
            "1/1 [==============================] - 0s 106ms/step\n"
          ]
        },
        {
          "output_type": "stream",
          "name": "stderr",
          "text": [
            "WARNING:matplotlib.image:Clipping input data to the valid range for imshow with RGB data ([0..1] for floats or [0..255] for integers).\n"
          ]
        },
        {
          "output_type": "stream",
          "name": "stdout",
          "text": [
            "Predicted color for HSV (0.02, 1.0, 1.25): 10\n",
            "1/1 [==============================] - 0s 108ms/step\n"
          ]
        },
        {
          "output_type": "stream",
          "name": "stderr",
          "text": [
            "WARNING:matplotlib.image:Clipping input data to the valid range for imshow with RGB data ([0..1] for floats or [0..255] for integers).\n"
          ]
        },
        {
          "output_type": "stream",
          "name": "stdout",
          "text": [
            "Predicted color for HSV (0.0, 1.0, 1.25): 10\n",
            "1/1 [==============================] - 0s 106ms/step\n"
          ]
        },
        {
          "output_type": "stream",
          "name": "stderr",
          "text": [
            "WARNING:matplotlib.image:Clipping input data to the valid range for imshow with RGB data ([0..1] for floats or [0..255] for integers).\n"
          ]
        },
        {
          "output_type": "stream",
          "name": "stdout",
          "text": [
            "Predicted color for HSV (359.98, 1.0, 1.25): 10\n",
            "1/1 [==============================] - 0s 100ms/step\n"
          ]
        },
        {
          "output_type": "stream",
          "name": "stderr",
          "text": [
            "WARNING:matplotlib.image:Clipping input data to the valid range for imshow with RGB data ([0..1] for floats or [0..255] for integers).\n"
          ]
        },
        {
          "output_type": "stream",
          "name": "stdout",
          "text": [
            "Predicted color for HSV (359.96, 1.0, 1.25): 10\n",
            "1/1 [==============================] - 0s 125ms/step\n"
          ]
        },
        {
          "output_type": "stream",
          "name": "stderr",
          "text": [
            "WARNING:matplotlib.image:Clipping input data to the valid range for imshow with RGB data ([0..1] for floats or [0..255] for integers).\n"
          ]
        },
        {
          "output_type": "stream",
          "name": "stdout",
          "text": [
            "Predicted color for HSV (359.94, 1.0, 1.25): 10\n",
            "1/1 [==============================] - 0s 101ms/step\n"
          ]
        },
        {
          "output_type": "stream",
          "name": "stderr",
          "text": [
            "WARNING:matplotlib.image:Clipping input data to the valid range for imshow with RGB data ([0..1] for floats or [0..255] for integers).\n"
          ]
        },
        {
          "output_type": "stream",
          "name": "stdout",
          "text": [
            "Predicted color for HSV (0.15, 1.0, 1.25): 10\n",
            "1/1 [==============================] - 0s 69ms/step\n"
          ]
        },
        {
          "output_type": "stream",
          "name": "stderr",
          "text": [
            "WARNING:matplotlib.image:Clipping input data to the valid range for imshow with RGB data ([0..1] for floats or [0..255] for integers).\n"
          ]
        },
        {
          "output_type": "stream",
          "name": "stdout",
          "text": [
            "Predicted color for HSV (0.13, 1.0, 1.25): 10\n",
            "1/1 [==============================] - 0s 85ms/step\n"
          ]
        },
        {
          "output_type": "stream",
          "name": "stderr",
          "text": [
            "WARNING:matplotlib.image:Clipping input data to the valid range for imshow with RGB data ([0..1] for floats or [0..255] for integers).\n"
          ]
        },
        {
          "output_type": "stream",
          "name": "stdout",
          "text": [
            "Predicted color for HSV (0.11, 1.0, 1.25): 10\n",
            "1/1 [==============================] - 0s 74ms/step\n"
          ]
        },
        {
          "output_type": "stream",
          "name": "stderr",
          "text": [
            "WARNING:matplotlib.image:Clipping input data to the valid range for imshow with RGB data ([0..1] for floats or [0..255] for integers).\n"
          ]
        },
        {
          "output_type": "stream",
          "name": "stdout",
          "text": [
            "Predicted color for HSV (0.08, 1.0, 1.25): 10\n",
            "1/1 [==============================] - 0s 73ms/step\n"
          ]
        },
        {
          "output_type": "stream",
          "name": "stderr",
          "text": [
            "WARNING:matplotlib.image:Clipping input data to the valid range for imshow with RGB data ([0..1] for floats or [0..255] for integers).\n"
          ]
        },
        {
          "output_type": "stream",
          "name": "stdout",
          "text": [
            "Predicted color for HSV (0.06, 1.0, 1.25): 10\n",
            "1/1 [==============================] - 0s 90ms/step\n"
          ]
        },
        {
          "output_type": "stream",
          "name": "stderr",
          "text": [
            "WARNING:matplotlib.image:Clipping input data to the valid range for imshow with RGB data ([0..1] for floats or [0..255] for integers).\n"
          ]
        },
        {
          "output_type": "stream",
          "name": "stdout",
          "text": [
            "Predicted color for HSV (0.04, 1.0, 1.25): 10\n",
            "1/1 [==============================] - 0s 79ms/step\n"
          ]
        },
        {
          "output_type": "stream",
          "name": "stderr",
          "text": [
            "WARNING:matplotlib.image:Clipping input data to the valid range for imshow with RGB data ([0..1] for floats or [0..255] for integers).\n"
          ]
        },
        {
          "output_type": "stream",
          "name": "stdout",
          "text": [
            "Predicted color for HSV (0.02, 1.0, 1.25): 10\n",
            "1/1 [==============================] - 0s 73ms/step\n"
          ]
        },
        {
          "output_type": "stream",
          "name": "stderr",
          "text": [
            "WARNING:matplotlib.image:Clipping input data to the valid range for imshow with RGB data ([0..1] for floats or [0..255] for integers).\n"
          ]
        },
        {
          "output_type": "stream",
          "name": "stdout",
          "text": [
            "Predicted color for HSV (0.0, 1.0, 1.25): 10\n",
            "1/1 [==============================] - 0s 75ms/step\n"
          ]
        },
        {
          "output_type": "stream",
          "name": "stderr",
          "text": [
            "WARNING:matplotlib.image:Clipping input data to the valid range for imshow with RGB data ([0..1] for floats or [0..255] for integers).\n"
          ]
        },
        {
          "output_type": "stream",
          "name": "stdout",
          "text": [
            "Predicted color for HSV (359.98, 1.0, 1.25): 10\n",
            "1/1 [==============================] - 0s 73ms/step\n"
          ]
        },
        {
          "output_type": "stream",
          "name": "stderr",
          "text": [
            "WARNING:matplotlib.image:Clipping input data to the valid range for imshow with RGB data ([0..1] for floats or [0..255] for integers).\n"
          ]
        },
        {
          "output_type": "stream",
          "name": "stdout",
          "text": [
            "Predicted color for HSV (359.96, 1.0, 1.25): 10\n",
            "1/1 [==============================] - 0s 74ms/step\n"
          ]
        },
        {
          "output_type": "stream",
          "name": "stderr",
          "text": [
            "WARNING:matplotlib.image:Clipping input data to the valid range for imshow with RGB data ([0..1] for floats or [0..255] for integers).\n"
          ]
        },
        {
          "output_type": "stream",
          "name": "stdout",
          "text": [
            "Predicted color for HSV (0.17, 1.0, 1.25): 10\n",
            "1/1 [==============================] - 0s 85ms/step\n"
          ]
        },
        {
          "output_type": "stream",
          "name": "stderr",
          "text": [
            "WARNING:matplotlib.image:Clipping input data to the valid range for imshow with RGB data ([0..1] for floats or [0..255] for integers).\n"
          ]
        },
        {
          "output_type": "stream",
          "name": "stdout",
          "text": [
            "Predicted color for HSV (0.15, 1.0, 1.25): 10\n",
            "1/1 [==============================] - 0s 74ms/step\n"
          ]
        },
        {
          "output_type": "stream",
          "name": "stderr",
          "text": [
            "WARNING:matplotlib.image:Clipping input data to the valid range for imshow with RGB data ([0..1] for floats or [0..255] for integers).\n"
          ]
        },
        {
          "output_type": "stream",
          "name": "stdout",
          "text": [
            "Predicted color for HSV (0.13, 1.0, 1.25): 10\n",
            "1/1 [==============================] - 0s 73ms/step\n"
          ]
        },
        {
          "output_type": "stream",
          "name": "stderr",
          "text": [
            "WARNING:matplotlib.image:Clipping input data to the valid range for imshow with RGB data ([0..1] for floats or [0..255] for integers).\n"
          ]
        },
        {
          "output_type": "stream",
          "name": "stdout",
          "text": [
            "Predicted color for HSV (0.11, 1.0, 1.25): 10\n",
            "1/1 [==============================] - 0s 73ms/step\n"
          ]
        },
        {
          "output_type": "stream",
          "name": "stderr",
          "text": [
            "WARNING:matplotlib.image:Clipping input data to the valid range for imshow with RGB data ([0..1] for floats or [0..255] for integers).\n"
          ]
        },
        {
          "output_type": "stream",
          "name": "stdout",
          "text": [
            "Predicted color for HSV (0.08, 1.0, 1.25): 10\n",
            "1/1 [==============================] - 0s 80ms/step\n"
          ]
        },
        {
          "output_type": "stream",
          "name": "stderr",
          "text": [
            "WARNING:matplotlib.image:Clipping input data to the valid range for imshow with RGB data ([0..1] for floats or [0..255] for integers).\n"
          ]
        },
        {
          "output_type": "stream",
          "name": "stdout",
          "text": [
            "Predicted color for HSV (0.06, 1.0, 1.25): 10\n",
            "1/1 [==============================] - 0s 74ms/step\n"
          ]
        },
        {
          "output_type": "stream",
          "name": "stderr",
          "text": [
            "WARNING:matplotlib.image:Clipping input data to the valid range for imshow with RGB data ([0..1] for floats or [0..255] for integers).\n"
          ]
        },
        {
          "output_type": "stream",
          "name": "stdout",
          "text": [
            "Predicted color for HSV (0.04, 1.0, 1.25): 10\n",
            "1/1 [==============================] - 0s 72ms/step\n"
          ]
        },
        {
          "output_type": "stream",
          "name": "stderr",
          "text": [
            "WARNING:matplotlib.image:Clipping input data to the valid range for imshow with RGB data ([0..1] for floats or [0..255] for integers).\n"
          ]
        },
        {
          "output_type": "stream",
          "name": "stdout",
          "text": [
            "Predicted color for HSV (0.02, 1.0, 1.25): 10\n",
            "1/1 [==============================] - 0s 76ms/step\n"
          ]
        },
        {
          "output_type": "stream",
          "name": "stderr",
          "text": [
            "WARNING:matplotlib.image:Clipping input data to the valid range for imshow with RGB data ([0..1] for floats or [0..255] for integers).\n"
          ]
        },
        {
          "output_type": "stream",
          "name": "stdout",
          "text": [
            "Predicted color for HSV (0.0, 1.0, 1.25): 10\n",
            "1/1 [==============================] - 0s 75ms/step\n"
          ]
        },
        {
          "output_type": "stream",
          "name": "stderr",
          "text": [
            "WARNING:matplotlib.image:Clipping input data to the valid range for imshow with RGB data ([0..1] for floats or [0..255] for integers).\n"
          ]
        },
        {
          "output_type": "stream",
          "name": "stdout",
          "text": [
            "Predicted color for HSV (359.98, 1.0, 1.25): 10\n",
            "1/1 [==============================] - 0s 74ms/step\n"
          ]
        },
        {
          "output_type": "stream",
          "name": "stderr",
          "text": [
            "WARNING:matplotlib.image:Clipping input data to the valid range for imshow with RGB data ([0..1] for floats or [0..255] for integers).\n"
          ]
        },
        {
          "output_type": "stream",
          "name": "stdout",
          "text": [
            "Predicted color for HSV (0.19, 1.0, 1.25): 10\n",
            "1/1 [==============================] - 0s 75ms/step\n"
          ]
        },
        {
          "output_type": "stream",
          "name": "stderr",
          "text": [
            "WARNING:matplotlib.image:Clipping input data to the valid range for imshow with RGB data ([0..1] for floats or [0..255] for integers).\n"
          ]
        },
        {
          "output_type": "stream",
          "name": "stdout",
          "text": [
            "Predicted color for HSV (0.17, 1.0, 1.25): 10\n",
            "1/1 [==============================] - 0s 78ms/step\n"
          ]
        },
        {
          "output_type": "stream",
          "name": "stderr",
          "text": [
            "WARNING:matplotlib.image:Clipping input data to the valid range for imshow with RGB data ([0..1] for floats or [0..255] for integers).\n"
          ]
        },
        {
          "output_type": "stream",
          "name": "stdout",
          "text": [
            "Predicted color for HSV (0.15, 1.0, 1.25): 10\n",
            "1/1 [==============================] - 0s 82ms/step\n"
          ]
        },
        {
          "output_type": "stream",
          "name": "stderr",
          "text": [
            "WARNING:matplotlib.image:Clipping input data to the valid range for imshow with RGB data ([0..1] for floats or [0..255] for integers).\n"
          ]
        },
        {
          "output_type": "stream",
          "name": "stdout",
          "text": [
            "Predicted color for HSV (0.13, 1.0, 1.25): 10\n",
            "1/1 [==============================] - 0s 81ms/step\n"
          ]
        },
        {
          "output_type": "stream",
          "name": "stderr",
          "text": [
            "WARNING:matplotlib.image:Clipping input data to the valid range for imshow with RGB data ([0..1] for floats or [0..255] for integers).\n"
          ]
        },
        {
          "output_type": "stream",
          "name": "stdout",
          "text": [
            "Predicted color for HSV (0.11, 1.0, 1.25): 10\n",
            "1/1 [==============================] - 0s 71ms/step\n"
          ]
        },
        {
          "output_type": "stream",
          "name": "stderr",
          "text": [
            "WARNING:matplotlib.image:Clipping input data to the valid range for imshow with RGB data ([0..1] for floats or [0..255] for integers).\n"
          ]
        },
        {
          "output_type": "stream",
          "name": "stdout",
          "text": [
            "Predicted color for HSV (0.08, 1.0, 1.25): 10\n",
            "1/1 [==============================] - 0s 73ms/step\n"
          ]
        },
        {
          "output_type": "stream",
          "name": "stderr",
          "text": [
            "WARNING:matplotlib.image:Clipping input data to the valid range for imshow with RGB data ([0..1] for floats or [0..255] for integers).\n"
          ]
        },
        {
          "output_type": "stream",
          "name": "stdout",
          "text": [
            "Predicted color for HSV (0.06, 1.0, 1.25): 10\n",
            "1/1 [==============================] - 0s 81ms/step\n"
          ]
        },
        {
          "output_type": "stream",
          "name": "stderr",
          "text": [
            "WARNING:matplotlib.image:Clipping input data to the valid range for imshow with RGB data ([0..1] for floats or [0..255] for integers).\n"
          ]
        },
        {
          "output_type": "stream",
          "name": "stdout",
          "text": [
            "Predicted color for HSV (0.04, 1.0, 1.25): 10\n",
            "1/1 [==============================] - 0s 77ms/step\n"
          ]
        },
        {
          "output_type": "stream",
          "name": "stderr",
          "text": [
            "WARNING:matplotlib.image:Clipping input data to the valid range for imshow with RGB data ([0..1] for floats or [0..255] for integers).\n"
          ]
        },
        {
          "output_type": "stream",
          "name": "stdout",
          "text": [
            "Predicted color for HSV (0.02, 1.0, 1.25): 10\n",
            "1/1 [==============================] - 0s 75ms/step\n"
          ]
        },
        {
          "output_type": "stream",
          "name": "stderr",
          "text": [
            "WARNING:matplotlib.image:Clipping input data to the valid range for imshow with RGB data ([0..1] for floats or [0..255] for integers).\n"
          ]
        },
        {
          "output_type": "stream",
          "name": "stdout",
          "text": [
            "Predicted color for HSV (0.0, 1.0, 1.25): 10\n",
            "1/1 [==============================] - 0s 78ms/step\n"
          ]
        },
        {
          "output_type": "stream",
          "name": "stderr",
          "text": [
            "WARNING:matplotlib.image:Clipping input data to the valid range for imshow with RGB data ([0..1] for floats or [0..255] for integers).\n"
          ]
        },
        {
          "output_type": "stream",
          "name": "stdout",
          "text": [
            "Predicted color for HSV (0.0, 1.0, 1.41): 10\n",
            "1/1 [==============================] - 0s 71ms/step\n"
          ]
        },
        {
          "output_type": "stream",
          "name": "stderr",
          "text": [
            "WARNING:matplotlib.image:Clipping input data to the valid range for imshow with RGB data ([0..1] for floats or [0..255] for integers).\n"
          ]
        },
        {
          "output_type": "stream",
          "name": "stdout",
          "text": [
            "Predicted color for HSV (359.98, 1.0, 1.41): 10\n",
            "1/1 [==============================] - 0s 81ms/step\n"
          ]
        },
        {
          "output_type": "stream",
          "name": "stderr",
          "text": [
            "WARNING:matplotlib.image:Clipping input data to the valid range for imshow with RGB data ([0..1] for floats or [0..255] for integers).\n"
          ]
        },
        {
          "output_type": "stream",
          "name": "stdout",
          "text": [
            "Predicted color for HSV (359.96, 1.0, 1.41): 10\n",
            "1/1 [==============================] - 0s 78ms/step\n"
          ]
        },
        {
          "output_type": "stream",
          "name": "stderr",
          "text": [
            "WARNING:matplotlib.image:Clipping input data to the valid range for imshow with RGB data ([0..1] for floats or [0..255] for integers).\n"
          ]
        },
        {
          "output_type": "stream",
          "name": "stdout",
          "text": [
            "Predicted color for HSV (359.94, 1.0, 1.41): 10\n",
            "1/1 [==============================] - 0s 71ms/step\n"
          ]
        },
        {
          "output_type": "stream",
          "name": "stderr",
          "text": [
            "WARNING:matplotlib.image:Clipping input data to the valid range for imshow with RGB data ([0..1] for floats or [0..255] for integers).\n"
          ]
        },
        {
          "output_type": "stream",
          "name": "stdout",
          "text": [
            "Predicted color for HSV (359.93, 1.0, 1.41): 10\n",
            "1/1 [==============================] - 0s 70ms/step\n"
          ]
        },
        {
          "output_type": "stream",
          "name": "stderr",
          "text": [
            "WARNING:matplotlib.image:Clipping input data to the valid range for imshow with RGB data ([0..1] for floats or [0..255] for integers).\n"
          ]
        },
        {
          "output_type": "stream",
          "name": "stdout",
          "text": [
            "Predicted color for HSV (359.91, 1.0, 1.41): 10\n",
            "1/1 [==============================] - 0s 73ms/step\n"
          ]
        },
        {
          "output_type": "stream",
          "name": "stderr",
          "text": [
            "WARNING:matplotlib.image:Clipping input data to the valid range for imshow with RGB data ([0..1] for floats or [0..255] for integers).\n"
          ]
        },
        {
          "output_type": "stream",
          "name": "stdout",
          "text": [
            "Predicted color for HSV (359.89, 1.0, 1.41): 10\n",
            "1/1 [==============================] - 0s 85ms/step\n"
          ]
        },
        {
          "output_type": "stream",
          "name": "stderr",
          "text": [
            "WARNING:matplotlib.image:Clipping input data to the valid range for imshow with RGB data ([0..1] for floats or [0..255] for integers).\n"
          ]
        },
        {
          "output_type": "stream",
          "name": "stdout",
          "text": [
            "Predicted color for HSV (359.87, 1.0, 1.41): 10\n",
            "1/1 [==============================] - 0s 72ms/step\n"
          ]
        },
        {
          "output_type": "stream",
          "name": "stderr",
          "text": [
            "WARNING:matplotlib.image:Clipping input data to the valid range for imshow with RGB data ([0..1] for floats or [0..255] for integers).\n"
          ]
        },
        {
          "output_type": "stream",
          "name": "stdout",
          "text": [
            "Predicted color for HSV (359.85, 1.0, 1.41): 10\n",
            "1/1 [==============================] - 0s 77ms/step\n"
          ]
        },
        {
          "output_type": "stream",
          "name": "stderr",
          "text": [
            "WARNING:matplotlib.image:Clipping input data to the valid range for imshow with RGB data ([0..1] for floats or [0..255] for integers).\n"
          ]
        },
        {
          "output_type": "stream",
          "name": "stdout",
          "text": [
            "Predicted color for HSV (359.83, 1.0, 1.41): 10\n",
            "1/1 [==============================] - 0s 72ms/step\n"
          ]
        },
        {
          "output_type": "stream",
          "name": "stderr",
          "text": [
            "WARNING:matplotlib.image:Clipping input data to the valid range for imshow with RGB data ([0..1] for floats or [0..255] for integers).\n"
          ]
        },
        {
          "output_type": "stream",
          "name": "stdout",
          "text": [
            "Predicted color for HSV (0.02, 1.0, 1.41): 10\n",
            "1/1 [==============================] - 0s 80ms/step\n"
          ]
        },
        {
          "output_type": "stream",
          "name": "stderr",
          "text": [
            "WARNING:matplotlib.image:Clipping input data to the valid range for imshow with RGB data ([0..1] for floats or [0..255] for integers).\n"
          ]
        },
        {
          "output_type": "stream",
          "name": "stdout",
          "text": [
            "Predicted color for HSV (0.0, 1.0, 1.41): 10\n",
            "1/1 [==============================] - 0s 77ms/step\n"
          ]
        },
        {
          "output_type": "stream",
          "name": "stderr",
          "text": [
            "WARNING:matplotlib.image:Clipping input data to the valid range for imshow with RGB data ([0..1] for floats or [0..255] for integers).\n"
          ]
        },
        {
          "output_type": "stream",
          "name": "stdout",
          "text": [
            "Predicted color for HSV (359.98, 1.0, 1.41): 10\n",
            "1/1 [==============================] - 0s 113ms/step\n"
          ]
        },
        {
          "output_type": "stream",
          "name": "stderr",
          "text": [
            "WARNING:matplotlib.image:Clipping input data to the valid range for imshow with RGB data ([0..1] for floats or [0..255] for integers).\n"
          ]
        },
        {
          "output_type": "stream",
          "name": "stdout",
          "text": [
            "Predicted color for HSV (359.96, 1.0, 1.41): 10\n",
            "1/1 [==============================] - 0s 107ms/step\n"
          ]
        },
        {
          "output_type": "stream",
          "name": "stderr",
          "text": [
            "WARNING:matplotlib.image:Clipping input data to the valid range for imshow with RGB data ([0..1] for floats or [0..255] for integers).\n"
          ]
        },
        {
          "output_type": "stream",
          "name": "stdout",
          "text": [
            "Predicted color for HSV (359.94, 1.0, 1.41): 10\n",
            "1/1 [==============================] - 0s 107ms/step\n"
          ]
        },
        {
          "output_type": "stream",
          "name": "stderr",
          "text": [
            "WARNING:matplotlib.image:Clipping input data to the valid range for imshow with RGB data ([0..1] for floats or [0..255] for integers).\n"
          ]
        },
        {
          "output_type": "stream",
          "name": "stdout",
          "text": [
            "Predicted color for HSV (359.92, 1.0, 1.41): 10\n",
            "1/1 [==============================] - 0s 103ms/step\n"
          ]
        },
        {
          "output_type": "stream",
          "name": "stderr",
          "text": [
            "WARNING:matplotlib.image:Clipping input data to the valid range for imshow with RGB data ([0..1] for floats or [0..255] for integers).\n"
          ]
        },
        {
          "output_type": "stream",
          "name": "stdout",
          "text": [
            "Predicted color for HSV (359.91, 1.0, 1.41): 10\n",
            "1/1 [==============================] - 0s 104ms/step\n"
          ]
        },
        {
          "output_type": "stream",
          "name": "stderr",
          "text": [
            "WARNING:matplotlib.image:Clipping input data to the valid range for imshow with RGB data ([0..1] for floats or [0..255] for integers).\n"
          ]
        },
        {
          "output_type": "stream",
          "name": "stdout",
          "text": [
            "Predicted color for HSV (359.89, 1.0, 1.41): 10\n",
            "1/1 [==============================] - 0s 111ms/step\n"
          ]
        },
        {
          "output_type": "stream",
          "name": "stderr",
          "text": [
            "WARNING:matplotlib.image:Clipping input data to the valid range for imshow with RGB data ([0..1] for floats or [0..255] for integers).\n"
          ]
        },
        {
          "output_type": "stream",
          "name": "stdout",
          "text": [
            "Predicted color for HSV (359.87, 1.0, 1.41): 10\n",
            "1/1 [==============================] - 0s 97ms/step\n"
          ]
        },
        {
          "output_type": "stream",
          "name": "stderr",
          "text": [
            "WARNING:matplotlib.image:Clipping input data to the valid range for imshow with RGB data ([0..1] for floats or [0..255] for integers).\n"
          ]
        },
        {
          "output_type": "stream",
          "name": "stdout",
          "text": [
            "Predicted color for HSV (359.85, 1.0, 1.41): 10\n",
            "1/1 [==============================] - 0s 99ms/step\n"
          ]
        },
        {
          "output_type": "stream",
          "name": "stderr",
          "text": [
            "WARNING:matplotlib.image:Clipping input data to the valid range for imshow with RGB data ([0..1] for floats or [0..255] for integers).\n"
          ]
        },
        {
          "output_type": "stream",
          "name": "stdout",
          "text": [
            "Predicted color for HSV (0.04, 1.0, 1.41): 10\n",
            "1/1 [==============================] - 0s 117ms/step\n"
          ]
        },
        {
          "output_type": "stream",
          "name": "stderr",
          "text": [
            "WARNING:matplotlib.image:Clipping input data to the valid range for imshow with RGB data ([0..1] for floats or [0..255] for integers).\n"
          ]
        },
        {
          "output_type": "stream",
          "name": "stdout",
          "text": [
            "Predicted color for HSV (0.02, 1.0, 1.41): 10\n",
            "1/1 [==============================] - 0s 99ms/step\n"
          ]
        },
        {
          "output_type": "stream",
          "name": "stderr",
          "text": [
            "WARNING:matplotlib.image:Clipping input data to the valid range for imshow with RGB data ([0..1] for floats or [0..255] for integers).\n"
          ]
        },
        {
          "output_type": "stream",
          "name": "stdout",
          "text": [
            "Predicted color for HSV (0.0, 1.0, 1.41): 10\n",
            "1/1 [==============================] - 0s 119ms/step\n"
          ]
        },
        {
          "output_type": "stream",
          "name": "stderr",
          "text": [
            "WARNING:matplotlib.image:Clipping input data to the valid range for imshow with RGB data ([0..1] for floats or [0..255] for integers).\n"
          ]
        },
        {
          "output_type": "stream",
          "name": "stdout",
          "text": [
            "Predicted color for HSV (359.98, 1.0, 1.41): 10\n",
            "1/1 [==============================] - 0s 132ms/step\n"
          ]
        },
        {
          "output_type": "stream",
          "name": "stderr",
          "text": [
            "WARNING:matplotlib.image:Clipping input data to the valid range for imshow with RGB data ([0..1] for floats or [0..255] for integers).\n"
          ]
        },
        {
          "output_type": "stream",
          "name": "stdout",
          "text": [
            "Predicted color for HSV (359.96, 1.0, 1.41): 10\n",
            "1/1 [==============================] - 0s 144ms/step\n"
          ]
        },
        {
          "output_type": "stream",
          "name": "stderr",
          "text": [
            "WARNING:matplotlib.image:Clipping input data to the valid range for imshow with RGB data ([0..1] for floats or [0..255] for integers).\n"
          ]
        },
        {
          "output_type": "stream",
          "name": "stdout",
          "text": [
            "Predicted color for HSV (359.94, 1.0, 1.41): 10\n",
            "1/1 [==============================] - 0s 131ms/step\n"
          ]
        },
        {
          "output_type": "stream",
          "name": "stderr",
          "text": [
            "WARNING:matplotlib.image:Clipping input data to the valid range for imshow with RGB data ([0..1] for floats or [0..255] for integers).\n"
          ]
        },
        {
          "output_type": "stream",
          "name": "stdout",
          "text": [
            "Predicted color for HSV (359.92, 1.0, 1.41): 10\n",
            "1/1 [==============================] - 0s 126ms/step\n"
          ]
        },
        {
          "output_type": "stream",
          "name": "stderr",
          "text": [
            "WARNING:matplotlib.image:Clipping input data to the valid range for imshow with RGB data ([0..1] for floats or [0..255] for integers).\n"
          ]
        },
        {
          "output_type": "stream",
          "name": "stdout",
          "text": [
            "Predicted color for HSV (359.91, 1.0, 1.41): 10\n",
            "1/1 [==============================] - 0s 132ms/step\n"
          ]
        },
        {
          "output_type": "stream",
          "name": "stderr",
          "text": [
            "WARNING:matplotlib.image:Clipping input data to the valid range for imshow with RGB data ([0..1] for floats or [0..255] for integers).\n"
          ]
        },
        {
          "output_type": "stream",
          "name": "stdout",
          "text": [
            "Predicted color for HSV (359.89, 1.0, 1.41): 10\n",
            "1/1 [==============================] - 0s 117ms/step\n"
          ]
        },
        {
          "output_type": "stream",
          "name": "stderr",
          "text": [
            "WARNING:matplotlib.image:Clipping input data to the valid range for imshow with RGB data ([0..1] for floats or [0..255] for integers).\n"
          ]
        },
        {
          "output_type": "stream",
          "name": "stdout",
          "text": [
            "Predicted color for HSV (359.87, 1.0, 1.41): 10\n",
            "1/1 [==============================] - 0s 78ms/step\n"
          ]
        },
        {
          "output_type": "stream",
          "name": "stderr",
          "text": [
            "WARNING:matplotlib.image:Clipping input data to the valid range for imshow with RGB data ([0..1] for floats or [0..255] for integers).\n"
          ]
        },
        {
          "output_type": "stream",
          "name": "stdout",
          "text": [
            "Predicted color for HSV (0.06, 1.0, 1.41): 10\n",
            "1/1 [==============================] - 0s 97ms/step\n"
          ]
        },
        {
          "output_type": "stream",
          "name": "stderr",
          "text": [
            "WARNING:matplotlib.image:Clipping input data to the valid range for imshow with RGB data ([0..1] for floats or [0..255] for integers).\n"
          ]
        },
        {
          "output_type": "stream",
          "name": "stdout",
          "text": [
            "Predicted color for HSV (0.04, 1.0, 1.41): 10\n",
            "1/1 [==============================] - 0s 80ms/step\n"
          ]
        },
        {
          "output_type": "stream",
          "name": "stderr",
          "text": [
            "WARNING:matplotlib.image:Clipping input data to the valid range for imshow with RGB data ([0..1] for floats or [0..255] for integers).\n"
          ]
        },
        {
          "output_type": "stream",
          "name": "stdout",
          "text": [
            "Predicted color for HSV (0.02, 1.0, 1.41): 10\n",
            "1/1 [==============================] - 0s 80ms/step\n"
          ]
        },
        {
          "output_type": "stream",
          "name": "stderr",
          "text": [
            "WARNING:matplotlib.image:Clipping input data to the valid range for imshow with RGB data ([0..1] for floats or [0..255] for integers).\n"
          ]
        },
        {
          "output_type": "stream",
          "name": "stdout",
          "text": [
            "Predicted color for HSV (0.0, 1.0, 1.41): 10\n",
            "1/1 [==============================] - 0s 80ms/step\n"
          ]
        },
        {
          "output_type": "stream",
          "name": "stderr",
          "text": [
            "WARNING:matplotlib.image:Clipping input data to the valid range for imshow with RGB data ([0..1] for floats or [0..255] for integers).\n"
          ]
        },
        {
          "output_type": "stream",
          "name": "stdout",
          "text": [
            "Predicted color for HSV (359.98, 1.0, 1.41): 10\n",
            "1/1 [==============================] - 0s 88ms/step\n"
          ]
        },
        {
          "output_type": "stream",
          "name": "stderr",
          "text": [
            "WARNING:matplotlib.image:Clipping input data to the valid range for imshow with RGB data ([0..1] for floats or [0..255] for integers).\n"
          ]
        },
        {
          "output_type": "stream",
          "name": "stdout",
          "text": [
            "Predicted color for HSV (359.96, 1.0, 1.41): 10\n",
            "1/1 [==============================] - 0s 76ms/step\n"
          ]
        },
        {
          "output_type": "stream",
          "name": "stderr",
          "text": [
            "WARNING:matplotlib.image:Clipping input data to the valid range for imshow with RGB data ([0..1] for floats or [0..255] for integers).\n"
          ]
        },
        {
          "output_type": "stream",
          "name": "stdout",
          "text": [
            "Predicted color for HSV (359.94, 1.0, 1.41): 10\n",
            "1/1 [==============================] - 0s 81ms/step\n"
          ]
        },
        {
          "output_type": "stream",
          "name": "stderr",
          "text": [
            "WARNING:matplotlib.image:Clipping input data to the valid range for imshow with RGB data ([0..1] for floats or [0..255] for integers).\n"
          ]
        },
        {
          "output_type": "stream",
          "name": "stdout",
          "text": [
            "Predicted color for HSV (359.92, 1.0, 1.41): 10\n",
            "1/1 [==============================] - 0s 78ms/step\n"
          ]
        },
        {
          "output_type": "stream",
          "name": "stderr",
          "text": [
            "WARNING:matplotlib.image:Clipping input data to the valid range for imshow with RGB data ([0..1] for floats or [0..255] for integers).\n"
          ]
        },
        {
          "output_type": "stream",
          "name": "stdout",
          "text": [
            "Predicted color for HSV (359.91, 1.0, 1.41): 10\n",
            "1/1 [==============================] - 0s 77ms/step\n"
          ]
        },
        {
          "output_type": "stream",
          "name": "stderr",
          "text": [
            "WARNING:matplotlib.image:Clipping input data to the valid range for imshow with RGB data ([0..1] for floats or [0..255] for integers).\n"
          ]
        },
        {
          "output_type": "stream",
          "name": "stdout",
          "text": [
            "Predicted color for HSV (359.89, 1.0, 1.41): 10\n",
            "1/1 [==============================] - 0s 76ms/step\n"
          ]
        },
        {
          "output_type": "stream",
          "name": "stderr",
          "text": [
            "WARNING:matplotlib.image:Clipping input data to the valid range for imshow with RGB data ([0..1] for floats or [0..255] for integers).\n"
          ]
        },
        {
          "output_type": "stream",
          "name": "stdout",
          "text": [
            "Predicted color for HSV (0.07, 1.0, 1.41): 10\n",
            "1/1 [==============================] - 0s 79ms/step\n"
          ]
        },
        {
          "output_type": "stream",
          "name": "stderr",
          "text": [
            "WARNING:matplotlib.image:Clipping input data to the valid range for imshow with RGB data ([0..1] for floats or [0..255] for integers).\n"
          ]
        },
        {
          "output_type": "stream",
          "name": "stdout",
          "text": [
            "Predicted color for HSV (0.06, 1.0, 1.41): 10\n",
            "1/1 [==============================] - 0s 74ms/step\n"
          ]
        },
        {
          "output_type": "stream",
          "name": "stderr",
          "text": [
            "WARNING:matplotlib.image:Clipping input data to the valid range for imshow with RGB data ([0..1] for floats or [0..255] for integers).\n"
          ]
        },
        {
          "output_type": "stream",
          "name": "stdout",
          "text": [
            "Predicted color for HSV (0.04, 1.0, 1.41): 10\n",
            "1/1 [==============================] - 0s 77ms/step\n"
          ]
        },
        {
          "output_type": "stream",
          "name": "stderr",
          "text": [
            "WARNING:matplotlib.image:Clipping input data to the valid range for imshow with RGB data ([0..1] for floats or [0..255] for integers).\n"
          ]
        },
        {
          "output_type": "stream",
          "name": "stdout",
          "text": [
            "Predicted color for HSV (0.02, 1.0, 1.41): 10\n",
            "1/1 [==============================] - 0s 76ms/step\n"
          ]
        },
        {
          "output_type": "stream",
          "name": "stderr",
          "text": [
            "WARNING:matplotlib.image:Clipping input data to the valid range for imshow with RGB data ([0..1] for floats or [0..255] for integers).\n"
          ]
        },
        {
          "output_type": "stream",
          "name": "stdout",
          "text": [
            "Predicted color for HSV (0.0, 1.0, 1.41): 10\n",
            "1/1 [==============================] - 0s 74ms/step\n"
          ]
        },
        {
          "output_type": "stream",
          "name": "stderr",
          "text": [
            "WARNING:matplotlib.image:Clipping input data to the valid range for imshow with RGB data ([0..1] for floats or [0..255] for integers).\n"
          ]
        },
        {
          "output_type": "stream",
          "name": "stdout",
          "text": [
            "Predicted color for HSV (359.98, 1.0, 1.41): 10\n",
            "1/1 [==============================] - 0s 74ms/step\n"
          ]
        },
        {
          "output_type": "stream",
          "name": "stderr",
          "text": [
            "WARNING:matplotlib.image:Clipping input data to the valid range for imshow with RGB data ([0..1] for floats or [0..255] for integers).\n"
          ]
        },
        {
          "output_type": "stream",
          "name": "stdout",
          "text": [
            "Predicted color for HSV (359.96, 1.0, 1.41): 10\n",
            "1/1 [==============================] - 0s 75ms/step\n"
          ]
        },
        {
          "output_type": "stream",
          "name": "stderr",
          "text": [
            "WARNING:matplotlib.image:Clipping input data to the valid range for imshow with RGB data ([0..1] for floats or [0..255] for integers).\n"
          ]
        },
        {
          "output_type": "stream",
          "name": "stdout",
          "text": [
            "Predicted color for HSV (359.94, 1.0, 1.41): 10\n",
            "1/1 [==============================] - 0s 83ms/step\n"
          ]
        },
        {
          "output_type": "stream",
          "name": "stderr",
          "text": [
            "WARNING:matplotlib.image:Clipping input data to the valid range for imshow with RGB data ([0..1] for floats or [0..255] for integers).\n"
          ]
        },
        {
          "output_type": "stream",
          "name": "stdout",
          "text": [
            "Predicted color for HSV (359.92, 1.0, 1.41): 10\n",
            "1/1 [==============================] - 0s 75ms/step\n"
          ]
        },
        {
          "output_type": "stream",
          "name": "stderr",
          "text": [
            "WARNING:matplotlib.image:Clipping input data to the valid range for imshow with RGB data ([0..1] for floats or [0..255] for integers).\n"
          ]
        },
        {
          "output_type": "stream",
          "name": "stdout",
          "text": [
            "Predicted color for HSV (359.91, 1.0, 1.41): 10\n",
            "1/1 [==============================] - 0s 76ms/step\n"
          ]
        },
        {
          "output_type": "stream",
          "name": "stderr",
          "text": [
            "WARNING:matplotlib.image:Clipping input data to the valid range for imshow with RGB data ([0..1] for floats or [0..255] for integers).\n"
          ]
        },
        {
          "output_type": "stream",
          "name": "stdout",
          "text": [
            "Predicted color for HSV (0.09, 1.0, 1.41): 10\n",
            "1/1 [==============================] - 0s 76ms/step\n"
          ]
        },
        {
          "output_type": "stream",
          "name": "stderr",
          "text": [
            "WARNING:matplotlib.image:Clipping input data to the valid range for imshow with RGB data ([0..1] for floats or [0..255] for integers).\n"
          ]
        },
        {
          "output_type": "stream",
          "name": "stdout",
          "text": [
            "Predicted color for HSV (0.08, 1.0, 1.41): 10\n",
            "1/1 [==============================] - 0s 84ms/step\n"
          ]
        },
        {
          "output_type": "stream",
          "name": "stderr",
          "text": [
            "WARNING:matplotlib.image:Clipping input data to the valid range for imshow with RGB data ([0..1] for floats or [0..255] for integers).\n"
          ]
        },
        {
          "output_type": "stream",
          "name": "stdout",
          "text": [
            "Predicted color for HSV (0.06, 1.0, 1.41): 10\n",
            "1/1 [==============================] - 0s 81ms/step\n"
          ]
        },
        {
          "output_type": "stream",
          "name": "stderr",
          "text": [
            "WARNING:matplotlib.image:Clipping input data to the valid range for imshow with RGB data ([0..1] for floats or [0..255] for integers).\n"
          ]
        },
        {
          "output_type": "stream",
          "name": "stdout",
          "text": [
            "Predicted color for HSV (0.04, 1.0, 1.41): 10\n",
            "1/1 [==============================] - 0s 80ms/step\n"
          ]
        },
        {
          "output_type": "stream",
          "name": "stderr",
          "text": [
            "WARNING:matplotlib.image:Clipping input data to the valid range for imshow with RGB data ([0..1] for floats or [0..255] for integers).\n"
          ]
        },
        {
          "output_type": "stream",
          "name": "stdout",
          "text": [
            "Predicted color for HSV (0.02, 1.0, 1.41): 10\n",
            "1/1 [==============================] - 0s 91ms/step\n"
          ]
        },
        {
          "output_type": "stream",
          "name": "stderr",
          "text": [
            "WARNING:matplotlib.image:Clipping input data to the valid range for imshow with RGB data ([0..1] for floats or [0..255] for integers).\n"
          ]
        },
        {
          "output_type": "stream",
          "name": "stdout",
          "text": [
            "Predicted color for HSV (0.0, 1.0, 1.41): 10\n",
            "1/1 [==============================] - 0s 77ms/step\n"
          ]
        },
        {
          "output_type": "stream",
          "name": "stderr",
          "text": [
            "WARNING:matplotlib.image:Clipping input data to the valid range for imshow with RGB data ([0..1] for floats or [0..255] for integers).\n"
          ]
        },
        {
          "output_type": "stream",
          "name": "stdout",
          "text": [
            "Predicted color for HSV (359.98, 1.0, 1.41): 10\n",
            "1/1 [==============================] - 0s 79ms/step\n"
          ]
        },
        {
          "output_type": "stream",
          "name": "stderr",
          "text": [
            "WARNING:matplotlib.image:Clipping input data to the valid range for imshow with RGB data ([0..1] for floats or [0..255] for integers).\n"
          ]
        },
        {
          "output_type": "stream",
          "name": "stdout",
          "text": [
            "Predicted color for HSV (359.96, 1.0, 1.41): 10\n",
            "1/1 [==============================] - 0s 78ms/step\n"
          ]
        },
        {
          "output_type": "stream",
          "name": "stderr",
          "text": [
            "WARNING:matplotlib.image:Clipping input data to the valid range for imshow with RGB data ([0..1] for floats or [0..255] for integers).\n"
          ]
        },
        {
          "output_type": "stream",
          "name": "stdout",
          "text": [
            "Predicted color for HSV (359.94, 1.0, 1.41): 10\n",
            "1/1 [==============================] - 0s 85ms/step\n"
          ]
        },
        {
          "output_type": "stream",
          "name": "stderr",
          "text": [
            "WARNING:matplotlib.image:Clipping input data to the valid range for imshow with RGB data ([0..1] for floats or [0..255] for integers).\n"
          ]
        },
        {
          "output_type": "stream",
          "name": "stdout",
          "text": [
            "Predicted color for HSV (359.93, 1.0, 1.41): 10\n",
            "1/1 [==============================] - 0s 76ms/step\n"
          ]
        },
        {
          "output_type": "stream",
          "name": "stderr",
          "text": [
            "WARNING:matplotlib.image:Clipping input data to the valid range for imshow with RGB data ([0..1] for floats or [0..255] for integers).\n"
          ]
        },
        {
          "output_type": "stream",
          "name": "stdout",
          "text": [
            "Predicted color for HSV (0.11, 1.0, 1.41): 10\n",
            "1/1 [==============================] - 0s 80ms/step\n"
          ]
        },
        {
          "output_type": "stream",
          "name": "stderr",
          "text": [
            "WARNING:matplotlib.image:Clipping input data to the valid range for imshow with RGB data ([0..1] for floats or [0..255] for integers).\n"
          ]
        },
        {
          "output_type": "stream",
          "name": "stdout",
          "text": [
            "Predicted color for HSV (0.09, 1.0, 1.41): 10\n",
            "1/1 [==============================] - 0s 77ms/step\n"
          ]
        },
        {
          "output_type": "stream",
          "name": "stderr",
          "text": [
            "WARNING:matplotlib.image:Clipping input data to the valid range for imshow with RGB data ([0..1] for floats or [0..255] for integers).\n"
          ]
        },
        {
          "output_type": "stream",
          "name": "stdout",
          "text": [
            "Predicted color for HSV (0.08, 1.0, 1.41): 10\n",
            "1/1 [==============================] - 0s 72ms/step\n"
          ]
        },
        {
          "output_type": "stream",
          "name": "stderr",
          "text": [
            "WARNING:matplotlib.image:Clipping input data to the valid range for imshow with RGB data ([0..1] for floats or [0..255] for integers).\n"
          ]
        },
        {
          "output_type": "stream",
          "name": "stdout",
          "text": [
            "Predicted color for HSV (0.06, 1.0, 1.41): 10\n",
            "1/1 [==============================] - 0s 72ms/step\n"
          ]
        },
        {
          "output_type": "stream",
          "name": "stderr",
          "text": [
            "WARNING:matplotlib.image:Clipping input data to the valid range for imshow with RGB data ([0..1] for floats or [0..255] for integers).\n"
          ]
        },
        {
          "output_type": "stream",
          "name": "stdout",
          "text": [
            "Predicted color for HSV (0.04, 1.0, 1.41): 10\n",
            "1/1 [==============================] - 0s 76ms/step\n"
          ]
        },
        {
          "output_type": "stream",
          "name": "stderr",
          "text": [
            "WARNING:matplotlib.image:Clipping input data to the valid range for imshow with RGB data ([0..1] for floats or [0..255] for integers).\n"
          ]
        },
        {
          "output_type": "stream",
          "name": "stdout",
          "text": [
            "Predicted color for HSV (0.02, 1.0, 1.41): 10\n",
            "1/1 [==============================] - 0s 78ms/step\n"
          ]
        },
        {
          "output_type": "stream",
          "name": "stderr",
          "text": [
            "WARNING:matplotlib.image:Clipping input data to the valid range for imshow with RGB data ([0..1] for floats or [0..255] for integers).\n"
          ]
        },
        {
          "output_type": "stream",
          "name": "stdout",
          "text": [
            "Predicted color for HSV (0.0, 1.0, 1.41): 10\n",
            "1/1 [==============================] - 0s 80ms/step\n"
          ]
        },
        {
          "output_type": "stream",
          "name": "stderr",
          "text": [
            "WARNING:matplotlib.image:Clipping input data to the valid range for imshow with RGB data ([0..1] for floats or [0..255] for integers).\n"
          ]
        },
        {
          "output_type": "stream",
          "name": "stdout",
          "text": [
            "Predicted color for HSV (359.98, 1.0, 1.41): 10\n",
            "1/1 [==============================] - 0s 73ms/step\n"
          ]
        },
        {
          "output_type": "stream",
          "name": "stderr",
          "text": [
            "WARNING:matplotlib.image:Clipping input data to the valid range for imshow with RGB data ([0..1] for floats or [0..255] for integers).\n"
          ]
        },
        {
          "output_type": "stream",
          "name": "stdout",
          "text": [
            "Predicted color for HSV (359.96, 1.0, 1.41): 10\n",
            "1/1 [==============================] - 0s 80ms/step\n"
          ]
        },
        {
          "output_type": "stream",
          "name": "stderr",
          "text": [
            "WARNING:matplotlib.image:Clipping input data to the valid range for imshow with RGB data ([0..1] for floats or [0..255] for integers).\n"
          ]
        },
        {
          "output_type": "stream",
          "name": "stdout",
          "text": [
            "Predicted color for HSV (359.94, 1.0, 1.41): 10\n",
            "1/1 [==============================] - 0s 75ms/step\n"
          ]
        },
        {
          "output_type": "stream",
          "name": "stderr",
          "text": [
            "WARNING:matplotlib.image:Clipping input data to the valid range for imshow with RGB data ([0..1] for floats or [0..255] for integers).\n"
          ]
        },
        {
          "output_type": "stream",
          "name": "stdout",
          "text": [
            "Predicted color for HSV (0.13, 1.0, 1.41): 10\n",
            "1/1 [==============================] - 0s 103ms/step\n"
          ]
        },
        {
          "output_type": "stream",
          "name": "stderr",
          "text": [
            "WARNING:matplotlib.image:Clipping input data to the valid range for imshow with RGB data ([0..1] for floats or [0..255] for integers).\n"
          ]
        },
        {
          "output_type": "stream",
          "name": "stdout",
          "text": [
            "Predicted color for HSV (0.11, 1.0, 1.41): 10\n",
            "1/1 [==============================] - 0s 99ms/step\n"
          ]
        },
        {
          "output_type": "stream",
          "name": "stderr",
          "text": [
            "WARNING:matplotlib.image:Clipping input data to the valid range for imshow with RGB data ([0..1] for floats or [0..255] for integers).\n"
          ]
        },
        {
          "output_type": "stream",
          "name": "stdout",
          "text": [
            "Predicted color for HSV (0.09, 1.0, 1.41): 10\n",
            "1/1 [==============================] - 0s 99ms/step\n"
          ]
        },
        {
          "output_type": "stream",
          "name": "stderr",
          "text": [
            "WARNING:matplotlib.image:Clipping input data to the valid range for imshow with RGB data ([0..1] for floats or [0..255] for integers).\n"
          ]
        },
        {
          "output_type": "stream",
          "name": "stdout",
          "text": [
            "Predicted color for HSV (0.08, 1.0, 1.41): 10\n",
            "1/1 [==============================] - 0s 99ms/step\n"
          ]
        },
        {
          "output_type": "stream",
          "name": "stderr",
          "text": [
            "WARNING:matplotlib.image:Clipping input data to the valid range for imshow with RGB data ([0..1] for floats or [0..255] for integers).\n"
          ]
        },
        {
          "output_type": "stream",
          "name": "stdout",
          "text": [
            "Predicted color for HSV (0.06, 1.0, 1.41): 10\n",
            "1/1 [==============================] - 0s 99ms/step\n"
          ]
        },
        {
          "output_type": "stream",
          "name": "stderr",
          "text": [
            "WARNING:matplotlib.image:Clipping input data to the valid range for imshow with RGB data ([0..1] for floats or [0..255] for integers).\n"
          ]
        },
        {
          "output_type": "stream",
          "name": "stdout",
          "text": [
            "Predicted color for HSV (0.04, 1.0, 1.41): 10\n",
            "1/1 [==============================] - 0s 96ms/step\n"
          ]
        },
        {
          "output_type": "stream",
          "name": "stderr",
          "text": [
            "WARNING:matplotlib.image:Clipping input data to the valid range for imshow with RGB data ([0..1] for floats or [0..255] for integers).\n"
          ]
        },
        {
          "output_type": "stream",
          "name": "stdout",
          "text": [
            "Predicted color for HSV (0.02, 1.0, 1.41): 10\n",
            "1/1 [==============================] - 0s 126ms/step\n"
          ]
        },
        {
          "output_type": "stream",
          "name": "stderr",
          "text": [
            "WARNING:matplotlib.image:Clipping input data to the valid range for imshow with RGB data ([0..1] for floats or [0..255] for integers).\n"
          ]
        },
        {
          "output_type": "stream",
          "name": "stdout",
          "text": [
            "Predicted color for HSV (0.0, 1.0, 1.41): 10\n",
            "1/1 [==============================] - 0s 102ms/step\n"
          ]
        },
        {
          "output_type": "stream",
          "name": "stderr",
          "text": [
            "WARNING:matplotlib.image:Clipping input data to the valid range for imshow with RGB data ([0..1] for floats or [0..255] for integers).\n"
          ]
        },
        {
          "output_type": "stream",
          "name": "stdout",
          "text": [
            "Predicted color for HSV (359.98, 1.0, 1.41): 10\n",
            "1/1 [==============================] - 0s 115ms/step\n"
          ]
        },
        {
          "output_type": "stream",
          "name": "stderr",
          "text": [
            "WARNING:matplotlib.image:Clipping input data to the valid range for imshow with RGB data ([0..1] for floats or [0..255] for integers).\n"
          ]
        },
        {
          "output_type": "stream",
          "name": "stdout",
          "text": [
            "Predicted color for HSV (359.96, 1.0, 1.41): 10\n",
            "1/1 [==============================] - 0s 95ms/step\n"
          ]
        },
        {
          "output_type": "stream",
          "name": "stderr",
          "text": [
            "WARNING:matplotlib.image:Clipping input data to the valid range for imshow with RGB data ([0..1] for floats or [0..255] for integers).\n"
          ]
        },
        {
          "output_type": "stream",
          "name": "stdout",
          "text": [
            "Predicted color for HSV (0.15, 1.0, 1.41): 10\n",
            "1/1 [==============================] - 0s 104ms/step\n"
          ]
        },
        {
          "output_type": "stream",
          "name": "stderr",
          "text": [
            "WARNING:matplotlib.image:Clipping input data to the valid range for imshow with RGB data ([0..1] for floats or [0..255] for integers).\n"
          ]
        },
        {
          "output_type": "stream",
          "name": "stdout",
          "text": [
            "Predicted color for HSV (0.13, 1.0, 1.41): 10\n",
            "1/1 [==============================] - 0s 107ms/step\n"
          ]
        },
        {
          "output_type": "stream",
          "name": "stderr",
          "text": [
            "WARNING:matplotlib.image:Clipping input data to the valid range for imshow with RGB data ([0..1] for floats or [0..255] for integers).\n"
          ]
        },
        {
          "output_type": "stream",
          "name": "stdout",
          "text": [
            "Predicted color for HSV (0.11, 1.0, 1.41): 10\n",
            "1/1 [==============================] - 0s 98ms/step\n"
          ]
        },
        {
          "output_type": "stream",
          "name": "stderr",
          "text": [
            "WARNING:matplotlib.image:Clipping input data to the valid range for imshow with RGB data ([0..1] for floats or [0..255] for integers).\n"
          ]
        },
        {
          "output_type": "stream",
          "name": "stdout",
          "text": [
            "Predicted color for HSV (0.09, 1.0, 1.41): 10\n",
            "1/1 [==============================] - 0s 95ms/step\n"
          ]
        },
        {
          "output_type": "stream",
          "name": "stderr",
          "text": [
            "WARNING:matplotlib.image:Clipping input data to the valid range for imshow with RGB data ([0..1] for floats or [0..255] for integers).\n"
          ]
        },
        {
          "output_type": "stream",
          "name": "stdout",
          "text": [
            "Predicted color for HSV (0.08, 1.0, 1.41): 10\n",
            "1/1 [==============================] - 0s 104ms/step\n"
          ]
        },
        {
          "output_type": "stream",
          "name": "stderr",
          "text": [
            "WARNING:matplotlib.image:Clipping input data to the valid range for imshow with RGB data ([0..1] for floats or [0..255] for integers).\n"
          ]
        },
        {
          "output_type": "stream",
          "name": "stdout",
          "text": [
            "Predicted color for HSV (0.06, 1.0, 1.41): 10\n",
            "1/1 [==============================] - 0s 99ms/step\n"
          ]
        },
        {
          "output_type": "stream",
          "name": "stderr",
          "text": [
            "WARNING:matplotlib.image:Clipping input data to the valid range for imshow with RGB data ([0..1] for floats or [0..255] for integers).\n"
          ]
        },
        {
          "output_type": "stream",
          "name": "stdout",
          "text": [
            "Predicted color for HSV (0.04, 1.0, 1.41): 10\n",
            "1/1 [==============================] - 0s 101ms/step\n"
          ]
        },
        {
          "output_type": "stream",
          "name": "stderr",
          "text": [
            "WARNING:matplotlib.image:Clipping input data to the valid range for imshow with RGB data ([0..1] for floats or [0..255] for integers).\n"
          ]
        },
        {
          "output_type": "stream",
          "name": "stdout",
          "text": [
            "Predicted color for HSV (0.02, 1.0, 1.41): 10\n",
            "1/1 [==============================] - 0s 102ms/step\n"
          ]
        },
        {
          "output_type": "stream",
          "name": "stderr",
          "text": [
            "WARNING:matplotlib.image:Clipping input data to the valid range for imshow with RGB data ([0..1] for floats or [0..255] for integers).\n"
          ]
        },
        {
          "output_type": "stream",
          "name": "stdout",
          "text": [
            "Predicted color for HSV (0.0, 1.0, 1.41): 10\n",
            "1/1 [==============================] - 0s 97ms/step\n"
          ]
        },
        {
          "output_type": "stream",
          "name": "stderr",
          "text": [
            "WARNING:matplotlib.image:Clipping input data to the valid range for imshow with RGB data ([0..1] for floats or [0..255] for integers).\n"
          ]
        },
        {
          "output_type": "stream",
          "name": "stdout",
          "text": [
            "Predicted color for HSV (359.98, 1.0, 1.41): 10\n",
            "1/1 [==============================] - 0s 98ms/step\n"
          ]
        },
        {
          "output_type": "stream",
          "name": "stderr",
          "text": [
            "WARNING:matplotlib.image:Clipping input data to the valid range for imshow with RGB data ([0..1] for floats or [0..255] for integers).\n"
          ]
        },
        {
          "output_type": "stream",
          "name": "stdout",
          "text": [
            "Predicted color for HSV (0.17, 1.0, 1.41): 10\n",
            "1/1 [==============================] - 0s 95ms/step\n"
          ]
        },
        {
          "output_type": "stream",
          "name": "stderr",
          "text": [
            "WARNING:matplotlib.image:Clipping input data to the valid range for imshow with RGB data ([0..1] for floats or [0..255] for integers).\n"
          ]
        },
        {
          "output_type": "stream",
          "name": "stdout",
          "text": [
            "Predicted color for HSV (0.15, 1.0, 1.41): 10\n",
            "1/1 [==============================] - 0s 117ms/step\n"
          ]
        },
        {
          "output_type": "stream",
          "name": "stderr",
          "text": [
            "WARNING:matplotlib.image:Clipping input data to the valid range for imshow with RGB data ([0..1] for floats or [0..255] for integers).\n"
          ]
        },
        {
          "output_type": "stream",
          "name": "stdout",
          "text": [
            "Predicted color for HSV (0.13, 1.0, 1.41): 10\n",
            "1/1 [==============================] - 0s 75ms/step\n"
          ]
        },
        {
          "output_type": "stream",
          "name": "stderr",
          "text": [
            "WARNING:matplotlib.image:Clipping input data to the valid range for imshow with RGB data ([0..1] for floats or [0..255] for integers).\n"
          ]
        },
        {
          "output_type": "stream",
          "name": "stdout",
          "text": [
            "Predicted color for HSV (0.11, 1.0, 1.41): 10\n",
            "1/1 [==============================] - 1s 692ms/step\n"
          ]
        },
        {
          "output_type": "stream",
          "name": "stderr",
          "text": [
            "WARNING:matplotlib.image:Clipping input data to the valid range for imshow with RGB data ([0..1] for floats or [0..255] for integers).\n"
          ]
        },
        {
          "output_type": "stream",
          "name": "stdout",
          "text": [
            "Predicted color for HSV (0.09, 1.0, 1.41): 10\n",
            "1/1 [==============================] - 0s 96ms/step\n"
          ]
        },
        {
          "output_type": "stream",
          "name": "stderr",
          "text": [
            "WARNING:matplotlib.image:Clipping input data to the valid range for imshow with RGB data ([0..1] for floats or [0..255] for integers).\n"
          ]
        },
        {
          "output_type": "stream",
          "name": "stdout",
          "text": [
            "Predicted color for HSV (0.07, 1.0, 1.41): 10\n",
            "1/1 [==============================] - 0s 100ms/step\n"
          ]
        },
        {
          "output_type": "stream",
          "name": "stderr",
          "text": [
            "WARNING:matplotlib.image:Clipping input data to the valid range for imshow with RGB data ([0..1] for floats or [0..255] for integers).\n"
          ]
        },
        {
          "output_type": "stream",
          "name": "stdout",
          "text": [
            "Predicted color for HSV (0.06, 1.0, 1.41): 10\n",
            "1/1 [==============================] - 0s 95ms/step\n"
          ]
        },
        {
          "output_type": "stream",
          "name": "stderr",
          "text": [
            "WARNING:matplotlib.image:Clipping input data to the valid range for imshow with RGB data ([0..1] for floats or [0..255] for integers).\n"
          ]
        },
        {
          "output_type": "stream",
          "name": "stdout",
          "text": [
            "Predicted color for HSV (0.04, 1.0, 1.41): 10\n",
            "1/1 [==============================] - 0s 99ms/step\n"
          ]
        },
        {
          "output_type": "stream",
          "name": "stderr",
          "text": [
            "WARNING:matplotlib.image:Clipping input data to the valid range for imshow with RGB data ([0..1] for floats or [0..255] for integers).\n"
          ]
        },
        {
          "output_type": "stream",
          "name": "stdout",
          "text": [
            "Predicted color for HSV (0.02, 1.0, 1.41): 10\n",
            "1/1 [==============================] - 0s 91ms/step\n"
          ]
        },
        {
          "output_type": "stream",
          "name": "stderr",
          "text": [
            "WARNING:matplotlib.image:Clipping input data to the valid range for imshow with RGB data ([0..1] for floats or [0..255] for integers).\n"
          ]
        },
        {
          "output_type": "stream",
          "name": "stdout",
          "text": [
            "Predicted color for HSV (0.0, 1.0, 1.41): 10\n",
            "1/1 [==============================] - 0s 97ms/step\n",
            "Predicted color for HSV (359.79, 0.99, 0.24): 1\n",
            "1/1 [==============================] - 0s 89ms/step\n",
            "Predicted color for HSV (359.87, 0.98, 0.22): 1\n",
            "1/1 [==============================] - 0s 92ms/step\n",
            "Predicted color for HSV (359.92, 0.98, 0.22): 1\n",
            "1/1 [==============================] - 0s 86ms/step\n",
            "Predicted color for HSV (359.96, 0.99, 0.24): 1\n",
            "1/1 [==============================] - 0s 85ms/step\n",
            "Predicted color for HSV (359.93, 0.98, 0.23): 1\n",
            "1/1 [==============================] - 0s 79ms/step\n",
            "Predicted color for HSV (359.9, 0.99, 0.26): 1\n",
            "1/1 [==============================] - 0s 84ms/step\n",
            "Predicted color for HSV (359.75, 0.99, 0.2): 1\n",
            "1/1 [==============================] - 0s 82ms/step\n",
            "Predicted color for HSV (359.82, 0.99, 0.25): 1\n",
            "1/1 [==============================] - 0s 80ms/step\n",
            "Predicted color for HSV (359.77, 0.99, 0.25): 1\n",
            "1/1 [==============================] - 0s 84ms/step\n",
            "Predicted color for HSV (0.02, 0.98, 0.22): 1\n",
            "1/1 [==============================] - 0s 78ms/step\n",
            "Predicted color for HSV (359.81, 0.99, 0.25): 1\n",
            "1/1 [==============================] - 0s 80ms/step\n",
            "Predicted color for HSV (359.87, 0.98, 0.2): 1\n",
            "1/1 [==============================] - 0s 79ms/step\n",
            "Predicted color for HSV (0.08, 0.99, 0.25): 1\n",
            "1/1 [==============================] - 0s 80ms/step\n",
            "Predicted color for HSV (359.96, 0.98, 0.22): 1\n",
            "1/1 [==============================] - 0s 75ms/step\n",
            "Predicted color for HSV (359.85, 0.99, 0.23): 1\n",
            "1/1 [==============================] - 0s 78ms/step\n",
            "Predicted color for HSV (359.91, 0.99, 0.24): 1\n",
            "1/1 [==============================] - 0s 87ms/step\n",
            "Predicted color for HSV (359.79, 0.99, 0.25): 1\n",
            "1/1 [==============================] - 0s 78ms/step\n",
            "Predicted color for HSV (359.92, 0.98, 0.23): 1\n",
            "1/1 [==============================] - 0s 86ms/step\n",
            "Predicted color for HSV (359.97, 0.98, 0.23): 1\n",
            "1/1 [==============================] - 0s 76ms/step\n",
            "Predicted color for HSV (359.78, 0.99, 0.2): 1\n",
            "1/1 [==============================] - 0s 83ms/step\n"
          ]
        },
        {
          "output_type": "stream",
          "name": "stderr",
          "text": [
            "WARNING:matplotlib.image:Clipping input data to the valid range for imshow with RGB data ([0..1] for floats or [0..255] for integers).\n"
          ]
        },
        {
          "output_type": "stream",
          "name": "stdout",
          "text": [
            "Predicted color for HSV (0.02, 1.0, 1.13): 10\n",
            "1/1 [==============================] - 0s 78ms/step\n"
          ]
        },
        {
          "output_type": "stream",
          "name": "stderr",
          "text": [
            "WARNING:matplotlib.image:Clipping input data to the valid range for imshow with RGB data ([0..1] for floats or [0..255] for integers).\n"
          ]
        },
        {
          "output_type": "stream",
          "name": "stdout",
          "text": [
            "Predicted color for HSV (0.06, 1.0, 1.13): 10\n",
            "1/1 [==============================] - 0s 78ms/step\n"
          ]
        },
        {
          "output_type": "stream",
          "name": "stderr",
          "text": [
            "WARNING:matplotlib.image:Clipping input data to the valid range for imshow with RGB data ([0..1] for floats or [0..255] for integers).\n"
          ]
        },
        {
          "output_type": "stream",
          "name": "stdout",
          "text": [
            "Predicted color for HSV (0.06, 1.0, 1.16): 10\n",
            "1/1 [==============================] - 0s 88ms/step\n"
          ]
        },
        {
          "output_type": "stream",
          "name": "stderr",
          "text": [
            "WARNING:matplotlib.image:Clipping input data to the valid range for imshow with RGB data ([0..1] for floats or [0..255] for integers).\n"
          ]
        },
        {
          "output_type": "stream",
          "name": "stdout",
          "text": [
            "Predicted color for HSV (0.06, 1.0, 1.13): 10\n",
            "1/1 [==============================] - 0s 90ms/step\n"
          ]
        },
        {
          "output_type": "stream",
          "name": "stderr",
          "text": [
            "WARNING:matplotlib.image:Clipping input data to the valid range for imshow with RGB data ([0..1] for floats or [0..255] for integers).\n"
          ]
        },
        {
          "output_type": "stream",
          "name": "stdout",
          "text": [
            "Predicted color for HSV (0.08, 1.0, 1.08): 10\n",
            "1/1 [==============================] - 0s 75ms/step\n"
          ]
        },
        {
          "output_type": "stream",
          "name": "stderr",
          "text": [
            "WARNING:matplotlib.image:Clipping input data to the valid range for imshow with RGB data ([0..1] for floats or [0..255] for integers).\n"
          ]
        },
        {
          "output_type": "stream",
          "name": "stdout",
          "text": [
            "Predicted color for HSV (0.08, 1.0, 1.04): 10\n",
            "1/1 [==============================] - 0s 79ms/step\n"
          ]
        },
        {
          "output_type": "stream",
          "name": "stderr",
          "text": [
            "WARNING:matplotlib.image:Clipping input data to the valid range for imshow with RGB data ([0..1] for floats or [0..255] for integers).\n"
          ]
        },
        {
          "output_type": "stream",
          "name": "stdout",
          "text": [
            "Predicted color for HSV (0.06, 1.0, 1.24): 10\n",
            "1/1 [==============================] - 0s 80ms/step\n"
          ]
        },
        {
          "output_type": "stream",
          "name": "stderr",
          "text": [
            "WARNING:matplotlib.image:Clipping input data to the valid range for imshow with RGB data ([0..1] for floats or [0..255] for integers).\n"
          ]
        },
        {
          "output_type": "stream",
          "name": "stdout",
          "text": [
            "Predicted color for HSV (0.03, 1.0, 1.19): 10\n",
            "1/1 [==============================] - 0s 77ms/step\n"
          ]
        },
        {
          "output_type": "stream",
          "name": "stderr",
          "text": [
            "WARNING:matplotlib.image:Clipping input data to the valid range for imshow with RGB data ([0..1] for floats or [0..255] for integers).\n"
          ]
        },
        {
          "output_type": "stream",
          "name": "stdout",
          "text": [
            "Predicted color for HSV (0.07, 1.0, 1.22): 10\n",
            "1/1 [==============================] - 0s 79ms/step\n"
          ]
        },
        {
          "output_type": "stream",
          "name": "stderr",
          "text": [
            "WARNING:matplotlib.image:Clipping input data to the valid range for imshow with RGB data ([0..1] for floats or [0..255] for integers).\n"
          ]
        },
        {
          "output_type": "stream",
          "name": "stdout",
          "text": [
            "Predicted color for HSV (0.03, 1.0, 1.18): 10\n",
            "1/1 [==============================] - 0s 82ms/step\n"
          ]
        },
        {
          "output_type": "stream",
          "name": "stderr",
          "text": [
            "WARNING:matplotlib.image:Clipping input data to the valid range for imshow with RGB data ([0..1] for floats or [0..255] for integers).\n"
          ]
        },
        {
          "output_type": "stream",
          "name": "stdout",
          "text": [
            "Predicted color for HSV (0.04, 1.0, 1.14): 10\n",
            "1/1 [==============================] - 0s 111ms/step\n"
          ]
        },
        {
          "output_type": "stream",
          "name": "stderr",
          "text": [
            "WARNING:matplotlib.image:Clipping input data to the valid range for imshow with RGB data ([0..1] for floats or [0..255] for integers).\n"
          ]
        },
        {
          "output_type": "stream",
          "name": "stdout",
          "text": [
            "Predicted color for HSV (0.05, 1.0, 1.24): 10\n",
            "1/1 [==============================] - 0s 100ms/step\n"
          ]
        },
        {
          "output_type": "stream",
          "name": "stderr",
          "text": [
            "WARNING:matplotlib.image:Clipping input data to the valid range for imshow with RGB data ([0..1] for floats or [0..255] for integers).\n"
          ]
        },
        {
          "output_type": "stream",
          "name": "stdout",
          "text": [
            "Predicted color for HSV (0.03, 1.0, 1.2): 10\n",
            "1/1 [==============================] - 0s 116ms/step\n"
          ]
        },
        {
          "output_type": "stream",
          "name": "stderr",
          "text": [
            "WARNING:matplotlib.image:Clipping input data to the valid range for imshow with RGB data ([0..1] for floats or [0..255] for integers).\n"
          ]
        },
        {
          "output_type": "stream",
          "name": "stdout",
          "text": [
            "Predicted color for HSV (0.03, 1.0, 1.21): 10\n",
            "1/1 [==============================] - 0s 104ms/step\n"
          ]
        },
        {
          "output_type": "stream",
          "name": "stderr",
          "text": [
            "WARNING:matplotlib.image:Clipping input data to the valid range for imshow with RGB data ([0..1] for floats or [0..255] for integers).\n"
          ]
        },
        {
          "output_type": "stream",
          "name": "stdout",
          "text": [
            "Predicted color for HSV (0.08, 1.0, 1.14): 10\n",
            "1/1 [==============================] - 0s 106ms/step\n"
          ]
        },
        {
          "output_type": "stream",
          "name": "stderr",
          "text": [
            "WARNING:matplotlib.image:Clipping input data to the valid range for imshow with RGB data ([0..1] for floats or [0..255] for integers).\n"
          ]
        },
        {
          "output_type": "stream",
          "name": "stdout",
          "text": [
            "Predicted color for HSV (0.09, 1.0, 1.05): 10\n",
            "1/1 [==============================] - 0s 110ms/step\n"
          ]
        },
        {
          "output_type": "stream",
          "name": "stderr",
          "text": [
            "WARNING:matplotlib.image:Clipping input data to the valid range for imshow with RGB data ([0..1] for floats or [0..255] for integers).\n"
          ]
        },
        {
          "output_type": "stream",
          "name": "stdout",
          "text": [
            "Predicted color for HSV (0.07, 1.0, 1.14): 10\n",
            "1/1 [==============================] - 0s 127ms/step\n"
          ]
        },
        {
          "output_type": "stream",
          "name": "stderr",
          "text": [
            "WARNING:matplotlib.image:Clipping input data to the valid range for imshow with RGB data ([0..1] for floats or [0..255] for integers).\n"
          ]
        },
        {
          "output_type": "stream",
          "name": "stdout",
          "text": [
            "Predicted color for HSV (0.02, 1.0, 1.14): 10\n",
            "1/1 [==============================] - 0s 115ms/step\n"
          ]
        },
        {
          "output_type": "stream",
          "name": "stderr",
          "text": [
            "WARNING:matplotlib.image:Clipping input data to the valid range for imshow with RGB data ([0..1] for floats or [0..255] for integers).\n"
          ]
        },
        {
          "output_type": "stream",
          "name": "stdout",
          "text": [
            "Predicted color for HSV (0.06, 1.0, 1.07): 10\n",
            "1/1 [==============================] - 0s 98ms/step\n"
          ]
        },
        {
          "output_type": "stream",
          "name": "stderr",
          "text": [
            "WARNING:matplotlib.image:Clipping input data to the valid range for imshow with RGB data ([0..1] for floats or [0..255] for integers).\n"
          ]
        },
        {
          "output_type": "stream",
          "name": "stdout",
          "text": [
            "Predicted color for HSV (0.04, 1.0, 1.24): 10\n",
            "1/1 [==============================] - 0s 101ms/step\n",
            "Predicted color for HSV (359.85, 1.0, 0.65): 10\n",
            "1/1 [==============================] - 0s 102ms/step\n",
            "Predicted color for HSV (359.82, 1.0, 0.63): 10\n",
            "1/1 [==============================] - 0s 101ms/step\n",
            "Predicted color for HSV (359.95, 1.0, 0.65): 10\n",
            "1/1 [==============================] - 0s 105ms/step\n",
            "Predicted color for HSV (359.84, 1.0, 0.65): 10\n",
            "1/1 [==============================] - 0s 104ms/step\n",
            "Predicted color for HSV (359.92, 1.0, 0.65): 10\n",
            "1/1 [==============================] - 0s 104ms/step\n",
            "Predicted color for HSV (359.93, 1.0, 0.63): 10\n",
            "1/1 [==============================] - 0s 104ms/step\n",
            "Predicted color for HSV (359.91, 1.0, 0.67): 10\n",
            "1/1 [==============================] - 0s 105ms/step\n",
            "Predicted color for HSV (359.85, 1.0, 0.59): 10\n",
            "1/1 [==============================] - 0s 111ms/step\n",
            "Predicted color for HSV (359.93, 1.0, 0.61): 10\n",
            "1/1 [==============================] - 0s 110ms/step\n",
            "Predicted color for HSV (359.95, 1.0, 0.66): 10\n",
            "1/1 [==============================] - 0s 126ms/step\n",
            "Predicted color for HSV (359.95, 1.0, 0.63): 10\n",
            "1/1 [==============================] - 0s 100ms/step\n",
            "Predicted color for HSV (359.86, 1.0, 0.64): 10\n",
            "1/1 [==============================] - 0s 75ms/step\n",
            "Predicted color for HSV (359.87, 1.0, 0.62): 10\n",
            "1/1 [==============================] - 0s 82ms/step\n",
            "Predicted color for HSV (359.94, 1.0, 0.66): 10\n",
            "1/1 [==============================] - 0s 73ms/step\n",
            "Predicted color for HSV (359.88, 1.0, 0.63): 10\n",
            "1/1 [==============================] - 0s 74ms/step\n",
            "Predicted color for HSV (359.87, 1.0, 0.62): 10\n",
            "1/1 [==============================] - 0s 76ms/step\n",
            "Predicted color for HSV (359.94, 1.0, 0.66): 10\n",
            "1/1 [==============================] - 0s 82ms/step\n",
            "Predicted color for HSV (359.95, 1.0, 0.68): 10\n",
            "1/1 [==============================] - 0s 84ms/step\n",
            "Predicted color for HSV (359.98, 1.0, 0.66): 10\n",
            "1/1 [==============================] - 0s 80ms/step\n",
            "Predicted color for HSV (359.88, 1.0, 0.6): 10\n",
            "1/1 [==============================] - 0s 72ms/step\n",
            "Predicted color for HSV (239.35, 1.0, 0.0): 1\n",
            "1/1 [==============================] - 0s 81ms/step\n",
            "Predicted color for HSV (238.02, 1.0, 0.0): 1\n",
            "1/1 [==============================] - 0s 80ms/step\n",
            "Predicted color for HSV (239.39, 1.0, 0.0): 1\n",
            "1/1 [==============================] - 0s 75ms/step\n",
            "Predicted color for HSV (238.71, 1.0, 0.0): 1\n",
            "1/1 [==============================] - 0s 77ms/step\n",
            "Predicted color for HSV (238.16, 1.0, 0.0): 1\n",
            "1/1 [==============================] - 0s 70ms/step\n",
            "Predicted color for HSV (238.16, 1.0, 0.0): 1\n",
            "1/1 [==============================] - 0s 71ms/step\n",
            "Predicted color for HSV (238.78, 1.0, 0.0): 1\n",
            "1/1 [==============================] - 1s 689ms/step\n",
            "Predicted color for HSV (239.34, 1.0, 0.0): 1\n",
            "1/1 [==============================] - 0s 100ms/step\n",
            "Predicted color for HSV (238.74, 1.0, 0.0): 1\n",
            "1/1 [==============================] - 0s 99ms/step\n",
            "Predicted color for HSV (239.37, 1.0, 0.0): 1\n",
            "1/1 [==============================] - 0s 96ms/step\n",
            "Predicted color for HSV (239.34, 1.0, 0.0): 1\n",
            "1/1 [==============================] - 0s 112ms/step\n",
            "Predicted color for HSV (237.5, 1.0, 0.0): 1\n",
            "1/1 [==============================] - 0s 95ms/step\n",
            "Predicted color for HSV (238.7, 1.0, 0.0): 1\n",
            "1/1 [==============================] - 0s 89ms/step\n",
            "Predicted color for HSV (239.34, 1.0, 0.0): 1\n",
            "1/1 [==============================] - 0s 84ms/step\n",
            "Predicted color for HSV (238.11, 1.0, 0.0): 1\n",
            "1/1 [==============================] - 0s 88ms/step\n",
            "Predicted color for HSV (238.72, 1.0, 0.0): 1\n",
            "1/1 [==============================] - 0s 84ms/step\n",
            "Predicted color for HSV (239.36, 1.0, 0.0): 1\n",
            "1/1 [==============================] - 0s 81ms/step\n",
            "Predicted color for HSV (238.2, 1.0, 0.0): 1\n",
            "1/1 [==============================] - 0s 95ms/step\n",
            "Predicted color for HSV (238.02, 1.0, 0.0): 1\n",
            "1/1 [==============================] - 0s 88ms/step\n",
            "Predicted color for HSV (238.16, 1.0, 0.0): 1\n",
            "1/1 [==============================] - 0s 78ms/step\n"
          ]
        },
        {
          "output_type": "stream",
          "name": "stderr",
          "text": [
            "WARNING:matplotlib.image:Clipping input data to the valid range for imshow with RGB data ([0..1] for floats or [0..255] for integers).\n"
          ]
        },
        {
          "output_type": "stream",
          "name": "stdout",
          "text": [
            "Predicted color for HSV (359.94, 1.0, 1.21): 10\n",
            "1/1 [==============================] - 0s 81ms/step\n"
          ]
        },
        {
          "output_type": "stream",
          "name": "stderr",
          "text": [
            "WARNING:matplotlib.image:Clipping input data to the valid range for imshow with RGB data ([0..1] for floats or [0..255] for integers).\n"
          ]
        },
        {
          "output_type": "stream",
          "name": "stdout",
          "text": [
            "Predicted color for HSV (359.96, 1.0, 1.25): 10\n",
            "1/1 [==============================] - 0s 76ms/step\n"
          ]
        },
        {
          "output_type": "stream",
          "name": "stderr",
          "text": [
            "WARNING:matplotlib.image:Clipping input data to the valid range for imshow with RGB data ([0..1] for floats or [0..255] for integers).\n"
          ]
        },
        {
          "output_type": "stream",
          "name": "stdout",
          "text": [
            "Predicted color for HSV (359.99, 1.0, 1.28): 10\n",
            "1/1 [==============================] - 0s 81ms/step\n"
          ]
        },
        {
          "output_type": "stream",
          "name": "stderr",
          "text": [
            "WARNING:matplotlib.image:Clipping input data to the valid range for imshow with RGB data ([0..1] for floats or [0..255] for integers).\n"
          ]
        },
        {
          "output_type": "stream",
          "name": "stdout",
          "text": [
            "Predicted color for HSV (0.03, 1.0, 1.27): 10\n",
            "1/1 [==============================] - 0s 79ms/step\n"
          ]
        },
        {
          "output_type": "stream",
          "name": "stderr",
          "text": [
            "WARNING:matplotlib.image:Clipping input data to the valid range for imshow with RGB data ([0..1] for floats or [0..255] for integers).\n"
          ]
        },
        {
          "output_type": "stream",
          "name": "stdout",
          "text": [
            "Predicted color for HSV (0.02, 1.0, 1.26): 10\n",
            "1/1 [==============================] - 0s 83ms/step\n"
          ]
        },
        {
          "output_type": "stream",
          "name": "stderr",
          "text": [
            "WARNING:matplotlib.image:Clipping input data to the valid range for imshow with RGB data ([0..1] for floats or [0..255] for integers).\n"
          ]
        },
        {
          "output_type": "stream",
          "name": "stdout",
          "text": [
            "Predicted color for HSV (0.01, 1.0, 1.2): 10\n",
            "1/1 [==============================] - 0s 79ms/step\n"
          ]
        },
        {
          "output_type": "stream",
          "name": "stderr",
          "text": [
            "WARNING:matplotlib.image:Clipping input data to the valid range for imshow with RGB data ([0..1] for floats or [0..255] for integers).\n"
          ]
        },
        {
          "output_type": "stream",
          "name": "stdout",
          "text": [
            "Predicted color for HSV (359.96, 1.0, 1.26): 10\n",
            "1/1 [==============================] - 0s 76ms/step\n"
          ]
        },
        {
          "output_type": "stream",
          "name": "stderr",
          "text": [
            "WARNING:matplotlib.image:Clipping input data to the valid range for imshow with RGB data ([0..1] for floats or [0..255] for integers).\n"
          ]
        },
        {
          "output_type": "stream",
          "name": "stdout",
          "text": [
            "Predicted color for HSV (359.96, 1.0, 1.24): 10\n",
            "1/1 [==============================] - 0s 76ms/step\n"
          ]
        },
        {
          "output_type": "stream",
          "name": "stderr",
          "text": [
            "WARNING:matplotlib.image:Clipping input data to the valid range for imshow with RGB data ([0..1] for floats or [0..255] for integers).\n"
          ]
        },
        {
          "output_type": "stream",
          "name": "stdout",
          "text": [
            "Predicted color for HSV (359.93, 1.0, 1.28): 10\n",
            "1/1 [==============================] - 0s 89ms/step\n"
          ]
        },
        {
          "output_type": "stream",
          "name": "stderr",
          "text": [
            "WARNING:matplotlib.image:Clipping input data to the valid range for imshow with RGB data ([0..1] for floats or [0..255] for integers).\n"
          ]
        },
        {
          "output_type": "stream",
          "name": "stdout",
          "text": [
            "Predicted color for HSV (359.91, 1.0, 1.24): 10\n",
            "1/1 [==============================] - 0s 78ms/step\n"
          ]
        },
        {
          "output_type": "stream",
          "name": "stderr",
          "text": [
            "WARNING:matplotlib.image:Clipping input data to the valid range for imshow with RGB data ([0..1] for floats or [0..255] for integers).\n"
          ]
        },
        {
          "output_type": "stream",
          "name": "stdout",
          "text": [
            "Predicted color for HSV (359.94, 1.0, 1.29): 10\n",
            "1/1 [==============================] - 0s 106ms/step\n"
          ]
        },
        {
          "output_type": "stream",
          "name": "stderr",
          "text": [
            "WARNING:matplotlib.image:Clipping input data to the valid range for imshow with RGB data ([0..1] for floats or [0..255] for integers).\n"
          ]
        },
        {
          "output_type": "stream",
          "name": "stdout",
          "text": [
            "Predicted color for HSV (359.99, 1.0, 1.23): 10\n",
            "1/1 [==============================] - 0s 100ms/step\n"
          ]
        },
        {
          "output_type": "stream",
          "name": "stderr",
          "text": [
            "WARNING:matplotlib.image:Clipping input data to the valid range for imshow with RGB data ([0..1] for floats or [0..255] for integers).\n"
          ]
        },
        {
          "output_type": "stream",
          "name": "stdout",
          "text": [
            "Predicted color for HSV (359.94, 1.0, 1.21): 10\n",
            "1/1 [==============================] - 0s 103ms/step\n"
          ]
        },
        {
          "output_type": "stream",
          "name": "stderr",
          "text": [
            "WARNING:matplotlib.image:Clipping input data to the valid range for imshow with RGB data ([0..1] for floats or [0..255] for integers).\n"
          ]
        },
        {
          "output_type": "stream",
          "name": "stdout",
          "text": [
            "Predicted color for HSV (0.01, 1.0, 1.21): 10\n",
            "1/1 [==============================] - 0s 112ms/step\n"
          ]
        },
        {
          "output_type": "stream",
          "name": "stderr",
          "text": [
            "WARNING:matplotlib.image:Clipping input data to the valid range for imshow with RGB data ([0..1] for floats or [0..255] for integers).\n"
          ]
        },
        {
          "output_type": "stream",
          "name": "stdout",
          "text": [
            "Predicted color for HSV (0.01, 1.0, 1.19): 10\n",
            "1/1 [==============================] - 0s 97ms/step\n"
          ]
        },
        {
          "output_type": "stream",
          "name": "stderr",
          "text": [
            "WARNING:matplotlib.image:Clipping input data to the valid range for imshow with RGB data ([0..1] for floats or [0..255] for integers).\n"
          ]
        },
        {
          "output_type": "stream",
          "name": "stdout",
          "text": [
            "Predicted color for HSV (359.93, 1.0, 1.23): 10\n",
            "1/1 [==============================] - 0s 120ms/step\n"
          ]
        },
        {
          "output_type": "stream",
          "name": "stderr",
          "text": [
            "WARNING:matplotlib.image:Clipping input data to the valid range for imshow with RGB data ([0..1] for floats or [0..255] for integers).\n"
          ]
        },
        {
          "output_type": "stream",
          "name": "stdout",
          "text": [
            "Predicted color for HSV (359.98, 1.0, 1.26): 10\n",
            "1/1 [==============================] - 0s 107ms/step\n"
          ]
        },
        {
          "output_type": "stream",
          "name": "stderr",
          "text": [
            "WARNING:matplotlib.image:Clipping input data to the valid range for imshow with RGB data ([0..1] for floats or [0..255] for integers).\n"
          ]
        },
        {
          "output_type": "stream",
          "name": "stdout",
          "text": [
            "Predicted color for HSV (359.94, 1.0, 1.22): 10\n",
            "1/1 [==============================] - 0s 102ms/step\n"
          ]
        },
        {
          "output_type": "stream",
          "name": "stderr",
          "text": [
            "WARNING:matplotlib.image:Clipping input data to the valid range for imshow with RGB data ([0..1] for floats or [0..255] for integers).\n"
          ]
        },
        {
          "output_type": "stream",
          "name": "stdout",
          "text": [
            "Predicted color for HSV (359.96, 1.0, 1.19): 10\n",
            "1/1 [==============================] - 0s 98ms/step\n"
          ]
        },
        {
          "output_type": "stream",
          "name": "stderr",
          "text": [
            "WARNING:matplotlib.image:Clipping input data to the valid range for imshow with RGB data ([0..1] for floats or [0..255] for integers).\n"
          ]
        },
        {
          "output_type": "stream",
          "name": "stdout",
          "text": [
            "Predicted color for HSV (359.97, 1.0, 1.25): 10\n",
            "1/1 [==============================] - 0s 108ms/step\n"
          ]
        },
        {
          "output_type": "stream",
          "name": "stderr",
          "text": [
            "WARNING:matplotlib.image:Clipping input data to the valid range for imshow with RGB data ([0..1] for floats or [0..255] for integers).\n"
          ]
        },
        {
          "output_type": "stream",
          "name": "stdout",
          "text": [
            "Predicted color for HSV (0.07, 1.0, 1.32): 10\n",
            "1/1 [==============================] - 0s 106ms/step\n"
          ]
        },
        {
          "output_type": "stream",
          "name": "stderr",
          "text": [
            "WARNING:matplotlib.image:Clipping input data to the valid range for imshow with RGB data ([0..1] for floats or [0..255] for integers).\n"
          ]
        },
        {
          "output_type": "stream",
          "name": "stdout",
          "text": [
            "Predicted color for HSV (0.1, 1.0, 1.31): 10\n",
            "1/1 [==============================] - 0s 99ms/step\n"
          ]
        },
        {
          "output_type": "stream",
          "name": "stderr",
          "text": [
            "WARNING:matplotlib.image:Clipping input data to the valid range for imshow with RGB data ([0..1] for floats or [0..255] for integers).\n"
          ]
        },
        {
          "output_type": "stream",
          "name": "stdout",
          "text": [
            "Predicted color for HSV (0.06, 1.0, 1.33): 10\n",
            "1/1 [==============================] - 0s 108ms/step\n"
          ]
        },
        {
          "output_type": "stream",
          "name": "stderr",
          "text": [
            "WARNING:matplotlib.image:Clipping input data to the valid range for imshow with RGB data ([0..1] for floats or [0..255] for integers).\n"
          ]
        },
        {
          "output_type": "stream",
          "name": "stdout",
          "text": [
            "Predicted color for HSV (0.06, 1.0, 1.32): 10\n",
            "1/1 [==============================] - 0s 110ms/step\n"
          ]
        },
        {
          "output_type": "stream",
          "name": "stderr",
          "text": [
            "WARNING:matplotlib.image:Clipping input data to the valid range for imshow with RGB data ([0..1] for floats or [0..255] for integers).\n"
          ]
        },
        {
          "output_type": "stream",
          "name": "stdout",
          "text": [
            "Predicted color for HSV (0.08, 1.0, 1.34): 10\n",
            "1/1 [==============================] - 0s 100ms/step\n"
          ]
        },
        {
          "output_type": "stream",
          "name": "stderr",
          "text": [
            "WARNING:matplotlib.image:Clipping input data to the valid range for imshow with RGB data ([0..1] for floats or [0..255] for integers).\n"
          ]
        },
        {
          "output_type": "stream",
          "name": "stdout",
          "text": [
            "Predicted color for HSV (0.04, 1.0, 1.32): 10\n",
            "1/1 [==============================] - 0s 104ms/step\n"
          ]
        },
        {
          "output_type": "stream",
          "name": "stderr",
          "text": [
            "WARNING:matplotlib.image:Clipping input data to the valid range for imshow with RGB data ([0..1] for floats or [0..255] for integers).\n"
          ]
        },
        {
          "output_type": "stream",
          "name": "stdout",
          "text": [
            "Predicted color for HSV (0.06, 1.0, 1.33): 10\n",
            "1/1 [==============================] - 0s 99ms/step\n"
          ]
        },
        {
          "output_type": "stream",
          "name": "stderr",
          "text": [
            "WARNING:matplotlib.image:Clipping input data to the valid range for imshow with RGB data ([0..1] for floats or [0..255] for integers).\n"
          ]
        },
        {
          "output_type": "stream",
          "name": "stdout",
          "text": [
            "Predicted color for HSV (0.09, 1.0, 1.33): 10\n",
            "1/1 [==============================] - 0s 119ms/step\n"
          ]
        },
        {
          "output_type": "stream",
          "name": "stderr",
          "text": [
            "WARNING:matplotlib.image:Clipping input data to the valid range for imshow with RGB data ([0..1] for floats or [0..255] for integers).\n"
          ]
        },
        {
          "output_type": "stream",
          "name": "stdout",
          "text": [
            "Predicted color for HSV (0.03, 1.0, 1.34): 10\n",
            "1/1 [==============================] - 0s 104ms/step\n"
          ]
        },
        {
          "output_type": "stream",
          "name": "stderr",
          "text": [
            "WARNING:matplotlib.image:Clipping input data to the valid range for imshow with RGB data ([0..1] for floats or [0..255] for integers).\n"
          ]
        },
        {
          "output_type": "stream",
          "name": "stdout",
          "text": [
            "Predicted color for HSV (0.05, 1.0, 1.33): 10\n",
            "1/1 [==============================] - 0s 104ms/step\n"
          ]
        },
        {
          "output_type": "stream",
          "name": "stderr",
          "text": [
            "WARNING:matplotlib.image:Clipping input data to the valid range for imshow with RGB data ([0..1] for floats or [0..255] for integers).\n"
          ]
        },
        {
          "output_type": "stream",
          "name": "stdout",
          "text": [
            "Predicted color for HSV (0.04, 1.0, 1.34): 10\n",
            "1/1 [==============================] - 0s 84ms/step\n"
          ]
        },
        {
          "output_type": "stream",
          "name": "stderr",
          "text": [
            "WARNING:matplotlib.image:Clipping input data to the valid range for imshow with RGB data ([0..1] for floats or [0..255] for integers).\n"
          ]
        },
        {
          "output_type": "stream",
          "name": "stdout",
          "text": [
            "Predicted color for HSV (0.06, 1.0, 1.31): 10\n",
            "1/1 [==============================] - 0s 75ms/step\n"
          ]
        },
        {
          "output_type": "stream",
          "name": "stderr",
          "text": [
            "WARNING:matplotlib.image:Clipping input data to the valid range for imshow with RGB data ([0..1] for floats or [0..255] for integers).\n"
          ]
        },
        {
          "output_type": "stream",
          "name": "stdout",
          "text": [
            "Predicted color for HSV (0.04, 1.0, 1.31): 10\n",
            "1/1 [==============================] - 0s 75ms/step\n"
          ]
        },
        {
          "output_type": "stream",
          "name": "stderr",
          "text": [
            "WARNING:matplotlib.image:Clipping input data to the valid range for imshow with RGB data ([0..1] for floats or [0..255] for integers).\n"
          ]
        },
        {
          "output_type": "stream",
          "name": "stdout",
          "text": [
            "Predicted color for HSV (0.02, 1.0, 1.33): 10\n",
            "1/1 [==============================] - 0s 73ms/step\n"
          ]
        },
        {
          "output_type": "stream",
          "name": "stderr",
          "text": [
            "WARNING:matplotlib.image:Clipping input data to the valid range for imshow with RGB data ([0..1] for floats or [0..255] for integers).\n"
          ]
        },
        {
          "output_type": "stream",
          "name": "stdout",
          "text": [
            "Predicted color for HSV (0.0, 1.0, 1.35): 10\n",
            "1/1 [==============================] - 0s 80ms/step\n"
          ]
        },
        {
          "output_type": "stream",
          "name": "stderr",
          "text": [
            "WARNING:matplotlib.image:Clipping input data to the valid range for imshow with RGB data ([0..1] for floats or [0..255] for integers).\n"
          ]
        },
        {
          "output_type": "stream",
          "name": "stdout",
          "text": [
            "Predicted color for HSV (0.08, 1.0, 1.33): 10\n",
            "1/1 [==============================] - 0s 82ms/step\n"
          ]
        },
        {
          "output_type": "stream",
          "name": "stderr",
          "text": [
            "WARNING:matplotlib.image:Clipping input data to the valid range for imshow with RGB data ([0..1] for floats or [0..255] for integers).\n"
          ]
        },
        {
          "output_type": "stream",
          "name": "stdout",
          "text": [
            "Predicted color for HSV (0.09, 1.0, 1.3): 10\n",
            "1/1 [==============================] - 0s 76ms/step\n"
          ]
        },
        {
          "output_type": "stream",
          "name": "stderr",
          "text": [
            "WARNING:matplotlib.image:Clipping input data to the valid range for imshow with RGB data ([0..1] for floats or [0..255] for integers).\n"
          ]
        },
        {
          "output_type": "stream",
          "name": "stdout",
          "text": [
            "Predicted color for HSV (0.05, 1.0, 1.32): 10\n",
            "1/1 [==============================] - 0s 78ms/step\n"
          ]
        },
        {
          "output_type": "stream",
          "name": "stderr",
          "text": [
            "WARNING:matplotlib.image:Clipping input data to the valid range for imshow with RGB data ([0..1] for floats or [0..255] for integers).\n"
          ]
        },
        {
          "output_type": "stream",
          "name": "stdout",
          "text": [
            "Predicted color for HSV (0.07, 1.0, 1.31): 10\n",
            "1/1 [==============================] - 0s 72ms/step\n"
          ]
        },
        {
          "output_type": "stream",
          "name": "stderr",
          "text": [
            "WARNING:matplotlib.image:Clipping input data to the valid range for imshow with RGB data ([0..1] for floats or [0..255] for integers).\n"
          ]
        },
        {
          "output_type": "stream",
          "name": "stdout",
          "text": [
            "Predicted color for HSV (0.07, 1.0, 1.33): 10\n",
            "1/1 [==============================] - 0s 73ms/step\n",
            "Predicted color for HSV (359.86, 1.0, 0.48): 10\n",
            "1/1 [==============================] - 0s 73ms/step\n",
            "Predicted color for HSV (359.7, 1.0, 0.24): 1\n",
            "1/1 [==============================] - 0s 73ms/step\n",
            "Predicted color for HSV (359.84, 1.0, 0.49): 10\n",
            "1/1 [==============================] - 0s 79ms/step\n",
            "Predicted color for HSV (359.44, 1.0, 0.18): 1\n",
            "1/1 [==============================] - 0s 80ms/step\n"
          ]
        },
        {
          "output_type": "stream",
          "name": "stderr",
          "text": [
            "WARNING:matplotlib.image:Clipping input data to the valid range for imshow with RGB data ([0..1] for floats or [0..255] for integers).\n"
          ]
        },
        {
          "output_type": "stream",
          "name": "stdout",
          "text": [
            "Predicted color for HSV (359.94, 1.0, 1.34): 10\n",
            "1/1 [==============================] - 0s 81ms/step\n",
            "Predicted color for HSV (359.9, 1.0, 0.97): 10\n",
            "1/1 [==============================] - 0s 75ms/step\n",
            "Predicted color for HSV (359.9, 1.0, 0.67): 10\n",
            "1/1 [==============================] - 0s 70ms/step\n",
            "Predicted color for HSV (359.9, 1.0, 0.63): 10\n",
            "1/1 [==============================] - 0s 75ms/step\n",
            "Predicted color for HSV (359.78, 1.0, 0.36): 1\n",
            "1/1 [==============================] - 0s 77ms/step\n"
          ]
        },
        {
          "output_type": "stream",
          "name": "stderr",
          "text": [
            "WARNING:matplotlib.image:Clipping input data to the valid range for imshow with RGB data ([0..1] for floats or [0..255] for integers).\n"
          ]
        },
        {
          "output_type": "stream",
          "name": "stdout",
          "text": [
            "Predicted color for HSV (359.91, 1.0, 1.06): 10\n",
            "1/1 [==============================] - 0s 73ms/step\n"
          ]
        },
        {
          "output_type": "stream",
          "name": "stderr",
          "text": [
            "WARNING:matplotlib.image:Clipping input data to the valid range for imshow with RGB data ([0..1] for floats or [0..255] for integers).\n"
          ]
        },
        {
          "output_type": "stream",
          "name": "stdout",
          "text": [
            "Predicted color for HSV (359.93, 1.0, 1.32): 10\n",
            "1/1 [==============================] - 0s 74ms/step\n",
            "Predicted color for HSV (359.77, 1.0, 0.43): 10\n",
            "1/1 [==============================] - 0s 74ms/step\n"
          ]
        },
        {
          "output_type": "stream",
          "name": "stderr",
          "text": [
            "WARNING:matplotlib.image:Clipping input data to the valid range for imshow with RGB data ([0..1] for floats or [0..255] for integers).\n"
          ]
        },
        {
          "output_type": "stream",
          "name": "stdout",
          "text": [
            "Predicted color for HSV (359.92, 1.0, 1.17): 10\n",
            "1/1 [==============================] - 0s 81ms/step\n",
            "Predicted color for HSV (359.8, 1.0, 0.47): 10\n"
          ]
        },
        {
          "output_type": "error",
          "ename": "KeyboardInterrupt",
          "evalue": "ignored",
          "traceback": [
            "\u001b[0;31m---------------------------------------------------------------------------\u001b[0m",
            "\u001b[0;31mKeyboardInterrupt\u001b[0m                         Traceback (most recent call last)",
            "\u001b[0;32m<ipython-input-39-8eca493e7006>\u001b[0m in \u001b[0;36m<cell line: 13>\u001b[0;34m()\u001b[0m\n\u001b[1;32m     26\u001b[0m   \u001b[0mloaded_model\u001b[0m \u001b[0;34m=\u001b[0m \u001b[0mtf\u001b[0m\u001b[0;34m.\u001b[0m\u001b[0mkeras\u001b[0m\u001b[0;34m.\u001b[0m\u001b[0mmodels\u001b[0m\u001b[0;34m.\u001b[0m\u001b[0mload_model\u001b[0m\u001b[0;34m(\u001b[0m\u001b[0;34m'/content/drive/MyDrive/seol/ckpt/color_regression_fin.h5'\u001b[0m\u001b[0;34m)\u001b[0m\u001b[0;34m\u001b[0m\u001b[0;34m\u001b[0m\u001b[0m\n\u001b[1;32m     27\u001b[0m   \u001b[0msample_hsv\u001b[0m \u001b[0;34m=\u001b[0m \u001b[0mnp\u001b[0m\u001b[0;34m.\u001b[0m\u001b[0marray\u001b[0m\u001b[0;34m(\u001b[0m\u001b[0;34m[\u001b[0m\u001b[0;34m[\u001b[0m\u001b[0msample_hue\u001b[0m\u001b[0;34m,\u001b[0m \u001b[0msample_saturation\u001b[0m\u001b[0;34m,\u001b[0m \u001b[0msample_value\u001b[0m\u001b[0;34m]\u001b[0m\u001b[0;34m]\u001b[0m\u001b[0;34m,\u001b[0m \u001b[0mdtype\u001b[0m\u001b[0;34m=\u001b[0m\u001b[0mnp\u001b[0m\u001b[0;34m.\u001b[0m\u001b[0mfloat32\u001b[0m\u001b[0;34m)\u001b[0m\u001b[0;34m\u001b[0m\u001b[0;34m\u001b[0m\u001b[0m\n\u001b[0;32m---> 28\u001b[0;31m   \u001b[0mpredicted_color_probs\u001b[0m \u001b[0;34m=\u001b[0m \u001b[0mloaded_model\u001b[0m\u001b[0;34m.\u001b[0m\u001b[0mpredict\u001b[0m\u001b[0;34m(\u001b[0m\u001b[0msample_hsv\u001b[0m\u001b[0;34m)\u001b[0m\u001b[0;34m\u001b[0m\u001b[0;34m\u001b[0m\u001b[0m\n\u001b[0m\u001b[1;32m     29\u001b[0m   \u001b[0mpredicted_color_label\u001b[0m \u001b[0;34m=\u001b[0m \u001b[0mnp\u001b[0m\u001b[0;34m.\u001b[0m\u001b[0margmax\u001b[0m\u001b[0;34m(\u001b[0m\u001b[0mpredicted_color_probs\u001b[0m\u001b[0;34m)\u001b[0m\u001b[0;34m\u001b[0m\u001b[0;34m\u001b[0m\u001b[0m\n\u001b[1;32m     30\u001b[0m \u001b[0;34m\u001b[0m\u001b[0m\n",
            "\u001b[0;32m/usr/local/lib/python3.10/dist-packages/keras/src/utils/traceback_utils.py\u001b[0m in \u001b[0;36merror_handler\u001b[0;34m(*args, **kwargs)\u001b[0m\n\u001b[1;32m     63\u001b[0m         \u001b[0mfiltered_tb\u001b[0m \u001b[0;34m=\u001b[0m \u001b[0;32mNone\u001b[0m\u001b[0;34m\u001b[0m\u001b[0;34m\u001b[0m\u001b[0m\n\u001b[1;32m     64\u001b[0m         \u001b[0;32mtry\u001b[0m\u001b[0;34m:\u001b[0m\u001b[0;34m\u001b[0m\u001b[0;34m\u001b[0m\u001b[0m\n\u001b[0;32m---> 65\u001b[0;31m             \u001b[0;32mreturn\u001b[0m \u001b[0mfn\u001b[0m\u001b[0;34m(\u001b[0m\u001b[0;34m*\u001b[0m\u001b[0margs\u001b[0m\u001b[0;34m,\u001b[0m \u001b[0;34m**\u001b[0m\u001b[0mkwargs\u001b[0m\u001b[0;34m)\u001b[0m\u001b[0;34m\u001b[0m\u001b[0;34m\u001b[0m\u001b[0m\n\u001b[0m\u001b[1;32m     66\u001b[0m         \u001b[0;32mexcept\u001b[0m \u001b[0mException\u001b[0m \u001b[0;32mas\u001b[0m \u001b[0me\u001b[0m\u001b[0;34m:\u001b[0m\u001b[0;34m\u001b[0m\u001b[0;34m\u001b[0m\u001b[0m\n\u001b[1;32m     67\u001b[0m             \u001b[0mfiltered_tb\u001b[0m \u001b[0;34m=\u001b[0m \u001b[0m_process_traceback_frames\u001b[0m\u001b[0;34m(\u001b[0m\u001b[0me\u001b[0m\u001b[0;34m.\u001b[0m\u001b[0m__traceback__\u001b[0m\u001b[0;34m)\u001b[0m\u001b[0;34m\u001b[0m\u001b[0;34m\u001b[0m\u001b[0m\n",
            "\u001b[0;32m/usr/local/lib/python3.10/dist-packages/keras/src/engine/training.py\u001b[0m in \u001b[0;36mpredict\u001b[0;34m(self, x, batch_size, verbose, steps, callbacks, max_queue_size, workers, use_multiprocessing)\u001b[0m\n\u001b[1;32m   2629\u001b[0m                     \u001b[0;32mfor\u001b[0m \u001b[0mstep\u001b[0m \u001b[0;32min\u001b[0m \u001b[0mdata_handler\u001b[0m\u001b[0;34m.\u001b[0m\u001b[0msteps\u001b[0m\u001b[0;34m(\u001b[0m\u001b[0;34m)\u001b[0m\u001b[0;34m:\u001b[0m\u001b[0;34m\u001b[0m\u001b[0;34m\u001b[0m\u001b[0m\n\u001b[1;32m   2630\u001b[0m                         \u001b[0mcallbacks\u001b[0m\u001b[0;34m.\u001b[0m\u001b[0mon_predict_batch_begin\u001b[0m\u001b[0;34m(\u001b[0m\u001b[0mstep\u001b[0m\u001b[0;34m)\u001b[0m\u001b[0;34m\u001b[0m\u001b[0;34m\u001b[0m\u001b[0m\n\u001b[0;32m-> 2631\u001b[0;31m                         \u001b[0mtmp_batch_outputs\u001b[0m \u001b[0;34m=\u001b[0m \u001b[0mself\u001b[0m\u001b[0;34m.\u001b[0m\u001b[0mpredict_function\u001b[0m\u001b[0;34m(\u001b[0m\u001b[0miterator\u001b[0m\u001b[0;34m)\u001b[0m\u001b[0;34m\u001b[0m\u001b[0;34m\u001b[0m\u001b[0m\n\u001b[0m\u001b[1;32m   2632\u001b[0m                         \u001b[0;32mif\u001b[0m \u001b[0mdata_handler\u001b[0m\u001b[0;34m.\u001b[0m\u001b[0mshould_sync\u001b[0m\u001b[0;34m:\u001b[0m\u001b[0;34m\u001b[0m\u001b[0;34m\u001b[0m\u001b[0m\n\u001b[1;32m   2633\u001b[0m                             \u001b[0mcontext\u001b[0m\u001b[0;34m.\u001b[0m\u001b[0masync_wait\u001b[0m\u001b[0;34m(\u001b[0m\u001b[0;34m)\u001b[0m\u001b[0;34m\u001b[0m\u001b[0;34m\u001b[0m\u001b[0m\n",
            "\u001b[0;32m/usr/local/lib/python3.10/dist-packages/tensorflow/python/util/traceback_utils.py\u001b[0m in \u001b[0;36merror_handler\u001b[0;34m(*args, **kwargs)\u001b[0m\n\u001b[1;32m    148\u001b[0m     \u001b[0mfiltered_tb\u001b[0m \u001b[0;34m=\u001b[0m \u001b[0;32mNone\u001b[0m\u001b[0;34m\u001b[0m\u001b[0;34m\u001b[0m\u001b[0m\n\u001b[1;32m    149\u001b[0m     \u001b[0;32mtry\u001b[0m\u001b[0;34m:\u001b[0m\u001b[0;34m\u001b[0m\u001b[0;34m\u001b[0m\u001b[0m\n\u001b[0;32m--> 150\u001b[0;31m       \u001b[0;32mreturn\u001b[0m \u001b[0mfn\u001b[0m\u001b[0;34m(\u001b[0m\u001b[0;34m*\u001b[0m\u001b[0margs\u001b[0m\u001b[0;34m,\u001b[0m \u001b[0;34m**\u001b[0m\u001b[0mkwargs\u001b[0m\u001b[0;34m)\u001b[0m\u001b[0;34m\u001b[0m\u001b[0;34m\u001b[0m\u001b[0m\n\u001b[0m\u001b[1;32m    151\u001b[0m     \u001b[0;32mexcept\u001b[0m \u001b[0mException\u001b[0m \u001b[0;32mas\u001b[0m \u001b[0me\u001b[0m\u001b[0;34m:\u001b[0m\u001b[0;34m\u001b[0m\u001b[0;34m\u001b[0m\u001b[0m\n\u001b[1;32m    152\u001b[0m       \u001b[0mfiltered_tb\u001b[0m \u001b[0;34m=\u001b[0m \u001b[0m_process_traceback_frames\u001b[0m\u001b[0;34m(\u001b[0m\u001b[0me\u001b[0m\u001b[0;34m.\u001b[0m\u001b[0m__traceback__\u001b[0m\u001b[0;34m)\u001b[0m\u001b[0;34m\u001b[0m\u001b[0;34m\u001b[0m\u001b[0m\n",
            "\u001b[0;32m/usr/local/lib/python3.10/dist-packages/tensorflow/python/eager/polymorphic_function/polymorphic_function.py\u001b[0m in \u001b[0;36m__call__\u001b[0;34m(self, *args, **kwds)\u001b[0m\n\u001b[1;32m    829\u001b[0m \u001b[0;34m\u001b[0m\u001b[0m\n\u001b[1;32m    830\u001b[0m       \u001b[0;32mwith\u001b[0m \u001b[0mOptionalXlaContext\u001b[0m\u001b[0;34m(\u001b[0m\u001b[0mself\u001b[0m\u001b[0;34m.\u001b[0m\u001b[0m_jit_compile\u001b[0m\u001b[0;34m)\u001b[0m\u001b[0;34m:\u001b[0m\u001b[0;34m\u001b[0m\u001b[0;34m\u001b[0m\u001b[0m\n\u001b[0;32m--> 831\u001b[0;31m         \u001b[0mresult\u001b[0m \u001b[0;34m=\u001b[0m \u001b[0mself\u001b[0m\u001b[0;34m.\u001b[0m\u001b[0m_call\u001b[0m\u001b[0;34m(\u001b[0m\u001b[0;34m*\u001b[0m\u001b[0margs\u001b[0m\u001b[0;34m,\u001b[0m \u001b[0;34m**\u001b[0m\u001b[0mkwds\u001b[0m\u001b[0;34m)\u001b[0m\u001b[0;34m\u001b[0m\u001b[0;34m\u001b[0m\u001b[0m\n\u001b[0m\u001b[1;32m    832\u001b[0m \u001b[0;34m\u001b[0m\u001b[0m\n\u001b[1;32m    833\u001b[0m       \u001b[0mnew_tracing_count\u001b[0m \u001b[0;34m=\u001b[0m \u001b[0mself\u001b[0m\u001b[0;34m.\u001b[0m\u001b[0mexperimental_get_tracing_count\u001b[0m\u001b[0;34m(\u001b[0m\u001b[0;34m)\u001b[0m\u001b[0;34m\u001b[0m\u001b[0;34m\u001b[0m\u001b[0m\n",
            "\u001b[0;32m/usr/local/lib/python3.10/dist-packages/tensorflow/python/eager/polymorphic_function/polymorphic_function.py\u001b[0m in \u001b[0;36m_call\u001b[0;34m(self, *args, **kwds)\u001b[0m\n\u001b[1;32m    915\u001b[0m           )\n\u001b[1;32m    916\u001b[0m       )\n\u001b[0;32m--> 917\u001b[0;31m       return self._concrete_variable_creation_fn._call_flat(  # pylint: disable=protected-access\n\u001b[0m\u001b[1;32m    918\u001b[0m           \u001b[0mfiltered_flat_args\u001b[0m\u001b[0;34m,\u001b[0m\u001b[0;34m\u001b[0m\u001b[0;34m\u001b[0m\u001b[0m\n\u001b[1;32m    919\u001b[0m           \u001b[0mself\u001b[0m\u001b[0;34m.\u001b[0m\u001b[0m_concrete_variable_creation_fn\u001b[0m\u001b[0;34m.\u001b[0m\u001b[0mcaptured_inputs\u001b[0m\u001b[0;34m,\u001b[0m\u001b[0;34m\u001b[0m\u001b[0;34m\u001b[0m\u001b[0m\n",
            "\u001b[0;32m/usr/local/lib/python3.10/dist-packages/tensorflow/python/eager/polymorphic_function/concrete_function.py\u001b[0m in \u001b[0;36m_call_flat\u001b[0;34m(self, tensor_inputs, captured_inputs)\u001b[0m\n\u001b[1;32m   1262\u001b[0m         and executing_eagerly):\n\u001b[1;32m   1263\u001b[0m       \u001b[0;31m# No tape is watching; skip to running the function.\u001b[0m\u001b[0;34m\u001b[0m\u001b[0;34m\u001b[0m\u001b[0m\n\u001b[0;32m-> 1264\u001b[0;31m       \u001b[0;32mreturn\u001b[0m \u001b[0mself\u001b[0m\u001b[0;34m.\u001b[0m\u001b[0m_inference_function\u001b[0m\u001b[0;34m.\u001b[0m\u001b[0mflat_call\u001b[0m\u001b[0;34m(\u001b[0m\u001b[0margs\u001b[0m\u001b[0;34m)\u001b[0m\u001b[0;34m\u001b[0m\u001b[0;34m\u001b[0m\u001b[0m\n\u001b[0m\u001b[1;32m   1265\u001b[0m     forward_backward = self._select_forward_and_backward_functions(\n\u001b[1;32m   1266\u001b[0m         \u001b[0margs\u001b[0m\u001b[0;34m,\u001b[0m\u001b[0;34m\u001b[0m\u001b[0;34m\u001b[0m\u001b[0m\n",
            "\u001b[0;32m/usr/local/lib/python3.10/dist-packages/tensorflow/python/eager/polymorphic_function/atomic_function.py\u001b[0m in \u001b[0;36mflat_call\u001b[0;34m(self, args)\u001b[0m\n\u001b[1;32m    215\u001b[0m   \u001b[0;32mdef\u001b[0m \u001b[0mflat_call\u001b[0m\u001b[0;34m(\u001b[0m\u001b[0mself\u001b[0m\u001b[0;34m,\u001b[0m \u001b[0margs\u001b[0m\u001b[0;34m:\u001b[0m \u001b[0mSequence\u001b[0m\u001b[0;34m[\u001b[0m\u001b[0mcore\u001b[0m\u001b[0;34m.\u001b[0m\u001b[0mTensor\u001b[0m\u001b[0;34m]\u001b[0m\u001b[0;34m)\u001b[0m \u001b[0;34m->\u001b[0m \u001b[0mAny\u001b[0m\u001b[0;34m:\u001b[0m\u001b[0;34m\u001b[0m\u001b[0;34m\u001b[0m\u001b[0m\n\u001b[1;32m    216\u001b[0m     \u001b[0;34m\"\"\"Calls with tensor inputs and returns the structured output.\"\"\"\u001b[0m\u001b[0;34m\u001b[0m\u001b[0;34m\u001b[0m\u001b[0m\n\u001b[0;32m--> 217\u001b[0;31m     \u001b[0mflat_outputs\u001b[0m \u001b[0;34m=\u001b[0m \u001b[0mself\u001b[0m\u001b[0;34m(\u001b[0m\u001b[0;34m*\u001b[0m\u001b[0margs\u001b[0m\u001b[0;34m)\u001b[0m\u001b[0;34m\u001b[0m\u001b[0;34m\u001b[0m\u001b[0m\n\u001b[0m\u001b[1;32m    218\u001b[0m     \u001b[0;32mreturn\u001b[0m \u001b[0mself\u001b[0m\u001b[0;34m.\u001b[0m\u001b[0mfunction_type\u001b[0m\u001b[0;34m.\u001b[0m\u001b[0mpack_output\u001b[0m\u001b[0;34m(\u001b[0m\u001b[0mflat_outputs\u001b[0m\u001b[0;34m)\u001b[0m\u001b[0;34m\u001b[0m\u001b[0;34m\u001b[0m\u001b[0m\n\u001b[1;32m    219\u001b[0m \u001b[0;34m\u001b[0m\u001b[0m\n",
            "\u001b[0;32m/usr/local/lib/python3.10/dist-packages/tensorflow/python/eager/polymorphic_function/atomic_function.py\u001b[0m in \u001b[0;36m__call__\u001b[0;34m(self, *args)\u001b[0m\n\u001b[1;32m    250\u001b[0m         \u001b[0;32mwith\u001b[0m \u001b[0mrecord\u001b[0m\u001b[0;34m.\u001b[0m\u001b[0mstop_recording\u001b[0m\u001b[0;34m(\u001b[0m\u001b[0;34m)\u001b[0m\u001b[0;34m:\u001b[0m\u001b[0;34m\u001b[0m\u001b[0;34m\u001b[0m\u001b[0m\n\u001b[1;32m    251\u001b[0m           \u001b[0;32mif\u001b[0m \u001b[0mself\u001b[0m\u001b[0;34m.\u001b[0m\u001b[0m_bound_context\u001b[0m\u001b[0;34m.\u001b[0m\u001b[0mexecuting_eagerly\u001b[0m\u001b[0;34m(\u001b[0m\u001b[0;34m)\u001b[0m\u001b[0;34m:\u001b[0m\u001b[0;34m\u001b[0m\u001b[0;34m\u001b[0m\u001b[0m\n\u001b[0;32m--> 252\u001b[0;31m             outputs = self._bound_context.call_function(\n\u001b[0m\u001b[1;32m    253\u001b[0m                 \u001b[0mself\u001b[0m\u001b[0;34m.\u001b[0m\u001b[0mname\u001b[0m\u001b[0;34m,\u001b[0m\u001b[0;34m\u001b[0m\u001b[0;34m\u001b[0m\u001b[0m\n\u001b[1;32m    254\u001b[0m                 \u001b[0mlist\u001b[0m\u001b[0;34m(\u001b[0m\u001b[0margs\u001b[0m\u001b[0;34m)\u001b[0m\u001b[0;34m,\u001b[0m\u001b[0;34m\u001b[0m\u001b[0;34m\u001b[0m\u001b[0m\n",
            "\u001b[0;32m/usr/local/lib/python3.10/dist-packages/tensorflow/python/eager/context.py\u001b[0m in \u001b[0;36mcall_function\u001b[0;34m(self, name, tensor_inputs, num_outputs)\u001b[0m\n\u001b[1;32m   1477\u001b[0m     \u001b[0mcancellation_context\u001b[0m \u001b[0;34m=\u001b[0m \u001b[0mcancellation\u001b[0m\u001b[0;34m.\u001b[0m\u001b[0mcontext\u001b[0m\u001b[0;34m(\u001b[0m\u001b[0;34m)\u001b[0m\u001b[0;34m\u001b[0m\u001b[0;34m\u001b[0m\u001b[0m\n\u001b[1;32m   1478\u001b[0m     \u001b[0;32mif\u001b[0m \u001b[0mcancellation_context\u001b[0m \u001b[0;32mis\u001b[0m \u001b[0;32mNone\u001b[0m\u001b[0;34m:\u001b[0m\u001b[0;34m\u001b[0m\u001b[0;34m\u001b[0m\u001b[0m\n\u001b[0;32m-> 1479\u001b[0;31m       outputs = execute.execute(\n\u001b[0m\u001b[1;32m   1480\u001b[0m           \u001b[0mname\u001b[0m\u001b[0;34m.\u001b[0m\u001b[0mdecode\u001b[0m\u001b[0;34m(\u001b[0m\u001b[0;34m\"utf-8\"\u001b[0m\u001b[0;34m)\u001b[0m\u001b[0;34m,\u001b[0m\u001b[0;34m\u001b[0m\u001b[0;34m\u001b[0m\u001b[0m\n\u001b[1;32m   1481\u001b[0m           \u001b[0mnum_outputs\u001b[0m\u001b[0;34m=\u001b[0m\u001b[0mnum_outputs\u001b[0m\u001b[0;34m,\u001b[0m\u001b[0;34m\u001b[0m\u001b[0;34m\u001b[0m\u001b[0m\n",
            "\u001b[0;32m/usr/local/lib/python3.10/dist-packages/tensorflow/python/eager/execute.py\u001b[0m in \u001b[0;36mquick_execute\u001b[0;34m(op_name, num_outputs, inputs, attrs, ctx, name)\u001b[0m\n\u001b[1;32m     58\u001b[0m         \u001b[0;32mfor\u001b[0m \u001b[0mt\u001b[0m \u001b[0;32min\u001b[0m \u001b[0minputs\u001b[0m\u001b[0;34m\u001b[0m\u001b[0;34m\u001b[0m\u001b[0m\n\u001b[1;32m     59\u001b[0m     ]\n\u001b[0;32m---> 60\u001b[0;31m     tensors = pywrap_tfe.TFE_Py_Execute(ctx._handle, device_name, op_name,\n\u001b[0m\u001b[1;32m     61\u001b[0m                                         inputs, attrs, num_outputs)\n\u001b[1;32m     62\u001b[0m   \u001b[0;32mexcept\u001b[0m \u001b[0mcore\u001b[0m\u001b[0;34m.\u001b[0m\u001b[0m_NotOkStatusException\u001b[0m \u001b[0;32mas\u001b[0m \u001b[0me\u001b[0m\u001b[0;34m:\u001b[0m\u001b[0;34m\u001b[0m\u001b[0;34m\u001b[0m\u001b[0m\n",
            "\u001b[0;31mKeyboardInterrupt\u001b[0m: "
          ]
        },
        {
          "output_type": "display_data",
          "data": {
            "text/plain": [
              "<Figure size 640x480 with 1 Axes>"
            ],
            "image/png": "[encoded data removed]"
          },
          "metadata": {}
        }
      ]
    },
    {
      "cell_type": "markdown",
      "source": [
        "#### confusin matrix"
      ],
      "metadata": {
        "id": "iDOYu-tudD-h"
      }
    },
    {
      "cell_type": "code",
      "source": [
        "loaded_model = tf.keras.models.load_model('/content/drive/MyDrive/seol/ckpt/color_regression_fin.h5')\n",
        "\n",
        "# 검증 데이터 가져오기\n",
        "X_val = np.array([data[0] for data in val_dataset], dtype=np.float32)\n",
        "y_val = np.array([data[1] for data in val_dataset], dtype=np.int32)\n",
        "\n",
        "# 모델에 검증 데이터 입력하여 예측값 얻기\n",
        "y_pred = loaded_model.predict(X_val)\n",
        "y_pred_classes = np.argmax(y_pred, axis=1)  # 각 데이터 포인트에 대한 클래스 예측값\n",
        "\n",
        "# Confusion Matrix 계산\n",
        "confusion_mtx = confusion_matrix(y_val, y_pred_classes)\n",
        "\n",
        "# Confusion Matrix 시각화\n",
        "plt.figure(figsize=(10, 8))\n",
        "sns.heatmap(confusion_mtx, annot=True, fmt='d', cmap='Blues', cbar=False)\n",
        "plt.xlabel('Predicted')\n",
        "plt.ylabel('True')\n",
        "plt.title('Confusion Matrix')\n",
        "plt.show()\n"
      ],
      "metadata": {
        "id": "pe-4Y56sQPYi",
        "colab": {
          "base_uri": "https://localhost:8080/",
          "height": 736
        },
        "outputId": "a058e1b0-8515-4a12-f249-3434c78d7e6d"
      },
      "execution_count": 30,
      "outputs": [
        {
          "output_type": "stream",
          "name": "stdout",
          "text": [
            "41/41 [==============================] - 0s 2ms/step\n"
          ]
        },
        {
          "output_type": "display_data",
          "data": {
            "text/plain": [
              "<Figure size 1000x800 with 1 Axes>"
            ],
            "image/png": "[encoded data removed]"
          },
          "metadata": {}
        }
      ]
    }
  ]
}