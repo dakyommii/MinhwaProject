{
  "nbformat": 4,
  "nbformat_minor": 0,
  "metadata": {
    "colab": {
      "provenance": [],
      "mount_file_id": "1IuAKdmuZ6x0CS-mGwAkRvSHgk-MOODi9",
      "authorship_tag": "ABX9TyO9UmBD2JCAieBtvToSXCj0",
      "include_colab_link": true
    },
    "kernelspec": {
      "name": "python3",
      "display_name": "Python 3"
    },
    "language_info": {
      "name": "python"
    }
  },
  "cells": [
    {
      "cell_type": "markdown",
      "metadata": {
        "id": "view-in-github",
        "colab_type": "text"
      },
      "source": [
        "<a href=\"https://colab.research.google.com/github/dakyommii/MinhwaProject/blob/main/minhwa-explanation/train/hsv_classification_model_train.ipynb\" target=\"_parent\"><img src=\"https://colab.research.google.com/assets/colab-badge.svg\" alt=\"Open In Colab\"/></a>"
      ]
    },
    {
      "cell_type": "markdown",
      "source": [
        "## HSV 생성"
      ],
      "metadata": {
        "id": "C9AWoBM65e0C"
      }
    },
    {
      "cell_type": "code",
      "source": [
        "import numpy as np\n",
        "import colorsys\n",
        "import matplotlib.pyplot as plt\n",
        "import tensorflow as tf\n",
        "from sklearn.metrics import confusion_matrix\n",
        "import seaborn as sns\n",
        "from tensorflow.keras.callbacks import ModelCheckpoint"
      ],
      "metadata": {
        "id": "JyTsqudlygcF"
      },
      "execution_count": null,
      "outputs": []
    },
    {
      "cell_type": "code",
      "source": [
        "# import random\n",
        "\n",
        "# def random_hsv():\n",
        "#     hue = random.uniform(0, 360)  # Hue 범위: 0 ~ 360\n",
        "#     saturation = random.uniform(0, 1)  # Saturation 범위: 0 ~ 1\n",
        "#     value = random.uniform(0, 1)  # Value 범위: 0 ~ 1\n",
        "#     return hue, saturation, value\n",
        "\n",
        "# num_samples = 1000\n",
        "# random_hsv_list = []\n",
        "\n",
        "# for _ in range(num_samples):\n",
        "#     hue, saturation, value = random_hsv()\n",
        "#     random_hsv_list.append((hue, saturation, value))\n",
        "\n",
        "# print(\"Random HSV values for 1000 samples:\")\n",
        "\n",
        "# f=open(\"/content/drive/MyDrive/seol/test/hsv-val-test.txt\",'w')\n",
        "# for idx, (hue, saturation, value) in enumerate(random_hsv_list, start=1):\n",
        "#     # print(f\"Sample {idx}: Hue={hue:.2f}, Saturation={saturation:.2f}, Value={value:.2f}\")\n",
        "#     f.write(f\"Sample {idx}: {hue:.2f} {saturation:.2f} {value:.2f}\\n\")\n",
        "\n",
        "# f.close()"
      ],
      "metadata": {
        "id": "s1C5Lp2F5hD0"
      },
      "execution_count": null,
      "outputs": []
    },
    {
      "cell_type": "markdown",
      "source": [
        "### train dataset 생성"
      ],
      "metadata": {
        "id": "8XSQCsAgeIs0"
      }
    },
    {
      "cell_type": "code",
      "source": [
        "num_samples = 1000\n",
        "\n",
        "# H, S, V 값 범위 정의\n",
        "hue_range = [0, 360]\n",
        "saturation_range = [0, 1]\n",
        "value_range = [0, 1]\n",
        "\n",
        "# H, S, V 값을 균등하게 나눈 후의 단계 수 계산\n",
        "num_hue_steps = int(np.ceil(num_samples ** (1/3)))\n",
        "num_saturation_steps = int(np.ceil(num_samples ** (1/3)))\n",
        "num_value_steps = int(np.ceil(num_samples ** (1/3)))\n",
        "\n",
        "# 균등하게 나눈 값 생성\n",
        "hue_values = np.linspace(hue_range[0], hue_range[1], num_hue_steps)\n",
        "saturation_values = np.linspace(saturation_range[0], saturation_range[1], num_saturation_steps)\n",
        "value_values = np.linspace(value_range[0], value_range[1], num_value_steps)\n",
        "\n",
        "# 가능한 모든 조합 생성\n",
        "hsv_values = []\n",
        "for hue in hue_values:\n",
        "    for saturation in saturation_values:\n",
        "        for value in value_values:\n",
        "            hsv_values.append([hue, saturation, value])\n",
        "\n",
        "# 필요한 조합만 추출하여 중복 제거\n",
        "hsv_values = np.unique(np.around(hsv_values, decimals=2), axis=0)\n",
        "\n",
        "# 만약 조합 개수가 1000개를 초과한다면, 처음 1000개만 선택\n",
        "if len(hsv_values) > num_samples:\n",
        "    hsv_values = hsv_values[:num_samples]\n",
        "\n",
        "# 생성된 HSV 값을 출력\n",
        "f=open(\"/content/drive/MyDrive/seol/test/hsv-test-ds.txt\",'w')\n",
        "for index, hsv in enumerate(hsv_values):\n",
        "    f.write(f\"HSV {index} {hsv[0]} {hsv[1]} {hsv[2]}\\n\")\n",
        "\n",
        "f.close()\n"
      ],
      "metadata": {
        "id": "8xEfojNWGaH7"
      },
      "execution_count": null,
      "outputs": []
    },
    {
      "cell_type": "markdown",
      "source": [
        "### val dataset 생성"
      ],
      "metadata": {
        "id": "gBthzYwMeRok"
      }
    },
    {
      "cell_type": "code",
      "source": [
        "# import numpy as np\n",
        "\n",
        "# def generate_random_purple_hsv():\n",
        "#     hue_range = (270, 300)  # Purple 색상의 hue 범위를 270에서 300으로 설정\n",
        "#     random_hue = np.random.uniform(hue_range[0], hue_range[1])\n",
        "#     random_saturation = np.random.uniform(0, 1)\n",
        "#     random_value = np.random.uniform(0, 1)\n",
        "#     return random_hue, random_saturation, random_value\n",
        "\n",
        "# num_samples = 10\n",
        "\n",
        "# purple_hsv_values = [generate_random_purple_hsv() for _ in range(num_samples)]\n",
        "\n",
        "# f=open(\"/content/drive/MyDrive/seol/test/hsv-purple.txt\",'w')\n",
        "# for idx, (hue, saturation, value) in enumerate(purple_hsv_values, start=1):\n",
        "#     f.write(f\"9 {230+idx}: {hue:.2f} {saturation:.2f} {value:.2f}\\n\")\n",
        "#     # print(f\"Sample {idx}: {hue:.2f} {saturation:.2f} {value:.2f}\\n\")\n",
        "\n",
        "# f.close()\n"
      ],
      "metadata": {
        "id": "mz4zkacoxhgW"
      },
      "execution_count": null,
      "outputs": []
    },
    {
      "cell_type": "code",
      "source": [
        "# import numpy as np\n",
        "\n",
        "# def generate_random_red_hsv():\n",
        "#     hue_range = (0, 10)  # 빨간색의 색상 범위\n",
        "#     random_hue = np.random.uniform(hue_range[0], hue_range[1])\n",
        "#     random_saturation = np.random.uniform(0.7, 1)  # 포화도를 높게 설정\n",
        "#     random_value = np.random.uniform(0.5, 1)      # 명도를 높게 설정\n",
        "#     return random_hue, random_saturation, random_value\n",
        "\n",
        "\n",
        "# num_samples = 200\n",
        "\n",
        "# red_hsv_values = [generate_random_red_hsv() for _ in range(num_samples)]\n",
        "\n",
        "# f=open(\"/content/drive/MyDrive/seol/test/hsv-red.txt\",'w')\n",
        "# for idx, (hue, saturation, value) in enumerate(red_hsv_values, start=1):\n",
        "#     f.write(f\"10 {idx}: {hue:.2f} {saturation:.2f} {value:.2f}\\n\")\n",
        "\n",
        "# f.close()"
      ],
      "metadata": {
        "id": "ygx0edXRJROM"
      },
      "execution_count": null,
      "outputs": []
    },
    {
      "cell_type": "code",
      "source": [
        "# def generate_random_white_hsv():\n",
        "#     random_hue = np.random.uniform(0, 360)  # 0부터 360 범위 내에서 랜덤으로 hue 값 생성\n",
        "#     random_saturation = np.random.uniform(0, 0.1)  # 낮은 saturation 값으로 \"white\" 효과 생성\n",
        "#     random_value = np.random.uniform(0.9, 1)  # 높은 value 값으로 밝은 색상 생성\n",
        "#     return random_hue, random_saturation, random_value\n",
        "\n",
        "# num_samples = 200\n",
        "\n",
        "# white_hsv_values = [generate_random_white_hsv() for _ in range(num_samples)]\n",
        "\n",
        "# f=open(\"/content/drive/MyDrive/seol/test/hsv-white.txt\",'w')\n",
        "# for idx, (hue, saturation, value) in enumerate(white_hsv_values, start=1):\n",
        "#     f.write(f\"11 {idx}: {hue:.2f} {saturation:.2f} {value:.2f}\\n\")\n",
        "\n",
        "# f.close()\n"
      ],
      "metadata": {
        "id": "hiNABPjrRqAR"
      },
      "execution_count": null,
      "outputs": []
    },
    {
      "cell_type": "code",
      "source": [
        "# def generate_random_beige():\n",
        "#     hue_range = (20, 40)  # \"dark red\"와 \"red\" 사이의 hue 범위를 설정\n",
        "#     random_hue = np.random.uniform(hue_range[0], hue_range[1])\n",
        "#     random_saturation = np.random.uniform(0.1, 0.3)  # 중간 정도의 saturation 값\n",
        "#     random_value = np.random.uniform(0.88, 1)  # 작은 value 값으로 \"dark red\" 효과 생성\n",
        "#     return random_hue, random_saturation, random_value\n",
        "\n",
        "# num_samples = 200\n",
        "\n",
        "# beige_hsv_values = [generate_random_beige() for _ in range(num_samples)]\n",
        "\n",
        "# f=open(\"/content/drive/MyDrive/seol/test/hsv-beige.txt\",'w')\n",
        "# for idx, (hue, saturation, value) in enumerate(beige_hsv_values, start=1):\n",
        "#     f.write(f\"0 {idx}: {hue:.2f} {saturation:.2f} {value:.2f}\\n\")\n",
        "\n",
        "# f.close()\n"
      ],
      "metadata": {
        "id": "ikD8EXyfeqix"
      },
      "execution_count": null,
      "outputs": []
    },
    {
      "cell_type": "code",
      "source": [
        "# def generate_random_black():\n",
        "#     hue_range = (0, 360)  # \"dark red\"와 \"red\" 사이의 hue 범위를 설정\n",
        "#     random_hue = np.random.uniform(hue_range[0], hue_range[1])\n",
        "#     random_saturation = np.random.uniform(0, 0.2)  # 중간 정도의 saturation 값\n",
        "#     random_value = np.random.uniform(0, 0.2)  # 작은 value 값으로 \"dark red\" 효과 생성\n",
        "#     return random_hue, random_saturation, random_value\n",
        "\n",
        "# num_samples = 200\n",
        "\n",
        "# black_hsv_values = [generate_random_black() for _ in range(num_samples)]\n",
        "\n",
        "# f=open(\"/content/drive/MyDrive/seol/test/hsv-black.txt\",'w')\n",
        "# for idx, (hue, saturation, value) in enumerate(black_hsv_values, start=1):\n",
        "#     f.write(f\"1 {idx}: {hue:.2f} {saturation:.2f} {value:.2f}\\n\")\n",
        "\n",
        "# f.close()\n"
      ],
      "metadata": {
        "id": "jmTCSQy9xewS"
      },
      "execution_count": null,
      "outputs": []
    },
    {
      "cell_type": "code",
      "source": [
        "# def generate_random_blue():\n",
        "#     hue_range = (210, 270)  # \"dark red\"와 \"red\" 사이의 hue 범위를 설정\n",
        "#     random_hue = np.random.uniform(hue_range[0], hue_range[1])\n",
        "#     random_saturation = np.random.uniform(0.7, 1)  # 중간 정도의 saturation 값\n",
        "#     random_value = np.random.uniform(0.3, 1)  # 작은 value 값으로 \"dark red\" 효과 생성\n",
        "#     return random_hue, random_saturation, random_value\n",
        "\n",
        "# num_samples = 200\n",
        "\n",
        "# blue_hsv_values = [generate_random_blue() for _ in range(num_samples)]\n",
        "\n",
        "# f=open(\"/content/drive/MyDrive/seol/test/hsv-blue.txt\",'w')\n",
        "# for idx, (hue, saturation, value) in enumerate(blue_hsv_values, start=1):\n",
        "#     f.write(f\"2 {idx}: {hue:.2f} {saturation:.2f} {value:.2f}\\n\")\n",
        "\n",
        "# f.close()\n"
      ],
      "metadata": {
        "id": "63n_JJKcyBnv"
      },
      "execution_count": null,
      "outputs": []
    },
    {
      "cell_type": "code",
      "source": [
        "# def generate_random_brown():\n",
        "#     hue_range = (15, 45)  # \"dark red\"와 \"red\" 사이의 hue 범위를 설정\n",
        "#     random_hue = np.random.uniform(hue_range[0], hue_range[1])\n",
        "#     random_saturation = np.random.uniform(0.4, 0.7)  # 중간 정도의 saturation 값\n",
        "#     random_value = np.random.uniform(0.3, 0.5)  # 작은 value 값으로 \"dark red\" 효과 생성\n",
        "#     return random_hue, random_saturation, random_value\n",
        "\n",
        "# num_samples = 200\n",
        "\n",
        "# brown_hsv_values = [generate_random_brown() for _ in range(num_samples)]\n",
        "\n",
        "# f=open(\"/content/drive/MyDrive/seol/test/hsv-brown.txt\",'w')\n",
        "# for idx, (hue, saturation, value) in enumerate(brown_hsv_values, start=1):\n",
        "#     f.write(f\"2 {idx}: {hue:.2f} {saturation:.2f} {value:.2f}\\n\")\n",
        "\n",
        "# f.close()\n"
      ],
      "metadata": {
        "id": "5jAee9wF4PUZ"
      },
      "execution_count": null,
      "outputs": []
    },
    {
      "cell_type": "code",
      "source": [
        "# def generate_random_gray():\n",
        "#     hue_range = (0, 360)  # \"dark red\"와 \"red\" 사이의 hue 범위를 설정\n",
        "#     random_hue = np.random.uniform(hue_range[0], hue_range[1])\n",
        "#     random_saturation = np.random.uniform(0, 0.1)  # 중간 정도의 saturation 값\n",
        "#     random_value = np.random.uniform(0.25, 0.6)  # 작은 value 값으로 \"dark red\" 효과 생성\n",
        "#     return random_hue, random_saturation, random_value\n",
        "\n",
        "# num_samples = 200\n",
        "\n",
        "# gray_hsv_values = [generate_random_gray() for _ in range(num_samples)]\n",
        "\n",
        "# f=open(\"/content/drive/MyDrive/seol/test/hsv-gray.txt\",'w')\n",
        "# for idx, (hue, saturation, value) in enumerate(gray_hsv_values, start=1):\n",
        "#     f.write(f\"4 {idx}: {hue:.2f} {saturation:.2f} {value:.2f}\\n\")\n",
        "\n",
        "# f.close()\n"
      ],
      "metadata": {
        "id": "-whiJ6XK_YHG"
      },
      "execution_count": null,
      "outputs": []
    },
    {
      "cell_type": "code",
      "source": [
        "# def generate_random_green():\n",
        "#     hue_range = (90, 150)  # \"dark red\"와 \"red\" 사이의 hue 범위를 설정\n",
        "#     random_hue = np.random.uniform(hue_range[0], hue_range[1])\n",
        "#     random_saturation = np.random.uniform(0.4, 0.7)  # 중간 정도의 saturation 값\n",
        "#     random_value = np.random.uniform(0.4, 0.7)  # 작은 value 값으로 \"dark red\" 효과 생성\n",
        "#     return random_hue, random_saturation, random_value\n",
        "\n",
        "# num_samples = 200\n",
        "\n",
        "# green_hsv_values = [generate_random_green() for _ in range(num_samples)]\n",
        "\n",
        "# f=open(\"/content/drive/MyDrive/seol/test/hsv-green.txt\",'w')\n",
        "# for idx, (hue, saturation, value) in enumerate(green_hsv_values, start=1):\n",
        "#     f.write(f\"5 {idx}: {hue:.2f} {saturation:.2f} {value:.2f}\\n\")\n",
        "\n",
        "# f.close()\n"
      ],
      "metadata": {
        "id": "vbSkgYjrKdHl"
      },
      "execution_count": null,
      "outputs": []
    },
    {
      "cell_type": "code",
      "source": [
        "# def generate_random_mint():\n",
        "#     hue_range = (140, 160)  # \"dark red\"와 \"red\" 사이의 hue 범위를 설정\n",
        "#     random_hue = np.random.uniform(hue_range[0], hue_range[1])\n",
        "#     random_saturation = np.random.uniform(0.2, 0.5)  # 중간 정도의 saturation 값\n",
        "#     random_value = np.random.uniform(0.8, 1)  # 작은 value 값으로 \"dark red\" 효과 생성\n",
        "#     return random_hue, random_saturation, random_value\n",
        "\n",
        "# num_samples = 200\n",
        "\n",
        "# mint_hsv_values = [generate_random_mint() for _ in range(num_samples)]\n",
        "\n",
        "# f=open(\"/content/drive/MyDrive/seol/test/hsv-mint.txt\",'w')\n",
        "# for idx, (hue, saturation, value) in enumerate(mint_hsv_values, start=1):\n",
        "#     f.write(f\"6 {idx}: {hue:.2f} {saturation:.2f} {value:.2f}\\n\")\n",
        "\n",
        "# f.close()\n"
      ],
      "metadata": {
        "id": "FQ105NFJtFeq"
      },
      "execution_count": null,
      "outputs": []
    },
    {
      "cell_type": "code",
      "source": [
        "# def generate_random_pink_hsv():\n",
        "#     hue_range = (310, 345)  # \"dark red\"와 \"red\" 사이의 hue 범위를 설정\n",
        "#     random_hue = np.random.uniform(hue_range[0], hue_range[1])\n",
        "#     random_saturation = np.random.uniform(0.4, 0.6)  # 중간 정도의 saturation 값\n",
        "#     random_value = np.random.uniform(0.8, 1)  # 작은 value 값으로 \"dark red\" 효과 생성\n",
        "#     return random_hue, random_saturation, random_value\n",
        "\n",
        "# num_samples = 200\n",
        "\n",
        "# pink_hsv_values = [generate_random_pink_hsv() for _ in range(num_samples)]\n",
        "\n",
        "# f=open(\"/content/drive/MyDrive/seol/test/hsv-pink.txt\",'w')\n",
        "# for idx, (hue, saturation, value) in enumerate(pink_hsv_values, start=1):\n",
        "#     f.write(f\"7 {idx}: {hue:.2f} {saturation:.2f} {value:.2f}\\n\")\n",
        "\n",
        "# f.close()\n"
      ],
      "metadata": {
        "id": "TCPwe1grpvhN"
      },
      "execution_count": null,
      "outputs": []
    },
    {
      "cell_type": "code",
      "source": [
        "# def generate_random_plum_hsv():\n",
        "#     hue_range = (300, 345)\n",
        "#     random_hue = np.random.uniform(hue_range[0], hue_range[1])\n",
        "#     random_saturation = np.random.uniform(0.5, 0.7)  # 중간 정도의 saturation 값\n",
        "#     random_value = np.random.uniform(0.4, 0.6)  # 작은 value 값으로 \"dark red\" 효과 생성\n",
        "#     return random_hue, random_saturation, random_value\n",
        "\n",
        "# num_samples = 200\n",
        "\n",
        "# plum_hsv_values = [generate_random_plum_hsv() for _ in range(num_samples)]\n",
        "\n",
        "# f=open(\"/content/drive/MyDrive/seol/test/hsv-plum.txt\",'w')\n",
        "# for idx, (hue, saturation, value) in enumerate(plum_hsv_values, start=1):\n",
        "#     f.write(f\"8 {idx}: {hue:.2f} {saturation:.2f} {value:.2f}\\n\")\n",
        "\n",
        "# f.close()\n"
      ],
      "metadata": {
        "id": "V2YKVwLujvSZ"
      },
      "execution_count": null,
      "outputs": []
    },
    {
      "cell_type": "code",
      "source": [
        "# def generate_random_yellow_hsv():\n",
        "#     hue_range = (55, 60)\n",
        "#     random_hue = np.random.uniform(hue_range[0], hue_range[1])\n",
        "#     random_saturation = np.random.uniform(0.8, 1)  # 중간 정도의 saturation 값\n",
        "#     random_value = np.random.uniform(0.8, 1)  # 작은 value 값으로 \"dark red\" 효과 생성\n",
        "#     return random_hue, random_saturation, random_value\n",
        "\n",
        "# num_samples = 200\n",
        "\n",
        "# yellow_hsv_values = [generate_random_yellow_hsv() for _ in range(num_samples)]\n",
        "\n",
        "# f=open(\"/content/drive/MyDrive/seol/test/hsv-yellow.txt\",'w')\n",
        "# for idx, (hue, saturation, value) in enumerate(yellow_hsv_values, start=1):\n",
        "#     f.write(f\"8 {idx}: {hue:.2f} {saturation:.2f} {value:.2f}\\n\")\n",
        "\n",
        "# f.close()\n"
      ],
      "metadata": {
        "id": "ncL9-Nc1LLjT"
      },
      "execution_count": null,
      "outputs": []
    },
    {
      "cell_type": "markdown",
      "source": [
        "## color image 저장"
      ],
      "metadata": {
        "id": "SMIdwPbWWYfd"
      }
    },
    {
      "cell_type": "code",
      "source": [
        "def hsv_to_rgb(h, s, v):\n",
        "    rgb = colorsys.hsv_to_rgb(h / 360, s, v)\n",
        "    return tuple(int(val * 255) for val in rgb)"
      ],
      "metadata": {
        "id": "IHrEuED2hgN6"
      },
      "execution_count": null,
      "outputs": []
    },
    {
      "cell_type": "code",
      "source": [
        "# with open('/content/drive/MyDrive/seol/test/hsv-yellow.txt', 'r') as f:\n",
        "#     hsv_lst = f.readlines()\n",
        "\n",
        "# for i in range(0,len(hsv_lst)):\n",
        "#   num=int(hsv_lst[i].split(' ')[1][:-1])\n",
        "#   h=float(hsv_lst[i].split(' ')[2])\n",
        "#   s=float(hsv_lst[i].split(' ')[3])\n",
        "#   v=float(hsv_lst[i].split(' ')[4])\n",
        "\n",
        "#   rgb_color = hsv_to_rgb(h, s, v)\n",
        "\n",
        "#   plt.imshow([[(rgb_color[0]/255, rgb_color[1]/255, rgb_color[2]/255)]])\n",
        "#   plt.title(f\"Hue={h}, Saturation={s}, Value={v}\")\n",
        "#   plt.axis('off')\n",
        "\n",
        "#   plt.savefig('/content/drive/MyDrive/seol/test/hsv/add/%d.png'%(num))\n"
      ],
      "metadata": {
        "id": "1ojOhLuvn3z9"
      },
      "execution_count": null,
      "outputs": []
    },
    {
      "cell_type": "markdown",
      "source": [
        "## HSV dataset 생성"
      ],
      "metadata": {
        "id": "hi-VEUZ3WnY1"
      }
    },
    {
      "cell_type": "code",
      "source": [
        "color_dic = {'beige': 0, 'black': 1, 'blue': 2, 'brown': 3, 'gray': 4, 'green': 5, 'mint': 6, 'pink': 7, 'plum': 8, 'purple': 9, 'red': 10, 'white': 11, 'yellow': 12}"
      ],
      "metadata": {
        "id": "TEg2dhXRYGGx"
      },
      "execution_count": null,
      "outputs": []
    },
    {
      "cell_type": "markdown",
      "source": [
        "### train-dataset"
      ],
      "metadata": {
        "id": "S1VrRg_HfUzW"
      }
    },
    {
      "cell_type": "code",
      "source": [
        "with open('/content/drive/MyDrive/seol/test/hsv.txt', 'r') as f:\n",
        "    hsv_lst = f.readlines()\n",
        "\n",
        "dataset = []\n",
        "for i in range(0,len(hsv_lst)):\n",
        "  h=float(hsv_lst[i].split(' ')[2])\n",
        "  s=float(hsv_lst[i].split(' ')[3])\n",
        "  v=float(hsv_lst[i].split(' ')[4])\n",
        "\n",
        "  if(color_label=='blac'): color_label='black'\n",
        "  elif(color_label=='blu'): color_label='blue'\n",
        "  elif(color_label=='gree'): color_label='green'\n",
        "  elif(color_label=='purpl'): color_label='purple'\n",
        "\n",
        "  rgb=color_dic[color_label]\n",
        "\n",
        "  dataset.append(([h, s, v], rgb))\n"
      ],
      "metadata": {
        "id": "8CxfK63nWs9W"
      },
      "execution_count": null,
      "outputs": []
    },
    {
      "cell_type": "markdown",
      "source": [
        "### validation dataset"
      ],
      "metadata": {
        "id": "SaGz3gCSfW21"
      }
    },
    {
      "cell_type": "code",
      "source": [
        "with open('/content/drive/MyDrive/seol/test/hsv-val.txt', 'r') as f:\n",
        "    hsv_lst = f.readlines()\n",
        "\n",
        "val_dataset = []\n",
        "for i in range(0,len(hsv_lst)):\n",
        "  rgb=int(hsv_lst[i].split(' ')[0])\n",
        "  h=float(hsv_lst[i].split(' ')[2])\n",
        "  s=float(hsv_lst[i].split(' ')[3])\n",
        "  v=float(hsv_lst[i].split(' ')[4])\n",
        "\n",
        "  val_dataset.append(([h, s, v], rgb))"
      ],
      "metadata": {
        "id": "fbB1AQI5cvjh"
      },
      "execution_count": null,
      "outputs": []
    },
    {
      "cell_type": "markdown",
      "source": [
        "## HSV regression model train"
      ],
      "metadata": {
        "id": "e4wk2mYeWG4H"
      }
    },
    {
      "cell_type": "markdown",
      "source": [
        "### train"
      ],
      "metadata": {
        "id": "S7i_x4gocYur"
      }
    },
    {
      "cell_type": "code",
      "source": [
        "# 데이터 전처리\n",
        "X = np.array([data[0] for data in dataset], dtype=np.float32)\n",
        "y = np.array([data[1] for data in dataset], dtype=np.int32)\n",
        "\n",
        "# 모델 정의\n",
        "model = tf.keras.Sequential([\n",
        "    tf.keras.layers.Dense(64, activation='relu', input_shape=(3,)),\n",
        "    tf.keras.layers.Dense(128, activation='relu'),\n",
        "    tf.keras.layers.Dense(64, activation='relu'),\n",
        "    tf.keras.layers.Dense(32, activation='relu'),\n",
        "    tf.keras.layers.Dense(16, activation='relu'),  # 새로운 레이어 추가\n",
        "    tf.keras.layers.Dense(13, activation='softmax')\n",
        "])\n",
        "\n",
        "# 모델 컴파일\n",
        "model.compile(optimizer='adam', loss='sparse_categorical_crossentropy', metrics=['accuracy'])\n",
        "\n",
        "# ModelCheckpoint 콜백 설정\n",
        "checkpoint_filepath = '/content/drive/MyDrive/seol/ckpt/color_regression_fin-t.h5'\n",
        "model_checkpoint_callback = ModelCheckpoint(\n",
        "    filepath=checkpoint_filepath,\n",
        "    save_best_only=True,\n",
        "    monitor='accuracy',\n",
        "    mode='max',\n",
        "    verbose=1\n",
        ")\n",
        "\n",
        "# 모델 훈련\n",
        "history = model.fit(X, y, epochs=500, batch_size=32, callbacks=[model_checkpoint_callback])\n",
        "\n",
        "# 학습 곡선 그리기\n",
        "plt.figure(figsize=(12, 4))\n",
        "\n",
        "# 정확도 그래프\n",
        "plt.subplot(1, 2, 1)\n",
        "plt.plot(history.history['accuracy'], label='accuracy')\n",
        "plt.title('Model Accuracy')\n",
        "plt.xlabel('Epoch')\n",
        "plt.ylabel('Accuracy')\n",
        "plt.legend(loc='lower right')\n",
        "\n",
        "# 손실 그래프\n",
        "plt.subplot(1, 2, 2)\n",
        "plt.plot(history.history['loss'], label='loss')\n",
        "plt.title('Model Loss')\n",
        "plt.xlabel('Epoch')\n",
        "plt.ylabel('Loss')\n",
        "plt.legend(loc='upper right')\n",
        "\n",
        "plt.tight_layout()\n",
        "plt.show()\n"
      ],
      "metadata": {
        "id": "vJJkw6wFYHR2"
      },
      "execution_count": null,
      "outputs": []
    },
    {
      "cell_type": "code",
      "source": [
        "# loaded_model = tf.keras.models.load_model('/content/drive/MyDrive/seol/ckpt/color_regression_fin.h5')\n",
        "\n",
        "# sample_hue = 200\n",
        "# sample_saturation = 0.6\n",
        "# sample_value = 0.8\n",
        "# sample_hsv = np.array([[sample_hue, sample_saturation, sample_value]], dtype=np.float32)\n",
        "# predicted_color_probs = loaded_model.predict(sample_hsv)\n",
        "# predicted_color_label = np.argmax(predicted_color_probs)\n",
        "\n",
        "# print(f\"Predicted color for HSV ({sample_hue}, {sample_saturation}, {sample_value}): {predicted_color_label}\")"
      ],
      "metadata": {
        "id": "NfEvD1FRm9Xt"
      },
      "execution_count": null,
      "outputs": []
    },
    {
      "cell_type": "markdown",
      "source": [
        "## HSV predict"
      ],
      "metadata": {
        "id": "IR_nd7JTcJW6"
      }
    },
    {
      "cell_type": "markdown",
      "source": [
        "### predict"
      ],
      "metadata": {
        "id": "pbOZFjfOcRjx"
      }
    },
    {
      "cell_type": "code",
      "source": [
        "def rgb_to_hsv(r, g, b):\n",
        "    r /= 255.0\n",
        "    g /= 255.0\n",
        "    b /= 255.0\n",
        "    h, s, v = colorsys.rgb_to_hsv(r, g, b)\n",
        "    h *= 360.0  # HSV의 색상 값은 0~360 사이의 값으로 표현됩니다.\n",
        "    return h, s, v\n",
        "\n",
        "for i in range(0,len(val_dataset)):\n",
        "  r=val_dataset[i][0][0]\n",
        "  g=val_dataset[i][0][1]\n",
        "  b=val_dataset[i][0][2]\n",
        "\n",
        "  # RGB를 HSV로 변환\n",
        "  h, s, v = rgb_to_hsv(r, g, b)\n",
        "\n",
        "  # orange -> brown 으로 인식. brown 수정\n",
        "  sample_hue = round(h,2) # 예시로 Hue 값을 180으로 설정\n",
        "  sample_saturation = round(s,2)\n",
        "  sample_value = round(v,2)\n",
        "\n",
        "  loaded_model = tf.keras.models.load_model('/content/drive/MyDrive/seol/ckpt/color_regression_fin.h5')\n",
        "  sample_hsv = np.array([[sample_hue, sample_saturation, sample_value]], dtype=np.float32)\n",
        "  predicted_color_probs = loaded_model.predict(sample_hsv)\n",
        "  predicted_color_label = np.argmax(predicted_color_probs)\n",
        "\n",
        "  print(f\"Predicted color for HSV ({sample_hue}, {sample_saturation}, {sample_value}): {predicted_color_label}\")\n",
        "\n",
        "  rgb_color = hsv_to_rgb(sample_hue, sample_saturation, sample_value)\n",
        "\n",
        "  plt.imshow([[(rgb_color[0]/255, rgb_color[1]/255, rgb_color[2]/255)]])\n",
        "  plt.title(f\"Hue={sample_hue}, Saturation={sample_saturation}, Value={sample_value}\")\n",
        "  plt.axis('off')"
      ],
      "metadata": {
        "id": "B3027zX0Vds1",
        "collapsed": true
      },
      "execution_count": null,
      "outputs": []
    },
    {
      "cell_type": "markdown",
      "source": [
        "#### confusin matrix"
      ],
      "metadata": {
        "id": "iDOYu-tudD-h"
      }
    },
    {
      "cell_type": "code",
      "source": [
        "loaded_model = tf.keras.models.load_model('/content/drive/MyDrive/seol/ckpt/color_regression_fin.h5')\n",
        "\n",
        "# 검증 데이터 가져오기\n",
        "X_val = np.array([data[0] for data in val_dataset], dtype=np.float32)\n",
        "y_val = np.array([data[1] for data in val_dataset], dtype=np.int32)\n",
        "\n",
        "# 모델에 검증 데이터 입력하여 예측값 얻기\n",
        "y_pred = loaded_model.predict(X_val)\n",
        "y_pred_classes = np.argmax(y_pred, axis=1)  # 각 데이터 포인트에 대한 클래스 예측값\n",
        "\n",
        "# Confusion Matrix 계산\n",
        "confusion_mtx = confusion_matrix(y_val, y_pred_classes)\n",
        "\n",
        "# Confusion Matrix 시각화\n",
        "plt.figure(figsize=(10, 8))\n",
        "sns.heatmap(confusion_mtx, annot=True, fmt='d', cmap='Blues', cbar=False)\n",
        "plt.xlabel('Predicted')\n",
        "plt.ylabel('True')\n",
        "plt.title('Confusion Matrix')\n",
        "plt.show()\n"
      ],
      "metadata": {
        "id": "pe-4Y56sQPYi"
      },
      "execution_count": null,
      "outputs": []
    }
  ]
}